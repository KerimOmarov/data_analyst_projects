{
 "cells": [
  {
   "cell_type": "markdown",
   "metadata": {},
   "source": [
    "<h1>Анализ рекламных источников мобильной игры \"Космические братья\"</h1>"
   ]
  },
  {
   "cell_type": "markdown",
   "metadata": {},
   "source": [
    "## Материалы"
   ]
  },
  {
   "cell_type": "markdown",
   "metadata": {},
   "source": [
    "**Описание данных:**\n",
    "\n",
    "Основной датасет содержит данные о событиях, совершенных в мобильной игре «Космические братья». В ней пользователи строят свою космическую программу и пытаются преуспеть в нелёгком деле колонизации галактики.\n",
    "\n",
    "Основная монетизация игры — только планируется. Но предполагается, что в приложении будет происходить показ рекламы на экране с выбором типа объекта для постройки.\n",
    "\n",
    "В датасете представлены данные по игре пользователей на первом уровне. Завершение первого уровня требует от игрока выполнения одного из двух условий:\n",
    "\n",
    "* Победа над первым врагом\n",
    "* Реализация проекта - разработка орбитальной сборки спутников\n",
    "\n",
    "В датасете содержатся данные первых пользователей приложения — когорты пользователей, которые начали пользоваться приложением в период с 4 по 10 мая включительно.\n",
    "\n",
    "Датасет `game_actions.csv`:\n",
    "\n",
    "- `event_datetime` — время события;\n",
    "- `event` — одно из трёх событий:\n",
    "    1. `building` — объект построен,\n",
    "    2. `finished_stage_1` — первый уровень завершён,\n",
    "    3. `project` — проект завершён;\n",
    "- `building_type` — один из трёх типов здания:\n",
    "    1. `assembly_shop` — сборочный цех,\n",
    "    2. `spaceport` — космопорт,\n",
    "    3. `research_center` — исследовательский центр;\n",
    "- `user_id` — идентификатор пользователя;\n",
    "- `project_type` — тип реализованного проекта;\n",
    "\n",
    "Помимо основного датасета есть два датасета с информацией о рекламных активностях. Они также помогут в решении задачи.\n",
    "\n",
    "Датасет `ad_costs.csv`:\n",
    "\n",
    "- `day` - день, в который был совершен клик по объявлению\n",
    "- `source` - источник трафика\n",
    "- `cost` - стоимость кликов\n",
    "\n",
    "Датасет `user_source.csv` содержит колонки:\n",
    "\n",
    "- `user_id` - идентификатор пользователя\n",
    "- `source` - источников, с которого пришёл пользователь, установивший приложение  \n",
    "\n",
    "\n",
    "**Цель проекта:** анализ источников перехода в игру для выявления эффективности маркетинговых расходов.\n",
    "\n",
    "\n",
    "**Задачи:**\n",
    "\n",
    "* проанализировать поведение игроков,\n",
    "* из каких источников приходят клиенты и сколько стоит источник,\n",
    "* когда расходы на привлечение клиента окупаются.\n",
    "\n",
    "\n",
    "**План выполнения проекта:**\n",
    "\n",
    "1. Загрузка, первичный осмотр и предобработка данных\n",
    "\n",
    "    * Проверка корректности наименований колонок\n",
    "    * Проверка пропущенных значений \n",
    "    * Исследование соответствия типов данных\n",
    "    * Поиск аномальных значений\n",
    "    * Проверка на дубликаты\n",
    "    * Добавление расчетов\n",
    "\n",
    "\n",
    "2. Проведение исследовательского анализа данных\n",
    "\n",
    "    * Проверка распределения числовых признаков и уникальных значений\n",
    "    * Количество пользователей за весь период\n",
    "    * Количество событий за весь период\n",
    "    * Из каких источников приходит больше всего пользователей\n",
    "    * CAC для каждого канала\n",
    "    * ROMI для каждого канала\n",
    "    \n",
    "\n",
    "\n",
    "3. Анализ поведения пользоваетелей\n",
    "\n",
    "    * Составление и анализ профилей пользователей:\n",
    "    \n",
    "        - Доля игроков, прошедших первый уровень по каналам;\n",
    "        - Способ прохождения уровня;\n",
    "        - Время прохождения;\n",
    "        - Количество и тип построенных зданий;\n",
    "\n",
    "\n",
    "4. Проверака статистических гипотез\n",
    "\n",
    "    * Время завершения уровня различается в зависимости способа прохождения:\n",
    "        - *через реализацию проекта,*\n",
    "        - *через победу над первым игроком.*\n",
    "        \n",
    "    * Количество построенных зданий различается в зависимости от способа прохождения\n",
    "\n",
    "\n",
    "5. Вывод"
   ]
  },
  {
   "cell_type": "markdown",
   "metadata": {},
   "source": [
    "## Загрузка и обзор данных"
   ]
  },
  {
   "cell_type": "code",
   "execution_count": 1,
   "metadata": {},
   "outputs": [],
   "source": [
    "import pandas as pd \n",
    "import matplotlib.pyplot as plt\n",
    "import numpy as np\n",
    "import seaborn as sns\n",
    "from scipy import stats as st\n"
   ]
  },
  {
   "cell_type": "code",
   "execution_count": 2,
   "metadata": {},
   "outputs": [],
   "source": [
    "try:\n",
    "    ad_costs = pd.read_csv('/datasets/ad_costs.csv')\n",
    "    game_actions = pd.read_csv('/datasets/game_actions.csv')\n",
    "    user_source = pd.read_csv('/datasets/user_source.csv')\n",
    "except:\n",
    "    ad_costs = pd.read_csv('https://code.s3.yandex.net/datasets/ad_costs.csv')\n",
    "    game_actions = pd.read_csv('https://code.s3.yandex.net/datasets/game_actions.csv')\n",
    "    user_source = pd.read_csv('https://code.s3.yandex.net/datasets/user_source.csv')"
   ]
  },
  {
   "cell_type": "code",
   "execution_count": 3,
   "metadata": {},
   "outputs": [],
   "source": [
    "def intro(df):\n",
    "    display(df.head(5))\n",
    "    print()\n",
    "    df.info()\n",
    "    print()\n",
    "    display(df.describe())    \n",
    "    print('|Количество пропущенных значений|')\n",
    "    display(df.isna().sum().sort_values(ascending=False))\n",
    "    print('|Доля пропущенных значений|')\n",
    "    display(df.isna().mean().sort_values(ascending=False))\n",
    "    print('|Количество дубликатов|')\n",
    "    display(df.duplicated().sum())"
   ]
  },
  {
   "cell_type": "code",
   "execution_count": 4,
   "metadata": {},
   "outputs": [
    {
     "data": {
      "text/html": [
       "<div>\n",
       "<style scoped>\n",
       "    .dataframe tbody tr th:only-of-type {\n",
       "        vertical-align: middle;\n",
       "    }\n",
       "\n",
       "    .dataframe tbody tr th {\n",
       "        vertical-align: top;\n",
       "    }\n",
       "\n",
       "    .dataframe thead th {\n",
       "        text-align: right;\n",
       "    }\n",
       "</style>\n",
       "<table border=\"1\" class=\"dataframe\">\n",
       "  <thead>\n",
       "    <tr style=\"text-align: right;\">\n",
       "      <th></th>\n",
       "      <th>source</th>\n",
       "      <th>day</th>\n",
       "      <th>cost</th>\n",
       "    </tr>\n",
       "  </thead>\n",
       "  <tbody>\n",
       "    <tr>\n",
       "      <th>0</th>\n",
       "      <td>facebook_ads</td>\n",
       "      <td>2020-05-03</td>\n",
       "      <td>935.882786</td>\n",
       "    </tr>\n",
       "    <tr>\n",
       "      <th>1</th>\n",
       "      <td>facebook_ads</td>\n",
       "      <td>2020-05-04</td>\n",
       "      <td>548.354480</td>\n",
       "    </tr>\n",
       "    <tr>\n",
       "      <th>2</th>\n",
       "      <td>facebook_ads</td>\n",
       "      <td>2020-05-05</td>\n",
       "      <td>260.185754</td>\n",
       "    </tr>\n",
       "    <tr>\n",
       "      <th>3</th>\n",
       "      <td>facebook_ads</td>\n",
       "      <td>2020-05-06</td>\n",
       "      <td>177.982200</td>\n",
       "    </tr>\n",
       "    <tr>\n",
       "      <th>4</th>\n",
       "      <td>facebook_ads</td>\n",
       "      <td>2020-05-07</td>\n",
       "      <td>111.766796</td>\n",
       "    </tr>\n",
       "  </tbody>\n",
       "</table>\n",
       "</div>"
      ],
      "text/plain": [
       "         source         day        cost\n",
       "0  facebook_ads  2020-05-03  935.882786\n",
       "1  facebook_ads  2020-05-04  548.354480\n",
       "2  facebook_ads  2020-05-05  260.185754\n",
       "3  facebook_ads  2020-05-06  177.982200\n",
       "4  facebook_ads  2020-05-07  111.766796"
      ]
     },
     "metadata": {},
     "output_type": "display_data"
    },
    {
     "name": "stdout",
     "output_type": "stream",
     "text": [
      "\n",
      "<class 'pandas.core.frame.DataFrame'>\n",
      "RangeIndex: 28 entries, 0 to 27\n",
      "Data columns (total 3 columns):\n",
      " #   Column  Non-Null Count  Dtype  \n",
      "---  ------  --------------  -----  \n",
      " 0   source  28 non-null     object \n",
      " 1   day     28 non-null     object \n",
      " 2   cost    28 non-null     float64\n",
      "dtypes: float64(1), object(2)\n",
      "memory usage: 800.0+ bytes\n",
      "\n"
     ]
    },
    {
     "data": {
      "text/html": [
       "<div>\n",
       "<style scoped>\n",
       "    .dataframe tbody tr th:only-of-type {\n",
       "        vertical-align: middle;\n",
       "    }\n",
       "\n",
       "    .dataframe tbody tr th {\n",
       "        vertical-align: top;\n",
       "    }\n",
       "\n",
       "    .dataframe thead th {\n",
       "        text-align: right;\n",
       "    }\n",
       "</style>\n",
       "<table border=\"1\" class=\"dataframe\">\n",
       "  <thead>\n",
       "    <tr style=\"text-align: right;\">\n",
       "      <th></th>\n",
       "      <th>cost</th>\n",
       "    </tr>\n",
       "  </thead>\n",
       "  <tbody>\n",
       "    <tr>\n",
       "      <th>count</th>\n",
       "      <td>28.000000</td>\n",
       "    </tr>\n",
       "    <tr>\n",
       "      <th>mean</th>\n",
       "      <td>271.556321</td>\n",
       "    </tr>\n",
       "    <tr>\n",
       "      <th>std</th>\n",
       "      <td>286.867650</td>\n",
       "    </tr>\n",
       "    <tr>\n",
       "      <th>min</th>\n",
       "      <td>23.314669</td>\n",
       "    </tr>\n",
       "    <tr>\n",
       "      <th>25%</th>\n",
       "      <td>66.747365</td>\n",
       "    </tr>\n",
       "    <tr>\n",
       "      <th>50%</th>\n",
       "      <td>160.056443</td>\n",
       "    </tr>\n",
       "    <tr>\n",
       "      <th>75%</th>\n",
       "      <td>349.034473</td>\n",
       "    </tr>\n",
       "    <tr>\n",
       "      <th>max</th>\n",
       "      <td>969.139394</td>\n",
       "    </tr>\n",
       "  </tbody>\n",
       "</table>\n",
       "</div>"
      ],
      "text/plain": [
       "             cost\n",
       "count   28.000000\n",
       "mean   271.556321\n",
       "std    286.867650\n",
       "min     23.314669\n",
       "25%     66.747365\n",
       "50%    160.056443\n",
       "75%    349.034473\n",
       "max    969.139394"
      ]
     },
     "metadata": {},
     "output_type": "display_data"
    },
    {
     "name": "stdout",
     "output_type": "stream",
     "text": [
      "|Количество пропущенных значений|\n"
     ]
    },
    {
     "data": {
      "text/plain": [
       "source    0\n",
       "day       0\n",
       "cost      0\n",
       "dtype: int64"
      ]
     },
     "metadata": {},
     "output_type": "display_data"
    },
    {
     "name": "stdout",
     "output_type": "stream",
     "text": [
      "|Доля пропущенных значений|\n"
     ]
    },
    {
     "data": {
      "text/plain": [
       "source    0.0\n",
       "day       0.0\n",
       "cost      0.0\n",
       "dtype: float64"
      ]
     },
     "metadata": {},
     "output_type": "display_data"
    },
    {
     "name": "stdout",
     "output_type": "stream",
     "text": [
      "|Количество дубликатов|\n"
     ]
    },
    {
     "data": {
      "text/plain": [
       "0"
      ]
     },
     "metadata": {},
     "output_type": "display_data"
    }
   ],
   "source": [
    "intro(ad_costs)"
   ]
  },
  {
   "cell_type": "markdown",
   "metadata": {},
   "source": [
    "Названия столбцов корректные, пропусков и дубликатов не обнаружено. Дата имеет формат `object` - необходимо будет поменять ее на `datetime`."
   ]
  },
  {
   "cell_type": "code",
   "execution_count": 5,
   "metadata": {},
   "outputs": [
    {
     "data": {
      "text/html": [
       "<div>\n",
       "<style scoped>\n",
       "    .dataframe tbody tr th:only-of-type {\n",
       "        vertical-align: middle;\n",
       "    }\n",
       "\n",
       "    .dataframe tbody tr th {\n",
       "        vertical-align: top;\n",
       "    }\n",
       "\n",
       "    .dataframe thead th {\n",
       "        text-align: right;\n",
       "    }\n",
       "</style>\n",
       "<table border=\"1\" class=\"dataframe\">\n",
       "  <thead>\n",
       "    <tr style=\"text-align: right;\">\n",
       "      <th></th>\n",
       "      <th>event_datetime</th>\n",
       "      <th>event</th>\n",
       "      <th>building_type</th>\n",
       "      <th>user_id</th>\n",
       "      <th>project_type</th>\n",
       "    </tr>\n",
       "  </thead>\n",
       "  <tbody>\n",
       "    <tr>\n",
       "      <th>0</th>\n",
       "      <td>2020-05-04 00:00:01</td>\n",
       "      <td>building</td>\n",
       "      <td>assembly_shop</td>\n",
       "      <td>55e92310-cb8e-4754-b622-597e124b03de</td>\n",
       "      <td>NaN</td>\n",
       "    </tr>\n",
       "    <tr>\n",
       "      <th>1</th>\n",
       "      <td>2020-05-04 00:00:03</td>\n",
       "      <td>building</td>\n",
       "      <td>assembly_shop</td>\n",
       "      <td>c07b1c10-f477-44dc-81dc-ec82254b1347</td>\n",
       "      <td>NaN</td>\n",
       "    </tr>\n",
       "    <tr>\n",
       "      <th>2</th>\n",
       "      <td>2020-05-04 00:00:16</td>\n",
       "      <td>building</td>\n",
       "      <td>assembly_shop</td>\n",
       "      <td>6edd42cc-e753-4ff6-a947-2107cd560710</td>\n",
       "      <td>NaN</td>\n",
       "    </tr>\n",
       "    <tr>\n",
       "      <th>3</th>\n",
       "      <td>2020-05-04 00:00:16</td>\n",
       "      <td>building</td>\n",
       "      <td>assembly_shop</td>\n",
       "      <td>92c69003-d60a-444a-827f-8cc51bf6bf4c</td>\n",
       "      <td>NaN</td>\n",
       "    </tr>\n",
       "    <tr>\n",
       "      <th>4</th>\n",
       "      <td>2020-05-04 00:00:35</td>\n",
       "      <td>building</td>\n",
       "      <td>assembly_shop</td>\n",
       "      <td>cdc6bb92-0ccb-4490-9866-ef142f09139d</td>\n",
       "      <td>NaN</td>\n",
       "    </tr>\n",
       "  </tbody>\n",
       "</table>\n",
       "</div>"
      ],
      "text/plain": [
       "        event_datetime     event  building_type  \\\n",
       "0  2020-05-04 00:00:01  building  assembly_shop   \n",
       "1  2020-05-04 00:00:03  building  assembly_shop   \n",
       "2  2020-05-04 00:00:16  building  assembly_shop   \n",
       "3  2020-05-04 00:00:16  building  assembly_shop   \n",
       "4  2020-05-04 00:00:35  building  assembly_shop   \n",
       "\n",
       "                                user_id project_type  \n",
       "0  55e92310-cb8e-4754-b622-597e124b03de          NaN  \n",
       "1  c07b1c10-f477-44dc-81dc-ec82254b1347          NaN  \n",
       "2  6edd42cc-e753-4ff6-a947-2107cd560710          NaN  \n",
       "3  92c69003-d60a-444a-827f-8cc51bf6bf4c          NaN  \n",
       "4  cdc6bb92-0ccb-4490-9866-ef142f09139d          NaN  "
      ]
     },
     "metadata": {},
     "output_type": "display_data"
    },
    {
     "name": "stdout",
     "output_type": "stream",
     "text": [
      "\n",
      "<class 'pandas.core.frame.DataFrame'>\n",
      "RangeIndex: 135640 entries, 0 to 135639\n",
      "Data columns (total 5 columns):\n",
      " #   Column          Non-Null Count   Dtype \n",
      "---  ------          --------------   ----- \n",
      " 0   event_datetime  135640 non-null  object\n",
      " 1   event           135640 non-null  object\n",
      " 2   building_type   127957 non-null  object\n",
      " 3   user_id         135640 non-null  object\n",
      " 4   project_type    1866 non-null    object\n",
      "dtypes: object(5)\n",
      "memory usage: 5.2+ MB\n",
      "\n"
     ]
    },
    {
     "data": {
      "text/html": [
       "<div>\n",
       "<style scoped>\n",
       "    .dataframe tbody tr th:only-of-type {\n",
       "        vertical-align: middle;\n",
       "    }\n",
       "\n",
       "    .dataframe tbody tr th {\n",
       "        vertical-align: top;\n",
       "    }\n",
       "\n",
       "    .dataframe thead th {\n",
       "        text-align: right;\n",
       "    }\n",
       "</style>\n",
       "<table border=\"1\" class=\"dataframe\">\n",
       "  <thead>\n",
       "    <tr style=\"text-align: right;\">\n",
       "      <th></th>\n",
       "      <th>event_datetime</th>\n",
       "      <th>event</th>\n",
       "      <th>building_type</th>\n",
       "      <th>user_id</th>\n",
       "      <th>project_type</th>\n",
       "    </tr>\n",
       "  </thead>\n",
       "  <tbody>\n",
       "    <tr>\n",
       "      <th>count</th>\n",
       "      <td>135640</td>\n",
       "      <td>135640</td>\n",
       "      <td>127957</td>\n",
       "      <td>135640</td>\n",
       "      <td>1866</td>\n",
       "    </tr>\n",
       "    <tr>\n",
       "      <th>unique</th>\n",
       "      <td>128790</td>\n",
       "      <td>3</td>\n",
       "      <td>3</td>\n",
       "      <td>13576</td>\n",
       "      <td>1</td>\n",
       "    </tr>\n",
       "    <tr>\n",
       "      <th>top</th>\n",
       "      <td>2020-05-08 21:56:19</td>\n",
       "      <td>building</td>\n",
       "      <td>spaceport</td>\n",
       "      <td>ff841992-d93b-462e-bc6e-18c24a514f36</td>\n",
       "      <td>satellite_orbital_assembly</td>\n",
       "    </tr>\n",
       "    <tr>\n",
       "      <th>freq</th>\n",
       "      <td>4</td>\n",
       "      <td>127957</td>\n",
       "      <td>59325</td>\n",
       "      <td>22</td>\n",
       "      <td>1866</td>\n",
       "    </tr>\n",
       "  </tbody>\n",
       "</table>\n",
       "</div>"
      ],
      "text/plain": [
       "             event_datetime     event building_type  \\\n",
       "count                135640    135640        127957   \n",
       "unique               128790         3             3   \n",
       "top     2020-05-08 21:56:19  building     spaceport   \n",
       "freq                      4    127957         59325   \n",
       "\n",
       "                                     user_id                project_type  \n",
       "count                                 135640                        1866  \n",
       "unique                                 13576                           1  \n",
       "top     ff841992-d93b-462e-bc6e-18c24a514f36  satellite_orbital_assembly  \n",
       "freq                                      22                        1866  "
      ]
     },
     "metadata": {},
     "output_type": "display_data"
    },
    {
     "name": "stdout",
     "output_type": "stream",
     "text": [
      "|Количество пропущенных значений|\n"
     ]
    },
    {
     "data": {
      "text/plain": [
       "project_type      133774\n",
       "building_type       7683\n",
       "event_datetime         0\n",
       "event                  0\n",
       "user_id                0\n",
       "dtype: int64"
      ]
     },
     "metadata": {},
     "output_type": "display_data"
    },
    {
     "name": "stdout",
     "output_type": "stream",
     "text": [
      "|Доля пропущенных значений|\n"
     ]
    },
    {
     "data": {
      "text/plain": [
       "project_type      0.986243\n",
       "building_type     0.056643\n",
       "event_datetime    0.000000\n",
       "event             0.000000\n",
       "user_id           0.000000\n",
       "dtype: float64"
      ]
     },
     "metadata": {},
     "output_type": "display_data"
    },
    {
     "name": "stdout",
     "output_type": "stream",
     "text": [
      "|Количество дубликатов|\n"
     ]
    },
    {
     "data": {
      "text/plain": [
       "1"
      ]
     },
     "metadata": {},
     "output_type": "display_data"
    }
   ],
   "source": [
    "intro(game_actions)"
   ]
  },
  {
   "cell_type": "markdown",
   "metadata": {},
   "source": [
    "В таблице `game_actions` в стобцах `building_type` и `project_type` были обнаружены пропущенные значения. Этим пропускам есть объяснение: `building_type` будет пустым, если событие не является постройкой здания, a `project_type`, если событие не является завершением проекта. Таким образом, заполнять пропуски нет необходимости.\n",
    "\n",
    "Дата имеет формат `object` - необходимо будет поменять ее на `datetime`.\n",
    "\n",
    "Также в таблице обнаружено одно дублирующееся значение. Нужно будет избавиться от него перед тем как проводить анализ данных."
   ]
  },
  {
   "cell_type": "code",
   "execution_count": 6,
   "metadata": {},
   "outputs": [
    {
     "data": {
      "text/html": [
       "<div>\n",
       "<style scoped>\n",
       "    .dataframe tbody tr th:only-of-type {\n",
       "        vertical-align: middle;\n",
       "    }\n",
       "\n",
       "    .dataframe tbody tr th {\n",
       "        vertical-align: top;\n",
       "    }\n",
       "\n",
       "    .dataframe thead th {\n",
       "        text-align: right;\n",
       "    }\n",
       "</style>\n",
       "<table border=\"1\" class=\"dataframe\">\n",
       "  <thead>\n",
       "    <tr style=\"text-align: right;\">\n",
       "      <th></th>\n",
       "      <th>user_id</th>\n",
       "      <th>source</th>\n",
       "    </tr>\n",
       "  </thead>\n",
       "  <tbody>\n",
       "    <tr>\n",
       "      <th>0</th>\n",
       "      <td>0001f83c-c6ac-4621-b7f0-8a28b283ac30</td>\n",
       "      <td>facebook_ads</td>\n",
       "    </tr>\n",
       "    <tr>\n",
       "      <th>1</th>\n",
       "      <td>00151b4f-ba38-44a8-a650-d7cf130a0105</td>\n",
       "      <td>yandex_direct</td>\n",
       "    </tr>\n",
       "    <tr>\n",
       "      <th>2</th>\n",
       "      <td>001aaea6-3d14-43f1-8ca8-7f48820f17aa</td>\n",
       "      <td>youtube_channel_reklama</td>\n",
       "    </tr>\n",
       "    <tr>\n",
       "      <th>3</th>\n",
       "      <td>001d39dc-366c-4021-9604-6a3b9ff01e25</td>\n",
       "      <td>instagram_new_adverts</td>\n",
       "    </tr>\n",
       "    <tr>\n",
       "      <th>4</th>\n",
       "      <td>002f508f-67b6-479f-814b-b05f00d4e995</td>\n",
       "      <td>facebook_ads</td>\n",
       "    </tr>\n",
       "  </tbody>\n",
       "</table>\n",
       "</div>"
      ],
      "text/plain": [
       "                                user_id                   source\n",
       "0  0001f83c-c6ac-4621-b7f0-8a28b283ac30             facebook_ads\n",
       "1  00151b4f-ba38-44a8-a650-d7cf130a0105            yandex_direct\n",
       "2  001aaea6-3d14-43f1-8ca8-7f48820f17aa  youtube_channel_reklama\n",
       "3  001d39dc-366c-4021-9604-6a3b9ff01e25    instagram_new_adverts\n",
       "4  002f508f-67b6-479f-814b-b05f00d4e995             facebook_ads"
      ]
     },
     "metadata": {},
     "output_type": "display_data"
    },
    {
     "name": "stdout",
     "output_type": "stream",
     "text": [
      "\n",
      "<class 'pandas.core.frame.DataFrame'>\n",
      "RangeIndex: 13576 entries, 0 to 13575\n",
      "Data columns (total 2 columns):\n",
      " #   Column   Non-Null Count  Dtype \n",
      "---  ------   --------------  ----- \n",
      " 0   user_id  13576 non-null  object\n",
      " 1   source   13576 non-null  object\n",
      "dtypes: object(2)\n",
      "memory usage: 212.2+ KB\n",
      "\n"
     ]
    },
    {
     "data": {
      "text/html": [
       "<div>\n",
       "<style scoped>\n",
       "    .dataframe tbody tr th:only-of-type {\n",
       "        vertical-align: middle;\n",
       "    }\n",
       "\n",
       "    .dataframe tbody tr th {\n",
       "        vertical-align: top;\n",
       "    }\n",
       "\n",
       "    .dataframe thead th {\n",
       "        text-align: right;\n",
       "    }\n",
       "</style>\n",
       "<table border=\"1\" class=\"dataframe\">\n",
       "  <thead>\n",
       "    <tr style=\"text-align: right;\">\n",
       "      <th></th>\n",
       "      <th>user_id</th>\n",
       "      <th>source</th>\n",
       "    </tr>\n",
       "  </thead>\n",
       "  <tbody>\n",
       "    <tr>\n",
       "      <th>count</th>\n",
       "      <td>13576</td>\n",
       "      <td>13576</td>\n",
       "    </tr>\n",
       "    <tr>\n",
       "      <th>unique</th>\n",
       "      <td>13576</td>\n",
       "      <td>4</td>\n",
       "    </tr>\n",
       "    <tr>\n",
       "      <th>top</th>\n",
       "      <td>e8a8e26a-6ef0-4173-ae08-d907d4cacb14</td>\n",
       "      <td>yandex_direct</td>\n",
       "    </tr>\n",
       "    <tr>\n",
       "      <th>freq</th>\n",
       "      <td>1</td>\n",
       "      <td>4817</td>\n",
       "    </tr>\n",
       "  </tbody>\n",
       "</table>\n",
       "</div>"
      ],
      "text/plain": [
       "                                     user_id         source\n",
       "count                                  13576          13576\n",
       "unique                                 13576              4\n",
       "top     e8a8e26a-6ef0-4173-ae08-d907d4cacb14  yandex_direct\n",
       "freq                                       1           4817"
      ]
     },
     "metadata": {},
     "output_type": "display_data"
    },
    {
     "name": "stdout",
     "output_type": "stream",
     "text": [
      "|Количество пропущенных значений|\n"
     ]
    },
    {
     "data": {
      "text/plain": [
       "user_id    0\n",
       "source     0\n",
       "dtype: int64"
      ]
     },
     "metadata": {},
     "output_type": "display_data"
    },
    {
     "name": "stdout",
     "output_type": "stream",
     "text": [
      "|Доля пропущенных значений|\n"
     ]
    },
    {
     "data": {
      "text/plain": [
       "user_id    0.0\n",
       "source     0.0\n",
       "dtype: float64"
      ]
     },
     "metadata": {},
     "output_type": "display_data"
    },
    {
     "name": "stdout",
     "output_type": "stream",
     "text": [
      "|Количество дубликатов|\n"
     ]
    },
    {
     "data": {
      "text/plain": [
       "0"
      ]
     },
     "metadata": {},
     "output_type": "display_data"
    }
   ],
   "source": [
    "intro(user_source)"
   ]
  },
  {
   "cell_type": "markdown",
   "metadata": {},
   "source": [
    "Названия столбцов корректные, пропусков и дубликатов не обнаружено. Столбцы имеют нужные форматы."
   ]
  },
  {
   "cell_type": "markdown",
   "metadata": {},
   "source": [
    "### Вывод "
   ]
  },
  {
   "cell_type": "markdown",
   "metadata": {},
   "source": [
    "В нашем распоряжении имеются три таблицы с данными о событиях, совершенных в мобильной игре «Космические братья». В датасете содержатся данные первых пользователей приложения — когорты пользователей, которые начали пользоваться приложением в период с 4 по 10 мая включительно.\n",
    "\n",
    "Согласно документации к данным:\n",
    "\n",
    "Датасет `game_actions.csv`:\n",
    "\n",
    "- `event_datetime` — время события;\n",
    "- `event` — одно из трёх событий:\n",
    "    1. `building` — объект построен,\n",
    "    2. `finished_stage_1` — первый уровень завершён,\n",
    "    3. `project` — проект завершён;\n",
    "- `building_type` — один из трёх типов здания:\n",
    "    1. `assembly_shop` — сборочный цех,\n",
    "    2. `spaceport` — космопорт,\n",
    "    3. `research_center` — исследовательский центр;\n",
    "- `user_id` — идентификатор пользователя;\n",
    "- `project_type` — тип реализованного проекта;\n",
    "\n",
    "Датасет `ad_costs.csv`:\n",
    "\n",
    "- `day` - день, в который был совершен клик по объявлению\n",
    "- `source` - источник трафика\n",
    "- `cost` - стоимость кликов\n",
    "\n",
    "Датасет `user_source.csv` содержит колонки:\n",
    "\n",
    "- `user_id` - идентификатор пользователя\n",
    "- `source` - источников, с которого пришёл пользователь, установивший приложение  \n",
    "\n",
    "В ходе первичного обзора данных было выявлено следующее:\n",
    "\n",
    "* Необходимо поменять тип данных столбцами с датами в датасетах `ad_costs` и `game_actions`\n",
    "* В таблице `game_actions` в стобцах `building_type` и `project_type` были обнаружены пропущенные значения. Заполнять их не будем, так как отсутствие данных обусловлено отсутствием соответствующих событий.\n",
    "* Обнаружено дублирующееся значение в датасете `game_actions`. Необходимо будет от него избавиться."
   ]
  },
  {
   "cell_type": "markdown",
   "metadata": {},
   "source": [
    "## Предобработка данных"
   ]
  },
  {
   "cell_type": "markdown",
   "metadata": {},
   "source": [
    "Проверка корректности наименований колонок\n",
    "Проверка пропущенных значений\n",
    "Исследование соответствия типов данных\n",
    "Поиск аномальных значений\n",
    "Проверка на дубликаты\n",
    "Добавление расчетов"
   ]
  },
  {
   "cell_type": "markdown",
   "metadata": {},
   "source": [
    "Для начала приведем тип данных в столбцаъ с датами к необходимому."
   ]
  },
  {
   "cell_type": "code",
   "execution_count": 7,
   "metadata": {},
   "outputs": [],
   "source": [
    "game_actions['event_datetime'] = pd.to_datetime(game_actions['event_datetime'])\n",
    "ad_costs['day'] = pd.to_datetime(ad_costs['day'])"
   ]
  },
  {
   "cell_type": "markdown",
   "metadata": {},
   "source": [
    "Избавимся от дубликата в датасете `game_actions`."
   ]
  },
  {
   "cell_type": "code",
   "execution_count": 8,
   "metadata": {},
   "outputs": [
    {
     "data": {
      "text/plain": [
       "1"
      ]
     },
     "execution_count": 8,
     "metadata": {},
     "output_type": "execute_result"
    }
   ],
   "source": [
    "game_actions.duplicated().sum()"
   ]
  },
  {
   "cell_type": "code",
   "execution_count": 9,
   "metadata": {},
   "outputs": [],
   "source": [
    "game_actions = game_actions.drop_duplicates()"
   ]
  },
  {
   "cell_type": "code",
   "execution_count": 10,
   "metadata": {
    "scrolled": false
   },
   "outputs": [
    {
     "data": {
      "text/plain": [
       "0"
      ]
     },
     "execution_count": 10,
     "metadata": {},
     "output_type": "execute_result"
    }
   ],
   "source": [
    "game_actions.duplicated().sum()"
   ]
  },
  {
   "cell_type": "markdown",
   "metadata": {},
   "source": [
    "Данные предобработаны. Можно приступать к анлизу данных."
   ]
  },
  {
   "cell_type": "markdown",
   "metadata": {},
   "source": [
    "## Исследовательский анализ данных"
   ]
  },
  {
   "cell_type": "markdown",
   "metadata": {},
   "source": [
    "Проверим, данные за какой период у нас есть."
   ]
  },
  {
   "cell_type": "code",
   "execution_count": 11,
   "metadata": {},
   "outputs": [
    {
     "name": "stdout",
     "output_type": "stream",
     "text": [
      "Начало наблюдения: 2020-05-04 00:00:01 \n",
      "Окончание наблюдения 2020-06-05 12:32:49\n"
     ]
    }
   ],
   "source": [
    "min_analysis_date = game_actions['event_datetime'].min()\n",
    "observation_date = game_actions['event_datetime'].max()\n",
    "\n",
    "print('Начало наблюдения:', min_analysis_date,\n",
    "      '\\nОкончание наблюдения', observation_date)"
   ]
  },
  {
   "cell_type": "markdown",
   "metadata": {},
   "source": [
    "Таким образом у нас есть данные за период с 4 мая по 5 июня."
   ]
  },
  {
   "cell_type": "markdown",
   "metadata": {},
   "source": [
    "Посмотрим на распределение количества событий по дням."
   ]
  },
  {
   "cell_type": "code",
   "execution_count": 12,
   "metadata": {},
   "outputs": [
    {
     "data": {
      "image/png": "[encoded data removed]",
      "text/plain": [
       "<Figure size 1008x576 with 1 Axes>"
      ]
     },
     "metadata": {
      "needs_background": "light"
     },
     "output_type": "display_data"
    }
   ],
   "source": [
    "plt.figure(figsize=(14,8))\n",
    "sns.histplot(data=game_actions['event_datetime'], kde=True, bins=30)\n",
    "plt.title('Гистограмма распределения событий по датам')\n",
    "plt.ylabel('Число событий')\n",
    "plt.xlabel('Дата события')\n",
    "plt.show()"
   ]
  },
  {
   "cell_type": "markdown",
   "metadata": {},
   "source": [
    "Можно заметить, что общее количество событий увеличивалось каждый день до 11 мая, а потом резко уменьшилось. Можно предположить, что некоторые пользоваетели завершили уровень и становилось меньше. "
   ]
  },
  {
   "cell_type": "markdown",
   "metadata": {},
   "source": [
    "### Количество пользователей и событий за весь период"
   ]
  },
  {
   "cell_type": "markdown",
   "metadata": {},
   "source": [
    "Проверим количество пользователей и количество событий за весь период."
   ]
  },
  {
   "cell_type": "code",
   "execution_count": 13,
   "metadata": {},
   "outputs": [
    {
     "name": "stdout",
     "output_type": "stream",
     "text": [
      "Количество пользователей: 13576\n",
      "Количество событий: 135639\n"
     ]
    }
   ],
   "source": [
    "print(f'Количество пользователей: {game_actions[\"user_id\"].nunique()}')\n",
    "print(f'Количество событий: {game_actions[\"event\"].count()}')"
   ]
  },
  {
   "cell_type": "markdown",
   "metadata": {},
   "source": [
    "### Источники пользователей"
   ]
  },
  {
   "cell_type": "markdown",
   "metadata": {},
   "source": [
    "Проверим из каких источников приходят пользователи."
   ]
  },
  {
   "cell_type": "code",
   "execution_count": 14,
   "metadata": {},
   "outputs": [
    {
     "data": {
      "text/html": [
       "<div>\n",
       "<style scoped>\n",
       "    .dataframe tbody tr th:only-of-type {\n",
       "        vertical-align: middle;\n",
       "    }\n",
       "\n",
       "    .dataframe tbody tr th {\n",
       "        vertical-align: top;\n",
       "    }\n",
       "\n",
       "    .dataframe thead th {\n",
       "        text-align: right;\n",
       "    }\n",
       "</style>\n",
       "<table border=\"1\" class=\"dataframe\">\n",
       "  <thead>\n",
       "    <tr style=\"text-align: right;\">\n",
       "      <th></th>\n",
       "      <th>source</th>\n",
       "      <th>count</th>\n",
       "    </tr>\n",
       "  </thead>\n",
       "  <tbody>\n",
       "    <tr>\n",
       "      <th>2</th>\n",
       "      <td>yandex_direct</td>\n",
       "      <td>4817</td>\n",
       "    </tr>\n",
       "    <tr>\n",
       "      <th>1</th>\n",
       "      <td>instagram_new_adverts</td>\n",
       "      <td>3347</td>\n",
       "    </tr>\n",
       "    <tr>\n",
       "      <th>0</th>\n",
       "      <td>facebook_ads</td>\n",
       "      <td>2726</td>\n",
       "    </tr>\n",
       "    <tr>\n",
       "      <th>3</th>\n",
       "      <td>youtube_channel_reklama</td>\n",
       "      <td>2686</td>\n",
       "    </tr>\n",
       "  </tbody>\n",
       "</table>\n",
       "</div>"
      ],
      "text/plain": [
       "                    source  count\n",
       "2            yandex_direct   4817\n",
       "1    instagram_new_adverts   3347\n",
       "0             facebook_ads   2726\n",
       "3  youtube_channel_reklama   2686"
      ]
     },
     "execution_count": 14,
     "metadata": {},
     "output_type": "execute_result"
    }
   ],
   "source": [
    "user_source.groupby('source')['user_id'].agg('count').reset_index().rename(columns={'user_id': 'count'}).sort_values(by='count', ascending=False)"
   ]
  },
  {
   "cell_type": "code",
   "execution_count": 15,
   "metadata": {},
   "outputs": [
    {
     "data": {
      "image/png": "[encoded data removed]",
      "text/plain": [
       "<Figure size 576x576 with 1 Axes>"
      ]
     },
     "metadata": {},
     "output_type": "display_data"
    }
   ],
   "source": [
    "user_source.groupby('source').count().plot(kind='pie', subplots=True, legend= False, autopct='%1.1f%%', figsize=(8, 8),  textprops={'fontsize': 14})\n",
    "plt.title('Каналы привлечения', fontdict = {'fontsize' : 18})\n",
    "plt.ylabel('')\n",
    "plt.show()"
   ]
  },
  {
   "cell_type": "markdown",
   "metadata": {},
   "source": [
    "Таким образом можно увидеть, что больше всего пользователей (35.5%) приходит из Яндекс Директ. За ним следуют Инстаграм (24.7%), Фейсбук (20.1%) и Ютьюб (19.8%)."
   ]
  },
  {
   "cell_type": "markdown",
   "metadata": {},
   "source": [
    "### Расчет CAC"
   ]
  },
  {
   "cell_type": "markdown",
   "metadata": {},
   "source": [
    "Посмотрим стоимость привлечения по каналам и посчитаем CAC."
   ]
  },
  {
   "cell_type": "code",
   "execution_count": 16,
   "metadata": {
    "scrolled": false
   },
   "outputs": [
    {
     "data": {
      "text/html": [
       "<div>\n",
       "<style scoped>\n",
       "    .dataframe tbody tr th:only-of-type {\n",
       "        vertical-align: middle;\n",
       "    }\n",
       "\n",
       "    .dataframe tbody tr th {\n",
       "        vertical-align: top;\n",
       "    }\n",
       "\n",
       "    .dataframe thead th {\n",
       "        text-align: right;\n",
       "    }\n",
       "</style>\n",
       "<table border=\"1\" class=\"dataframe\">\n",
       "  <thead>\n",
       "    <tr style=\"text-align: right;\">\n",
       "      <th></th>\n",
       "      <th>source</th>\n",
       "      <th>cost</th>\n",
       "    </tr>\n",
       "  </thead>\n",
       "  <tbody>\n",
       "    <tr>\n",
       "      <th>2</th>\n",
       "      <td>yandex_direct</td>\n",
       "      <td>2233.111449</td>\n",
       "    </tr>\n",
       "    <tr>\n",
       "      <th>1</th>\n",
       "      <td>instagram_new_adverts</td>\n",
       "      <td>2161.441691</td>\n",
       "    </tr>\n",
       "    <tr>\n",
       "      <th>0</th>\n",
       "      <td>facebook_ads</td>\n",
       "      <td>2140.904643</td>\n",
       "    </tr>\n",
       "    <tr>\n",
       "      <th>3</th>\n",
       "      <td>youtube_channel_reklama</td>\n",
       "      <td>1068.119204</td>\n",
       "    </tr>\n",
       "  </tbody>\n",
       "</table>\n",
       "</div>"
      ],
      "text/plain": [
       "                    source         cost\n",
       "2            yandex_direct  2233.111449\n",
       "1    instagram_new_adverts  2161.441691\n",
       "0             facebook_ads  2140.904643\n",
       "3  youtube_channel_reklama  1068.119204"
      ]
     },
     "execution_count": 16,
     "metadata": {},
     "output_type": "execute_result"
    }
   ],
   "source": [
    "ad_costs.groupby('source')['cost'].agg('sum').reset_index().sort_values(by='cost', ascending=False)"
   ]
  },
  {
   "cell_type": "code",
   "execution_count": 17,
   "metadata": {},
   "outputs": [
    {
     "data": {
      "text/html": [
       "<div>\n",
       "<style scoped>\n",
       "    .dataframe tbody tr th:only-of-type {\n",
       "        vertical-align: middle;\n",
       "    }\n",
       "\n",
       "    .dataframe tbody tr th {\n",
       "        vertical-align: top;\n",
       "    }\n",
       "\n",
       "    .dataframe thead th {\n",
       "        text-align: right;\n",
       "    }\n",
       "</style>\n",
       "<table border=\"1\" class=\"dataframe\">\n",
       "  <thead>\n",
       "    <tr style=\"text-align: right;\">\n",
       "      <th></th>\n",
       "      <th>source</th>\n",
       "      <th>cost</th>\n",
       "      <th>mean_cost</th>\n",
       "    </tr>\n",
       "  </thead>\n",
       "  <tbody>\n",
       "    <tr>\n",
       "      <th>0</th>\n",
       "      <td>facebook_ads</td>\n",
       "      <td>2140.904643</td>\n",
       "      <td>0.79</td>\n",
       "    </tr>\n",
       "    <tr>\n",
       "      <th>1</th>\n",
       "      <td>instagram_new_adverts</td>\n",
       "      <td>2161.441691</td>\n",
       "      <td>0.65</td>\n",
       "    </tr>\n",
       "    <tr>\n",
       "      <th>2</th>\n",
       "      <td>yandex_direct</td>\n",
       "      <td>2233.111449</td>\n",
       "      <td>0.46</td>\n",
       "    </tr>\n",
       "    <tr>\n",
       "      <th>3</th>\n",
       "      <td>youtube_channel_reklama</td>\n",
       "      <td>1068.119204</td>\n",
       "      <td>0.40</td>\n",
       "    </tr>\n",
       "  </tbody>\n",
       "</table>\n",
       "</div>"
      ],
      "text/plain": [
       "                    source         cost  mean_cost\n",
       "0             facebook_ads  2140.904643       0.79\n",
       "1    instagram_new_adverts  2161.441691       0.65\n",
       "2            yandex_direct  2233.111449       0.46\n",
       "3  youtube_channel_reklama  1068.119204       0.40"
      ]
     },
     "execution_count": 17,
     "metadata": {},
     "output_type": "execute_result"
    }
   ],
   "source": [
    "ad_sum = ad_costs.groupby('source')['cost'].agg('sum').reset_index()\n",
    "users_sum = user_source.groupby('source')['user_id'].agg('count').reset_index()\n",
    "ad_sum['mean_cost'] = (ad_sum['cost'] / users_sum['user_id']).round(2)\n",
    "ad_sum"
   ]
  },
  {
   "cell_type": "markdown",
   "metadata": {},
   "source": [
    "Общие затраты на привлечение распределены пользователей по каналам распределены соответственно количеству привлеченных пользователей. Но при этом затраты на привлечение одного пользователя выше всего у Фейсбук (0.79), за ним идут Инстаграм (0.65) Яндекс Директ (0.46) и Ютьюб (0.40). \n",
    "\n",
    "Таким образом, можно отметить, что при почти одинаковом количестве привлеченных пользователей для Фейсбук и Ютьюб, затраты на привлечение пользователя у последнего в два раза ниже."
   ]
  },
  {
   "cell_type": "markdown",
   "metadata": {},
   "source": [
    "### ROMI"
   ]
  },
  {
   "cell_type": "markdown",
   "metadata": {},
   "source": [
    "Допустим, что привлечённые пользователи должны окупаться за показы рекламы, которые они увидят на первом уровне и исходя из этого предположения высчитаем сколько должен стоить показ каждой рекламы по каналам, чтобы этого добиться."
   ]
  },
  {
   "cell_type": "code",
   "execution_count": 18,
   "metadata": {},
   "outputs": [
    {
     "data": {
      "text/html": [
       "<div>\n",
       "<style scoped>\n",
       "    .dataframe tbody tr th:only-of-type {\n",
       "        vertical-align: middle;\n",
       "    }\n",
       "\n",
       "    .dataframe tbody tr th {\n",
       "        vertical-align: top;\n",
       "    }\n",
       "\n",
       "    .dataframe thead th {\n",
       "        text-align: right;\n",
       "    }\n",
       "</style>\n",
       "<table border=\"1\" class=\"dataframe\">\n",
       "  <thead>\n",
       "    <tr style=\"text-align: right;\">\n",
       "      <th></th>\n",
       "      <th>source</th>\n",
       "      <th>cost</th>\n",
       "      <th>romi</th>\n",
       "    </tr>\n",
       "  </thead>\n",
       "  <tbody>\n",
       "    <tr>\n",
       "      <th>0</th>\n",
       "      <td>facebook_ads</td>\n",
       "      <td>2140.904643</td>\n",
       "      <td>0.08</td>\n",
       "    </tr>\n",
       "    <tr>\n",
       "      <th>1</th>\n",
       "      <td>instagram_new_adverts</td>\n",
       "      <td>2161.441691</td>\n",
       "      <td>0.07</td>\n",
       "    </tr>\n",
       "    <tr>\n",
       "      <th>2</th>\n",
       "      <td>yandex_direct</td>\n",
       "      <td>2233.111449</td>\n",
       "      <td>0.05</td>\n",
       "    </tr>\n",
       "    <tr>\n",
       "      <th>3</th>\n",
       "      <td>youtube_channel_reklama</td>\n",
       "      <td>1068.119204</td>\n",
       "      <td>0.04</td>\n",
       "    </tr>\n",
       "  </tbody>\n",
       "</table>\n",
       "</div>"
      ],
      "text/plain": [
       "                    source         cost  romi\n",
       "0             facebook_ads  2140.904643  0.08\n",
       "1    instagram_new_adverts  2161.441691  0.07\n",
       "2            yandex_direct  2233.111449  0.05\n",
       "3  youtube_channel_reklama  1068.119204  0.04"
      ]
     },
     "execution_count": 18,
     "metadata": {},
     "output_type": "execute_result"
    }
   ],
   "source": [
    "ad_sum_romi = ad_costs.groupby('source')['cost'].agg('sum').reset_index()\n",
    "number_events = game_actions.merge(user_source, on='user_id').query('event == \"building\"').groupby('source')['event'].agg('count').reset_index()\n",
    "ad_sum_romi['romi'] = (ad_sum_romi['cost'] / number_events['event']).round(2)\n",
    "ad_sum_romi"
   ]
  },
  {
   "cell_type": "markdown",
   "metadata": {},
   "source": [
    "Таким образом, каждый показ рекламы, должен приносить следующее, чтобы окупаться:\n",
    "* Facebook - 0.08\n",
    "* Instagram - 0.07\n",
    "* Yandex.Direct - 0.05\n",
    "* Youtube - 0.04"
   ]
  },
  {
   "cell_type": "markdown",
   "metadata": {},
   "source": [
    "## Анализ поведения пользователей"
   ]
  },
  {
   "cell_type": "markdown",
   "metadata": {},
   "source": [
    "### Доля игроков, прошедших первый уровень по каналам"
   ]
  },
  {
   "cell_type": "markdown",
   "metadata": {},
   "source": [
    "Посмотрим количество и долю игроков прошедших первый уровень."
   ]
  },
  {
   "cell_type": "code",
   "execution_count": 19,
   "metadata": {
    "scrolled": true
   },
   "outputs": [
    {
     "name": "stdout",
     "output_type": "stream",
     "text": [
      "Количество игроков, прошедших первый уровень: 13576\n",
      "Доля игроков, прошедших первый уровень: 42.85%\n"
     ]
    }
   ],
   "source": [
    "print(f'Количество игроков, прошедших первый уровень: {game_actions[\"user_id\"].nunique()}')\n",
    "print(f'Доля игроков, прошедших первый уровень: \\\n",
    "{game_actions[game_actions[\"event\"]==\"finished_stage_1\"][\"user_id\"].count()/game_actions[\"user_id\"].nunique():.2%}')"
   ]
  },
  {
   "cell_type": "code",
   "execution_count": 20,
   "metadata": {},
   "outputs": [],
   "source": [
    "completed = pd.DataFrame({'is_completed': ['Завершили', 'Не завершили'],\n",
    "                           'count': [game_actions[game_actions['event'] =='finished_stage_1']['user_id'].nunique(),\n",
    "                                     game_actions['user_id'].nunique() - game_actions[game_actions['event'] =='finished_stage_1']['user_id'].nunique()]})"
   ]
  },
  {
   "cell_type": "code",
   "execution_count": 21,
   "metadata": {},
   "outputs": [
    {
     "data": {
      "image/png": "[encoded data removed]",
      "text/plain": [
       "<Figure size 576x576 with 1 Axes>"
      ]
     },
     "metadata": {},
     "output_type": "display_data"
    }
   ],
   "source": [
    "plt.figure(figsize=(8, 8))\n",
    "plt.title('Доля игроков завершивших уровень', fontdict = {'fontsize' : 18})\n",
    "plt.pie(completed['count'], labels = ['Завершили', 'Не завершили'],  autopct='%1.1f%%',  textprops={'fontsize': 14})\n",
    "plt.show() "
   ]
  },
  {
   "cell_type": "markdown",
   "metadata": {},
   "source": [
    "Таким образом, мы имеем 42.8% игроков, которые завершили первый уровень и 57.2%, которые не завершили."
   ]
  },
  {
   "cell_type": "markdown",
   "metadata": {},
   "source": [
    "Теперь посмотрим долю прошедших первый уровень пользователей от общего числа для каждого канала."
   ]
  },
  {
   "cell_type": "code",
   "execution_count": 22,
   "metadata": {},
   "outputs": [],
   "source": [
    "finish_channel = game_actions.merge(user_source, on='user_id')"
   ]
  },
  {
   "cell_type": "code",
   "execution_count": 23,
   "metadata": {},
   "outputs": [
    {
     "data": {
      "image/png": "[encoded data removed]",
      "text/plain": [
       "<Figure size 576x576 with 1 Axes>"
      ]
     },
     "metadata": {},
     "output_type": "display_data"
    }
   ],
   "source": [
    "finish_channel[finish_channel[\"event\"]==\"finished_stage_1\"].groupby('source')['user_id'].agg('nunique').plot(kind='pie', subplots=True, legend= False, autopct='%1.1f%%', figsize=(8, 8),  textprops={'fontsize': 14})\n",
    "plt.title('Доля игроков, прошедших первый уровень по каналам', fontdict = {'fontsize' : 18})\n",
    "plt.ylabel('')\n",
    "plt.show()"
   ]
  },
  {
   "cell_type": "markdown",
   "metadata": {},
   "source": [
    "Больше всего игроков прошедших первый уровень пришли из Яндекс.Директ (35.1%). За ними следуют игроки пришедшие из Instagram (25.2%). Игроков пришедших из Facebook (19.8%) и Youtube (19.9%) почти одинаковая доля."
   ]
  },
  {
   "cell_type": "markdown",
   "metadata": {},
   "source": [
    "### Способ прохождения уровня"
   ]
  },
  {
   "cell_type": "markdown",
   "metadata": {},
   "source": [
    "Теперь посмотрим как распределены доли игроков по стратегиям прохождения."
   ]
  },
  {
   "cell_type": "code",
   "execution_count": 24,
   "metadata": {},
   "outputs": [
    {
     "name": "stdout",
     "output_type": "stream",
     "text": [
      "Доля игроков, прошедших первый уровень через реализацию проекта: 32.08%\n"
     ]
    }
   ],
   "source": [
    "print(f'Доля игроков, прошедших первый уровень через реализацию проекта: \\\n",
    "{game_actions[game_actions[\"event\"]==\"project\"][\"user_id\"].count()/game_actions[game_actions[\"event\"]==\"finished_stage_1\"][\"user_id\"].count():.2%}')"
   ]
  },
  {
   "cell_type": "markdown",
   "metadata": {},
   "source": [
    "Создадим список с пользователями, которые закончили игру через проект и построим график."
   ]
  },
  {
   "cell_type": "code",
   "execution_count": 25,
   "metadata": {},
   "outputs": [],
   "source": [
    "users = game_actions.query('event == \"project\"')['user_id'].tolist()"
   ]
  },
  {
   "cell_type": "code",
   "execution_count": 26,
   "metadata": {
    "scrolled": false
   },
   "outputs": [
    {
     "data": {
      "image/png": "[encoded data removed]",
      "text/plain": [
       "<Figure size 576x576 with 1 Axes>"
      ]
     },
     "metadata": {},
     "output_type": "display_data"
    }
   ],
   "source": [
    "plt.figure(figsize=(8, 8))\n",
    "plt.title('Доля игроков завершивших уровень по стратегии', fontdict = {'fontsize' : 18})\n",
    "plt.pie(game_actions.query('user_id not in @users & event!= \"building\" or event==\"project\"')['event'].value_counts(), labels = ['Победа над врагом', 'Реализация проекта'],  autopct='%1.1f%%',  textprops={'fontsize': 14})\n",
    "plt.show() "
   ]
  },
  {
   "cell_type": "markdown",
   "metadata": {},
   "source": [
    "Большинство игроков, прошедших первый уровень сделали это через победу над врагом - 67.9%"
   ]
  },
  {
   "cell_type": "markdown",
   "metadata": {},
   "source": [
    "### Время прохождения"
   ]
  },
  {
   "cell_type": "markdown",
   "metadata": {},
   "source": [
    "Посмотрим время прохождения уровня игроками."
   ]
  },
  {
   "cell_type": "code",
   "execution_count": 27,
   "metadata": {},
   "outputs": [
    {
     "data": {
      "text/html": [
       "<div>\n",
       "<style scoped>\n",
       "    .dataframe tbody tr th:only-of-type {\n",
       "        vertical-align: middle;\n",
       "    }\n",
       "\n",
       "    .dataframe tbody tr th {\n",
       "        vertical-align: top;\n",
       "    }\n",
       "\n",
       "    .dataframe thead th {\n",
       "        text-align: right;\n",
       "    }\n",
       "</style>\n",
       "<table border=\"1\" class=\"dataframe\">\n",
       "  <thead>\n",
       "    <tr style=\"text-align: right;\">\n",
       "      <th></th>\n",
       "      <th>event_datetime</th>\n",
       "      <th>event</th>\n",
       "      <th>building_type</th>\n",
       "      <th>user_id</th>\n",
       "      <th>project_type</th>\n",
       "    </tr>\n",
       "  </thead>\n",
       "  <tbody>\n",
       "    <tr>\n",
       "      <th>1</th>\n",
       "      <td>2020-05-04 00:00:03</td>\n",
       "      <td>building</td>\n",
       "      <td>assembly_shop</td>\n",
       "      <td>c07b1c10-f477-44dc-81dc-ec82254b1347</td>\n",
       "      <td>NaN</td>\n",
       "    </tr>\n",
       "    <tr>\n",
       "      <th>2</th>\n",
       "      <td>2020-05-04 00:00:16</td>\n",
       "      <td>building</td>\n",
       "      <td>assembly_shop</td>\n",
       "      <td>6edd42cc-e753-4ff6-a947-2107cd560710</td>\n",
       "      <td>NaN</td>\n",
       "    </tr>\n",
       "    <tr>\n",
       "      <th>4</th>\n",
       "      <td>2020-05-04 00:00:35</td>\n",
       "      <td>building</td>\n",
       "      <td>assembly_shop</td>\n",
       "      <td>cdc6bb92-0ccb-4490-9866-ef142f09139d</td>\n",
       "      <td>NaN</td>\n",
       "    </tr>\n",
       "    <tr>\n",
       "      <th>6</th>\n",
       "      <td>2020-05-04 00:00:36</td>\n",
       "      <td>building</td>\n",
       "      <td>assembly_shop</td>\n",
       "      <td>4fe0f101-694b-4e31-9740-d1d87f7208ea</td>\n",
       "      <td>NaN</td>\n",
       "    </tr>\n",
       "    <tr>\n",
       "      <th>8</th>\n",
       "      <td>2020-05-04 00:00:44</td>\n",
       "      <td>building</td>\n",
       "      <td>assembly_shop</td>\n",
       "      <td>65a92713-5969-48b1-8945-bfefa5063887</td>\n",
       "      <td>NaN</td>\n",
       "    </tr>\n",
       "  </tbody>\n",
       "</table>\n",
       "</div>"
      ],
      "text/plain": [
       "       event_datetime     event  building_type  \\\n",
       "1 2020-05-04 00:00:03  building  assembly_shop   \n",
       "2 2020-05-04 00:00:16  building  assembly_shop   \n",
       "4 2020-05-04 00:00:35  building  assembly_shop   \n",
       "6 2020-05-04 00:00:36  building  assembly_shop   \n",
       "8 2020-05-04 00:00:44  building  assembly_shop   \n",
       "\n",
       "                                user_id project_type  \n",
       "1  c07b1c10-f477-44dc-81dc-ec82254b1347          NaN  \n",
       "2  6edd42cc-e753-4ff6-a947-2107cd560710          NaN  \n",
       "4  cdc6bb92-0ccb-4490-9866-ef142f09139d          NaN  \n",
       "6  4fe0f101-694b-4e31-9740-d1d87f7208ea          NaN  \n",
       "8  65a92713-5969-48b1-8945-bfefa5063887          NaN  "
      ]
     },
     "execution_count": 27,
     "metadata": {},
     "output_type": "execute_result"
    }
   ],
   "source": [
    "users_finished_list = game_actions.query('event == \"finished_stage_1\"')['user_id'].tolist()\n",
    "users_finished = game_actions.query('user_id in @users_finished_list')\n",
    "users_finished.head(5)"
   ]
  },
  {
   "cell_type": "code",
   "execution_count": 28,
   "metadata": {},
   "outputs": [
    {
     "data": {
      "text/html": [
       "<div>\n",
       "<style scoped>\n",
       "    .dataframe tbody tr th:only-of-type {\n",
       "        vertical-align: middle;\n",
       "    }\n",
       "\n",
       "    .dataframe tbody tr th {\n",
       "        vertical-align: top;\n",
       "    }\n",
       "\n",
       "    .dataframe thead th {\n",
       "        text-align: right;\n",
       "    }\n",
       "</style>\n",
       "<table border=\"1\" class=\"dataframe\">\n",
       "  <thead>\n",
       "    <tr style=\"text-align: right;\">\n",
       "      <th></th>\n",
       "      <th>min</th>\n",
       "      <th>max</th>\n",
       "      <th>time_to_finish</th>\n",
       "      <th>days_to_finish</th>\n",
       "    </tr>\n",
       "    <tr>\n",
       "      <th>user_id</th>\n",
       "      <th></th>\n",
       "      <th></th>\n",
       "      <th></th>\n",
       "      <th></th>\n",
       "    </tr>\n",
       "  </thead>\n",
       "  <tbody>\n",
       "    <tr>\n",
       "      <th>001d39dc-366c-4021-9604-6a3b9ff01e25</th>\n",
       "      <td>2020-05-05 21:02:05</td>\n",
       "      <td>2020-05-12 07:40:47</td>\n",
       "      <td>6 days 10:38:42</td>\n",
       "      <td>6.0</td>\n",
       "    </tr>\n",
       "    <tr>\n",
       "      <th>003ee7e8-6356-4286-a715-62f22a18d2a1</th>\n",
       "      <td>2020-05-05 08:31:04</td>\n",
       "      <td>2020-05-17 21:47:49</td>\n",
       "      <td>12 days 13:16:45</td>\n",
       "      <td>12.0</td>\n",
       "    </tr>\n",
       "    <tr>\n",
       "      <th>004074f8-251a-4776-922c-8348dca1a2f6</th>\n",
       "      <td>2020-05-04 01:07:35</td>\n",
       "      <td>2020-05-16 19:57:40</td>\n",
       "      <td>12 days 18:50:05</td>\n",
       "      <td>12.0</td>\n",
       "    </tr>\n",
       "    <tr>\n",
       "      <th>00464e5e-28ed-4be6-bf44-517ef7b3937b</th>\n",
       "      <td>2020-05-04 08:35:29</td>\n",
       "      <td>2020-05-15 16:02:01</td>\n",
       "      <td>11 days 07:26:32</td>\n",
       "      <td>11.0</td>\n",
       "    </tr>\n",
       "    <tr>\n",
       "      <th>0056c007-c082-43cc-bdef-afc49bca4cb9</th>\n",
       "      <td>2020-05-10 11:49:47</td>\n",
       "      <td>2020-05-16 13:48:39</td>\n",
       "      <td>6 days 01:58:52</td>\n",
       "      <td>6.0</td>\n",
       "    </tr>\n",
       "  </tbody>\n",
       "</table>\n",
       "</div>"
      ],
      "text/plain": [
       "                                                     min                 max  \\\n",
       "user_id                                                                        \n",
       "001d39dc-366c-4021-9604-6a3b9ff01e25 2020-05-05 21:02:05 2020-05-12 07:40:47   \n",
       "003ee7e8-6356-4286-a715-62f22a18d2a1 2020-05-05 08:31:04 2020-05-17 21:47:49   \n",
       "004074f8-251a-4776-922c-8348dca1a2f6 2020-05-04 01:07:35 2020-05-16 19:57:40   \n",
       "00464e5e-28ed-4be6-bf44-517ef7b3937b 2020-05-04 08:35:29 2020-05-15 16:02:01   \n",
       "0056c007-c082-43cc-bdef-afc49bca4cb9 2020-05-10 11:49:47 2020-05-16 13:48:39   \n",
       "\n",
       "                                       time_to_finish  days_to_finish  \n",
       "user_id                                                                \n",
       "001d39dc-366c-4021-9604-6a3b9ff01e25  6 days 10:38:42             6.0  \n",
       "003ee7e8-6356-4286-a715-62f22a18d2a1 12 days 13:16:45            12.0  \n",
       "004074f8-251a-4776-922c-8348dca1a2f6 12 days 18:50:05            12.0  \n",
       "00464e5e-28ed-4be6-bf44-517ef7b3937b 11 days 07:26:32            11.0  \n",
       "0056c007-c082-43cc-bdef-afc49bca4cb9  6 days 01:58:52             6.0  "
      ]
     },
     "execution_count": 28,
     "metadata": {},
     "output_type": "execute_result"
    }
   ],
   "source": [
    "finish_time = users_finished.groupby('user_id')['event_datetime'].agg(['min', 'max'])\n",
    "finish_time['time_to_finish'] = finish_time['max'] - finish_time['min']\n",
    "finish_time['days_to_finish'] = finish_time['time_to_finish'].astype('timedelta64[D]')\n",
    "finish_time.head(5)"
   ]
  },
  {
   "cell_type": "code",
   "execution_count": 29,
   "metadata": {},
   "outputs": [
    {
     "name": "stdout",
     "output_type": "stream",
     "text": [
      "Самое быстрое прохождение: 0 days 09:39:01\n",
      "Самое долгое прохождение: 30 days 21:58:53\n",
      "Среднее время прохождения: 11.0 дней\n"
     ]
    }
   ],
   "source": [
    "print(f'Самое быстрое прохождение: {finish_time[\"time_to_finish\"].min()}')\n",
    "print(f'Самое долгое прохождение: {finish_time[\"time_to_finish\"].max()}')\n",
    "print(f'Среднее время прохождения: {finish_time[\"days_to_finish\"].mean().round()} дней')"
   ]
  },
  {
   "cell_type": "code",
   "execution_count": 30,
   "metadata": {},
   "outputs": [
    {
     "data": {
      "image/png": "[encoded data removed]",
      "text/plain": [
       "<Figure size 1008x648 with 2 Axes>"
      ]
     },
     "metadata": {
      "needs_background": "light"
     },
     "output_type": "display_data"
    }
   ],
   "source": [
    "_, [axs_hist, axs_box] = plt.subplots(2, 1,\n",
    "                                     figsize=(14, 9), \n",
    "                                     sharex=True,\n",
    "                                     gridspec_kw=dict(height_ratios=[10,1]))\n",
    "hist = sns.histplot(data=finish_time['days_to_finish'], kde=True, ax=axs_hist, bins=30)\n",
    "box = sns.boxplot(data=finish_time, x='days_to_finish', orient='h', ax=axs_box)\n",
    "hist.set(title='Гистограмма распределения',\n",
    "         ylabel='Количество записей')\n",
    "box.set(xlabel='Количество дней');"
   ]
  },
  {
   "cell_type": "markdown",
   "metadata": {},
   "source": [
    "Таким образом, можно отметить, что самое быстрое прохождение первого уровня игры было 09:39:01.\n",
    "\n",
    "Самое долгое - 30 дней и 21:58:53.\n",
    "\n",
    "В среднем игроки проходят первый уровень за 11 дней. \n",
    "\n",
    "Исходя из диаграммы размаха можно считать, что все что меньше 9 дней - это быстрое прохождение уровня, а все что больше 14 дней - медленное."
   ]
  },
  {
   "cell_type": "markdown",
   "metadata": {},
   "source": [
    "### Количество и тип построенных зданий"
   ]
  },
  {
   "cell_type": "markdown",
   "metadata": {},
   "source": [
    "Посмотрим на количество и тип построенных игроками зданий и построим визуализации."
   ]
  },
  {
   "cell_type": "code",
   "execution_count": 31,
   "metadata": {
    "scrolled": true
   },
   "outputs": [
    {
     "data": {
      "text/html": [
       "<div>\n",
       "<style scoped>\n",
       "    .dataframe tbody tr th:only-of-type {\n",
       "        vertical-align: middle;\n",
       "    }\n",
       "\n",
       "    .dataframe tbody tr th {\n",
       "        vertical-align: top;\n",
       "    }\n",
       "\n",
       "    .dataframe thead th {\n",
       "        text-align: right;\n",
       "    }\n",
       "</style>\n",
       "<table border=\"1\" class=\"dataframe\">\n",
       "  <thead>\n",
       "    <tr style=\"text-align: right;\">\n",
       "      <th></th>\n",
       "      <th>building_type</th>\n",
       "    </tr>\n",
       "  </thead>\n",
       "  <tbody>\n",
       "    <tr>\n",
       "      <th>spaceport</th>\n",
       "      <td>59325</td>\n",
       "    </tr>\n",
       "    <tr>\n",
       "      <th>assembly_shop</th>\n",
       "      <td>54494</td>\n",
       "    </tr>\n",
       "    <tr>\n",
       "      <th>research_center</th>\n",
       "      <td>14137</td>\n",
       "    </tr>\n",
       "  </tbody>\n",
       "</table>\n",
       "</div>"
      ],
      "text/plain": [
       "                 building_type\n",
       "spaceport                59325\n",
       "assembly_shop            54494\n",
       "research_center          14137"
      ]
     },
     "execution_count": 31,
     "metadata": {},
     "output_type": "execute_result"
    }
   ],
   "source": [
    "game_actions['building_type'].value_counts().to_frame()"
   ]
  },
  {
   "cell_type": "code",
   "execution_count": 32,
   "metadata": {},
   "outputs": [
    {
     "data": {
      "image/png": "[encoded data removed]",
      "text/plain": [
       "<Figure size 576x576 with 1 Axes>"
      ]
     },
     "metadata": {},
     "output_type": "display_data"
    }
   ],
   "source": [
    "game_actions['building_type'].value_counts().plot(kind='pie', subplots=True, legend= False, autopct='%1.1f%%', figsize=(8, 8),  textprops={'fontsize': 14})\n",
    "plt.title('Тип построенных зданий игроков', fontdict = {'fontsize' : 18})\n",
    "plt.ylabel('')\n",
    "plt.show()"
   ]
  },
  {
   "cell_type": "markdown",
   "metadata": {},
   "source": [
    "В целом по всем игрокам больше всего строят `spaceport` - 46.4%, за ним идет `assembly_shop` - 42.6% и замыкает тройку `research_center` - 11%."
   ]
  },
  {
   "cell_type": "markdown",
   "metadata": {},
   "source": [
    "Посмотрим на количество и тип построенных игроками зданий среди игроков завершивших уровень через реализацию проекта."
   ]
  },
  {
   "cell_type": "code",
   "execution_count": 33,
   "metadata": {},
   "outputs": [
    {
     "name": "stdout",
     "output_type": "stream",
     "text": [
      "Среднее количество построенных зданий на пользователя: 13.0\n"
     ]
    }
   ],
   "source": [
    "print('Среднее количество построенных зданий на пользователя:', (game_actions.query('event== \"building\" & user_id in @users')['event'].count()/game_actions.query('event== \"building\" & user_id in @users')['user_id'].nunique()).round())"
   ]
  },
  {
   "cell_type": "code",
   "execution_count": 34,
   "metadata": {},
   "outputs": [
    {
     "data": {
      "text/html": [
       "<div>\n",
       "<style scoped>\n",
       "    .dataframe tbody tr th:only-of-type {\n",
       "        vertical-align: middle;\n",
       "    }\n",
       "\n",
       "    .dataframe tbody tr th {\n",
       "        vertical-align: top;\n",
       "    }\n",
       "\n",
       "    .dataframe thead th {\n",
       "        text-align: right;\n",
       "    }\n",
       "</style>\n",
       "<table border=\"1\" class=\"dataframe\">\n",
       "  <thead>\n",
       "    <tr style=\"text-align: right;\">\n",
       "      <th></th>\n",
       "      <th>building_type</th>\n",
       "    </tr>\n",
       "  </thead>\n",
       "  <tbody>\n",
       "    <tr>\n",
       "      <th>spaceport</th>\n",
       "      <td>10788</td>\n",
       "    </tr>\n",
       "    <tr>\n",
       "      <th>assembly_shop</th>\n",
       "      <td>9116</td>\n",
       "    </tr>\n",
       "    <tr>\n",
       "      <th>research_center</th>\n",
       "      <td>3697</td>\n",
       "    </tr>\n",
       "  </tbody>\n",
       "</table>\n",
       "</div>"
      ],
      "text/plain": [
       "                 building_type\n",
       "spaceport                10788\n",
       "assembly_shop             9116\n",
       "research_center           3697"
      ]
     },
     "execution_count": 34,
     "metadata": {},
     "output_type": "execute_result"
    }
   ],
   "source": [
    "game_actions.query('event== \"building\" & user_id in @users')['building_type'].value_counts().to_frame()"
   ]
  },
  {
   "cell_type": "code",
   "execution_count": 35,
   "metadata": {},
   "outputs": [
    {
     "data": {
      "image/png": "[encoded data removed]",
      "text/plain": [
       "<Figure size 576x576 with 1 Axes>"
      ]
     },
     "metadata": {},
     "output_type": "display_data"
    }
   ],
   "source": [
    "game_actions.query('event== \"building\" & user_id in @users').groupby('building_type')['user_id'].count().plot(kind='pie', subplots=True, legend= False, autopct='%1.1f%%', figsize=(8, 8),  textprops={'fontsize': 14})\n",
    "plt.title('Тип построенных зданий игроков завершивших игру через проект', fontdict = {'fontsize' : 18})\n",
    "plt.ylabel('')\n",
    "plt.show()"
   ]
  },
  {
   "cell_type": "markdown",
   "metadata": {},
   "source": [
    "Среднее количество построенных зданий среди пользователей завершивших первый уровень через реализацию проекта - 13.\n",
    "\n",
    "Среди игроков завершивших первый уровень через реализацию проекта больше всего строят `spaceport` - 45.7%, за ним идет `assembly_shop` - 38.6% и замыкает тройку `research_center` - 15.7%."
   ]
  },
  {
   "cell_type": "markdown",
   "metadata": {},
   "source": [
    "Посмотрим на количество и тип построенных игроками зданий среди игроков завершивших уровень через победу над врагом."
   ]
  },
  {
   "cell_type": "code",
   "execution_count": 36,
   "metadata": {},
   "outputs": [
    {
     "name": "stdout",
     "output_type": "stream",
     "text": [
      "Среднее количество построенных зданий на пользователя: 9.0\n"
     ]
    }
   ],
   "source": [
    "print('Среднее количество построенных зданий на пользователя:', (game_actions.query('event== \"building\" & user_id not in @users')['event'].count()/game_actions.query('event== \"building\" & user_id not in @users')['user_id'].nunique()).round())"
   ]
  },
  {
   "cell_type": "code",
   "execution_count": 37,
   "metadata": {},
   "outputs": [
    {
     "data": {
      "text/html": [
       "<div>\n",
       "<style scoped>\n",
       "    .dataframe tbody tr th:only-of-type {\n",
       "        vertical-align: middle;\n",
       "    }\n",
       "\n",
       "    .dataframe tbody tr th {\n",
       "        vertical-align: top;\n",
       "    }\n",
       "\n",
       "    .dataframe thead th {\n",
       "        text-align: right;\n",
       "    }\n",
       "</style>\n",
       "<table border=\"1\" class=\"dataframe\">\n",
       "  <thead>\n",
       "    <tr style=\"text-align: right;\">\n",
       "      <th></th>\n",
       "      <th>building_type</th>\n",
       "    </tr>\n",
       "  </thead>\n",
       "  <tbody>\n",
       "    <tr>\n",
       "      <th>spaceport</th>\n",
       "      <td>48537</td>\n",
       "    </tr>\n",
       "    <tr>\n",
       "      <th>assembly_shop</th>\n",
       "      <td>45378</td>\n",
       "    </tr>\n",
       "    <tr>\n",
       "      <th>research_center</th>\n",
       "      <td>10440</td>\n",
       "    </tr>\n",
       "  </tbody>\n",
       "</table>\n",
       "</div>"
      ],
      "text/plain": [
       "                 building_type\n",
       "spaceport                48537\n",
       "assembly_shop            45378\n",
       "research_center          10440"
      ]
     },
     "execution_count": 37,
     "metadata": {},
     "output_type": "execute_result"
    }
   ],
   "source": [
    "game_actions.query('event== \"building\" & user_id not in @users')['building_type'].value_counts().to_frame()"
   ]
  },
  {
   "cell_type": "code",
   "execution_count": 38,
   "metadata": {},
   "outputs": [
    {
     "data": {
      "image/png": "[encoded data removed]",
      "text/plain": [
       "<Figure size 576x576 with 1 Axes>"
      ]
     },
     "metadata": {},
     "output_type": "display_data"
    }
   ],
   "source": [
    "game_actions.query('event== \"building\" & user_id  not in @users').groupby('building_type')['user_id'].count().plot(kind='pie', subplots=True, legend= False, autopct='%1.1f%%', figsize=(8, 8),  textprops={'fontsize': 14})\n",
    "plt.title('Тип построенных зданий игроков завершивших игру через победу над врагом', fontdict = {'fontsize' : 18})\n",
    "plt.ylabel('')\n",
    "plt.show()"
   ]
  },
  {
   "cell_type": "code",
   "execution_count": 39,
   "metadata": {},
   "outputs": [
    {
     "data": {
      "text/plain": [
       "9.0"
      ]
     },
     "execution_count": 39,
     "metadata": {},
     "output_type": "execute_result"
    }
   ],
   "source": [
    "(game_actions.query('event== \"building\" & user_id not in @users')['event'].count()/game_actions.query('event== \"building\" & user_id not in @users')['user_id'].nunique()).round()"
   ]
  },
  {
   "cell_type": "markdown",
   "metadata": {},
   "source": [
    "Среднее количество построенных зданий среди пользователей завершивших первый уровень через победу над врагом - 9.\n",
    "\n",
    "Среди игроков завершивших первый уровень через победу над врагом больше всего строят `spaceport` - 46.5%, за ним идет `assembly_shop` - 43.5% и замыкает тройку `research_center` - 10%."
   ]
  },
  {
   "cell_type": "markdown",
   "metadata": {},
   "source": [
    "Таким образом можно сказать, что распределение построенных зданий в целом не отличается среди пользователей. При этом пользователи прошедшие первый уровень через реализацию проекта строят в среднем больше зданий 13 против 9 для тех кто прошел победив врага."
   ]
  },
  {
   "cell_type": "markdown",
   "metadata": {},
   "source": [
    "## Проверка статистических гипотез"
   ]
  },
  {
   "cell_type": "markdown",
   "metadata": {},
   "source": [
    "### Гипотеза 1"
   ]
  },
  {
   "cell_type": "markdown",
   "metadata": {},
   "source": [
    "Проверим следующую гипотезу: \n",
    "\n",
    "H0: Время завершения уровня не различается в зависимости способа прохождения  \n",
    "H1: Время завершения уровня различается в зависимости способа прохождения\n",
    "\n",
    "Проверим гипотезу о равенстве среднего двух генеральных совокупностей по взятым из них выборкам . Порог `alpha` зададим на уровне 5% "
   ]
  },
  {
   "cell_type": "code",
   "execution_count": 40,
   "metadata": {},
   "outputs": [],
   "source": [
    "project = game_actions.query('event== \"finished_stage_1\" & user_id in @users')['user_id'].to_list()"
   ]
  },
  {
   "cell_type": "code",
   "execution_count": 41,
   "metadata": {},
   "outputs": [],
   "source": [
    "fight = game_actions.query('event== \"finished_stage_1\" & user_id not in @users')['user_id'].to_list()"
   ]
  },
  {
   "cell_type": "code",
   "execution_count": 42,
   "metadata": {
    "scrolled": true
   },
   "outputs": [
    {
     "data": {
      "text/html": [
       "<div>\n",
       "<style scoped>\n",
       "    .dataframe tbody tr th:only-of-type {\n",
       "        vertical-align: middle;\n",
       "    }\n",
       "\n",
       "    .dataframe tbody tr th {\n",
       "        vertical-align: top;\n",
       "    }\n",
       "\n",
       "    .dataframe thead th {\n",
       "        text-align: right;\n",
       "    }\n",
       "</style>\n",
       "<table border=\"1\" class=\"dataframe\">\n",
       "  <thead>\n",
       "    <tr style=\"text-align: right;\">\n",
       "      <th></th>\n",
       "      <th>min</th>\n",
       "      <th>max</th>\n",
       "      <th>time_to_finish</th>\n",
       "    </tr>\n",
       "    <tr>\n",
       "      <th>user_id</th>\n",
       "      <th></th>\n",
       "      <th></th>\n",
       "      <th></th>\n",
       "    </tr>\n",
       "  </thead>\n",
       "  <tbody>\n",
       "    <tr>\n",
       "      <th>006380d6-67a6-45de-ab1e-6eb54ad8dbe8</th>\n",
       "      <td>2020-05-04 16:43:39</td>\n",
       "      <td>2020-05-16 11:22:33</td>\n",
       "      <td>1017534.0</td>\n",
       "    </tr>\n",
       "    <tr>\n",
       "      <th>00be7371-fa79-4fbd-b8e7-8ba32e3f8f82</th>\n",
       "      <td>2020-05-08 21:57:44</td>\n",
       "      <td>2020-05-24 19:05:12</td>\n",
       "      <td>1372048.0</td>\n",
       "    </tr>\n",
       "    <tr>\n",
       "      <th>00c2b9f2-2615-439c-aed0-6974e4c6c1c1</th>\n",
       "      <td>2020-05-07 10:26:09</td>\n",
       "      <td>2020-05-27 11:38:47</td>\n",
       "      <td>1732358.0</td>\n",
       "    </tr>\n",
       "    <tr>\n",
       "      <th>00de2809-403e-4476-a2f7-ca1b11700190</th>\n",
       "      <td>2020-05-04 07:48:50</td>\n",
       "      <td>2020-05-18 09:34:10</td>\n",
       "      <td>1215920.0</td>\n",
       "    </tr>\n",
       "    <tr>\n",
       "      <th>00e83261-5fd4-4939-9616-802b5a0202c6</th>\n",
       "      <td>2020-05-05 15:49:57</td>\n",
       "      <td>2020-05-20 09:35:04</td>\n",
       "      <td>1273507.0</td>\n",
       "    </tr>\n",
       "  </tbody>\n",
       "</table>\n",
       "</div>"
      ],
      "text/plain": [
       "                                                     min                 max  \\\n",
       "user_id                                                                        \n",
       "006380d6-67a6-45de-ab1e-6eb54ad8dbe8 2020-05-04 16:43:39 2020-05-16 11:22:33   \n",
       "00be7371-fa79-4fbd-b8e7-8ba32e3f8f82 2020-05-08 21:57:44 2020-05-24 19:05:12   \n",
       "00c2b9f2-2615-439c-aed0-6974e4c6c1c1 2020-05-07 10:26:09 2020-05-27 11:38:47   \n",
       "00de2809-403e-4476-a2f7-ca1b11700190 2020-05-04 07:48:50 2020-05-18 09:34:10   \n",
       "00e83261-5fd4-4939-9616-802b5a0202c6 2020-05-05 15:49:57 2020-05-20 09:35:04   \n",
       "\n",
       "                                      time_to_finish  \n",
       "user_id                                               \n",
       "006380d6-67a6-45de-ab1e-6eb54ad8dbe8       1017534.0  \n",
       "00be7371-fa79-4fbd-b8e7-8ba32e3f8f82       1372048.0  \n",
       "00c2b9f2-2615-439c-aed0-6974e4c6c1c1       1732358.0  \n",
       "00de2809-403e-4476-a2f7-ca1b11700190       1215920.0  \n",
       "00e83261-5fd4-4939-9616-802b5a0202c6       1273507.0  "
      ]
     },
     "execution_count": 42,
     "metadata": {},
     "output_type": "execute_result"
    }
   ],
   "source": [
    "project_users_time = game_actions.query('user_id in @project').groupby('user_id')['event_datetime'].agg(['min', 'max'])\n",
    "project_users_time['time_to_finish'] = (project_users_time['max'] - project_users_time['min']).astype('timedelta64[s]')\n",
    "project_users_time.head(5)"
   ]
  },
  {
   "cell_type": "code",
   "execution_count": 43,
   "metadata": {
    "scrolled": true
   },
   "outputs": [
    {
     "data": {
      "text/html": [
       "<div>\n",
       "<style scoped>\n",
       "    .dataframe tbody tr th:only-of-type {\n",
       "        vertical-align: middle;\n",
       "    }\n",
       "\n",
       "    .dataframe tbody tr th {\n",
       "        vertical-align: top;\n",
       "    }\n",
       "\n",
       "    .dataframe thead th {\n",
       "        text-align: right;\n",
       "    }\n",
       "</style>\n",
       "<table border=\"1\" class=\"dataframe\">\n",
       "  <thead>\n",
       "    <tr style=\"text-align: right;\">\n",
       "      <th></th>\n",
       "      <th>min</th>\n",
       "      <th>max</th>\n",
       "      <th>time_to_finish</th>\n",
       "    </tr>\n",
       "    <tr>\n",
       "      <th>user_id</th>\n",
       "      <th></th>\n",
       "      <th></th>\n",
       "      <th></th>\n",
       "    </tr>\n",
       "  </thead>\n",
       "  <tbody>\n",
       "    <tr>\n",
       "      <th>001d39dc-366c-4021-9604-6a3b9ff01e25</th>\n",
       "      <td>2020-05-05 21:02:05</td>\n",
       "      <td>2020-05-12 07:40:47</td>\n",
       "      <td>556722.0</td>\n",
       "    </tr>\n",
       "    <tr>\n",
       "      <th>003ee7e8-6356-4286-a715-62f22a18d2a1</th>\n",
       "      <td>2020-05-05 08:31:04</td>\n",
       "      <td>2020-05-17 21:47:49</td>\n",
       "      <td>1084605.0</td>\n",
       "    </tr>\n",
       "    <tr>\n",
       "      <th>004074f8-251a-4776-922c-8348dca1a2f6</th>\n",
       "      <td>2020-05-04 01:07:35</td>\n",
       "      <td>2020-05-16 19:57:40</td>\n",
       "      <td>1104605.0</td>\n",
       "    </tr>\n",
       "    <tr>\n",
       "      <th>00464e5e-28ed-4be6-bf44-517ef7b3937b</th>\n",
       "      <td>2020-05-04 08:35:29</td>\n",
       "      <td>2020-05-15 16:02:01</td>\n",
       "      <td>977192.0</td>\n",
       "    </tr>\n",
       "    <tr>\n",
       "      <th>0056c007-c082-43cc-bdef-afc49bca4cb9</th>\n",
       "      <td>2020-05-10 11:49:47</td>\n",
       "      <td>2020-05-16 13:48:39</td>\n",
       "      <td>525532.0</td>\n",
       "    </tr>\n",
       "  </tbody>\n",
       "</table>\n",
       "</div>"
      ],
      "text/plain": [
       "                                                     min                 max  \\\n",
       "user_id                                                                        \n",
       "001d39dc-366c-4021-9604-6a3b9ff01e25 2020-05-05 21:02:05 2020-05-12 07:40:47   \n",
       "003ee7e8-6356-4286-a715-62f22a18d2a1 2020-05-05 08:31:04 2020-05-17 21:47:49   \n",
       "004074f8-251a-4776-922c-8348dca1a2f6 2020-05-04 01:07:35 2020-05-16 19:57:40   \n",
       "00464e5e-28ed-4be6-bf44-517ef7b3937b 2020-05-04 08:35:29 2020-05-15 16:02:01   \n",
       "0056c007-c082-43cc-bdef-afc49bca4cb9 2020-05-10 11:49:47 2020-05-16 13:48:39   \n",
       "\n",
       "                                      time_to_finish  \n",
       "user_id                                               \n",
       "001d39dc-366c-4021-9604-6a3b9ff01e25        556722.0  \n",
       "003ee7e8-6356-4286-a715-62f22a18d2a1       1084605.0  \n",
       "004074f8-251a-4776-922c-8348dca1a2f6       1104605.0  \n",
       "00464e5e-28ed-4be6-bf44-517ef7b3937b        977192.0  \n",
       "0056c007-c082-43cc-bdef-afc49bca4cb9        525532.0  "
      ]
     },
     "execution_count": 43,
     "metadata": {},
     "output_type": "execute_result"
    }
   ],
   "source": [
    "fight_users_time = game_actions.query('user_id in @fight').groupby('user_id')['event_datetime'].agg(['min', 'max'])\n",
    "fight_users_time['time_to_finish'] = (fight_users_time['max'] - fight_users_time['min']).astype('timedelta64[s]')\n",
    "fight_users_time.head(5)"
   ]
  },
  {
   "cell_type": "code",
   "execution_count": 44,
   "metadata": {},
   "outputs": [
    {
     "name": "stdout",
     "output_type": "stream",
     "text": [
      "p-value: 5.708058235069063e-107\n",
      "Отвергаем нулевую гипотезу. Среднее время прохождения уровня в зависимости от способа прохождения различаются.\n"
     ]
    }
   ],
   "source": [
    "alpha = .05 \n",
    "\n",
    "results = st.ttest_ind(fight_users_time['time_to_finish'], project_users_time['time_to_finish'], equal_var = False)\n",
    "\n",
    "print(f'p-value: {results.pvalue}')\n",
    "\n",
    "if results.pvalue < alpha:\n",
    "    print('Отвергаем нулевую гипотезу. Среднее время прохождения уровня в зависимости от способа прохождения различаются.')\n",
    "else:\n",
    "    print('Не получилось отвергнуть нулевую гипотезу. Среднее время прохождения уровня в зависимости от способа прохождения не различаются')"
   ]
  },
  {
   "cell_type": "markdown",
   "metadata": {},
   "source": [
    "### Гипотеза 2"
   ]
  },
  {
   "cell_type": "markdown",
   "metadata": {},
   "source": [
    "Проверим следующую гипотезу: \n",
    "\n",
    "H0: Количество построенных зданий не различается в зависимости способа прохождения  \n",
    "H1: Количество построенных зданий различается в зависимости способа прохождения\n",
    "\n",
    "Для проверки гипотез будем использовать непараметрический тест Уилкоксона-Манна-Уитни. Порог `alpha` зададим на уровне 5% "
   ]
  },
  {
   "cell_type": "code",
   "execution_count": 45,
   "metadata": {},
   "outputs": [],
   "source": [
    "fight_users_buildings = game_actions.query('user_id in @fight').groupby('user_id')['building_type'].count()\n",
    "project_users_buildings = game_actions.query('user_id in @project').groupby('user_id')['building_type'].count()"
   ]
  },
  {
   "cell_type": "code",
   "execution_count": 46,
   "metadata": {},
   "outputs": [
    {
     "name": "stdout",
     "output_type": "stream",
     "text": [
      "p-value: 5.211926275022306e-305\n",
      "Отвергаем нулевую гипотезу. Cреднее количество построенных зданий различается в зависимости способа прохождения.\n"
     ]
    }
   ],
   "source": [
    "alpha = .05\n",
    "pvalue = st.mannwhitneyu(fight_users_buildings, project_users_buildings)[1]\n",
    "\n",
    "print(f'p-value: {pvalue}')\n",
    "\n",
    "if pvalue < alpha: \n",
    "    print('Отвергаем нулевую гипотезу. Cреднее количество построенных зданий различается в зависимости способа прохождения.')\n",
    "else: \n",
    "    print('Не получилось отвергнуть нулевую гипотезу. Cреднее количество построенных зданий не различается в зависимости способа прохождения')"
   ]
  },
  {
   "cell_type": "markdown",
   "metadata": {},
   "source": [
    "## Вывод"
   ]
  },
  {
   "cell_type": "markdown",
   "metadata": {},
   "source": [
    "В ходе анализа рекламных источников для игры «Космические братья» было выявлено следующее:\n",
    "\n",
    "* Количество уникальных пользователей - 13576\n",
    "* Количество событий - 135639\n",
    "* Основные источники пользователей:\n",
    "\n",
    "    - Яндекс.Директ - 35.5%\n",
    "    - Instagram - 24.7%\n",
    "    - Facebook - 20.1%\n",
    "    - Youtube - 19.8%\n",
    "    \n",
    "* CAC по источникам:\n",
    "\n",
    "    - Facebook - 0.79 \n",
    "    - Instagram - 0.65\n",
    "    - Яндекс.Директ - 0.46\n",
    "    - Youtube - 0.40\n",
    "\n",
    "* каждый показ рекламы, должен приносить следующее, чтобы окупаться:\n",
    "\n",
    "    - Facebook - 0.08\n",
    "    - Instagram - 0.07\n",
    "    - Yandex.Direct - 0.05\n",
    "    - Youtube - 0.04\n",
    "\n",
    "* Меньше половины игроков (42.8%) завершили первый уровень\n",
    "* Большая часть прошедших первый уровень сделали это через победу над врагом - 67.9%\n",
    "* Больше всего игроков прошедших первый уровень пришли из Яндекс.Директ - 35.1%\n",
    "* Самое быстрое прохождение первого уровня игры было 09:39:01. Самое долгое - 30 дней и 21:58:53. В среднем игроки проходят первый уровень за 11 дней.\n",
    "* Игроки, прошедшие уровень через реализацию проекта строят больше зданий - 13. Те, кто проходит через победу над врагом - 9.\n",
    "* Больше всего игроки строят `spaceport` - 46.4%, за ним идет `assembly_shop` - 42.6% и замыкает тройку `research_center` - 11%.\n",
    "\n",
    "Также были проверены следующие гипотезы:\n",
    "\n",
    "1. Время завершения уровня зависит от способа прохождения. Отвергли нулевую гипотезу. Среднее время прохождения уровня в зависимости от способа прохождения различаются.\n",
    "\n",
    "2. Количество построенных зданий зависит от способа прохождения. Отвергли нулевую гипотезу. Cреднее количество построенных зданий различается в зависимости способа прохождения.\n",
    "\n",
    "\n",
    "Рекомендации:\n",
    "\n",
    "* Следует привлекать новых пользователей через самые выгодные каналы - Youtube и Яндекс.Директ. Точка окупаемости у них самая низкая. \n",
    "* Игроки чаще завершают уровень через победу над другим игроком, чем через реализацию проекта. При этом игроки, завершающие проект, строят в среднем больше зданий. При предполагаемой модели монетизации через показ рекламы на экране с выбором типа объекта для постройки, следует подумать о том, как заставить больше игроков завершать игру через проект. Например, можно давать  бонусы на следующем уровне при прохождении игры таким способом или давать очки рейтинга за количество построенных зданий."
   ]
  }
 ],
 "metadata": {
  "ExecuteTimeLog": [
   {
    "duration": 445,
    "start_time": "2023-05-21T09:23:29.074Z"
   },
   {
    "duration": 614,
    "start_time": "2023-05-21T09:23:31.472Z"
   },
   {
    "duration": 4,
    "start_time": "2023-05-21T09:23:33.229Z"
   },
   {
    "duration": 39,
    "start_time": "2023-05-21T09:23:34.875Z"
   },
   {
    "duration": 4,
    "start_time": "2023-05-21T09:24:41.490Z"
   },
   {
    "duration": 28,
    "start_time": "2023-05-21T09:24:42.272Z"
   },
   {
    "duration": 309,
    "start_time": "2023-05-21T09:24:56.733Z"
   },
   {
    "duration": 4,
    "start_time": "2023-05-21T09:25:32.516Z"
   },
   {
    "duration": 28,
    "start_time": "2023-05-21T09:25:33.216Z"
   },
   {
    "duration": 253,
    "start_time": "2023-05-21T09:25:37.568Z"
   },
   {
    "duration": 38,
    "start_time": "2023-05-21T09:25:48.164Z"
   },
   {
    "duration": 36,
    "start_time": "2023-05-21T09:42:05.565Z"
   },
   {
    "duration": 5,
    "start_time": "2023-05-21T09:42:12.790Z"
   },
   {
    "duration": 7,
    "start_time": "2023-05-21T09:43:34.687Z"
   },
   {
    "duration": 5,
    "start_time": "2023-05-21T09:43:38.569Z"
   },
   {
    "duration": 432,
    "start_time": "2023-05-24T10:30:30.470Z"
   },
   {
    "duration": 674,
    "start_time": "2023-05-24T10:30:31.369Z"
   },
   {
    "duration": 3,
    "start_time": "2023-05-24T10:30:33.357Z"
   },
   {
    "duration": 37,
    "start_time": "2023-05-24T10:54:56.663Z"
   },
   {
    "duration": 319,
    "start_time": "2023-05-24T10:55:18.548Z"
   },
   {
    "duration": 37,
    "start_time": "2023-05-24T10:55:20.652Z"
   },
   {
    "duration": 38,
    "start_time": "2023-05-24T10:55:25.248Z"
   },
   {
    "duration": 6,
    "start_time": "2023-05-24T10:55:27.232Z"
   },
   {
    "duration": 65,
    "start_time": "2023-05-24T11:00:54.462Z"
   },
   {
    "duration": 5,
    "start_time": "2023-05-24T11:00:58.662Z"
   },
   {
    "duration": 56,
    "start_time": "2023-05-24T11:01:05.595Z"
   },
   {
    "duration": 10,
    "start_time": "2023-05-24T11:01:06.560Z"
   },
   {
    "duration": 67,
    "start_time": "2023-05-24T11:01:07.665Z"
   },
   {
    "duration": 57,
    "start_time": "2023-05-24T11:01:16.273Z"
   },
   {
    "duration": 4,
    "start_time": "2023-05-24T11:02:19.368Z"
   },
   {
    "duration": 31,
    "start_time": "2023-05-24T11:02:20.568Z"
   },
   {
    "duration": 215,
    "start_time": "2023-05-24T11:02:24.152Z"
   },
   {
    "duration": 41,
    "start_time": "2023-05-24T11:02:37.360Z"
   },
   {
    "duration": 9,
    "start_time": "2023-05-24T11:32:10.412Z"
   },
   {
    "duration": 15,
    "start_time": "2023-05-24T11:32:16.072Z"
   },
   {
    "duration": 9,
    "start_time": "2023-05-24T11:32:21.602Z"
   },
   {
    "duration": 17,
    "start_time": "2023-05-24T11:32:36.688Z"
   },
   {
    "duration": 225,
    "start_time": "2023-05-24T11:32:41.218Z"
   },
   {
    "duration": 26,
    "start_time": "2023-05-24T11:32:51.348Z"
   },
   {
    "duration": 11,
    "start_time": "2023-05-24T11:33:13.387Z"
   },
   {
    "duration": 9,
    "start_time": "2023-05-24T11:36:04.800Z"
   },
   {
    "duration": 12,
    "start_time": "2023-05-24T11:36:35.982Z"
   },
   {
    "duration": 10,
    "start_time": "2023-05-24T11:38:12.504Z"
   },
   {
    "duration": 5,
    "start_time": "2023-05-24T11:38:36.461Z"
   },
   {
    "duration": 4,
    "start_time": "2023-05-24T11:38:47.845Z"
   },
   {
    "duration": 8,
    "start_time": "2023-05-24T11:38:56.209Z"
   },
   {
    "duration": 16,
    "start_time": "2023-05-24T11:39:04.363Z"
   },
   {
    "duration": 8,
    "start_time": "2023-05-24T11:39:36.815Z"
   },
   {
    "duration": 14,
    "start_time": "2023-05-24T11:39:46.660Z"
   },
   {
    "duration": 11,
    "start_time": "2023-05-24T11:40:21.165Z"
   },
   {
    "duration": 12,
    "start_time": "2023-05-24T11:40:27.164Z"
   },
   {
    "duration": 17,
    "start_time": "2023-05-24T11:42:31.296Z"
   },
   {
    "duration": 13,
    "start_time": "2023-05-24T11:42:41.653Z"
   },
   {
    "duration": 10,
    "start_time": "2023-05-24T11:42:47.885Z"
   },
   {
    "duration": 405,
    "start_time": "2023-05-25T18:08:44.867Z"
   },
   {
    "duration": 975,
    "start_time": "2023-05-25T18:08:45.797Z"
   },
   {
    "duration": 4,
    "start_time": "2023-05-25T18:08:47.578Z"
   },
   {
    "duration": 49,
    "start_time": "2023-05-25T18:08:48.802Z"
   },
   {
    "duration": 401,
    "start_time": "2023-05-25T18:08:50.776Z"
   },
   {
    "duration": 53,
    "start_time": "2023-05-25T18:08:53.016Z"
   },
   {
    "duration": 43,
    "start_time": "2023-05-25T18:08:55.614Z"
   },
   {
    "duration": 68,
    "start_time": "2023-05-25T18:08:56.144Z"
   },
   {
    "duration": 6,
    "start_time": "2023-05-25T18:08:59.062Z"
   },
   {
    "duration": 39,
    "start_time": "2023-05-25T18:09:03.116Z"
   },
   {
    "duration": 9,
    "start_time": "2023-05-25T18:09:04.357Z"
   },
   {
    "duration": 13,
    "start_time": "2023-05-25T18:09:06.578Z"
   },
   {
    "duration": 14,
    "start_time": "2023-05-25T18:37:35.824Z"
   },
   {
    "duration": 68,
    "start_time": "2023-05-25T18:37:41.512Z"
   },
   {
    "duration": 10,
    "start_time": "2023-05-25T18:37:44.067Z"
   },
   {
    "duration": 7,
    "start_time": "2023-05-25T18:38:15.238Z"
   },
   {
    "duration": 12,
    "start_time": "2023-05-25T18:38:28.846Z"
   },
   {
    "duration": 6,
    "start_time": "2023-05-25T18:41:13.376Z"
   },
   {
    "duration": 1163,
    "start_time": "2023-05-25T18:54:30.884Z"
   },
   {
    "duration": 11,
    "start_time": "2023-05-25T18:54:58.864Z"
   },
   {
    "duration": 15,
    "start_time": "2023-05-25T18:55:12.442Z"
   },
   {
    "duration": 14,
    "start_time": "2023-05-25T19:15:11.294Z"
   },
   {
    "duration": 14,
    "start_time": "2023-05-25T19:15:25.693Z"
   },
   {
    "duration": 16,
    "start_time": "2023-05-25T19:15:32.523Z"
   },
   {
    "duration": 597,
    "start_time": "2023-05-25T19:17:51.179Z"
   },
   {
    "duration": 3,
    "start_time": "2023-05-25T19:18:14.818Z"
   },
   {
    "duration": 98,
    "start_time": "2023-05-25T19:18:16.119Z"
   },
   {
    "duration": 112,
    "start_time": "2023-05-25T19:18:58.085Z"
   },
   {
    "duration": 104,
    "start_time": "2023-05-25T19:19:04.991Z"
   },
   {
    "duration": 159,
    "start_time": "2023-05-25T19:19:10.753Z"
   },
   {
    "duration": 96,
    "start_time": "2023-05-25T19:19:21.184Z"
   },
   {
    "duration": 104,
    "start_time": "2023-05-25T19:19:42.782Z"
   },
   {
    "duration": 120,
    "start_time": "2023-05-25T19:19:56.018Z"
   },
   {
    "duration": 99,
    "start_time": "2023-05-25T19:20:01.408Z"
   },
   {
    "duration": 746,
    "start_time": "2023-05-26T07:36:57.552Z"
   },
   {
    "duration": 759,
    "start_time": "2023-05-26T07:36:58.864Z"
   },
   {
    "duration": 3,
    "start_time": "2023-05-26T07:37:01.136Z"
   },
   {
    "duration": 34,
    "start_time": "2023-05-26T07:37:02.340Z"
   },
   {
    "duration": 331,
    "start_time": "2023-05-26T07:37:04.576Z"
   },
   {
    "duration": 42,
    "start_time": "2023-05-26T07:37:06.621Z"
   },
   {
    "duration": 71,
    "start_time": "2023-05-26T08:02:16.671Z"
   },
   {
    "duration": 74,
    "start_time": "2023-05-26T08:02:17.829Z"
   },
   {
    "duration": 69,
    "start_time": "2023-05-26T08:02:18.450Z"
   },
   {
    "duration": 3,
    "start_time": "2023-05-26T08:03:58.049Z"
   },
   {
    "duration": 275,
    "start_time": "2023-05-26T08:03:58.708Z"
   },
   {
    "duration": 35,
    "start_time": "2023-05-26T08:04:03.832Z"
   },
   {
    "duration": 55,
    "start_time": "2023-05-26T08:04:13.110Z"
   },
   {
    "duration": 71,
    "start_time": "2023-05-26T08:04:24.279Z"
   },
   {
    "duration": 57,
    "start_time": "2023-05-26T08:04:27.963Z"
   },
   {
    "duration": 74,
    "start_time": "2023-05-26T08:04:40.476Z"
   },
   {
    "duration": 50,
    "start_time": "2023-05-26T08:04:41.700Z"
   },
   {
    "duration": 69,
    "start_time": "2023-05-26T08:05:06.225Z"
   },
   {
    "duration": 60,
    "start_time": "2023-05-26T08:05:08.077Z"
   },
   {
    "duration": 61,
    "start_time": "2023-05-26T08:05:17.740Z"
   },
   {
    "duration": 48,
    "start_time": "2023-05-26T08:05:18.507Z"
   },
   {
    "duration": 45,
    "start_time": "2023-05-26T08:05:19.106Z"
   },
   {
    "duration": 8,
    "start_time": "2023-05-26T08:07:51.971Z"
   },
   {
    "duration": 14,
    "start_time": "2023-05-26T08:08:10.638Z"
   },
   {
    "duration": 16,
    "start_time": "2023-05-26T08:08:24.347Z"
   },
   {
    "duration": 11,
    "start_time": "2023-05-26T08:08:33.349Z"
   },
   {
    "duration": 10,
    "start_time": "2023-05-26T08:08:39.253Z"
   },
   {
    "duration": 10,
    "start_time": "2023-05-26T08:08:49.862Z"
   },
   {
    "duration": 8,
    "start_time": "2023-05-26T08:09:26.017Z"
   },
   {
    "duration": 4,
    "start_time": "2023-05-26T08:09:35.350Z"
   },
   {
    "duration": 5,
    "start_time": "2023-05-26T08:13:25.459Z"
   },
   {
    "duration": 48,
    "start_time": "2023-05-26T08:16:37.111Z"
   },
   {
    "duration": 28,
    "start_time": "2023-05-26T08:16:45.774Z"
   },
   {
    "duration": 31,
    "start_time": "2023-05-26T08:17:43.399Z"
   },
   {
    "duration": 101,
    "start_time": "2023-05-26T08:24:24.412Z"
   },
   {
    "duration": 84,
    "start_time": "2023-05-26T08:24:46.797Z"
   },
   {
    "duration": 158,
    "start_time": "2023-05-26T08:42:19.840Z"
   },
   {
    "duration": 85,
    "start_time": "2023-05-26T08:42:53.052Z"
   },
   {
    "duration": 11,
    "start_time": "2023-05-26T08:43:22.582Z"
   },
   {
    "duration": 192,
    "start_time": "2023-05-26T08:43:36.200Z"
   },
   {
    "duration": 8,
    "start_time": "2023-05-26T08:44:46.423Z"
   },
   {
    "duration": 8,
    "start_time": "2023-05-26T08:44:53.761Z"
   },
   {
    "duration": 97,
    "start_time": "2023-05-26T08:45:30.095Z"
   },
   {
    "duration": 91,
    "start_time": "2023-05-26T08:45:55.648Z"
   },
   {
    "duration": 108,
    "start_time": "2023-05-26T08:46:58.610Z"
   },
   {
    "duration": 918,
    "start_time": "2023-05-26T08:47:14.054Z"
   },
   {
    "duration": 9,
    "start_time": "2023-05-26T08:48:18.526Z"
   },
   {
    "duration": 77,
    "start_time": "2023-05-26T08:48:39.359Z"
   },
   {
    "duration": 13,
    "start_time": "2023-05-26T08:49:03.006Z"
   },
   {
    "duration": 86,
    "start_time": "2023-05-26T08:49:14.228Z"
   },
   {
    "duration": 91,
    "start_time": "2023-05-26T08:50:12.922Z"
   },
   {
    "duration": 88,
    "start_time": "2023-05-26T08:51:39.636Z"
   },
   {
    "duration": 107,
    "start_time": "2023-05-26T08:51:50.729Z"
   },
   {
    "duration": 124,
    "start_time": "2023-05-26T08:52:23.077Z"
   },
   {
    "duration": 133,
    "start_time": "2023-05-26T08:52:35.513Z"
   },
   {
    "duration": 196,
    "start_time": "2023-05-26T08:53:01.515Z"
   },
   {
    "duration": 147,
    "start_time": "2023-05-26T08:54:26.145Z"
   },
   {
    "duration": 106,
    "start_time": "2023-05-26T08:54:47.410Z"
   },
   {
    "duration": 429,
    "start_time": "2023-05-26T08:55:22.987Z"
   },
   {
    "duration": 107,
    "start_time": "2023-05-26T08:55:28.645Z"
   },
   {
    "duration": 8,
    "start_time": "2023-05-26T08:56:53.768Z"
   },
   {
    "duration": 10,
    "start_time": "2023-05-26T08:57:18.701Z"
   },
   {
    "duration": 14,
    "start_time": "2023-05-26T09:00:36.592Z"
   },
   {
    "duration": 16,
    "start_time": "2023-05-26T09:08:08.249Z"
   },
   {
    "duration": 34,
    "start_time": "2023-05-26T09:08:19.361Z"
   },
   {
    "duration": 11,
    "start_time": "2023-05-26T09:08:43.004Z"
   },
   {
    "duration": 31,
    "start_time": "2023-05-26T09:08:50.957Z"
   },
   {
    "duration": 46,
    "start_time": "2023-05-26T09:10:01.716Z"
   },
   {
    "duration": 15,
    "start_time": "2023-05-26T09:12:05.420Z"
   },
   {
    "duration": 13,
    "start_time": "2023-05-26T09:13:09.963Z"
   },
   {
    "duration": 68,
    "start_time": "2023-05-26T09:13:48.763Z"
   },
   {
    "duration": 306,
    "start_time": "2023-05-26T09:13:52.890Z"
   },
   {
    "duration": 76,
    "start_time": "2023-05-26T09:13:59.412Z"
   },
   {
    "duration": 138,
    "start_time": "2023-05-26T09:14:17.004Z"
   },
   {
    "duration": 81,
    "start_time": "2023-05-26T09:14:26.945Z"
   },
   {
    "duration": 55,
    "start_time": "2023-05-26T09:14:32.490Z"
   },
   {
    "duration": 72,
    "start_time": "2023-05-26T09:14:41.087Z"
   },
   {
    "duration": 51,
    "start_time": "2023-05-26T09:14:44.976Z"
   },
   {
    "duration": 56,
    "start_time": "2023-05-26T09:14:51.419Z"
   },
   {
    "duration": 100,
    "start_time": "2023-05-26T09:14:54.409Z"
   },
   {
    "duration": 14,
    "start_time": "2023-05-26T09:15:08.677Z"
   },
   {
    "duration": 14,
    "start_time": "2023-05-26T09:15:14.294Z"
   },
   {
    "duration": 19,
    "start_time": "2023-05-26T09:15:17.068Z"
   },
   {
    "duration": 33,
    "start_time": "2023-05-26T09:15:42.207Z"
   },
   {
    "duration": 33,
    "start_time": "2023-05-26T09:18:00.310Z"
   },
   {
    "duration": 30,
    "start_time": "2023-05-26T09:18:11.138Z"
   },
   {
    "duration": 33,
    "start_time": "2023-05-26T09:18:50.263Z"
   },
   {
    "duration": 31,
    "start_time": "2023-05-26T09:18:57.673Z"
   },
   {
    "duration": 34,
    "start_time": "2023-05-26T09:19:03.060Z"
   },
   {
    "duration": 110,
    "start_time": "2023-05-26T09:19:08.846Z"
   },
   {
    "duration": 10,
    "start_time": "2023-05-26T09:20:02.831Z"
   },
   {
    "duration": 39,
    "start_time": "2023-05-26T09:20:34.504Z"
   },
   {
    "duration": 32,
    "start_time": "2023-05-26T09:20:54.283Z"
   },
   {
    "duration": 33,
    "start_time": "2023-05-26T09:21:23.831Z"
   },
   {
    "duration": 14,
    "start_time": "2023-05-26T09:21:55.853Z"
   },
   {
    "duration": 10,
    "start_time": "2023-05-26T09:25:08.497Z"
   },
   {
    "duration": 19,
    "start_time": "2023-05-26T09:25:36.851Z"
   },
   {
    "duration": 12,
    "start_time": "2023-05-26T09:25:57.612Z"
   },
   {
    "duration": 18,
    "start_time": "2023-05-26T09:26:09.126Z"
   },
   {
    "duration": 27,
    "start_time": "2023-05-26T09:26:13.501Z"
   },
   {
    "duration": 9,
    "start_time": "2023-05-26T09:28:40.409Z"
   },
   {
    "duration": 12,
    "start_time": "2023-05-26T09:28:55.250Z"
   },
   {
    "duration": 5,
    "start_time": "2023-05-26T09:29:11.113Z"
   },
   {
    "duration": 6,
    "start_time": "2023-05-26T09:29:16.879Z"
   },
   {
    "duration": 4,
    "start_time": "2023-05-26T09:29:29.745Z"
   },
   {
    "duration": 3,
    "start_time": "2023-05-26T09:29:33.704Z"
   },
   {
    "duration": 23,
    "start_time": "2023-05-26T09:32:14.050Z"
   },
   {
    "duration": 12,
    "start_time": "2023-05-26T09:32:34.762Z"
   },
   {
    "duration": 12,
    "start_time": "2023-05-26T09:32:58.579Z"
   },
   {
    "duration": 22,
    "start_time": "2023-05-26T09:33:44.017Z"
   },
   {
    "duration": 18,
    "start_time": "2023-05-26T09:33:56.258Z"
   },
   {
    "duration": 49,
    "start_time": "2023-05-26T09:34:15.396Z"
   },
   {
    "duration": 35,
    "start_time": "2023-05-26T09:34:24.900Z"
   },
   {
    "duration": 34,
    "start_time": "2023-05-26T09:34:41.396Z"
   },
   {
    "duration": 5,
    "start_time": "2023-05-26T09:37:38.650Z"
   },
   {
    "duration": 3,
    "start_time": "2023-05-26T09:37:50.113Z"
   },
   {
    "duration": 44,
    "start_time": "2023-05-26T09:38:15.108Z"
   },
   {
    "duration": 20,
    "start_time": "2023-05-26T09:39:04.859Z"
   },
   {
    "duration": 7,
    "start_time": "2023-05-26T09:46:31.442Z"
   },
   {
    "duration": 14,
    "start_time": "2023-05-26T09:51:44.961Z"
   },
   {
    "duration": 24,
    "start_time": "2023-05-26T09:52:56.495Z"
   },
   {
    "duration": 7,
    "start_time": "2023-05-26T09:53:25.691Z"
   },
   {
    "duration": 9,
    "start_time": "2023-05-26T09:53:36.089Z"
   },
   {
    "duration": 13,
    "start_time": "2023-05-26T09:53:48.692Z"
   },
   {
    "duration": 19,
    "start_time": "2023-05-26T09:56:42.409Z"
   },
   {
    "duration": 10,
    "start_time": "2023-05-26T09:57:21.621Z"
   },
   {
    "duration": 11,
    "start_time": "2023-05-26T09:57:42.689Z"
   },
   {
    "duration": 16,
    "start_time": "2023-05-26T09:57:48.644Z"
   },
   {
    "duration": 114,
    "start_time": "2023-05-26T09:58:17.318Z"
   },
   {
    "duration": 45,
    "start_time": "2023-05-26T09:58:22.938Z"
   },
   {
    "duration": 61,
    "start_time": "2023-05-26T09:58:27.102Z"
   },
   {
    "duration": 46,
    "start_time": "2023-05-26T09:58:30.398Z"
   },
   {
    "duration": 24,
    "start_time": "2023-05-26T09:58:51.097Z"
   },
   {
    "duration": 51,
    "start_time": "2023-05-26T09:59:03.254Z"
   },
   {
    "duration": 12,
    "start_time": "2023-05-26T09:59:15.271Z"
   },
   {
    "duration": 47,
    "start_time": "2023-05-26T09:59:27.355Z"
   },
   {
    "duration": 4,
    "start_time": "2023-05-26T10:00:31.994Z"
   },
   {
    "duration": 7,
    "start_time": "2023-05-26T10:00:59.958Z"
   },
   {
    "duration": 3,
    "start_time": "2023-05-26T10:01:45.335Z"
   },
   {
    "duration": 82,
    "start_time": "2023-05-26T10:01:55.117Z"
   },
   {
    "duration": 85,
    "start_time": "2023-05-26T10:02:33.576Z"
   },
   {
    "duration": 783,
    "start_time": "2023-05-26T12:16:47.728Z"
   },
   {
    "duration": 878,
    "start_time": "2023-05-26T12:16:49.174Z"
   },
   {
    "duration": 4,
    "start_time": "2023-05-26T12:16:51.984Z"
   },
   {
    "duration": 38,
    "start_time": "2023-05-26T12:16:55.228Z"
   },
   {
    "duration": 38,
    "start_time": "2023-05-26T12:17:11.972Z"
   },
   {
    "duration": 57,
    "start_time": "2023-05-26T12:17:12.685Z"
   },
   {
    "duration": 66,
    "start_time": "2023-05-26T12:17:13.633Z"
   },
   {
    "duration": 60,
    "start_time": "2023-05-26T12:17:14.039Z"
   },
   {
    "duration": 5,
    "start_time": "2023-05-26T12:17:15.998Z"
   },
   {
    "duration": 12,
    "start_time": "2023-05-26T12:17:20.331Z"
   },
   {
    "duration": 31,
    "start_time": "2023-05-26T12:17:24.432Z"
   },
   {
    "duration": 12,
    "start_time": "2023-05-26T12:17:26.031Z"
   },
   {
    "duration": 148,
    "start_time": "2023-05-26T12:17:27.239Z"
   },
   {
    "duration": 17,
    "start_time": "2023-05-26T12:31:20.975Z"
   },
   {
    "duration": 16,
    "start_time": "2023-05-26T12:31:22.236Z"
   },
   {
    "duration": 31,
    "start_time": "2023-05-26T12:31:46.430Z"
   },
   {
    "duration": 16,
    "start_time": "2023-05-26T12:31:47.518Z"
   },
   {
    "duration": 21,
    "start_time": "2023-05-26T12:31:48.929Z"
   },
   {
    "duration": 11,
    "start_time": "2023-05-26T12:31:49.688Z"
   },
   {
    "duration": 3,
    "start_time": "2023-05-26T12:31:56.142Z"
   },
   {
    "duration": 84,
    "start_time": "2023-05-26T12:32:01.465Z"
   },
   {
    "duration": 92,
    "start_time": "2023-05-26T12:32:08.145Z"
   },
   {
    "duration": 36,
    "start_time": "2023-05-26T12:32:19.786Z"
   },
   {
    "duration": 92,
    "start_time": "2023-05-26T12:32:28.830Z"
   },
   {
    "duration": 3,
    "start_time": "2023-05-26T12:32:39.915Z"
   },
   {
    "duration": 93,
    "start_time": "2023-05-26T12:33:23.923Z"
   },
   {
    "duration": 20,
    "start_time": "2023-05-26T12:34:07.679Z"
   },
   {
    "duration": 35,
    "start_time": "2023-05-26T12:34:12.031Z"
   },
   {
    "duration": 15,
    "start_time": "2023-05-26T12:38:31.780Z"
   },
   {
    "duration": 20,
    "start_time": "2023-05-26T12:38:42.882Z"
   },
   {
    "duration": 18,
    "start_time": "2023-05-26T12:39:37.328Z"
   },
   {
    "duration": 117,
    "start_time": "2023-05-26T12:39:50.987Z"
   },
   {
    "duration": 16,
    "start_time": "2023-05-26T12:43:31.239Z"
   },
   {
    "duration": 127,
    "start_time": "2023-05-26T12:43:51.532Z"
   },
   {
    "duration": 105,
    "start_time": "2023-05-26T12:46:40.189Z"
   },
   {
    "duration": 18,
    "start_time": "2023-05-26T12:47:45.148Z"
   },
   {
    "duration": 23,
    "start_time": "2023-05-26T12:47:58.212Z"
   },
   {
    "duration": 19,
    "start_time": "2023-05-26T12:52:55.865Z"
   },
   {
    "duration": 28,
    "start_time": "2023-05-26T13:26:46.022Z"
   },
   {
    "duration": 19,
    "start_time": "2023-05-26T13:28:48.090Z"
   },
   {
    "duration": 26,
    "start_time": "2023-05-26T13:29:12.314Z"
   },
   {
    "duration": 21,
    "start_time": "2023-05-26T13:29:25.010Z"
   },
   {
    "duration": 21,
    "start_time": "2023-05-26T13:29:41.059Z"
   },
   {
    "duration": 17,
    "start_time": "2023-05-26T13:30:20.171Z"
   },
   {
    "duration": 8,
    "start_time": "2023-05-26T13:34:04.878Z"
   },
   {
    "duration": 9,
    "start_time": "2023-05-26T13:34:10.337Z"
   },
   {
    "duration": 171,
    "start_time": "2023-05-26T13:34:51.521Z"
   },
   {
    "duration": 21,
    "start_time": "2023-05-26T13:35:49.294Z"
   },
   {
    "duration": 23,
    "start_time": "2023-05-26T13:37:43.938Z"
   },
   {
    "duration": 27,
    "start_time": "2023-05-26T13:38:14.562Z"
   },
   {
    "duration": 33,
    "start_time": "2023-05-26T13:38:51.967Z"
   },
   {
    "duration": 27,
    "start_time": "2023-05-26T13:39:31.756Z"
   },
   {
    "duration": 31,
    "start_time": "2023-05-26T13:39:45.320Z"
   },
   {
    "duration": 25,
    "start_time": "2023-05-26T13:40:21.584Z"
   },
   {
    "duration": 118,
    "start_time": "2023-05-26T13:41:18.795Z"
   },
   {
    "duration": 109,
    "start_time": "2023-05-26T13:43:46.254Z"
   },
   {
    "duration": 151,
    "start_time": "2023-05-26T13:47:04.408Z"
   },
   {
    "duration": 14,
    "start_time": "2023-05-26T13:47:45.809Z"
   },
   {
    "duration": 16,
    "start_time": "2023-05-26T13:48:05.494Z"
   },
   {
    "duration": 14,
    "start_time": "2023-05-26T13:48:21.792Z"
   },
   {
    "duration": 78,
    "start_time": "2023-05-26T14:05:54.207Z"
   },
   {
    "duration": 6,
    "start_time": "2023-05-26T14:06:03.473Z"
   },
   {
    "duration": 137,
    "start_time": "2023-05-26T14:06:16.325Z"
   },
   {
    "duration": 84,
    "start_time": "2023-05-26T14:06:29.093Z"
   },
   {
    "duration": 6,
    "start_time": "2023-05-26T14:07:01.473Z"
   },
   {
    "duration": 4,
    "start_time": "2023-05-26T14:07:32.191Z"
   },
   {
    "duration": 17,
    "start_time": "2023-05-26T14:09:26.409Z"
   },
   {
    "duration": 47,
    "start_time": "2023-05-26T14:10:38.548Z"
   },
   {
    "duration": 54,
    "start_time": "2023-05-26T14:11:47.698Z"
   },
   {
    "duration": 42,
    "start_time": "2023-05-26T14:13:30.387Z"
   },
   {
    "duration": 7,
    "start_time": "2023-05-26T14:13:35.779Z"
   },
   {
    "duration": 74,
    "start_time": "2023-05-26T14:13:47.603Z"
   },
   {
    "duration": 88,
    "start_time": "2023-05-26T14:14:40.494Z"
   },
   {
    "duration": 81,
    "start_time": "2023-05-26T14:14:57.487Z"
   },
   {
    "duration": 42,
    "start_time": "2023-05-26T14:17:22.173Z"
   },
   {
    "duration": 34,
    "start_time": "2023-05-26T14:17:23.469Z"
   },
   {
    "duration": 102,
    "start_time": "2023-05-26T14:18:46.456Z"
   },
   {
    "duration": 148,
    "start_time": "2023-05-26T14:19:58.303Z"
   },
   {
    "duration": 194,
    "start_time": "2023-05-26T14:20:22.466Z"
   },
   {
    "duration": 44,
    "start_time": "2023-05-26T14:21:56.956Z"
   },
   {
    "duration": 147,
    "start_time": "2023-05-26T14:21:57.592Z"
   },
   {
    "duration": 14,
    "start_time": "2023-05-26T14:24:55.266Z"
   },
   {
    "duration": 128,
    "start_time": "2023-05-26T14:25:47.053Z"
   },
   {
    "duration": 21,
    "start_time": "2023-05-26T14:27:13.154Z"
   },
   {
    "duration": 23,
    "start_time": "2023-05-26T14:27:19.267Z"
   },
   {
    "duration": 7,
    "start_time": "2023-05-26T14:27:38.147Z"
   },
   {
    "duration": 6,
    "start_time": "2023-05-26T14:27:43.547Z"
   },
   {
    "duration": 20,
    "start_time": "2023-05-26T14:28:13.147Z"
   },
   {
    "duration": 124,
    "start_time": "2023-05-26T14:29:30.171Z"
   },
   {
    "duration": 7,
    "start_time": "2023-05-26T14:32:22.686Z"
   },
   {
    "duration": 32,
    "start_time": "2023-05-26T14:32:28.547Z"
   },
   {
    "duration": 127,
    "start_time": "2023-05-26T14:33:25.686Z"
   },
   {
    "duration": 12,
    "start_time": "2023-05-26T14:34:19.397Z"
   },
   {
    "duration": 129,
    "start_time": "2023-05-26T14:39:15.845Z"
   },
   {
    "duration": 90,
    "start_time": "2023-05-26T14:39:38.148Z"
   },
   {
    "duration": 69,
    "start_time": "2023-05-26T14:40:12.905Z"
   },
   {
    "duration": 111,
    "start_time": "2023-05-26T14:40:43.798Z"
   },
   {
    "duration": 103,
    "start_time": "2023-05-26T14:41:44.484Z"
   },
   {
    "duration": 15,
    "start_time": "2023-05-26T14:42:09.454Z"
   },
   {
    "duration": 108,
    "start_time": "2023-05-26T14:43:26.146Z"
   },
   {
    "duration": 115,
    "start_time": "2023-05-26T14:44:15.617Z"
   },
   {
    "duration": 25,
    "start_time": "2023-05-26T14:47:42.302Z"
   },
   {
    "duration": 20,
    "start_time": "2023-05-26T14:47:58.571Z"
   },
   {
    "duration": 126,
    "start_time": "2023-05-26T14:49:23.582Z"
   },
   {
    "duration": 197,
    "start_time": "2023-05-26T14:50:00.812Z"
   },
   {
    "duration": 24,
    "start_time": "2023-05-26T14:50:32.501Z"
   },
   {
    "duration": 29,
    "start_time": "2023-05-26T14:51:28.800Z"
   },
   {
    "duration": 52,
    "start_time": "2023-05-26T14:54:06.441Z"
   },
   {
    "duration": 55,
    "start_time": "2023-05-26T14:54:24.771Z"
   },
   {
    "duration": 315,
    "start_time": "2023-05-26T15:08:38.887Z"
   },
   {
    "duration": 183,
    "start_time": "2023-05-26T15:08:55.245Z"
   },
   {
    "duration": 331,
    "start_time": "2023-05-26T15:10:10.440Z"
   },
   {
    "duration": 204,
    "start_time": "2023-05-26T15:10:14.813Z"
   },
   {
    "duration": 174,
    "start_time": "2023-05-26T15:10:21.949Z"
   },
   {
    "duration": 169,
    "start_time": "2023-05-26T15:10:36.353Z"
   },
   {
    "duration": 179,
    "start_time": "2023-05-26T15:10:45.642Z"
   },
   {
    "duration": 24,
    "start_time": "2023-05-26T15:13:39.716Z"
   },
   {
    "duration": 171,
    "start_time": "2023-05-26T15:13:48.458Z"
   },
   {
    "duration": 144,
    "start_time": "2023-05-26T15:16:38.812Z"
   },
   {
    "duration": 211,
    "start_time": "2023-05-26T15:16:47.068Z"
   },
   {
    "duration": 198,
    "start_time": "2023-05-26T15:16:54.822Z"
   },
   {
    "duration": 168,
    "start_time": "2023-05-26T15:17:22.902Z"
   },
   {
    "duration": 251,
    "start_time": "2023-05-26T15:17:35.769Z"
   },
   {
    "duration": 167,
    "start_time": "2023-05-26T15:17:41.448Z"
   },
   {
    "duration": 30,
    "start_time": "2023-05-26T15:19:32.155Z"
   },
   {
    "duration": 172,
    "start_time": "2023-05-26T15:19:41.797Z"
   },
   {
    "duration": 206,
    "start_time": "2023-05-26T15:21:03.046Z"
   },
   {
    "duration": 206,
    "start_time": "2023-05-26T15:21:29.771Z"
   },
   {
    "duration": 11,
    "start_time": "2023-05-26T15:27:56.318Z"
   },
   {
    "duration": 27,
    "start_time": "2023-05-26T15:28:59.018Z"
   },
   {
    "duration": 7,
    "start_time": "2023-05-26T15:29:12.981Z"
   },
   {
    "duration": 30,
    "start_time": "2023-05-26T15:30:11.146Z"
   },
   {
    "duration": 27,
    "start_time": "2023-05-26T15:31:28.678Z"
   },
   {
    "duration": 14,
    "start_time": "2023-05-26T15:31:48.201Z"
   },
   {
    "duration": 11,
    "start_time": "2023-05-26T15:32:20.464Z"
   },
   {
    "duration": 38,
    "start_time": "2023-05-26T15:32:43.648Z"
   },
   {
    "duration": 35,
    "start_time": "2023-05-26T15:33:07.095Z"
   },
   {
    "duration": 26,
    "start_time": "2023-05-26T15:33:21.010Z"
   },
   {
    "duration": 24,
    "start_time": "2023-05-26T15:33:30.637Z"
   },
   {
    "duration": 5,
    "start_time": "2023-05-26T15:34:07.606Z"
   },
   {
    "duration": 16,
    "start_time": "2023-05-26T15:34:14.054Z"
   },
   {
    "duration": 6,
    "start_time": "2023-05-26T15:34:35.757Z"
   },
   {
    "duration": 648,
    "start_time": "2023-05-26T15:35:02.566Z"
   },
   {
    "duration": 1194,
    "start_time": "2023-05-26T15:35:07.156Z"
   },
   {
    "duration": 1229,
    "start_time": "2023-05-26T15:35:11.356Z"
   },
   {
    "duration": 8,
    "start_time": "2023-05-26T15:35:15.131Z"
   },
   {
    "duration": 7,
    "start_time": "2023-05-26T15:35:41.381Z"
   },
   {
    "duration": 7,
    "start_time": "2023-05-26T15:36:03.048Z"
   },
   {
    "duration": 9,
    "start_time": "2023-05-26T15:41:15.175Z"
   },
   {
    "duration": 39,
    "start_time": "2023-05-26T15:41:32.136Z"
   },
   {
    "duration": 22,
    "start_time": "2023-05-26T15:41:41.255Z"
   },
   {
    "duration": 27,
    "start_time": "2023-05-26T15:41:44.710Z"
   },
   {
    "duration": 21,
    "start_time": "2023-05-26T15:42:05.994Z"
   },
   {
    "duration": 25,
    "start_time": "2023-05-26T15:42:09.599Z"
   },
   {
    "duration": 25,
    "start_time": "2023-05-26T15:42:20.421Z"
   },
   {
    "duration": 23,
    "start_time": "2023-05-26T15:42:22.874Z"
   },
   {
    "duration": 26,
    "start_time": "2023-05-26T15:42:31.946Z"
   },
   {
    "duration": 25,
    "start_time": "2023-05-26T15:42:36.662Z"
   },
   {
    "duration": 25,
    "start_time": "2023-05-26T15:42:48.458Z"
   },
   {
    "duration": 25,
    "start_time": "2023-05-26T15:42:55.438Z"
   },
   {
    "duration": 25,
    "start_time": "2023-05-26T15:43:02.246Z"
   },
   {
    "duration": 26,
    "start_time": "2023-05-26T15:43:32.180Z"
   },
   {
    "duration": 41,
    "start_time": "2023-05-26T15:43:41.439Z"
   },
   {
    "duration": 33,
    "start_time": "2023-05-26T15:43:50.725Z"
   },
   {
    "duration": 42,
    "start_time": "2023-05-26T15:44:01.031Z"
   },
   {
    "duration": 9,
    "start_time": "2023-05-26T15:45:02.423Z"
   },
   {
    "duration": 44,
    "start_time": "2023-05-26T15:45:11.224Z"
   },
   {
    "duration": 102,
    "start_time": "2023-05-26T15:45:23.701Z"
   },
   {
    "duration": 49,
    "start_time": "2023-05-26T15:47:15.680Z"
   },
   {
    "duration": 23,
    "start_time": "2023-05-26T15:48:09.951Z"
   },
   {
    "duration": 23,
    "start_time": "2023-05-26T15:48:18.740Z"
   },
   {
    "duration": 114,
    "start_time": "2023-05-26T15:50:45.881Z"
   },
   {
    "duration": 22,
    "start_time": "2023-05-26T15:51:04.371Z"
   },
   {
    "duration": 116,
    "start_time": "2023-05-26T15:51:07.443Z"
   },
   {
    "duration": 7,
    "start_time": "2023-05-26T15:51:18.299Z"
   },
   {
    "duration": 187,
    "start_time": "2023-05-26T15:51:23.581Z"
   },
   {
    "duration": 117,
    "start_time": "2023-05-26T15:51:58.222Z"
   },
   {
    "duration": 97,
    "start_time": "2023-05-26T15:52:13.804Z"
   },
   {
    "duration": 11,
    "start_time": "2023-05-26T16:00:51.941Z"
   },
   {
    "duration": 615,
    "start_time": "2023-05-26T16:01:03.473Z"
   },
   {
    "duration": 285,
    "start_time": "2023-05-26T16:01:04.913Z"
   },
   {
    "duration": 110,
    "start_time": "2023-05-26T16:04:20.861Z"
   },
   {
    "duration": 92,
    "start_time": "2023-05-26T16:04:27.476Z"
   },
   {
    "duration": 8,
    "start_time": "2023-05-26T16:04:47.802Z"
   },
   {
    "duration": 601,
    "start_time": "2023-05-26T16:05:03.213Z"
   },
   {
    "duration": 11,
    "start_time": "2023-05-26T16:05:11.733Z"
   },
   {
    "duration": 685,
    "start_time": "2023-05-26T16:05:14.332Z"
   },
   {
    "duration": 585,
    "start_time": "2023-05-26T16:05:30.707Z"
   },
   {
    "duration": 203,
    "start_time": "2023-05-26T16:05:40.797Z"
   },
   {
    "duration": 10,
    "start_time": "2023-05-26T16:06:13.356Z"
   },
   {
    "duration": 208,
    "start_time": "2023-05-26T16:06:15.459Z"
   },
   {
    "duration": 6,
    "start_time": "2023-05-26T16:06:28.713Z"
   },
   {
    "duration": 243,
    "start_time": "2023-05-26T16:06:30.872Z"
   },
   {
    "duration": 8,
    "start_time": "2023-05-26T16:06:44.667Z"
   },
   {
    "duration": 12,
    "start_time": "2023-05-26T16:07:05.173Z"
   },
   {
    "duration": 7,
    "start_time": "2023-05-26T16:07:18.017Z"
   },
   {
    "duration": 18,
    "start_time": "2023-05-26T16:07:18.822Z"
   },
   {
    "duration": 7,
    "start_time": "2023-05-26T16:07:35.993Z"
   },
   {
    "duration": 8,
    "start_time": "2023-05-26T16:08:26.898Z"
   },
   {
    "duration": 22,
    "start_time": "2023-05-26T16:08:31.608Z"
   },
   {
    "duration": 385,
    "start_time": "2023-05-26T16:08:34.289Z"
   },
   {
    "duration": 241,
    "start_time": "2023-05-26T16:08:39.696Z"
   },
   {
    "duration": 201,
    "start_time": "2023-05-26T16:09:16.815Z"
   },
   {
    "duration": 350,
    "start_time": "2023-05-26T16:11:39.388Z"
   },
   {
    "duration": 375,
    "start_time": "2023-05-26T16:15:51.674Z"
   },
   {
    "duration": 348,
    "start_time": "2023-05-26T16:16:38.267Z"
   },
   {
    "duration": 271,
    "start_time": "2023-05-26T16:16:58.250Z"
   },
   {
    "duration": 148,
    "start_time": "2023-05-26T16:18:16.605Z"
   },
   {
    "duration": 195,
    "start_time": "2023-05-26T16:18:34.276Z"
   },
   {
    "duration": 338,
    "start_time": "2023-05-26T16:19:12.820Z"
   },
   {
    "duration": 204,
    "start_time": "2023-05-26T16:19:27.076Z"
   },
   {
    "duration": 191,
    "start_time": "2023-05-26T16:19:44.120Z"
   },
   {
    "duration": 200,
    "start_time": "2023-05-26T16:20:06.383Z"
   },
   {
    "duration": 219,
    "start_time": "2023-05-26T16:20:28.276Z"
   },
   {
    "duration": 301,
    "start_time": "2023-05-26T16:20:56.212Z"
   },
   {
    "duration": 29,
    "start_time": "2023-05-26T16:22:26.948Z"
   },
   {
    "duration": 46,
    "start_time": "2023-05-26T16:22:32.707Z"
   },
   {
    "duration": 30,
    "start_time": "2023-05-26T16:23:40.909Z"
   },
   {
    "duration": 23,
    "start_time": "2023-05-26T16:24:11.941Z"
   },
   {
    "duration": 40,
    "start_time": "2023-05-26T16:25:51.551Z"
   },
   {
    "duration": 37,
    "start_time": "2023-05-26T16:26:05.843Z"
   },
   {
    "duration": 7,
    "start_time": "2023-05-26T16:28:49.849Z"
   },
   {
    "duration": 277,
    "start_time": "2023-05-26T16:30:10.874Z"
   },
   {
    "duration": 6,
    "start_time": "2023-05-26T16:30:25.482Z"
   },
   {
    "duration": 6,
    "start_time": "2023-05-26T16:30:43.831Z"
   },
   {
    "duration": 5,
    "start_time": "2023-05-26T16:31:01.021Z"
   },
   {
    "duration": 5,
    "start_time": "2023-05-26T16:31:44.201Z"
   },
   {
    "duration": 6,
    "start_time": "2023-05-26T16:32:33.519Z"
   },
   {
    "duration": 5,
    "start_time": "2023-05-26T16:33:18.385Z"
   },
   {
    "duration": 5,
    "start_time": "2023-05-26T16:33:22.707Z"
   },
   {
    "duration": 321,
    "start_time": "2023-05-26T17:51:02.146Z"
   },
   {
    "duration": 214,
    "start_time": "2023-05-26T17:51:39.006Z"
   },
   {
    "duration": 232,
    "start_time": "2023-05-26T17:52:03.634Z"
   },
   {
    "duration": 1329,
    "start_time": "2023-05-26T17:53:01.589Z"
   },
   {
    "duration": 1303,
    "start_time": "2023-05-26T17:53:11.176Z"
   },
   {
    "duration": 1554,
    "start_time": "2023-05-26T17:53:18.812Z"
   },
   {
    "duration": 1383,
    "start_time": "2023-05-26T17:54:30.909Z"
   },
   {
    "duration": 1627,
    "start_time": "2023-05-26T17:54:39.166Z"
   },
   {
    "duration": 1496,
    "start_time": "2023-05-26T17:56:43.934Z"
   },
   {
    "duration": 12,
    "start_time": "2023-05-26T18:06:30.081Z"
   },
   {
    "duration": 26,
    "start_time": "2023-05-26T18:10:08.344Z"
   },
   {
    "duration": 22,
    "start_time": "2023-05-26T18:10:14.969Z"
   },
   {
    "duration": 24,
    "start_time": "2023-05-26T18:12:54.079Z"
   },
   {
    "duration": 26,
    "start_time": "2023-05-26T18:13:03.409Z"
   },
   {
    "duration": 20,
    "start_time": "2023-05-26T18:13:31.056Z"
   },
   {
    "duration": 26,
    "start_time": "2023-05-26T18:14:26.978Z"
   },
   {
    "duration": 43,
    "start_time": "2023-05-26T18:16:54.104Z"
   },
   {
    "duration": 25,
    "start_time": "2023-05-26T18:17:15.063Z"
   },
   {
    "duration": 26,
    "start_time": "2023-05-26T18:17:35.876Z"
   },
   {
    "duration": 21,
    "start_time": "2023-05-26T18:17:40.897Z"
   },
   {
    "duration": 25,
    "start_time": "2023-05-26T18:21:19.134Z"
   },
   {
    "duration": 19,
    "start_time": "2023-05-26T18:21:28.433Z"
   },
   {
    "duration": 22,
    "start_time": "2023-05-26T18:21:34.180Z"
   },
   {
    "duration": 15,
    "start_time": "2023-05-26T18:30:52.487Z"
   },
   {
    "duration": 15,
    "start_time": "2023-05-26T18:31:04.388Z"
   },
   {
    "duration": 22,
    "start_time": "2023-05-26T18:31:55.181Z"
   },
   {
    "duration": 26,
    "start_time": "2023-05-26T18:32:27.257Z"
   },
   {
    "duration": 30,
    "start_time": "2023-05-26T18:33:44.592Z"
   },
   {
    "duration": 27,
    "start_time": "2023-05-26T18:36:21.692Z"
   },
   {
    "duration": 31,
    "start_time": "2023-05-26T18:37:10.635Z"
   },
   {
    "duration": 16,
    "start_time": "2023-05-26T18:39:16.945Z"
   },
   {
    "duration": 2,
    "start_time": "2023-05-26T18:39:32.210Z"
   },
   {
    "duration": 70,
    "start_time": "2023-05-26T18:39:42.828Z"
   },
   {
    "duration": 18,
    "start_time": "2023-05-26T18:40:19.341Z"
   },
   {
    "duration": 88,
    "start_time": "2023-05-26T18:41:32.789Z"
   },
   {
    "duration": 18,
    "start_time": "2023-05-26T18:41:42.535Z"
   },
   {
    "duration": 163,
    "start_time": "2023-05-26T18:41:43.942Z"
   },
   {
    "duration": 20,
    "start_time": "2023-05-26T18:42:10.462Z"
   },
   {
    "duration": 18,
    "start_time": "2023-05-26T18:42:18.397Z"
   },
   {
    "duration": 19,
    "start_time": "2023-05-26T18:42:19.328Z"
   },
   {
    "duration": 14,
    "start_time": "2023-05-26T18:42:20.983Z"
   },
   {
    "duration": 15,
    "start_time": "2023-05-26T18:42:21.604Z"
   },
   {
    "duration": 26,
    "start_time": "2023-05-26T18:42:22.015Z"
   },
   {
    "duration": 78,
    "start_time": "2023-05-26T18:42:40.091Z"
   },
   {
    "duration": 13,
    "start_time": "2023-05-26T18:42:41.903Z"
   },
   {
    "duration": 16,
    "start_time": "2023-05-26T18:42:41.975Z"
   },
   {
    "duration": 28,
    "start_time": "2023-05-26T18:42:42.689Z"
   },
   {
    "duration": 31,
    "start_time": "2023-05-26T18:42:51.742Z"
   },
   {
    "duration": 8,
    "start_time": "2023-05-26T18:42:57.291Z"
   },
   {
    "duration": 9,
    "start_time": "2023-05-26T18:53:51.165Z"
   },
   {
    "duration": 94,
    "start_time": "2023-05-26T19:00:27.622Z"
   },
   {
    "duration": 6,
    "start_time": "2023-05-26T19:00:37.787Z"
   },
   {
    "duration": 6,
    "start_time": "2023-05-26T19:12:33.514Z"
   },
   {
    "duration": 4,
    "start_time": "2023-05-26T19:12:54.932Z"
   },
   {
    "duration": 20,
    "start_time": "2023-05-26T19:17:05.287Z"
   },
   {
    "duration": 32,
    "start_time": "2023-05-26T19:17:05.911Z"
   },
   {
    "duration": 15,
    "start_time": "2023-05-26T19:17:31.185Z"
   },
   {
    "duration": 33,
    "start_time": "2023-05-26T19:17:32.543Z"
   },
   {
    "duration": 6,
    "start_time": "2023-05-26T19:17:34.199Z"
   },
   {
    "duration": 51,
    "start_time": "2023-05-26T19:18:54.862Z"
   },
   {
    "duration": 1230,
    "start_time": "2023-05-26T19:19:25.402Z"
   },
   {
    "duration": 6,
    "start_time": "2023-05-26T19:19:34.055Z"
   },
   {
    "duration": 39,
    "start_time": "2023-05-26T19:19:55.520Z"
   },
   {
    "duration": 6,
    "start_time": "2023-05-26T19:19:56.011Z"
   },
   {
    "duration": 39,
    "start_time": "2023-05-26T19:20:05.205Z"
   },
   {
    "duration": 7,
    "start_time": "2023-05-26T19:20:06.833Z"
   },
   {
    "duration": 5,
    "start_time": "2023-05-26T19:20:13.409Z"
   },
   {
    "duration": 96,
    "start_time": "2023-05-26T19:22:28.025Z"
   },
   {
    "duration": 10,
    "start_time": "2023-05-26T19:22:42.021Z"
   },
   {
    "duration": 8,
    "start_time": "2023-05-26T19:28:24.259Z"
   },
   {
    "duration": 4,
    "start_time": "2023-05-26T19:29:39.336Z"
   },
   {
    "duration": 5,
    "start_time": "2023-05-26T19:30:30.889Z"
   },
   {
    "duration": 4,
    "start_time": "2023-05-26T19:30:35.337Z"
   },
   {
    "duration": 15,
    "start_time": "2023-05-26T20:05:38.386Z"
   },
   {
    "duration": 55,
    "start_time": "2023-05-26T20:06:08.095Z"
   },
   {
    "duration": 52,
    "start_time": "2023-05-26T20:06:15.023Z"
   },
   {
    "duration": 21,
    "start_time": "2023-05-26T20:06:19.611Z"
   },
   {
    "duration": 12,
    "start_time": "2023-05-26T20:06:45.218Z"
   },
   {
    "duration": 52,
    "start_time": "2023-05-26T20:08:02.682Z"
   },
   {
    "duration": 87,
    "start_time": "2023-05-26T20:08:42.985Z"
   },
   {
    "duration": 80,
    "start_time": "2023-05-26T20:09:51.099Z"
   },
   {
    "duration": 89,
    "start_time": "2023-05-26T20:10:06.881Z"
   },
   {
    "duration": 8,
    "start_time": "2023-05-26T20:10:32.605Z"
   },
   {
    "duration": 5,
    "start_time": "2023-05-26T20:11:38.154Z"
   },
   {
    "duration": 87,
    "start_time": "2023-05-26T20:12:09.206Z"
   },
   {
    "duration": 1263,
    "start_time": "2023-05-26T20:13:23.711Z"
   },
   {
    "duration": 5,
    "start_time": "2023-05-26T20:13:38.113Z"
   },
   {
    "duration": 110,
    "start_time": "2023-05-26T20:13:50.873Z"
   },
   {
    "duration": 87,
    "start_time": "2023-05-26T20:13:58.106Z"
   },
   {
    "duration": 42,
    "start_time": "2023-05-26T20:58:59.813Z"
   },
   {
    "duration": 1158,
    "start_time": "2023-05-26T20:59:19.146Z"
   },
   {
    "duration": 20,
    "start_time": "2023-05-26T20:59:30.243Z"
   },
   {
    "duration": 39,
    "start_time": "2023-05-26T21:00:24.717Z"
   },
   {
    "duration": 43,
    "start_time": "2023-05-26T21:00:33.503Z"
   },
   {
    "duration": 39,
    "start_time": "2023-05-26T21:00:38.492Z"
   },
   {
    "duration": 34,
    "start_time": "2023-05-26T21:00:42.319Z"
   },
   {
    "duration": 39,
    "start_time": "2023-05-26T21:01:00.908Z"
   },
   {
    "duration": 76,
    "start_time": "2023-05-26T21:01:49.607Z"
   },
   {
    "duration": 37,
    "start_time": "2023-05-26T21:03:11.312Z"
   },
   {
    "duration": 58,
    "start_time": "2023-05-26T21:03:30.828Z"
   },
   {
    "duration": 1242,
    "start_time": "2023-05-26T21:13:04.104Z"
   },
   {
    "duration": 507,
    "start_time": "2023-05-26T21:13:05.348Z"
   },
   {
    "duration": 4,
    "start_time": "2023-05-26T21:13:05.857Z"
   },
   {
    "duration": 85,
    "start_time": "2023-05-26T21:13:05.863Z"
   },
   {
    "duration": 701,
    "start_time": "2023-05-26T21:13:05.950Z"
   },
   {
    "duration": 102,
    "start_time": "2023-05-26T21:13:06.652Z"
   },
   {
    "duration": 86,
    "start_time": "2023-05-26T21:13:06.755Z"
   },
   {
    "duration": 107,
    "start_time": "2023-05-26T21:13:06.843Z"
   },
   {
    "duration": 112,
    "start_time": "2023-05-26T21:13:06.951Z"
   },
   {
    "duration": 106,
    "start_time": "2023-05-26T21:13:07.064Z"
   },
   {
    "duration": 5,
    "start_time": "2023-05-26T21:13:07.172Z"
   },
   {
    "duration": 1301,
    "start_time": "2023-05-26T21:13:07.178Z"
   },
   {
    "duration": 30,
    "start_time": "2023-05-26T21:13:08.481Z"
   },
   {
    "duration": 19,
    "start_time": "2023-05-26T21:13:08.513Z"
   },
   {
    "duration": 131,
    "start_time": "2023-05-26T21:13:08.534Z"
   },
   {
    "duration": 10,
    "start_time": "2023-05-26T21:13:08.667Z"
   },
   {
    "duration": 28,
    "start_time": "2023-05-26T21:13:08.679Z"
   },
   {
    "duration": 96,
    "start_time": "2023-05-26T21:13:08.708Z"
   },
   {
    "duration": 65,
    "start_time": "2023-05-26T21:13:08.805Z"
   },
   {
    "duration": 54,
    "start_time": "2023-05-26T21:13:08.871Z"
   },
   {
    "duration": 86,
    "start_time": "2023-05-26T21:13:08.926Z"
   },
   {
    "duration": 43,
    "start_time": "2023-05-26T21:13:09.014Z"
   },
   {
    "duration": 156,
    "start_time": "2023-05-26T21:13:09.058Z"
   },
   {
    "duration": 23,
    "start_time": "2023-05-26T21:13:09.215Z"
   },
   {
    "duration": 14,
    "start_time": "2023-05-26T21:13:09.239Z"
   },
   {
    "duration": 110,
    "start_time": "2023-05-26T21:13:09.254Z"
   },
   {
    "duration": 26,
    "start_time": "2023-05-26T21:13:09.366Z"
   },
   {
    "duration": 41,
    "start_time": "2023-05-26T21:13:09.394Z"
   },
   {
    "duration": 4,
    "start_time": "2023-05-26T21:13:09.436Z"
   },
   {
    "duration": 343,
    "start_time": "2023-05-26T21:13:09.442Z"
   },
   {
    "duration": 21,
    "start_time": "2023-05-26T21:13:09.787Z"
   },
   {
    "duration": 136,
    "start_time": "2023-05-26T21:13:09.810Z"
   },
   {
    "duration": 37,
    "start_time": "2023-05-26T21:13:09.948Z"
   },
   {
    "duration": 39,
    "start_time": "2023-05-26T21:13:09.987Z"
   },
   {
    "duration": 130,
    "start_time": "2023-05-26T21:13:10.028Z"
   },
   {
    "duration": 69,
    "start_time": "2023-05-26T21:13:10.160Z"
   },
   {
    "duration": 30,
    "start_time": "2023-05-26T21:13:10.231Z"
   },
   {
    "duration": 154,
    "start_time": "2023-05-26T21:13:10.262Z"
   },
   {
    "duration": 59,
    "start_time": "2023-05-26T21:13:10.425Z"
   },
   {
    "duration": 14,
    "start_time": "2023-05-26T21:13:10.486Z"
   },
   {
    "duration": 32,
    "start_time": "2023-05-26T21:13:10.503Z"
   },
   {
    "duration": 27,
    "start_time": "2023-05-26T21:13:10.537Z"
   },
   {
    "duration": 31,
    "start_time": "2023-05-26T21:13:10.565Z"
   },
   {
    "duration": 5,
    "start_time": "2023-05-26T21:13:10.597Z"
   },
   {
    "duration": 61,
    "start_time": "2023-05-26T21:13:10.603Z"
   },
   {
    "duration": 8,
    "start_time": "2023-05-26T21:13:10.665Z"
   },
   {
    "duration": 129,
    "start_time": "2023-05-26T21:26:10.543Z"
   },
   {
    "duration": 207,
    "start_time": "2023-05-26T21:26:26.920Z"
   },
   {
    "duration": 1139,
    "start_time": "2023-05-26T22:01:48.193Z"
   },
   {
    "duration": 269,
    "start_time": "2023-05-26T22:01:49.334Z"
   },
   {
    "duration": 4,
    "start_time": "2023-05-26T22:01:49.605Z"
   },
   {
    "duration": 56,
    "start_time": "2023-05-26T22:01:49.611Z"
   },
   {
    "duration": 405,
    "start_time": "2023-05-26T22:01:49.670Z"
   },
   {
    "duration": 62,
    "start_time": "2023-05-26T22:01:50.077Z"
   },
   {
    "duration": 34,
    "start_time": "2023-05-26T22:01:50.141Z"
   },
   {
    "duration": 83,
    "start_time": "2023-05-26T22:01:50.176Z"
   },
   {
    "duration": 70,
    "start_time": "2023-05-26T22:01:50.261Z"
   },
   {
    "duration": 54,
    "start_time": "2023-05-26T22:01:50.333Z"
   },
   {
    "duration": 5,
    "start_time": "2023-05-26T22:01:50.389Z"
   },
   {
    "duration": 1264,
    "start_time": "2023-05-26T22:01:50.395Z"
   },
   {
    "duration": 32,
    "start_time": "2023-05-26T22:01:51.661Z"
   },
   {
    "duration": 11,
    "start_time": "2023-05-26T22:01:51.696Z"
   },
   {
    "duration": 143,
    "start_time": "2023-05-26T22:01:51.708Z"
   },
   {
    "duration": 10,
    "start_time": "2023-05-26T22:01:51.853Z"
   },
   {
    "duration": 38,
    "start_time": "2023-05-26T22:01:51.865Z"
   },
   {
    "duration": 97,
    "start_time": "2023-05-26T22:01:51.904Z"
   },
   {
    "duration": 67,
    "start_time": "2023-05-26T22:01:52.003Z"
   },
   {
    "duration": 53,
    "start_time": "2023-05-26T22:01:52.072Z"
   },
   {
    "duration": 104,
    "start_time": "2023-05-26T22:01:52.127Z"
   },
   {
    "duration": 34,
    "start_time": "2023-05-26T22:01:52.233Z"
   },
   {
    "duration": 159,
    "start_time": "2023-05-26T22:01:52.268Z"
   },
   {
    "duration": 20,
    "start_time": "2023-05-26T22:01:52.429Z"
   },
   {
    "duration": 8,
    "start_time": "2023-05-26T22:01:52.451Z"
   },
   {
    "duration": 136,
    "start_time": "2023-05-26T22:01:52.461Z"
   },
   {
    "duration": 42,
    "start_time": "2023-05-26T22:01:52.599Z"
   },
   {
    "duration": 54,
    "start_time": "2023-05-26T22:01:52.643Z"
   },
   {
    "duration": 5,
    "start_time": "2023-05-26T22:01:52.699Z"
   },
   {
    "duration": 305,
    "start_time": "2023-05-26T22:01:52.705Z"
   },
   {
    "duration": 22,
    "start_time": "2023-05-26T22:01:53.011Z"
   },
   {
    "duration": 133,
    "start_time": "2023-05-26T22:01:53.034Z"
   },
   {
    "duration": 39,
    "start_time": "2023-05-26T22:01:53.169Z"
   },
   {
    "duration": 36,
    "start_time": "2023-05-26T22:01:53.210Z"
   },
   {
    "duration": 149,
    "start_time": "2023-05-26T22:01:53.248Z"
   },
   {
    "duration": 70,
    "start_time": "2023-05-26T22:01:53.398Z"
   },
   {
    "duration": 34,
    "start_time": "2023-05-26T22:01:53.469Z"
   },
   {
    "duration": 165,
    "start_time": "2023-05-26T22:01:53.505Z"
   },
   {
    "duration": 66,
    "start_time": "2023-05-26T22:01:53.672Z"
   },
   {
    "duration": 15,
    "start_time": "2023-05-26T22:01:53.740Z"
   },
   {
    "duration": 17,
    "start_time": "2023-05-26T22:01:53.758Z"
   },
   {
    "duration": 26,
    "start_time": "2023-05-26T22:01:53.777Z"
   },
   {
    "duration": 33,
    "start_time": "2023-05-26T22:01:53.824Z"
   },
   {
    "duration": 5,
    "start_time": "2023-05-26T22:01:53.859Z"
   },
   {
    "duration": 41,
    "start_time": "2023-05-26T22:01:53.866Z"
   },
   {
    "duration": 22,
    "start_time": "2023-05-26T22:01:53.909Z"
   }
  ],
  "kernelspec": {
   "display_name": "Python 3 (ipykernel)",
   "language": "python",
   "name": "python3"
  },
  "language_info": {
   "codemirror_mode": {
    "name": "ipython",
    "version": 3
   },
   "file_extension": ".py",
   "mimetype": "text/x-python",
   "name": "python",
   "nbconvert_exporter": "python",
   "pygments_lexer": "ipython3",
   "version": "3.9.12"
  },
  "toc": {
   "base_numbering": 1,
   "nav_menu": {},
   "number_sections": true,
   "sideBar": true,
   "skip_h1_title": true,
   "title_cell": "Table of Contents",
   "title_sidebar": "Contents",
   "toc_cell": false,
   "toc_position": {
    "height": "calc(100% - 180px)",
    "left": "10px",
    "top": "150px",
    "width": "371px"
   },
   "toc_section_display": true,
   "toc_window_display": true
  }
 },
 "nbformat": 4,
 "nbformat_minor": 2
}
