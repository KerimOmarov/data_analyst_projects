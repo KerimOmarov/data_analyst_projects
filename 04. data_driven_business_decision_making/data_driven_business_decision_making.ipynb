{
 "cells": [
  {
   "cell_type": "markdown",
   "metadata": {},
   "source": [
    "<h1> Увеличение выручки интернет-магазина </h1>\n",
    "\n",
    "Вы — аналитик крупного интернет-магазина. Вместе с отделом маркетинга вы подготовили список гипотез для увеличения выручки.\n",
    "Приоритизируйте гипотезы, запустите A/B-тест и проанализируйте результаты. \n",
    "\n",
    "**Входные данные**\n",
    "\n",
    "Гипотезы (файл hypothesis.csv):\n",
    "\n",
    "* `Hypothesis` — краткое описание гипотезы;\n",
    "* `Reach` — охват пользователей по 10-балльной шкале;\n",
    "* `Impact` — влияние на пользователей по 10-балльной шкале;\n",
    "* `Confidence` — уверенность в гипотезе по 10-балльной шкале;\n",
    "* `Efforts` — затраты ресурсов на проверку гипотезы по 10-балльной шкале. Чем больше значение Efforts, тем дороже проверка гипотезы\n",
    "\n",
    "Заказы (файл orders.csv):\n",
    "\n",
    "* `transactionId` — идентификатор заказа;\n",
    "* `visitorId` — идентификатор пользователя, совершившего заказ;\n",
    "* `date` — дата, когда был совершён заказ;\n",
    "* `revenue` — выручка заказа;\n",
    "* `group` — группа A/B-теста, в которую попал заказ.\n",
    "\n",
    "Посетители (файл visitors.csv):\n",
    "\n",
    "* `date` — дата;\n",
    "* `group` — группа A/B-теста;\n",
    "* `visitors` — количество пользователей в указанную дату в указанной группе A/B-теста.\n",
    "\n",
    "**Цель исследования:** Приоритизация гипотез, выполнение A/B тестов и анализ результатов\n",
    "\n",
    "\n",
    "**Ход исследования.**\n",
    "\n",
    "Исследование пройдет в три этапа:\n",
    "* Загрузка и подготовка данных\n",
    "* Приоритизация гипотез\n",
    "* Анализ A/B-теста с выводами"
   ]
  },
  {
   "cell_type": "markdown",
   "metadata": {},
   "source": [
    "## Загрузка и подготовка данных"
   ]
  },
  {
   "cell_type": "code",
   "execution_count": 1,
   "metadata": {},
   "outputs": [],
   "source": [
    "import pandas as pd\n",
    "import numpy as np\n",
    "import matplotlib.pyplot as plt\n",
    "import seaborn as sns\n",
    "import scipy.stats as stats\n",
    "from datetime import datetime, timedelta\n",
    "\n",
    "pd.set_option('display.max_colwidth', False)"
   ]
  },
  {
   "cell_type": "markdown",
   "metadata": {},
   "source": [
    "Загрузим данные, предварительно указав столбцы с датами в запросе для того, чтобы они сразу имели нужный тип."
   ]
  },
  {
   "cell_type": "code",
   "execution_count": 2,
   "metadata": {},
   "outputs": [],
   "source": [
    "try:\n",
    "    hypothesis = pd.read_csv('/datasets/hypothesis.csv')\n",
    "    orders = pd.read_csv('/datasets/orders.csv', parse_dates=[2])\n",
    "    visitors = pd.read_csv('/datasets/visitors.csv', parse_dates=[0])\n",
    "\n",
    "except: \n",
    "    hypothesis = pd.read_csv('https://code.s3.yandex.net/datasets/hypothesis.csv')\n",
    "    orders = pd.read_csv('https://code.s3.yandex.net/datasets/orders.csv')\n",
    "    visitors = pd.read_csv('https://code.s3.yandex.net/datasets/visitors.csv')"
   ]
  },
  {
   "cell_type": "code",
   "execution_count": 3,
   "metadata": {},
   "outputs": [],
   "source": [
    "def intro(df):\n",
    "    display(df.head(5))\n",
    "    print()\n",
    "    df.info()\n",
    "    display(df.describe())"
   ]
  },
  {
   "cell_type": "markdown",
   "metadata": {},
   "source": [
    "**Таблица `hypothesis`**"
   ]
  },
  {
   "cell_type": "code",
   "execution_count": 4,
   "metadata": {
    "scrolled": false
   },
   "outputs": [
    {
     "data": {
      "text/html": [
       "<div>\n",
       "<style scoped>\n",
       "    .dataframe tbody tr th:only-of-type {\n",
       "        vertical-align: middle;\n",
       "    }\n",
       "\n",
       "    .dataframe tbody tr th {\n",
       "        vertical-align: top;\n",
       "    }\n",
       "\n",
       "    .dataframe thead th {\n",
       "        text-align: right;\n",
       "    }\n",
       "</style>\n",
       "<table border=\"1\" class=\"dataframe\">\n",
       "  <thead>\n",
       "    <tr style=\"text-align: right;\">\n",
       "      <th></th>\n",
       "      <th>Hypothesis</th>\n",
       "      <th>Reach</th>\n",
       "      <th>Impact</th>\n",
       "      <th>Confidence</th>\n",
       "      <th>Efforts</th>\n",
       "    </tr>\n",
       "  </thead>\n",
       "  <tbody>\n",
       "    <tr>\n",
       "      <th>0</th>\n",
       "      <td>Добавить два новых канала привлечения трафика, что позволит привлекать на 30% больше пользователей</td>\n",
       "      <td>3</td>\n",
       "      <td>10</td>\n",
       "      <td>8</td>\n",
       "      <td>6</td>\n",
       "    </tr>\n",
       "    <tr>\n",
       "      <th>1</th>\n",
       "      <td>Запустить собственную службу доставки, что сократит срок доставки заказов</td>\n",
       "      <td>2</td>\n",
       "      <td>5</td>\n",
       "      <td>4</td>\n",
       "      <td>10</td>\n",
       "    </tr>\n",
       "    <tr>\n",
       "      <th>2</th>\n",
       "      <td>Добавить блоки рекомендаций товаров на сайт интернет магазина, чтобы повысить конверсию и средний чек заказа</td>\n",
       "      <td>8</td>\n",
       "      <td>3</td>\n",
       "      <td>7</td>\n",
       "      <td>3</td>\n",
       "    </tr>\n",
       "    <tr>\n",
       "      <th>3</th>\n",
       "      <td>Изменить структура категорий, что увеличит конверсию, т.к. пользователи быстрее найдут нужный товар</td>\n",
       "      <td>8</td>\n",
       "      <td>3</td>\n",
       "      <td>3</td>\n",
       "      <td>8</td>\n",
       "    </tr>\n",
       "    <tr>\n",
       "      <th>4</th>\n",
       "      <td>Изменить цвет фона главной страницы, чтобы увеличить вовлеченность пользователей</td>\n",
       "      <td>3</td>\n",
       "      <td>1</td>\n",
       "      <td>1</td>\n",
       "      <td>1</td>\n",
       "    </tr>\n",
       "  </tbody>\n",
       "</table>\n",
       "</div>"
      ],
      "text/plain": [
       "                                                                                                     Hypothesis  \\\n",
       "0  Добавить два новых канала привлечения трафика, что позволит привлекать на 30% больше пользователей             \n",
       "1  Запустить собственную службу доставки, что сократит срок доставки заказов                                      \n",
       "2  Добавить блоки рекомендаций товаров на сайт интернет магазина, чтобы повысить конверсию и средний чек заказа   \n",
       "3  Изменить структура категорий, что увеличит конверсию, т.к. пользователи быстрее найдут нужный товар            \n",
       "4  Изменить цвет фона главной страницы, чтобы увеличить вовлеченность пользователей                               \n",
       "\n",
       "   Reach  Impact  Confidence  Efforts  \n",
       "0  3      10      8           6        \n",
       "1  2      5       4           10       \n",
       "2  8      3       7           3        \n",
       "3  8      3       3           8        \n",
       "4  3      1       1           1        "
      ]
     },
     "metadata": {},
     "output_type": "display_data"
    },
    {
     "name": "stdout",
     "output_type": "stream",
     "text": [
      "\n",
      "<class 'pandas.core.frame.DataFrame'>\n",
      "RangeIndex: 9 entries, 0 to 8\n",
      "Data columns (total 5 columns):\n",
      " #   Column      Non-Null Count  Dtype \n",
      "---  ------      --------------  ----- \n",
      " 0   Hypothesis  9 non-null      object\n",
      " 1   Reach       9 non-null      int64 \n",
      " 2   Impact      9 non-null      int64 \n",
      " 3   Confidence  9 non-null      int64 \n",
      " 4   Efforts     9 non-null      int64 \n",
      "dtypes: int64(4), object(1)\n",
      "memory usage: 488.0+ bytes\n"
     ]
    },
    {
     "data": {
      "text/html": [
       "<div>\n",
       "<style scoped>\n",
       "    .dataframe tbody tr th:only-of-type {\n",
       "        vertical-align: middle;\n",
       "    }\n",
       "\n",
       "    .dataframe tbody tr th {\n",
       "        vertical-align: top;\n",
       "    }\n",
       "\n",
       "    .dataframe thead th {\n",
       "        text-align: right;\n",
       "    }\n",
       "</style>\n",
       "<table border=\"1\" class=\"dataframe\">\n",
       "  <thead>\n",
       "    <tr style=\"text-align: right;\">\n",
       "      <th></th>\n",
       "      <th>Reach</th>\n",
       "      <th>Impact</th>\n",
       "      <th>Confidence</th>\n",
       "      <th>Efforts</th>\n",
       "    </tr>\n",
       "  </thead>\n",
       "  <tbody>\n",
       "    <tr>\n",
       "      <th>count</th>\n",
       "      <td>9.000000</td>\n",
       "      <td>9.000000</td>\n",
       "      <td>9.000000</td>\n",
       "      <td>9.000000</td>\n",
       "    </tr>\n",
       "    <tr>\n",
       "      <th>mean</th>\n",
       "      <td>4.777778</td>\n",
       "      <td>4.777778</td>\n",
       "      <td>5.555556</td>\n",
       "      <td>4.888889</td>\n",
       "    </tr>\n",
       "    <tr>\n",
       "      <th>std</th>\n",
       "      <td>3.153481</td>\n",
       "      <td>3.192874</td>\n",
       "      <td>3.045944</td>\n",
       "      <td>2.803767</td>\n",
       "    </tr>\n",
       "    <tr>\n",
       "      <th>min</th>\n",
       "      <td>1.000000</td>\n",
       "      <td>1.000000</td>\n",
       "      <td>1.000000</td>\n",
       "      <td>1.000000</td>\n",
       "    </tr>\n",
       "    <tr>\n",
       "      <th>25%</th>\n",
       "      <td>3.000000</td>\n",
       "      <td>3.000000</td>\n",
       "      <td>3.000000</td>\n",
       "      <td>3.000000</td>\n",
       "    </tr>\n",
       "    <tr>\n",
       "      <th>50%</th>\n",
       "      <td>3.000000</td>\n",
       "      <td>3.000000</td>\n",
       "      <td>7.000000</td>\n",
       "      <td>5.000000</td>\n",
       "    </tr>\n",
       "    <tr>\n",
       "      <th>75%</th>\n",
       "      <td>8.000000</td>\n",
       "      <td>7.000000</td>\n",
       "      <td>8.000000</td>\n",
       "      <td>6.000000</td>\n",
       "    </tr>\n",
       "    <tr>\n",
       "      <th>max</th>\n",
       "      <td>10.000000</td>\n",
       "      <td>10.000000</td>\n",
       "      <td>9.000000</td>\n",
       "      <td>10.000000</td>\n",
       "    </tr>\n",
       "  </tbody>\n",
       "</table>\n",
       "</div>"
      ],
      "text/plain": [
       "           Reach     Impact  Confidence    Efforts\n",
       "count  9.000000   9.000000   9.000000    9.000000 \n",
       "mean   4.777778   4.777778   5.555556    4.888889 \n",
       "std    3.153481   3.192874   3.045944    2.803767 \n",
       "min    1.000000   1.000000   1.000000    1.000000 \n",
       "25%    3.000000   3.000000   3.000000    3.000000 \n",
       "50%    3.000000   3.000000   7.000000    5.000000 \n",
       "75%    8.000000   7.000000   8.000000    6.000000 \n",
       "max    10.000000  10.000000  9.000000    10.000000"
      ]
     },
     "metadata": {},
     "output_type": "display_data"
    }
   ],
   "source": [
    "intro(hypothesis)"
   ]
  },
  {
   "cell_type": "markdown",
   "metadata": {},
   "source": [
    "Приведём названия столбцов к нижнему регистру."
   ]
  },
  {
   "cell_type": "code",
   "execution_count": 5,
   "metadata": {},
   "outputs": [
    {
     "data": {
      "text/html": [
       "<div>\n",
       "<style scoped>\n",
       "    .dataframe tbody tr th:only-of-type {\n",
       "        vertical-align: middle;\n",
       "    }\n",
       "\n",
       "    .dataframe tbody tr th {\n",
       "        vertical-align: top;\n",
       "    }\n",
       "\n",
       "    .dataframe thead th {\n",
       "        text-align: right;\n",
       "    }\n",
       "</style>\n",
       "<table border=\"1\" class=\"dataframe\">\n",
       "  <thead>\n",
       "    <tr style=\"text-align: right;\">\n",
       "      <th></th>\n",
       "      <th>hypothesis</th>\n",
       "      <th>reach</th>\n",
       "      <th>impact</th>\n",
       "      <th>confidence</th>\n",
       "      <th>efforts</th>\n",
       "    </tr>\n",
       "  </thead>\n",
       "  <tbody>\n",
       "    <tr>\n",
       "      <th>0</th>\n",
       "      <td>Добавить два новых канала привлечения трафика, что позволит привлекать на 30% больше пользователей</td>\n",
       "      <td>3</td>\n",
       "      <td>10</td>\n",
       "      <td>8</td>\n",
       "      <td>6</td>\n",
       "    </tr>\n",
       "    <tr>\n",
       "      <th>1</th>\n",
       "      <td>Запустить собственную службу доставки, что сократит срок доставки заказов</td>\n",
       "      <td>2</td>\n",
       "      <td>5</td>\n",
       "      <td>4</td>\n",
       "      <td>10</td>\n",
       "    </tr>\n",
       "    <tr>\n",
       "      <th>2</th>\n",
       "      <td>Добавить блоки рекомендаций товаров на сайт интернет магазина, чтобы повысить конверсию и средний чек заказа</td>\n",
       "      <td>8</td>\n",
       "      <td>3</td>\n",
       "      <td>7</td>\n",
       "      <td>3</td>\n",
       "    </tr>\n",
       "    <tr>\n",
       "      <th>3</th>\n",
       "      <td>Изменить структура категорий, что увеличит конверсию, т.к. пользователи быстрее найдут нужный товар</td>\n",
       "      <td>8</td>\n",
       "      <td>3</td>\n",
       "      <td>3</td>\n",
       "      <td>8</td>\n",
       "    </tr>\n",
       "    <tr>\n",
       "      <th>4</th>\n",
       "      <td>Изменить цвет фона главной страницы, чтобы увеличить вовлеченность пользователей</td>\n",
       "      <td>3</td>\n",
       "      <td>1</td>\n",
       "      <td>1</td>\n",
       "      <td>1</td>\n",
       "    </tr>\n",
       "    <tr>\n",
       "      <th>5</th>\n",
       "      <td>Добавить страницу отзывов клиентов о магазине, что позволит увеличить количество заказов</td>\n",
       "      <td>3</td>\n",
       "      <td>2</td>\n",
       "      <td>2</td>\n",
       "      <td>3</td>\n",
       "    </tr>\n",
       "    <tr>\n",
       "      <th>6</th>\n",
       "      <td>Показать на главной странице баннеры с актуальными акциями и распродажами, чтобы увеличить конверсию</td>\n",
       "      <td>5</td>\n",
       "      <td>3</td>\n",
       "      <td>8</td>\n",
       "      <td>3</td>\n",
       "    </tr>\n",
       "    <tr>\n",
       "      <th>7</th>\n",
       "      <td>Добавить форму подписки на все основные страницы, чтобы собрать базу клиентов для email-рассылок</td>\n",
       "      <td>10</td>\n",
       "      <td>7</td>\n",
       "      <td>8</td>\n",
       "      <td>5</td>\n",
       "    </tr>\n",
       "    <tr>\n",
       "      <th>8</th>\n",
       "      <td>Запустить акцию, дающую скидку на товар в день рождения</td>\n",
       "      <td>1</td>\n",
       "      <td>9</td>\n",
       "      <td>9</td>\n",
       "      <td>5</td>\n",
       "    </tr>\n",
       "  </tbody>\n",
       "</table>\n",
       "</div>"
      ],
      "text/plain": [
       "                                                                                                     hypothesis  \\\n",
       "0  Добавить два новых канала привлечения трафика, что позволит привлекать на 30% больше пользователей             \n",
       "1  Запустить собственную службу доставки, что сократит срок доставки заказов                                      \n",
       "2  Добавить блоки рекомендаций товаров на сайт интернет магазина, чтобы повысить конверсию и средний чек заказа   \n",
       "3  Изменить структура категорий, что увеличит конверсию, т.к. пользователи быстрее найдут нужный товар            \n",
       "4  Изменить цвет фона главной страницы, чтобы увеличить вовлеченность пользователей                               \n",
       "5  Добавить страницу отзывов клиентов о магазине, что позволит увеличить количество заказов                       \n",
       "6  Показать на главной странице баннеры с актуальными акциями и распродажами, чтобы увеличить конверсию           \n",
       "7  Добавить форму подписки на все основные страницы, чтобы собрать базу клиентов для email-рассылок               \n",
       "8  Запустить акцию, дающую скидку на товар в день рождения                                                        \n",
       "\n",
       "   reach  impact  confidence  efforts  \n",
       "0  3      10      8           6        \n",
       "1  2      5       4           10       \n",
       "2  8      3       7           3        \n",
       "3  8      3       3           8        \n",
       "4  3      1       1           1        \n",
       "5  3      2       2           3        \n",
       "6  5      3       8           3        \n",
       "7  10     7       8           5        \n",
       "8  1      9       9           5        "
      ]
     },
     "execution_count": 5,
     "metadata": {},
     "output_type": "execute_result"
    }
   ],
   "source": [
    "hypothesis.columns = [x.lower() for x in hypothesis.columns.values]\n",
    "hypothesis"
   ]
  },
  {
   "cell_type": "markdown",
   "metadata": {},
   "source": [
    "**Таблица `orders`**"
   ]
  },
  {
   "cell_type": "code",
   "execution_count": 6,
   "metadata": {
    "scrolled": false
   },
   "outputs": [
    {
     "data": {
      "text/html": [
       "<div>\n",
       "<style scoped>\n",
       "    .dataframe tbody tr th:only-of-type {\n",
       "        vertical-align: middle;\n",
       "    }\n",
       "\n",
       "    .dataframe tbody tr th {\n",
       "        vertical-align: top;\n",
       "    }\n",
       "\n",
       "    .dataframe thead th {\n",
       "        text-align: right;\n",
       "    }\n",
       "</style>\n",
       "<table border=\"1\" class=\"dataframe\">\n",
       "  <thead>\n",
       "    <tr style=\"text-align: right;\">\n",
       "      <th></th>\n",
       "      <th>transactionId</th>\n",
       "      <th>visitorId</th>\n",
       "      <th>date</th>\n",
       "      <th>revenue</th>\n",
       "      <th>group</th>\n",
       "    </tr>\n",
       "  </thead>\n",
       "  <tbody>\n",
       "    <tr>\n",
       "      <th>0</th>\n",
       "      <td>3667963787</td>\n",
       "      <td>3312258926</td>\n",
       "      <td>2019-08-15</td>\n",
       "      <td>1650</td>\n",
       "      <td>B</td>\n",
       "    </tr>\n",
       "    <tr>\n",
       "      <th>1</th>\n",
       "      <td>2804400009</td>\n",
       "      <td>3642806036</td>\n",
       "      <td>2019-08-15</td>\n",
       "      <td>730</td>\n",
       "      <td>B</td>\n",
       "    </tr>\n",
       "    <tr>\n",
       "      <th>2</th>\n",
       "      <td>2961555356</td>\n",
       "      <td>4069496402</td>\n",
       "      <td>2019-08-15</td>\n",
       "      <td>400</td>\n",
       "      <td>A</td>\n",
       "    </tr>\n",
       "    <tr>\n",
       "      <th>3</th>\n",
       "      <td>3797467345</td>\n",
       "      <td>1196621759</td>\n",
       "      <td>2019-08-15</td>\n",
       "      <td>9759</td>\n",
       "      <td>B</td>\n",
       "    </tr>\n",
       "    <tr>\n",
       "      <th>4</th>\n",
       "      <td>2282983706</td>\n",
       "      <td>2322279887</td>\n",
       "      <td>2019-08-15</td>\n",
       "      <td>2308</td>\n",
       "      <td>B</td>\n",
       "    </tr>\n",
       "  </tbody>\n",
       "</table>\n",
       "</div>"
      ],
      "text/plain": [
       "   transactionId   visitorId       date  revenue group\n",
       "0  3667963787     3312258926 2019-08-15  1650     B   \n",
       "1  2804400009     3642806036 2019-08-15  730      B   \n",
       "2  2961555356     4069496402 2019-08-15  400      A   \n",
       "3  3797467345     1196621759 2019-08-15  9759     B   \n",
       "4  2282983706     2322279887 2019-08-15  2308     B   "
      ]
     },
     "metadata": {},
     "output_type": "display_data"
    },
    {
     "name": "stdout",
     "output_type": "stream",
     "text": [
      "\n",
      "<class 'pandas.core.frame.DataFrame'>\n",
      "RangeIndex: 1197 entries, 0 to 1196\n",
      "Data columns (total 5 columns):\n",
      " #   Column         Non-Null Count  Dtype         \n",
      "---  ------         --------------  -----         \n",
      " 0   transactionId  1197 non-null   int64         \n",
      " 1   visitorId      1197 non-null   int64         \n",
      " 2   date           1197 non-null   datetime64[ns]\n",
      " 3   revenue        1197 non-null   int64         \n",
      " 4   group          1197 non-null   object        \n",
      "dtypes: datetime64[ns](1), int64(3), object(1)\n",
      "memory usage: 46.9+ KB\n"
     ]
    },
    {
     "data": {
      "text/html": [
       "<div>\n",
       "<style scoped>\n",
       "    .dataframe tbody tr th:only-of-type {\n",
       "        vertical-align: middle;\n",
       "    }\n",
       "\n",
       "    .dataframe tbody tr th {\n",
       "        vertical-align: top;\n",
       "    }\n",
       "\n",
       "    .dataframe thead th {\n",
       "        text-align: right;\n",
       "    }\n",
       "</style>\n",
       "<table border=\"1\" class=\"dataframe\">\n",
       "  <thead>\n",
       "    <tr style=\"text-align: right;\">\n",
       "      <th></th>\n",
       "      <th>transactionId</th>\n",
       "      <th>visitorId</th>\n",
       "      <th>revenue</th>\n",
       "    </tr>\n",
       "  </thead>\n",
       "  <tbody>\n",
       "    <tr>\n",
       "      <th>count</th>\n",
       "      <td>1.197000e+03</td>\n",
       "      <td>1.197000e+03</td>\n",
       "      <td>1.197000e+03</td>\n",
       "    </tr>\n",
       "    <tr>\n",
       "      <th>mean</th>\n",
       "      <td>2.155621e+09</td>\n",
       "      <td>2.165960e+09</td>\n",
       "      <td>8.348006e+03</td>\n",
       "    </tr>\n",
       "    <tr>\n",
       "      <th>std</th>\n",
       "      <td>1.229085e+09</td>\n",
       "      <td>1.236014e+09</td>\n",
       "      <td>3.919113e+04</td>\n",
       "    </tr>\n",
       "    <tr>\n",
       "      <th>min</th>\n",
       "      <td>1.062393e+06</td>\n",
       "      <td>5.114589e+06</td>\n",
       "      <td>5.000000e+01</td>\n",
       "    </tr>\n",
       "    <tr>\n",
       "      <th>25%</th>\n",
       "      <td>1.166776e+09</td>\n",
       "      <td>1.111826e+09</td>\n",
       "      <td>1.220000e+03</td>\n",
       "    </tr>\n",
       "    <tr>\n",
       "      <th>50%</th>\n",
       "      <td>2.145194e+09</td>\n",
       "      <td>2.217985e+09</td>\n",
       "      <td>2.978000e+03</td>\n",
       "    </tr>\n",
       "    <tr>\n",
       "      <th>75%</th>\n",
       "      <td>3.237740e+09</td>\n",
       "      <td>3.177606e+09</td>\n",
       "      <td>8.290000e+03</td>\n",
       "    </tr>\n",
       "    <tr>\n",
       "      <th>max</th>\n",
       "      <td>4.293856e+09</td>\n",
       "      <td>4.283872e+09</td>\n",
       "      <td>1.294500e+06</td>\n",
       "    </tr>\n",
       "  </tbody>\n",
       "</table>\n",
       "</div>"
      ],
      "text/plain": [
       "       transactionId     visitorId       revenue\n",
       "count  1.197000e+03   1.197000e+03  1.197000e+03\n",
       "mean   2.155621e+09   2.165960e+09  8.348006e+03\n",
       "std    1.229085e+09   1.236014e+09  3.919113e+04\n",
       "min    1.062393e+06   5.114589e+06  5.000000e+01\n",
       "25%    1.166776e+09   1.111826e+09  1.220000e+03\n",
       "50%    2.145194e+09   2.217985e+09  2.978000e+03\n",
       "75%    3.237740e+09   3.177606e+09  8.290000e+03\n",
       "max    4.293856e+09   4.283872e+09  1.294500e+06"
      ]
     },
     "metadata": {},
     "output_type": "display_data"
    }
   ],
   "source": [
    "intro(orders)"
   ]
  },
  {
   "cell_type": "markdown",
   "metadata": {},
   "source": [
    "Приведём названия столбцов к нижнему регистру и к змеиному регистру."
   ]
  },
  {
   "cell_type": "code",
   "execution_count": 7,
   "metadata": {
    "scrolled": false
   },
   "outputs": [
    {
     "data": {
      "text/html": [
       "<div>\n",
       "<style scoped>\n",
       "    .dataframe tbody tr th:only-of-type {\n",
       "        vertical-align: middle;\n",
       "    }\n",
       "\n",
       "    .dataframe tbody tr th {\n",
       "        vertical-align: top;\n",
       "    }\n",
       "\n",
       "    .dataframe thead th {\n",
       "        text-align: right;\n",
       "    }\n",
       "</style>\n",
       "<table border=\"1\" class=\"dataframe\">\n",
       "  <thead>\n",
       "    <tr style=\"text-align: right;\">\n",
       "      <th></th>\n",
       "      <th>transaction_id</th>\n",
       "      <th>visitor_id</th>\n",
       "      <th>date</th>\n",
       "      <th>revenue</th>\n",
       "      <th>group</th>\n",
       "    </tr>\n",
       "  </thead>\n",
       "  <tbody>\n",
       "    <tr>\n",
       "      <th>0</th>\n",
       "      <td>3667963787</td>\n",
       "      <td>3312258926</td>\n",
       "      <td>2019-08-15</td>\n",
       "      <td>1650</td>\n",
       "      <td>B</td>\n",
       "    </tr>\n",
       "    <tr>\n",
       "      <th>1</th>\n",
       "      <td>2804400009</td>\n",
       "      <td>3642806036</td>\n",
       "      <td>2019-08-15</td>\n",
       "      <td>730</td>\n",
       "      <td>B</td>\n",
       "    </tr>\n",
       "    <tr>\n",
       "      <th>2</th>\n",
       "      <td>2961555356</td>\n",
       "      <td>4069496402</td>\n",
       "      <td>2019-08-15</td>\n",
       "      <td>400</td>\n",
       "      <td>A</td>\n",
       "    </tr>\n",
       "    <tr>\n",
       "      <th>3</th>\n",
       "      <td>3797467345</td>\n",
       "      <td>1196621759</td>\n",
       "      <td>2019-08-15</td>\n",
       "      <td>9759</td>\n",
       "      <td>B</td>\n",
       "    </tr>\n",
       "    <tr>\n",
       "      <th>4</th>\n",
       "      <td>2282983706</td>\n",
       "      <td>2322279887</td>\n",
       "      <td>2019-08-15</td>\n",
       "      <td>2308</td>\n",
       "      <td>B</td>\n",
       "    </tr>\n",
       "    <tr>\n",
       "      <th>...</th>\n",
       "      <td>...</td>\n",
       "      <td>...</td>\n",
       "      <td>...</td>\n",
       "      <td>...</td>\n",
       "      <td>...</td>\n",
       "    </tr>\n",
       "    <tr>\n",
       "      <th>1192</th>\n",
       "      <td>2662137336</td>\n",
       "      <td>3733762160</td>\n",
       "      <td>2019-08-14</td>\n",
       "      <td>6490</td>\n",
       "      <td>B</td>\n",
       "    </tr>\n",
       "    <tr>\n",
       "      <th>1193</th>\n",
       "      <td>2203539145</td>\n",
       "      <td>370388673</td>\n",
       "      <td>2019-08-14</td>\n",
       "      <td>3190</td>\n",
       "      <td>A</td>\n",
       "    </tr>\n",
       "    <tr>\n",
       "      <th>1194</th>\n",
       "      <td>1807773912</td>\n",
       "      <td>573423106</td>\n",
       "      <td>2019-08-14</td>\n",
       "      <td>10550</td>\n",
       "      <td>A</td>\n",
       "    </tr>\n",
       "    <tr>\n",
       "      <th>1195</th>\n",
       "      <td>1947021204</td>\n",
       "      <td>1614305549</td>\n",
       "      <td>2019-08-14</td>\n",
       "      <td>100</td>\n",
       "      <td>A</td>\n",
       "    </tr>\n",
       "    <tr>\n",
       "      <th>1196</th>\n",
       "      <td>3936777065</td>\n",
       "      <td>2108080724</td>\n",
       "      <td>2019-08-15</td>\n",
       "      <td>202740</td>\n",
       "      <td>B</td>\n",
       "    </tr>\n",
       "  </tbody>\n",
       "</table>\n",
       "<p>1197 rows × 5 columns</p>\n",
       "</div>"
      ],
      "text/plain": [
       "      transaction_id  visitor_id       date  revenue group\n",
       "0     3667963787      3312258926 2019-08-15  1650     B   \n",
       "1     2804400009      3642806036 2019-08-15  730      B   \n",
       "2     2961555356      4069496402 2019-08-15  400      A   \n",
       "3     3797467345      1196621759 2019-08-15  9759     B   \n",
       "4     2282983706      2322279887 2019-08-15  2308     B   \n",
       "...          ...             ...        ...   ...    ..   \n",
       "1192  2662137336      3733762160 2019-08-14  6490     B   \n",
       "1193  2203539145      370388673  2019-08-14  3190     A   \n",
       "1194  1807773912      573423106  2019-08-14  10550    A   \n",
       "1195  1947021204      1614305549 2019-08-14  100      A   \n",
       "1196  3936777065      2108080724 2019-08-15  202740   B   \n",
       "\n",
       "[1197 rows x 5 columns]"
      ]
     },
     "execution_count": 7,
     "metadata": {},
     "output_type": "execute_result"
    }
   ],
   "source": [
    "orders = orders.rename(columns={'transactionId': 'transaction_id', 'visitorId': 'visitor_id'})\n",
    "orders"
   ]
  },
  {
   "cell_type": "markdown",
   "metadata": {},
   "source": [
    "Посмотрим сколько групп присутстует в нашем тесте."
   ]
  },
  {
   "cell_type": "code",
   "execution_count": 8,
   "metadata": {},
   "outputs": [
    {
     "data": {
      "text/plain": [
       "B    640\n",
       "A    557\n",
       "Name: group, dtype: int64"
      ]
     },
     "execution_count": 8,
     "metadata": {},
     "output_type": "execute_result"
    }
   ],
   "source": [
    "orders['group'].value_counts()"
   ]
  },
  {
   "cell_type": "markdown",
   "metadata": {},
   "source": [
    "Как мы видим, у нас есть две группы и количество записей для группы B немного больше, чем группы A."
   ]
  },
  {
   "cell_type": "markdown",
   "metadata": {},
   "source": [
    "Посмотрим не попадают ли какие-то пользователи в обе группы."
   ]
  },
  {
   "cell_type": "code",
   "execution_count": 9,
   "metadata": {
    "scrolled": false
   },
   "outputs": [
    {
     "data": {
      "text/plain": [
       "58"
      ]
     },
     "execution_count": 9,
     "metadata": {},
     "output_type": "execute_result"
    }
   ],
   "source": [
    "len(set(orders.query('group == \"A\"')['visitor_id']) & set(orders.query('group == \"B\"')['visitor_id']))"
   ]
  },
  {
   "cell_type": "markdown",
   "metadata": {},
   "source": [
    "Как мы видим, 58 пользователей присутствуют в обеих группах. Удалять их не будем, но необходимо было бы сообщить об этом коллегам."
   ]
  },
  {
   "cell_type": "markdown",
   "metadata": {},
   "source": [
    "Проверим есть ли в данных пропущенные значения."
   ]
  },
  {
   "cell_type": "code",
   "execution_count": 10,
   "metadata": {},
   "outputs": [
    {
     "data": {
      "text/plain": [
       "transaction_id    0\n",
       "visitor_id        0\n",
       "date              0\n",
       "revenue           0\n",
       "group             0\n",
       "dtype: int64"
      ]
     },
     "execution_count": 10,
     "metadata": {},
     "output_type": "execute_result"
    }
   ],
   "source": [
    "orders.isna().sum()"
   ]
  },
  {
   "cell_type": "markdown",
   "metadata": {},
   "source": [
    "Пропущенных значений не обнаружено. Проверим данные на наличие дубликатов."
   ]
  },
  {
   "cell_type": "code",
   "execution_count": 11,
   "metadata": {},
   "outputs": [
    {
     "data": {
      "text/plain": [
       "0"
      ]
     },
     "execution_count": 11,
     "metadata": {},
     "output_type": "execute_result"
    }
   ],
   "source": [
    "orders.duplicated().sum()"
   ]
  },
  {
   "cell_type": "markdown",
   "metadata": {},
   "source": [
    "Дубликатов не обнаружено."
   ]
  },
  {
   "cell_type": "markdown",
   "metadata": {},
   "source": [
    "**Таблица `visitors`**"
   ]
  },
  {
   "cell_type": "code",
   "execution_count": 12,
   "metadata": {
    "scrolled": false
   },
   "outputs": [
    {
     "data": {
      "text/html": [
       "<div>\n",
       "<style scoped>\n",
       "    .dataframe tbody tr th:only-of-type {\n",
       "        vertical-align: middle;\n",
       "    }\n",
       "\n",
       "    .dataframe tbody tr th {\n",
       "        vertical-align: top;\n",
       "    }\n",
       "\n",
       "    .dataframe thead th {\n",
       "        text-align: right;\n",
       "    }\n",
       "</style>\n",
       "<table border=\"1\" class=\"dataframe\">\n",
       "  <thead>\n",
       "    <tr style=\"text-align: right;\">\n",
       "      <th></th>\n",
       "      <th>date</th>\n",
       "      <th>group</th>\n",
       "      <th>visitors</th>\n",
       "    </tr>\n",
       "  </thead>\n",
       "  <tbody>\n",
       "    <tr>\n",
       "      <th>0</th>\n",
       "      <td>2019-08-01</td>\n",
       "      <td>A</td>\n",
       "      <td>719</td>\n",
       "    </tr>\n",
       "    <tr>\n",
       "      <th>1</th>\n",
       "      <td>2019-08-02</td>\n",
       "      <td>A</td>\n",
       "      <td>619</td>\n",
       "    </tr>\n",
       "    <tr>\n",
       "      <th>2</th>\n",
       "      <td>2019-08-03</td>\n",
       "      <td>A</td>\n",
       "      <td>507</td>\n",
       "    </tr>\n",
       "    <tr>\n",
       "      <th>3</th>\n",
       "      <td>2019-08-04</td>\n",
       "      <td>A</td>\n",
       "      <td>717</td>\n",
       "    </tr>\n",
       "    <tr>\n",
       "      <th>4</th>\n",
       "      <td>2019-08-05</td>\n",
       "      <td>A</td>\n",
       "      <td>756</td>\n",
       "    </tr>\n",
       "  </tbody>\n",
       "</table>\n",
       "</div>"
      ],
      "text/plain": [
       "        date group  visitors\n",
       "0 2019-08-01  A     719     \n",
       "1 2019-08-02  A     619     \n",
       "2 2019-08-03  A     507     \n",
       "3 2019-08-04  A     717     \n",
       "4 2019-08-05  A     756     "
      ]
     },
     "metadata": {},
     "output_type": "display_data"
    },
    {
     "name": "stdout",
     "output_type": "stream",
     "text": [
      "\n",
      "<class 'pandas.core.frame.DataFrame'>\n",
      "RangeIndex: 62 entries, 0 to 61\n",
      "Data columns (total 3 columns):\n",
      " #   Column    Non-Null Count  Dtype         \n",
      "---  ------    --------------  -----         \n",
      " 0   date      62 non-null     datetime64[ns]\n",
      " 1   group     62 non-null     object        \n",
      " 2   visitors  62 non-null     int64         \n",
      "dtypes: datetime64[ns](1), int64(1), object(1)\n",
      "memory usage: 1.6+ KB\n"
     ]
    },
    {
     "data": {
      "text/html": [
       "<div>\n",
       "<style scoped>\n",
       "    .dataframe tbody tr th:only-of-type {\n",
       "        vertical-align: middle;\n",
       "    }\n",
       "\n",
       "    .dataframe tbody tr th {\n",
       "        vertical-align: top;\n",
       "    }\n",
       "\n",
       "    .dataframe thead th {\n",
       "        text-align: right;\n",
       "    }\n",
       "</style>\n",
       "<table border=\"1\" class=\"dataframe\">\n",
       "  <thead>\n",
       "    <tr style=\"text-align: right;\">\n",
       "      <th></th>\n",
       "      <th>visitors</th>\n",
       "    </tr>\n",
       "  </thead>\n",
       "  <tbody>\n",
       "    <tr>\n",
       "      <th>count</th>\n",
       "      <td>62.000000</td>\n",
       "    </tr>\n",
       "    <tr>\n",
       "      <th>mean</th>\n",
       "      <td>607.290323</td>\n",
       "    </tr>\n",
       "    <tr>\n",
       "      <th>std</th>\n",
       "      <td>114.400560</td>\n",
       "    </tr>\n",
       "    <tr>\n",
       "      <th>min</th>\n",
       "      <td>361.000000</td>\n",
       "    </tr>\n",
       "    <tr>\n",
       "      <th>25%</th>\n",
       "      <td>534.000000</td>\n",
       "    </tr>\n",
       "    <tr>\n",
       "      <th>50%</th>\n",
       "      <td>624.500000</td>\n",
       "    </tr>\n",
       "    <tr>\n",
       "      <th>75%</th>\n",
       "      <td>710.500000</td>\n",
       "    </tr>\n",
       "    <tr>\n",
       "      <th>max</th>\n",
       "      <td>770.000000</td>\n",
       "    </tr>\n",
       "  </tbody>\n",
       "</table>\n",
       "</div>"
      ],
      "text/plain": [
       "         visitors\n",
       "count  62.000000 \n",
       "mean   607.290323\n",
       "std    114.400560\n",
       "min    361.000000\n",
       "25%    534.000000\n",
       "50%    624.500000\n",
       "75%    710.500000\n",
       "max    770.000000"
      ]
     },
     "metadata": {},
     "output_type": "display_data"
    }
   ],
   "source": [
    "intro(visitors)"
   ]
  },
  {
   "cell_type": "markdown",
   "metadata": {},
   "source": [
    "Проверим дату начала и окончания теста."
   ]
  },
  {
   "cell_type": "code",
   "execution_count": 13,
   "metadata": {},
   "outputs": [
    {
     "name": "stdout",
     "output_type": "stream",
     "text": [
      "Дата начала теста: 2019-08-01 00:00:00 \n",
      "Дата окончания теста 2019-08-31 00:00:00\n"
     ]
    }
   ],
   "source": [
    "# дата начала теста\n",
    "min_analysis_date = visitors['date'].min()\n",
    "\n",
    "# дата окончания теста\n",
    "observation_date = visitors['date'].max()\n",
    "\n",
    "print('Дата начала теста:', min_analysis_date,\n",
    "      '\\nДата окончания теста', observation_date)"
   ]
  },
  {
   "cell_type": "markdown",
   "metadata": {},
   "source": [
    "Тест проводился с 1 по 31 августа 2019 года."
   ]
  },
  {
   "cell_type": "markdown",
   "metadata": {},
   "source": [
    "Проверим есть ли в данных пропущенные значения."
   ]
  },
  {
   "cell_type": "code",
   "execution_count": 14,
   "metadata": {
    "scrolled": true
   },
   "outputs": [
    {
     "data": {
      "text/plain": [
       "date        0\n",
       "group       0\n",
       "visitors    0\n",
       "dtype: int64"
      ]
     },
     "execution_count": 14,
     "metadata": {},
     "output_type": "execute_result"
    }
   ],
   "source": [
    "visitors.isna().sum()"
   ]
  },
  {
   "cell_type": "markdown",
   "metadata": {},
   "source": [
    "Пропущенных значений не обнаружено. Проверим данные на наличие дубликатов."
   ]
  },
  {
   "cell_type": "code",
   "execution_count": 15,
   "metadata": {},
   "outputs": [
    {
     "data": {
      "text/plain": [
       "0"
      ]
     },
     "execution_count": 15,
     "metadata": {},
     "output_type": "execute_result"
    }
   ],
   "source": [
    "visitors.duplicated().sum()"
   ]
  },
  {
   "cell_type": "markdown",
   "metadata": {},
   "source": [
    "Дубликатов не обнаружено."
   ]
  },
  {
   "cell_type": "markdown",
   "metadata": {},
   "source": [
    "### Вывод"
   ]
  },
  {
   "cell_type": "markdown",
   "metadata": {},
   "source": [
    "В нашем распоряжении имеются три таблицы с данными. Согласно документации:\n",
    "\n",
    "Таблица `hypothesis`:  \n",
    "\n",
    "* `Hypothesis` — краткое описание гипотезы;\n",
    "* `Reach` — охват пользователей по 10-балльной шкале;\n",
    "* `Impact` — влияние на пользователей по 10-балльной шкале;\n",
    "* `Confidence` — уверенность в гипотезе по 10-балльной шкале;\n",
    "* `Efforts` — затраты ресурсов на проверку гипотезы по 10-балльной шкале. Чем больше значение Efforts, тем дороже проверка гипотезы.\n",
    "\n",
    "Таблица `orders`:\n",
    "\n",
    "* `transactionId` — идентификатор заказа;\n",
    "* `visitorId` — идентификатор пользователя, совершившего заказ;\n",
    "* `date` — дата, когда был совершён заказ;\n",
    "* `revenue` — выручка заказа;\n",
    "* `group` — группа A/B-теста, в которую попал заказ.\n",
    "\n",
    "Таблица `visitors`:\n",
    "\n",
    "* `date` — дата;\n",
    "* `group` — группа A/B-теста;\n",
    "* `visitors` — количество пользователей в указанную дату в указанной группе A/B-теста\n",
    "\n",
    "Было выявлено следующее:\n",
    "* Тест проводился с 1 по 31 августа 2019 года\n",
    "* В тесте присутствуют две группы: `A` и `B`\n",
    "* 58 пользователей каким-то образом попали в обе группы. Необходимо сообщить об этом коллегам."
   ]
  },
  {
   "cell_type": "markdown",
   "metadata": {},
   "source": [
    "В ходе подготовки данных были проведены следующие действия:\n",
    "\n",
    "* Приведены к нижнему регистру и к змеиному регистру названия столбцов в таблицах\n",
    "* Данные проверены на наличие пропущенных значений и дубликатов"
   ]
  },
  {
   "cell_type": "markdown",
   "metadata": {},
   "source": [
    "## Приоритизация гипотез"
   ]
  },
  {
   "cell_type": "markdown",
   "metadata": {},
   "source": [
    "### ICE"
   ]
  },
  {
   "cell_type": "code",
   "execution_count": 16,
   "metadata": {},
   "outputs": [
    {
     "data": {
      "text/html": [
       "<div>\n",
       "<style scoped>\n",
       "    .dataframe tbody tr th:only-of-type {\n",
       "        vertical-align: middle;\n",
       "    }\n",
       "\n",
       "    .dataframe tbody tr th {\n",
       "        vertical-align: top;\n",
       "    }\n",
       "\n",
       "    .dataframe thead th {\n",
       "        text-align: right;\n",
       "    }\n",
       "</style>\n",
       "<table border=\"1\" class=\"dataframe\">\n",
       "  <thead>\n",
       "    <tr style=\"text-align: right;\">\n",
       "      <th></th>\n",
       "      <th>hypothesis</th>\n",
       "      <th>reach</th>\n",
       "      <th>impact</th>\n",
       "      <th>confidence</th>\n",
       "      <th>efforts</th>\n",
       "      <th>ICE</th>\n",
       "    </tr>\n",
       "  </thead>\n",
       "  <tbody>\n",
       "    <tr>\n",
       "      <th>8</th>\n",
       "      <td>Запустить акцию, дающую скидку на товар в день рождения</td>\n",
       "      <td>1</td>\n",
       "      <td>9</td>\n",
       "      <td>9</td>\n",
       "      <td>5</td>\n",
       "      <td>16.20</td>\n",
       "    </tr>\n",
       "    <tr>\n",
       "      <th>0</th>\n",
       "      <td>Добавить два новых канала привлечения трафика, что позволит привлекать на 30% больше пользователей</td>\n",
       "      <td>3</td>\n",
       "      <td>10</td>\n",
       "      <td>8</td>\n",
       "      <td>6</td>\n",
       "      <td>13.33</td>\n",
       "    </tr>\n",
       "    <tr>\n",
       "      <th>7</th>\n",
       "      <td>Добавить форму подписки на все основные страницы, чтобы собрать базу клиентов для email-рассылок</td>\n",
       "      <td>10</td>\n",
       "      <td>7</td>\n",
       "      <td>8</td>\n",
       "      <td>5</td>\n",
       "      <td>11.20</td>\n",
       "    </tr>\n",
       "    <tr>\n",
       "      <th>6</th>\n",
       "      <td>Показать на главной странице баннеры с актуальными акциями и распродажами, чтобы увеличить конверсию</td>\n",
       "      <td>5</td>\n",
       "      <td>3</td>\n",
       "      <td>8</td>\n",
       "      <td>3</td>\n",
       "      <td>8.00</td>\n",
       "    </tr>\n",
       "    <tr>\n",
       "      <th>2</th>\n",
       "      <td>Добавить блоки рекомендаций товаров на сайт интернет магазина, чтобы повысить конверсию и средний чек заказа</td>\n",
       "      <td>8</td>\n",
       "      <td>3</td>\n",
       "      <td>7</td>\n",
       "      <td>3</td>\n",
       "      <td>7.00</td>\n",
       "    </tr>\n",
       "    <tr>\n",
       "      <th>1</th>\n",
       "      <td>Запустить собственную службу доставки, что сократит срок доставки заказов</td>\n",
       "      <td>2</td>\n",
       "      <td>5</td>\n",
       "      <td>4</td>\n",
       "      <td>10</td>\n",
       "      <td>2.00</td>\n",
       "    </tr>\n",
       "    <tr>\n",
       "      <th>5</th>\n",
       "      <td>Добавить страницу отзывов клиентов о магазине, что позволит увеличить количество заказов</td>\n",
       "      <td>3</td>\n",
       "      <td>2</td>\n",
       "      <td>2</td>\n",
       "      <td>3</td>\n",
       "      <td>1.33</td>\n",
       "    </tr>\n",
       "    <tr>\n",
       "      <th>3</th>\n",
       "      <td>Изменить структура категорий, что увеличит конверсию, т.к. пользователи быстрее найдут нужный товар</td>\n",
       "      <td>8</td>\n",
       "      <td>3</td>\n",
       "      <td>3</td>\n",
       "      <td>8</td>\n",
       "      <td>1.12</td>\n",
       "    </tr>\n",
       "    <tr>\n",
       "      <th>4</th>\n",
       "      <td>Изменить цвет фона главной страницы, чтобы увеличить вовлеченность пользователей</td>\n",
       "      <td>3</td>\n",
       "      <td>1</td>\n",
       "      <td>1</td>\n",
       "      <td>1</td>\n",
       "      <td>1.00</td>\n",
       "    </tr>\n",
       "  </tbody>\n",
       "</table>\n",
       "</div>"
      ],
      "text/plain": [
       "                                                                                                     hypothesis  \\\n",
       "8  Запустить акцию, дающую скидку на товар в день рождения                                                        \n",
       "0  Добавить два новых канала привлечения трафика, что позволит привлекать на 30% больше пользователей             \n",
       "7  Добавить форму подписки на все основные страницы, чтобы собрать базу клиентов для email-рассылок               \n",
       "6  Показать на главной странице баннеры с актуальными акциями и распродажами, чтобы увеличить конверсию           \n",
       "2  Добавить блоки рекомендаций товаров на сайт интернет магазина, чтобы повысить конверсию и средний чек заказа   \n",
       "1  Запустить собственную службу доставки, что сократит срок доставки заказов                                      \n",
       "5  Добавить страницу отзывов клиентов о магазине, что позволит увеличить количество заказов                       \n",
       "3  Изменить структура категорий, что увеличит конверсию, т.к. пользователи быстрее найдут нужный товар            \n",
       "4  Изменить цвет фона главной страницы, чтобы увеличить вовлеченность пользователей                               \n",
       "\n",
       "   reach  impact  confidence  efforts    ICE  \n",
       "8  1      9       9           5        16.20  \n",
       "0  3      10      8           6        13.33  \n",
       "7  10     7       8           5        11.20  \n",
       "6  5      3       8           3        8.00   \n",
       "2  8      3       7           3        7.00   \n",
       "1  2      5       4           10       2.00   \n",
       "5  3      2       2           3        1.33   \n",
       "3  8      3       3           8        1.12   \n",
       "4  3      1       1           1        1.00   "
      ]
     },
     "execution_count": 16,
     "metadata": {},
     "output_type": "execute_result"
    }
   ],
   "source": [
    "hypothesis['ICE'] = round(hypothesis['impact'] * hypothesis['confidence'] / hypothesis['efforts'], 2)\n",
    "hypothesis.sort_values(by = 'ICE', ascending = False)"
   ]
  },
  {
   "cell_type": "markdown",
   "metadata": {},
   "source": [
    "### RICE"
   ]
  },
  {
   "cell_type": "code",
   "execution_count": 17,
   "metadata": {},
   "outputs": [
    {
     "data": {
      "text/html": [
       "<div>\n",
       "<style scoped>\n",
       "    .dataframe tbody tr th:only-of-type {\n",
       "        vertical-align: middle;\n",
       "    }\n",
       "\n",
       "    .dataframe tbody tr th {\n",
       "        vertical-align: top;\n",
       "    }\n",
       "\n",
       "    .dataframe thead th {\n",
       "        text-align: right;\n",
       "    }\n",
       "</style>\n",
       "<table border=\"1\" class=\"dataframe\">\n",
       "  <thead>\n",
       "    <tr style=\"text-align: right;\">\n",
       "      <th></th>\n",
       "      <th>hypothesis</th>\n",
       "      <th>reach</th>\n",
       "      <th>impact</th>\n",
       "      <th>confidence</th>\n",
       "      <th>efforts</th>\n",
       "      <th>ICE</th>\n",
       "      <th>RICE</th>\n",
       "    </tr>\n",
       "  </thead>\n",
       "  <tbody>\n",
       "    <tr>\n",
       "      <th>7</th>\n",
       "      <td>Добавить форму подписки на все основные страницы, чтобы собрать базу клиентов для email-рассылок</td>\n",
       "      <td>10</td>\n",
       "      <td>7</td>\n",
       "      <td>8</td>\n",
       "      <td>5</td>\n",
       "      <td>11.20</td>\n",
       "      <td>112.0</td>\n",
       "    </tr>\n",
       "    <tr>\n",
       "      <th>2</th>\n",
       "      <td>Добавить блоки рекомендаций товаров на сайт интернет магазина, чтобы повысить конверсию и средний чек заказа</td>\n",
       "      <td>8</td>\n",
       "      <td>3</td>\n",
       "      <td>7</td>\n",
       "      <td>3</td>\n",
       "      <td>7.00</td>\n",
       "      <td>56.0</td>\n",
       "    </tr>\n",
       "    <tr>\n",
       "      <th>0</th>\n",
       "      <td>Добавить два новых канала привлечения трафика, что позволит привлекать на 30% больше пользователей</td>\n",
       "      <td>3</td>\n",
       "      <td>10</td>\n",
       "      <td>8</td>\n",
       "      <td>6</td>\n",
       "      <td>13.33</td>\n",
       "      <td>40.0</td>\n",
       "    </tr>\n",
       "    <tr>\n",
       "      <th>6</th>\n",
       "      <td>Показать на главной странице баннеры с актуальными акциями и распродажами, чтобы увеличить конверсию</td>\n",
       "      <td>5</td>\n",
       "      <td>3</td>\n",
       "      <td>8</td>\n",
       "      <td>3</td>\n",
       "      <td>8.00</td>\n",
       "      <td>40.0</td>\n",
       "    </tr>\n",
       "    <tr>\n",
       "      <th>8</th>\n",
       "      <td>Запустить акцию, дающую скидку на товар в день рождения</td>\n",
       "      <td>1</td>\n",
       "      <td>9</td>\n",
       "      <td>9</td>\n",
       "      <td>5</td>\n",
       "      <td>16.20</td>\n",
       "      <td>16.2</td>\n",
       "    </tr>\n",
       "    <tr>\n",
       "      <th>3</th>\n",
       "      <td>Изменить структура категорий, что увеличит конверсию, т.к. пользователи быстрее найдут нужный товар</td>\n",
       "      <td>8</td>\n",
       "      <td>3</td>\n",
       "      <td>3</td>\n",
       "      <td>8</td>\n",
       "      <td>1.12</td>\n",
       "      <td>9.0</td>\n",
       "    </tr>\n",
       "    <tr>\n",
       "      <th>1</th>\n",
       "      <td>Запустить собственную службу доставки, что сократит срок доставки заказов</td>\n",
       "      <td>2</td>\n",
       "      <td>5</td>\n",
       "      <td>4</td>\n",
       "      <td>10</td>\n",
       "      <td>2.00</td>\n",
       "      <td>4.0</td>\n",
       "    </tr>\n",
       "    <tr>\n",
       "      <th>5</th>\n",
       "      <td>Добавить страницу отзывов клиентов о магазине, что позволит увеличить количество заказов</td>\n",
       "      <td>3</td>\n",
       "      <td>2</td>\n",
       "      <td>2</td>\n",
       "      <td>3</td>\n",
       "      <td>1.33</td>\n",
       "      <td>4.0</td>\n",
       "    </tr>\n",
       "    <tr>\n",
       "      <th>4</th>\n",
       "      <td>Изменить цвет фона главной страницы, чтобы увеличить вовлеченность пользователей</td>\n",
       "      <td>3</td>\n",
       "      <td>1</td>\n",
       "      <td>1</td>\n",
       "      <td>1</td>\n",
       "      <td>1.00</td>\n",
       "      <td>3.0</td>\n",
       "    </tr>\n",
       "  </tbody>\n",
       "</table>\n",
       "</div>"
      ],
      "text/plain": [
       "                                                                                                     hypothesis  \\\n",
       "7  Добавить форму подписки на все основные страницы, чтобы собрать базу клиентов для email-рассылок               \n",
       "2  Добавить блоки рекомендаций товаров на сайт интернет магазина, чтобы повысить конверсию и средний чек заказа   \n",
       "0  Добавить два новых канала привлечения трафика, что позволит привлекать на 30% больше пользователей             \n",
       "6  Показать на главной странице баннеры с актуальными акциями и распродажами, чтобы увеличить конверсию           \n",
       "8  Запустить акцию, дающую скидку на товар в день рождения                                                        \n",
       "3  Изменить структура категорий, что увеличит конверсию, т.к. пользователи быстрее найдут нужный товар            \n",
       "1  Запустить собственную службу доставки, что сократит срок доставки заказов                                      \n",
       "5  Добавить страницу отзывов клиентов о магазине, что позволит увеличить количество заказов                       \n",
       "4  Изменить цвет фона главной страницы, чтобы увеличить вовлеченность пользователей                               \n",
       "\n",
       "   reach  impact  confidence  efforts    ICE   RICE  \n",
       "7  10     7       8           5        11.20  112.0  \n",
       "2  8      3       7           3        7.00   56.0   \n",
       "0  3      10      8           6        13.33  40.0   \n",
       "6  5      3       8           3        8.00   40.0   \n",
       "8  1      9       9           5        16.20  16.2   \n",
       "3  8      3       3           8        1.12   9.0    \n",
       "1  2      5       4           10       2.00   4.0    \n",
       "5  3      2       2           3        1.33   4.0    \n",
       "4  3      1       1           1        1.00   3.0    "
      ]
     },
     "execution_count": 17,
     "metadata": {},
     "output_type": "execute_result"
    }
   ],
   "source": [
    "hypothesis['RICE'] = round(hypothesis['reach']*hypothesis['impact'] * hypothesis['confidence'] / hypothesis['efforts'], 2)\n",
    "hypothesis.sort_values(by = 'RICE', ascending = False)"
   ]
  },
  {
   "cell_type": "markdown",
   "metadata": {},
   "source": [
    "### Вывод"
   ]
  },
  {
   "cell_type": "markdown",
   "metadata": {},
   "source": [
    "Наиболее перспективные гипотезы по `ICE`:\n",
    "\n",
    "- Запустить акцию, дающую скидку на товар в день рождения (**гипотеза 8**)\n",
    "- Добавить два новых канала привлечения трафика, что позволит привлекать на 30% больше пользователей (**гипотеза 0**)\n",
    "- Добавить форму подписки на все основные страницы, чтобы собрать базу клиентов для email-рассылок (**гипотеза 7**)\n",
    "\n",
    "Что касаетсям `RICE`, тройка перспективных гипотез выглядит следующим образом:\n",
    "\n",
    "- Добавить форму подписки на все основные страницы, чтобы собрать базу клиентов для email-рассылок (**гипотеза 7**)\n",
    "- Добавить блоки рекомендаций товаров на сайт интернет магазина, чтобы повысить конверсию и средний чек заказа (**гипотеза 2**)\n",
    "- Добавить два новых канала привлечения трафика, что позволит привлекать на 30% больше пользователей (**гипотеза 0**)\n",
    "\n",
    "Фрейморк RICE при расчете учитывает еще один показатель - \"reach\", который учитывает скольких пользователей затронет изменение.  Именно он влияет на перестановку гипотез по степени приоритетности.  \n",
    "\n",
    "Например, занимавшая первое место по ICE гипотеза о запуске акции, дающую скидку в день рождения, в случае приоритизации по RICE оказывается аж на пятое место. Это можно объяснить тем, что охват у нее самый низкий (reach) - всего 1 балл. Данная акция для пользователя возможна только 1 раз в год, что существенно ограничивает ее применение. \n",
    "\n",
    "Гипотезы фреймворка RICE являются наиболее приоритетными, поэтому именно их следует использовать при проведении A/B-теста."
   ]
  },
  {
   "cell_type": "markdown",
   "metadata": {},
   "source": [
    "## Анализ A/B-теста"
   ]
  },
  {
   "cell_type": "markdown",
   "metadata": {},
   "source": [
    "###  Построение графика кумулятивной выручки по группам"
   ]
  },
  {
   "cell_type": "markdown",
   "metadata": {},
   "source": [
    "Создадим массив уникальных пар значений дат и групп из таблицы orders и избавимся от дубликатов методом drop_duplicates():"
   ]
  },
  {
   "cell_type": "code",
   "execution_count": 18,
   "metadata": {},
   "outputs": [],
   "source": [
    "dates_groups = orders[['date','group']].drop_duplicates()"
   ]
  },
  {
   "cell_type": "markdown",
   "metadata": {},
   "source": [
    "Объявим переменную `orders_aggregated`, которая будет содержать:\n",
    "   - дату;\n",
    "   - группу A/B-теста;\n",
    "   - число уникальных заказов в группе теста по указанную дату включительно;\n",
    "   - число уникальных пользователей, совершивших хотя бы 1 заказ в группе теста по указанную дату включительно;\n",
    "   - суммарную выручку заказов в группе теста по указанную дату включительно"
   ]
  },
  {
   "cell_type": "code",
   "execution_count": 19,
   "metadata": {},
   "outputs": [],
   "source": [
    "orders_aggregated = dates_groups.apply(\n",
    "    lambda x: orders[np.logical_and(orders['date'] <= x['date'], orders['group'] == x['group'])].agg(\n",
    "        {\n",
    "            'date' : 'max', \n",
    "            'group' : 'max', \n",
    "            'transaction_id' : 'nunique', \n",
    "            'visitor_id' : 'nunique', \n",
    "            'revenue' : 'sum'\n",
    "        }\n",
    "    ), axis=1).sort_values(by=['date','group'])"
   ]
  },
  {
   "cell_type": "markdown",
   "metadata": {},
   "source": [
    "Аналогично получим агрегированные кумулятивные по дням данные о пользователях. Объявим переменную visitors_aggregated, содержащую дату, группу A/B-теста и количество уникальных посетителей в группе теста по указанную дату включительно"
   ]
  },
  {
   "cell_type": "code",
   "execution_count": 20,
   "metadata": {},
   "outputs": [],
   "source": [
    "visitors_aggregated = dates_groups.apply(\n",
    "    lambda x: visitors[np.logical_and(visitors['date'] <= x['date'], visitors['group'] == x['group'])].agg(\n",
    "        {\n",
    "            'date' : 'max', \n",
    "            'group' : 'max', \n",
    "            'visitors' : 'sum'\n",
    "        }\n",
    "    ), axis=1).sort_values(by=['date','group'])"
   ]
  },
  {
   "cell_type": "markdown",
   "metadata": {},
   "source": [
    "Объединим созданные переменные в одну методом merge. Назовем ее cumulative_data, а столбцам присвоим следующие названия `date`, `group`, `orders`, `buyers`, `revenue`, `visitors`"
   ]
  },
  {
   "cell_type": "code",
   "execution_count": 21,
   "metadata": {},
   "outputs": [],
   "source": [
    "cumulative_data = orders_aggregated.merge(visitors_aggregated, left_on=['date', 'group'], right_on=['date', 'group'])\n",
    "cumulative_data.columns = ['date', 'group', 'orders', 'buyers', 'revenue', 'visitors']"
   ]
  },
  {
   "cell_type": "markdown",
   "metadata": {},
   "source": [
    "Объявим переменные cumulative_revenueA и cumulative_revenueB, в которых сохраним данные о датах, выручке и числе заказов в группах A и B"
   ]
  },
  {
   "cell_type": "code",
   "execution_count": 22,
   "metadata": {},
   "outputs": [],
   "source": [
    "cumulative_revenueA = cumulative_data[cumulative_data['group']=='A'][['date','revenue', 'orders']]"
   ]
  },
  {
   "cell_type": "code",
   "execution_count": 23,
   "metadata": {},
   "outputs": [],
   "source": [
    "cumulative_revenueB = cumulative_data[cumulative_data['group']=='B'][['date','revenue', 'orders']]"
   ]
  },
  {
   "cell_type": "markdown",
   "metadata": {},
   "source": [
    "Теперь можем построить графики кумулятивной выручки по дням и группам A/B-тестирования"
   ]
  },
  {
   "cell_type": "code",
   "execution_count": 24,
   "metadata": {},
   "outputs": [
    {
     "data": {
      "image/png": "[encoded data removed]",
      "text/plain": [
       "<Figure size 1296x576 with 1 Axes>"
      ]
     },
     "metadata": {
      "needs_background": "light"
     },
     "output_type": "display_data"
    }
   ],
   "source": [
    "plt.figure(figsize=(18,8))\n",
    "plt.grid()\n",
    "plt.title('График кумулятивной выручки по группам')\n",
    "plt.xlabel('Дата')\n",
    "plt.ylabel('Выручка')\n",
    "\n",
    "plt.plot(cumulative_revenueA['date'], cumulative_revenueA['revenue'], label='group A')\n",
    "plt.plot(cumulative_revenueB['date'], cumulative_revenueB['revenue'], label='group B')\n",
    "plt.legend() \n",
    "plt.show()"
   ]
  },
  {
   "cell_type": "markdown",
   "metadata": {},
   "source": [
    "**ВЫВОД:** \n",
    "\n",
    "По графику можно заметить, что выручка сегмента А росла практически равномерно с самого начала теста.\n",
    "Что же касается сегмента В, с небольшим перевесом он лидировал с самого начала теста, иногда даже находясь на одном уровне с сегментом А. Однако 18 августа можно заметить резкий скачок выручки у сегмента В, который вызван скорее всего либо аномально большим заказом, либо наличием очень дорогих товаров в заказе"
   ]
  },
  {
   "cell_type": "markdown",
   "metadata": {},
   "source": [
    "### Построение графика кумулятивного среднего чека по группам"
   ]
  },
  {
   "cell_type": "markdown",
   "metadata": {},
   "source": [
    "Построим график кумулятивного среднего чека по группам"
   ]
  },
  {
   "cell_type": "code",
   "execution_count": 25,
   "metadata": {},
   "outputs": [
    {
     "data": {
      "image/png": "[encoded data removed]",
      "text/plain": [
       "<Figure size 1296x576 with 1 Axes>"
      ]
     },
     "metadata": {
      "needs_background": "light"
     },
     "output_type": "display_data"
    }
   ],
   "source": [
    "plt.figure(figsize=(18,8))\n",
    "plt.grid()\n",
    "plt.title('График кумулятивного среднего чека по группам')\n",
    "plt.xlabel('Дата')\n",
    "plt.ylabel('Средний чек')\n",
    "\n",
    "plt.plot(cumulative_revenueA['date'], cumulative_revenueA['revenue']/cumulative_revenueA['orders'], label='group A')\n",
    "plt.plot(cumulative_revenueB['date'], cumulative_revenueB['revenue']/cumulative_revenueB['orders'], label='group B')\n",
    "plt.legend() \n",
    "plt.show()"
   ]
  },
  {
   "cell_type": "markdown",
   "metadata": {},
   "source": [
    "**ВЫВОД:** \n",
    "\n",
    "На данном графике опять заметен резкий скачок среднего чека в сегмента В 18 августа. Скорее всего были крупные заказы, которые сильно повлияли на данные.\n",
    "В первой половине месяца значения среднего чека колеблются как у сегмента А, так и у сегмента В. Сегмент А достигает своего пика 13 августа, после чего немного снижается и стабилизируется, снова достигая пика к концу месяца"
   ]
  },
  {
   "cell_type": "markdown",
   "metadata": {},
   "source": [
    "### Построение графика относительного изменения кумулятивного среднего чека группы B к группе A"
   ]
  },
  {
   "cell_type": "markdown",
   "metadata": {},
   "source": [
    "Объединим cumulative_revenueA и cumulative_revenueB методом merge() так, чтобы она содержала столбцы: `date`, `revenueA`, `revenueB`, `ordersA`, `ordersB`. Сохраним всё в переменной merged_cumulative_revenue"
   ]
  },
  {
   "cell_type": "code",
   "execution_count": 26,
   "metadata": {},
   "outputs": [],
   "source": [
    "merged_cumulative_revenue = cumulative_revenueA.merge(\n",
    "                                                        cumulative_revenueB, \n",
    "                                                        left_on='date', \n",
    "                                                        right_on='date', \n",
    "                                                        how='left', \n",
    "                                                        suffixes=['A', 'B']\n",
    "                                                    )"
   ]
  },
  {
   "cell_type": "markdown",
   "metadata": {},
   "source": [
    "Построим график относительно различия кумулятивного среднего чека группы B к группе A"
   ]
  },
  {
   "cell_type": "code",
   "execution_count": 27,
   "metadata": {},
   "outputs": [
    {
     "data": {
      "image/png": "[encoded data removed]",
      "text/plain": [
       "<Figure size 1296x576 with 1 Axes>"
      ]
     },
     "metadata": {
      "needs_background": "light"
     },
     "output_type": "display_data"
    }
   ],
   "source": [
    "plt.figure(figsize=(18,8))\n",
    "plt.grid()\n",
    "plt.title('График относительного различия в среднем чеке между группами')\n",
    "plt.xlabel('Дата')\n",
    "plt.ylabel('Различия в %')\n",
    "\n",
    "plt.plot(merged_cumulative_revenue['date'], (merged_cumulative_revenue['revenueB']/merged_cumulative_revenue['ordersB'])/(merged_cumulative_revenue['revenueA']/merged_cumulative_revenue['ordersA'])-1)\n",
    "\n",
    "plt.axhline(y=0, color='black', linestyle='--') \n",
    "plt.show()"
   ]
  },
  {
   "cell_type": "markdown",
   "metadata": {},
   "source": [
    "**ВЫВОД:**\n",
    "\n",
    "Все три графика демонстрируют одну картину 18 августа: везде заметен резкий скачок сегмента В, когда и были совершены аномальные заказы.\n",
    "Помимо 18 августа также стоит отметить и резкое падение результатов теста 8 августа"
   ]
  },
  {
   "cell_type": "markdown",
   "metadata": {},
   "source": [
    "###  Построение графика кумулятивного среднего количества заказов на посетителя по группам"
   ]
  },
  {
   "cell_type": "markdown",
   "metadata": {},
   "source": [
    "Добавим в cumulative_data столбец `conversion` c отношением числа заказов к количеству пользователей в указанной группе в указанный день"
   ]
  },
  {
   "cell_type": "code",
   "execution_count": 28,
   "metadata": {},
   "outputs": [],
   "source": [
    "cumulative_data['conversion'] = cumulative_data['orders']/cumulative_data['visitors']"
   ]
  },
  {
   "cell_type": "markdown",
   "metadata": {},
   "source": [
    "Объявим переменные `cumulative_dataA` и `cumulative_dataB`, в которых сохраним данные о заказах в группах A и B соответственно"
   ]
  },
  {
   "cell_type": "code",
   "execution_count": 29,
   "metadata": {},
   "outputs": [],
   "source": [
    "cumulative_dataA = cumulative_data[cumulative_data['group']=='A']\n",
    "cumulative_dataB = cumulative_data[cumulative_data['group']=='B']"
   ]
  },
  {
   "cell_type": "markdown",
   "metadata": {},
   "source": [
    "Построим график"
   ]
  },
  {
   "cell_type": "code",
   "execution_count": 30,
   "metadata": {},
   "outputs": [
    {
     "data": {
      "image/png": "[encoded data removed]",
      "text/plain": [
       "<Figure size 1296x576 with 1 Axes>"
      ]
     },
     "metadata": {
      "needs_background": "light"
     },
     "output_type": "display_data"
    }
   ],
   "source": [
    "plt.figure(figsize=(18,8))\n",
    "plt.grid()\n",
    "plt.title('График кумулятивного среднего количества заказов на посетителя по группам')\n",
    "plt.xlabel('Дата')\n",
    "plt.ylabel('Среднее количество заказов')\n",
    "\n",
    "plt.plot(cumulative_dataA['date'], cumulative_dataA['conversion'], label='group A')\n",
    "plt.plot(cumulative_dataB['date'], cumulative_dataB['conversion'], label='group B')\n",
    "plt.legend()\n",
    "plt.show()"
   ]
  },
  {
   "cell_type": "markdown",
   "metadata": {},
   "source": [
    "**ВЫВОД:**\n",
    "\n",
    "В самом начале теста конверсия сегмента А была выше сегмента В, после чего наблюдаются сильные колебания у обоих сегментов. Однако уже 9 августа графики пересекаются, после чего конверсия сегмента В начинает расти и так и остается выше сегмента А до конца теста. На данном этапе конверсия группы В выглядит лучше конверсии гуппы А (3,4% против 3,0%)"
   ]
  },
  {
   "cell_type": "markdown",
   "metadata": {},
   "source": [
    "###  Построение рафика относительного изменения кумулятивного среднего количества заказов на посетителя группы B к группе A"
   ]
  },
  {
   "cell_type": "markdown",
   "metadata": {},
   "source": [
    "В переменной `merged_cumulative_conversions` объединим таблицы `cumulative_dataA` и `cumulative_dataB`"
   ]
  },
  {
   "cell_type": "code",
   "execution_count": 31,
   "metadata": {},
   "outputs": [],
   "source": [
    "merged_cumulative_conversions = cumulative_dataA[['date','conversion']].merge(\n",
    "                                                                                cumulative_dataB[['date','conversion']], \n",
    "                                                                                left_on='date', \n",
    "                                                                                right_on='date', \n",
    "                                                                                how='left', \n",
    "                                                                                suffixes=['A', 'B']\n",
    "                                                                            )"
   ]
  },
  {
   "cell_type": "code",
   "execution_count": 32,
   "metadata": {
    "scrolled": false
   },
   "outputs": [
    {
     "data": {
      "image/png": "[encoded data removed]",
      "text/plain": [
       "<Figure size 1296x576 with 1 Axes>"
      ]
     },
     "metadata": {
      "needs_background": "light"
     },
     "output_type": "display_data"
    }
   ],
   "source": [
    "plt.figure(figsize=(18,8))\n",
    "plt.grid()\n",
    "plt.title('График относительного изменения кумулятивного среднего количества заказов на посетителя группы B к группе A')\n",
    "plt.xlabel('Дата')\n",
    "plt.ylabel('изменение кумулятивного среднего в %')\n",
    "\n",
    "plt.plot(merged_cumulative_conversions['date'], merged_cumulative_conversions['conversionB']/merged_cumulative_conversions['conversionA']-1)\n",
    "plt.show()"
   ]
  },
  {
   "cell_type": "markdown",
   "metadata": {},
   "source": [
    "**ВЫВОД:**\n",
    "\n",
    "В начале теста группа В в основном проигрывала группе А, но с 6 августа начинается подъем и группа В вырывается вперед, достигая пика в середине месяца. С 8 августа график колебался от 10 до 20%, постепенно снижаясь к концу месяца."
   ]
  },
  {
   "cell_type": "markdown",
   "metadata": {},
   "source": [
    "### Построение точечного графика количества заказов по пользователям"
   ]
  },
  {
   "cell_type": "markdown",
   "metadata": {},
   "source": [
    "Найдем число заказов по пользователям"
   ]
  },
  {
   "cell_type": "code",
   "execution_count": 33,
   "metadata": {},
   "outputs": [],
   "source": [
    "orders_per_user = orders.groupby('visitor_id', as_index=False).agg({'transaction_id':'nunique'})\n",
    "orders_per_user.columns = ['visitor_id', 'orders']"
   ]
  },
  {
   "cell_type": "code",
   "execution_count": 34,
   "metadata": {},
   "outputs": [
    {
     "data": {
      "text/html": [
       "<div>\n",
       "<style scoped>\n",
       "    .dataframe tbody tr th:only-of-type {\n",
       "        vertical-align: middle;\n",
       "    }\n",
       "\n",
       "    .dataframe tbody tr th {\n",
       "        vertical-align: top;\n",
       "    }\n",
       "\n",
       "    .dataframe thead th {\n",
       "        text-align: right;\n",
       "    }\n",
       "</style>\n",
       "<table border=\"1\" class=\"dataframe\">\n",
       "  <thead>\n",
       "    <tr style=\"text-align: right;\">\n",
       "      <th></th>\n",
       "      <th>visitor_id</th>\n",
       "      <th>orders</th>\n",
       "    </tr>\n",
       "  </thead>\n",
       "  <tbody>\n",
       "    <tr>\n",
       "      <th>0</th>\n",
       "      <td>5114589</td>\n",
       "      <td>1</td>\n",
       "    </tr>\n",
       "    <tr>\n",
       "      <th>1</th>\n",
       "      <td>6958315</td>\n",
       "      <td>1</td>\n",
       "    </tr>\n",
       "    <tr>\n",
       "      <th>2</th>\n",
       "      <td>8300375</td>\n",
       "      <td>2</td>\n",
       "    </tr>\n",
       "    <tr>\n",
       "      <th>3</th>\n",
       "      <td>11685486</td>\n",
       "      <td>1</td>\n",
       "    </tr>\n",
       "    <tr>\n",
       "      <th>4</th>\n",
       "      <td>39475350</td>\n",
       "      <td>1</td>\n",
       "    </tr>\n",
       "    <tr>\n",
       "      <th>5</th>\n",
       "      <td>47206413</td>\n",
       "      <td>1</td>\n",
       "    </tr>\n",
       "    <tr>\n",
       "      <th>6</th>\n",
       "      <td>48147722</td>\n",
       "      <td>1</td>\n",
       "    </tr>\n",
       "    <tr>\n",
       "      <th>7</th>\n",
       "      <td>54447517</td>\n",
       "      <td>1</td>\n",
       "    </tr>\n",
       "    <tr>\n",
       "      <th>8</th>\n",
       "      <td>56960363</td>\n",
       "      <td>1</td>\n",
       "    </tr>\n",
       "    <tr>\n",
       "      <th>9</th>\n",
       "      <td>66685450</td>\n",
       "      <td>1</td>\n",
       "    </tr>\n",
       "  </tbody>\n",
       "</table>\n",
       "</div>"
      ],
      "text/plain": [
       "   visitor_id  orders\n",
       "0  5114589     1     \n",
       "1  6958315     1     \n",
       "2  8300375     2     \n",
       "3  11685486    1     \n",
       "4  39475350    1     \n",
       "5  47206413    1     \n",
       "6  48147722    1     \n",
       "7  54447517    1     \n",
       "8  56960363    1     \n",
       "9  66685450    1     "
      ]
     },
     "execution_count": 34,
     "metadata": {},
     "output_type": "execute_result"
    }
   ],
   "source": [
    "orders_per_user.head(10)"
   ]
  },
  {
   "cell_type": "code",
   "execution_count": 35,
   "metadata": {},
   "outputs": [
    {
     "data": {
      "image/png": "[encoded data removed]",
      "text/plain": [
       "<Figure size 720x576 with 1 Axes>"
      ]
     },
     "metadata": {
      "needs_background": "light"
     },
     "output_type": "display_data"
    }
   ],
   "source": [
    "plt.figure(figsize=(10,8))\n",
    "plt.title('Точечный график количества заказов по пользователям')\n",
    "plt.ylabel('Количество заказов')\n",
    "\n",
    "x_values = pd.Series(range(0, len(orders_per_user)))\n",
    "plt.scatter(x_values, orders_per_user['orders']) \n",
    "plt.show()"
   ]
  },
  {
   "cell_type": "markdown",
   "metadata": {},
   "source": [
    "**ВЫВОД:**\n",
    "\n",
    "В основном покупают всего 1 раз, но пользователей, совершивших 2 покупки также достаточно. А вот заказавших более 2 раз мало, таких пользователей вполне можно считать аномальными. Но чтобы убедиться в этом наверняка необходимо посчитать перцентили."
   ]
  },
  {
   "cell_type": "markdown",
   "metadata": {},
   "source": [
    "### Расчет 95-й и 99-й перцентилей количества заказов на пользователя"
   ]
  },
  {
   "cell_type": "code",
   "execution_count": 36,
   "metadata": {},
   "outputs": [
    {
     "name": "stdout",
     "output_type": "stream",
     "text": [
      "[2. 4.]\n"
     ]
    }
   ],
   "source": [
    "print(np.percentile(orders_per_user['orders'], [95, 99]))"
   ]
  },
  {
   "cell_type": "markdown",
   "metadata": {},
   "source": [
    "**ВЫВОД:** \n",
    "\n",
    "Как и ожидалось, не более 5% пользователей заказывали более 2 раз, и всего не более 1% делали заказы больше 4 раз.\n",
    "Поэтому можно смело выбрать 2 заказа на одного пользователя как границу и отсеять аномальных пользователей, совершивших больше заказов."
   ]
  },
  {
   "cell_type": "markdown",
   "metadata": {},
   "source": [
    "### Построение точечного графика стоимостей заказов"
   ]
  },
  {
   "cell_type": "code",
   "execution_count": 37,
   "metadata": {},
   "outputs": [
    {
     "data": {
      "image/png": "[encoded data removed]",
      "text/plain": [
       "<Figure size 720x576 with 1 Axes>"
      ]
     },
     "metadata": {
      "needs_background": "light"
     },
     "output_type": "display_data"
    }
   ],
   "source": [
    "plt.figure(figsize=(10,8))\n",
    "plt.title('Точечный график стоимостией заказов')\n",
    "plt.ylabel('Стоимость заказов')\n",
    "\n",
    "x_values = pd.Series(range(0, len(orders['revenue'])))\n",
    "plt.scatter(x_values, orders['revenue']) \n",
    "plt.show()"
   ]
  },
  {
   "cell_type": "markdown",
   "metadata": {},
   "source": [
    "**ВЫВОД:**\n",
    "\n",
    "На графике видны два отчетливых выброса, заказов стоимостью больше 100 тыс. практически нет. \n",
    "Стоит изучить результаты подсчета перцентилей"
   ]
  },
  {
   "cell_type": "markdown",
   "metadata": {},
   "source": [
    "### Расчет 95-й и 99-й перцентилей стоимости заказов"
   ]
  },
  {
   "cell_type": "code",
   "execution_count": 38,
   "metadata": {},
   "outputs": [
    {
     "name": "stdout",
     "output_type": "stream",
     "text": [
      "[28000.  58233.2]\n"
     ]
    }
   ],
   "source": [
    "print(np.percentile(orders['revenue'], [95, 99]))"
   ]
  },
  {
   "cell_type": "markdown",
   "metadata": {},
   "source": [
    "**ВЫВОД:**\n",
    "\n",
    "Не более 5% заказов стоят дороже 28 тысяч, и не более 1% - дороже 58 тысяч. \n",
    "В качестве границы для аномальных покупок выберем 95-ый перцентиль: покупки дороже 28 тысяч будем считать аномальными."
   ]
  },
  {
   "cell_type": "markdown",
   "metadata": {},
   "source": [
    "### Расчет статистической значимости различий в среднем количестве заказов на посетителя между группами по «сырым» данным"
   ]
  },
  {
   "cell_type": "markdown",
   "metadata": {},
   "source": [
    "Сформулируем гипотезы. \n",
    "- **Нулевая**: различий в среднем количестве заказов на посетителя между группами нет\n",
    "- **Альтернативная**: различия в среднем количестве заказов на посетителя между группами есть\n",
    "\n",
    "Порог `alpha` зададим на уровне 5%. Для проверки гипотез будем использовать непараметрический тест Уилкоксона-Манна-Уитни."
   ]
  },
  {
   "cell_type": "code",
   "execution_count": 39,
   "metadata": {},
   "outputs": [],
   "source": [
    "visitors_A_daily = visitors[visitors['group'] == 'A'][['date', 'visitors']]\n",
    "visitors_A_daily.columns = ['date', 'visitors_per_dateA']\n",
    "\n",
    "visitors_A_cummulative = visitors_A_daily.apply(\n",
    "    lambda x: visitors_A_daily[visitors_A_daily['date'] <= x['date']].agg(\n",
    "        {'date': 'max', 'visitors_per_dateA': 'sum'}\n",
    "    ),\n",
    "    axis=1,\n",
    ")\n",
    "visitors_A_cummulative.columns = ['date', 'visitors_cummulativeA']"
   ]
  },
  {
   "cell_type": "code",
   "execution_count": 40,
   "metadata": {},
   "outputs": [],
   "source": [
    "visitors_B_daily = visitors[visitors['group'] == 'B'][['date', 'visitors']]\n",
    "visitors_B_daily.columns = ['date', 'visitors_per_dateB']\n",
    "\n",
    "visitors_B_cummulative = visitors_B_daily.apply(\n",
    "    lambda x: visitors_B_daily[visitors_B_daily['date'] <= x['date']].agg(\n",
    "        {'date': 'max', 'visitors_per_dateB': 'sum'}\n",
    "    ),\n",
    "    axis=1,\n",
    ")\n",
    "visitors_B_cummulative.columns = ['date', 'visitors_cummulativeB']"
   ]
  },
  {
   "cell_type": "code",
   "execution_count": 41,
   "metadata": {},
   "outputs": [],
   "source": [
    "orders_A_daily = (\n",
    "    orders[orders['group'] == 'A'][['date', 'transaction_id', 'visitor_id', 'revenue']]\n",
    "    .groupby('date', as_index=False)\n",
    "    .agg({'transaction_id': pd.Series.nunique, 'revenue': 'sum'})\n",
    ")\n",
    "orders_A_daily.columns = ['date', 'orders_per_dateA', 'revenue_per_dateA']\n",
    "\n",
    "orders_A_cummulative = orders_A_daily.apply(\n",
    "    lambda x: orders_A_daily[orders_A_daily['date'] <= x['date']].agg(\n",
    "        {'date': 'max', 'orders_per_dateA': 'sum', 'revenue_per_dateA': 'sum'}\n",
    "    ),\n",
    "    axis=1,\n",
    ").sort_values(by=['date'])\n",
    "orders_A_cummulative.columns = [\n",
    "    'date',\n",
    "    'orders_cummulativeA',\n",
    "    'revenue_cummulativeA',\n",
    "]"
   ]
  },
  {
   "cell_type": "code",
   "execution_count": 42,
   "metadata": {},
   "outputs": [],
   "source": [
    "orders_B_daily = (\n",
    "    orders[orders['group'] == 'B'][['date', 'transaction_id', 'visitor_id', 'revenue']]\n",
    "    .groupby('date', as_index=False)\n",
    "    .agg({'transaction_id': pd.Series.nunique, 'revenue': 'sum'})\n",
    ")\n",
    "orders_B_daily.columns = ['date', 'orders_per_dateB', 'revenue_per_dateB']\n",
    "\n",
    "orders_B_cummulative = orders_B_daily.apply(\n",
    "    lambda x: orders_B_daily[orders_B_daily['date'] <= x['date']].agg(\n",
    "        {'date': 'max', 'orders_per_dateB': 'sum', 'revenue_per_dateB': 'sum'}\n",
    "    ),\n",
    "    axis=1,\n",
    ").sort_values(by=['date'])\n",
    "orders_B_cummulative.columns = [\n",
    "    'date',\n",
    "    'orders_cummulativeB',\n",
    "    'revenue_cummulativeB',\n",
    "]"
   ]
  },
  {
   "cell_type": "code",
   "execution_count": 43,
   "metadata": {},
   "outputs": [
    {
     "name": "stdout",
     "output_type": "stream",
     "text": [
      "        date  orders_per_dateA  revenue_per_dateA  orders_per_dateB  \\\n",
      "0 2019-08-01  24                148579             21                 \n",
      "1 2019-08-02  20                93822              24                 \n",
      "2 2019-08-03  24                112473             16                 \n",
      "3 2019-08-04  16                70825              17                 \n",
      "4 2019-08-05  25                124218             23                 \n",
      "\n",
      "   revenue_per_dateB  orders_cummulativeA  revenue_cummulativeA  \\\n",
      "0  101217             24                   148579                 \n",
      "1  165531             44                   242401                 \n",
      "2  114248             68                   354874                 \n",
      "3  108571             84                   425699                 \n",
      "4  92428              109                  549917                 \n",
      "\n",
      "   orders_cummulativeB  revenue_cummulativeB  visitors_per_dateA  \\\n",
      "0  21                   101217                719                  \n",
      "1  45                   266748                619                  \n",
      "2  61                   380996                507                  \n",
      "3  78                   489567                717                  \n",
      "4  101                  581995                756                  \n",
      "\n",
      "   visitors_per_dateB  visitors_cummulativeA  visitors_cummulativeB  \n",
      "0  713                 719                    713                    \n",
      "1  581                 1338                   1294                   \n",
      "2  509                 1845                   1803                   \n",
      "3  770                 2562                   2573                   \n",
      "4  707                 3318                   3280                   \n"
     ]
    }
   ],
   "source": [
    "data = (\n",
    "    orders_A_daily.merge(\n",
    "        orders_B_daily, left_on='date', right_on='date', how='left'\n",
    "    )\n",
    "    .merge(orders_A_cummulative, left_on='date', right_on='date', how='left')\n",
    "    .merge(orders_B_cummulative, left_on='date', right_on='date', how='left')\n",
    "    .merge(visitors_A_daily, left_on='date', right_on='date', how='left')\n",
    "    .merge(visitors_B_daily, left_on='date', right_on='date', how='left')\n",
    "    .merge(visitors_A_cummulative, left_on='date', right_on='date', how='left')\n",
    "    .merge(visitors_B_cummulative, left_on='date', right_on='date', how='left')\n",
    ")\n",
    "\n",
    "print(data.head(5)) "
   ]
  },
  {
   "cell_type": "markdown",
   "metadata": {},
   "source": [
    "Получили следующие данные:   \n",
    "`date` — дата   \n",
    "`orders_per_dateA` — количество заказов в выбранную дату в группе A  \n",
    "`revenue_per_dateA` — суммарная выручка в выбранную дату в группе A  \n",
    "`orders_per_dateB` — количество заказов в выбранную дату в группе B  \n",
    "`revenue_per_dateB` — суммарная выручка в выбранную дату в группе B  \n",
    "`orders_cummulativeA` — суммарное число заказов до выбранной даты включительно в группе A  \n",
    "`revenue_cummulativeA` — суммарная выручка до выбранной даты включительно в группе A  \n",
    "`orders_cummulativeB` — суммарное количество заказов до выбранной даты включительно в группе B  \n",
    "`revenue_cummulativeB` — суммарная выручка до выбранной даты включительно в группе B  \n",
    "`visitors_per_dateA` — количество пользователей в выбранную дату в группе A  \n",
    "`visitors_per_dateB` — количество пользователей в выбранную дату в группе B  \n",
    "`visitors_cummulativeA` — количество пользователей до выбранной даты включительно в группе A  \n",
    "`visitors_cummulativeB` — количество пользователей до выбранной даты включительно в группе B  "
   ]
  },
  {
   "cell_type": "markdown",
   "metadata": {},
   "source": [
    "Посчитаем статистическую значимость различия в среднем количестве заказов между группами. Создадим переменные `orders_per_userA` и `orders_per_userB`. В них для пользователей, которые заказывали хотя бы 1 раз, укажем число совершённых заказов. "
   ]
  },
  {
   "cell_type": "code",
   "execution_count": 44,
   "metadata": {},
   "outputs": [],
   "source": [
    "orders_per_userA = (\n",
    "    orders[orders['group'] == 'A']\n",
    "    .groupby('visitor_id', as_index=False)\n",
    "    .agg({'transaction_id': pd.Series.nunique})\n",
    ")\n",
    "orders_per_userA.columns = ['user_id', 'orders']\n",
    "\n",
    "orders_per_userB = (\n",
    "    orders[orders['group'] == 'B']\n",
    "    .groupby('visitor_id', as_index=False)\n",
    "    .agg({'transaction_id': pd.Series.nunique})\n",
    ")\n",
    "orders_per_userB.columns = ['user_id', 'orders'] "
   ]
  },
  {
   "cell_type": "markdown",
   "metadata": {},
   "source": [
    "Объявим переменные `sampleA` и `sampleB`, в которых пользователям из разных групп будет соответствовать количество заказов. Тем, кто ничего не заказал, будут соответствовать нули"
   ]
  },
  {
   "cell_type": "code",
   "execution_count": 45,
   "metadata": {},
   "outputs": [],
   "source": [
    "sampleA = pd.concat([orders_per_userA['orders'],pd.Series(0, index=np.arange(data['visitors_per_dateA'].sum() - len(orders_per_userA['orders'])), name='orders')],axis=0)\n",
    "\n",
    "sampleB = pd.concat([orders_per_userB['orders'],pd.Series(0, index=np.arange(data['visitors_per_dateB'].sum() - len(orders_per_userB['orders'])), name='orders')],axis=0)"
   ]
  },
  {
   "cell_type": "code",
   "execution_count": 46,
   "metadata": {},
   "outputs": [
    {
     "name": "stdout",
     "output_type": "stream",
     "text": [
      "P-value: 0.01679\n",
      "Отвергаем нулевую гипотезу\n",
      "Относительный прирост средней конверсии группы B к группе A: 0.138\n"
     ]
    }
   ],
   "source": [
    "print(\"P-value: {0:.5f}\".format(stats.mannwhitneyu(sampleA, sampleB)[1]))\n",
    "if ((stats.mannwhitneyu(sampleA, sampleB)[1]) < 0.05):\n",
    "    print(\"Отвергаем нулевую гипотезу\")\n",
    "else:\n",
    "    print(\"Не получилось отвергнуть нулевую гипотезу\")\n",
    "print(\"Относительный прирост средней конверсии группы B к группе A: {0:.3f}\".format((data['orders_per_dateB'].sum()/data['visitors_per_dateB'].sum())/(data['orders_per_dateA'].sum()/data['visitors_per_dateA'].sum())-1))"
   ]
  },
  {
   "cell_type": "markdown",
   "metadata": {},
   "source": [
    "**ВЫВОД:**\n",
    "\n",
    "P-value меньше 0,05, поэтому можем отвергнуть нулевую гипотезу. Сырые данные говорят нам о том, что между группами есть различия в среднем количестве заказов на посетителя. Относительный прирост конверсии группы В к конверсии группы А равен 13,8%."
   ]
  },
  {
   "cell_type": "markdown",
   "metadata": {},
   "source": [
    "### Расчет статистической значимости различий в среднем чеке заказа между группами по «сырым» данным"
   ]
  },
  {
   "cell_type": "markdown",
   "metadata": {},
   "source": [
    "Сформулируем гипотезы. \n",
    "- **Нулевая**: различий в среднем чеке заказа между группами нет\n",
    "- **Альтернативная**: различия в среднем чеке заказа между группами есть\n",
    "\n",
    "Порог `alpha` зададим на уровне 5%. Для проверки гипотез будем использовать непараметрический тест Уилкоксона-Манна-Уитни."
   ]
  },
  {
   "cell_type": "code",
   "execution_count": 47,
   "metadata": {},
   "outputs": [
    {
     "name": "stdout",
     "output_type": "stream",
     "text": [
      "P-value: 0.72929\n",
      "Не получилось отвергнуть нулевую гипотезу\n",
      "Относительное различие среднего чека: 0.259\n"
     ]
    }
   ],
   "source": [
    "print(\"P-value: {0:.5f}\".format(stats.mannwhitneyu(orders[orders['group']=='A']['revenue'], orders[orders['group']=='B']['revenue'])[1]))\n",
    "if ((stats.mannwhitneyu(orders[orders['group']=='A']['revenue'], orders[orders['group']=='B']['revenue'])[1]) < 0.05):\n",
    "    print(\"Отвергаем нулевую гипотезу\")\n",
    "else:\n",
    "    print(\"Не получилось отвергнуть нулевую гипотезу\")\n",
    "print(\"Относительное различие среднего чека: {0:.3f}\".format(orders[orders['group']=='B']['revenue'].mean()/orders[orders['group']=='A']['revenue'].mean()-1))"
   ]
  },
  {
   "cell_type": "markdown",
   "metadata": {},
   "source": [
    "**ВЫВОД:**\n",
    "\n",
    "P-value больше 0,05 – статистически значимых отличий нет, отвергнуть нулевую гипотезу не получилось. Но при этом относительное различие среднего чека между сегментами 26%."
   ]
  },
  {
   "cell_type": "markdown",
   "metadata": {},
   "source": [
    "### Расчет статистической значимости различий в среднем количестве заказов на посетителя между группами по «очищенным» данным"
   ]
  },
  {
   "cell_type": "markdown",
   "metadata": {},
   "source": [
    "Сформулируем гипотезы. \n",
    "- **Нулевая**: различий в среднем количестве заказов на посетителя между группами нет\n",
    "- **Альтернативная**: различия в среднем между группами есть\n",
    "\n",
    "Порог `alpha` зададим на уровне 5%. Для проверки гипотез будем использовать непараметрический тест Уилкоксона-Манна-Уитни."
   ]
  },
  {
   "cell_type": "markdown",
   "metadata": {},
   "source": [
    "Как мы говорили ранее, примем за аномальных пользователей тех, кто совершил более 2 заказов или сделал заказ дороже 28 000 рублей. Так мы уберём 5% пользователей с наибольшим числом заказов и от 1% до 5% пользователей с дорогими заказами.\n",
    "\n",
    "Сделаем срез пользователей с числом заказов больше 2 в переменную `users_with_many_orders`"
   ]
  },
  {
   "cell_type": "code",
   "execution_count": 48,
   "metadata": {},
   "outputs": [],
   "source": [
    "users_with_many_orders = pd.concat(\n",
    "    [\n",
    "        orders_per_userA[orders_per_userA['orders'] > np.percentile(orders_per_user['orders'], 95)]['user_id'],\n",
    "        orders_per_userB[orders_per_userB['orders'] > np.percentile(orders_per_user['orders'], 95)]['user_id'],\n",
    "    ],\n",
    "    axis=0,\n",
    ")"
   ]
  },
  {
   "cell_type": "markdown",
   "metadata": {},
   "source": [
    "Пользователей, совершивших заказы дороже 28 000 сохранием в переменную `users_with_expensive_orders`"
   ]
  },
  {
   "cell_type": "code",
   "execution_count": 49,
   "metadata": {},
   "outputs": [],
   "source": [
    "users_with_expensive_orders = orders[orders['revenue'] > np.percentile(orders['revenue'], 95)]['visitor_id']"
   ]
  },
  {
   "cell_type": "markdown",
   "metadata": {},
   "source": [
    "Объединим их в таблице `abnormal_users`."
   ]
  },
  {
   "cell_type": "code",
   "execution_count": 50,
   "metadata": {},
   "outputs": [],
   "source": [
    "abnormal_users = pd.concat([users_with_many_orders, users_with_expensive_orders], axis=0).drop_duplicates().sort_values()"
   ]
  },
  {
   "cell_type": "code",
   "execution_count": 51,
   "metadata": {
    "scrolled": false
   },
   "outputs": [
    {
     "name": "stdout",
     "output_type": "stream",
     "text": [
      "1099    148427295\n",
      "18      199603092\n",
      "928     204675465\n",
      "23      237748145\n",
      "37      249864742\n",
      "684     358944393\n",
      "648     382846391\n",
      "1189    393266494\n",
      "68      457167155\n",
      "68      611059232\n",
      "dtype: int64\n",
      "74\n"
     ]
    }
   ],
   "source": [
    "print(abnormal_users.head(10))\n",
    "print(abnormal_users.shape[0]) "
   ]
  },
  {
   "cell_type": "markdown",
   "metadata": {},
   "source": [
    "Всего получилось 74 аномальных пользователя"
   ]
  },
  {
   "cell_type": "markdown",
   "metadata": {},
   "source": [
    "Создадим переменные sample_A_filtered и sample_B_filtered, в которых сохраним очищенные данные — без учета аномальных пользователей"
   ]
  },
  {
   "cell_type": "code",
   "execution_count": 52,
   "metadata": {},
   "outputs": [],
   "source": [
    "sample_A_filtered = pd.concat([\n",
    "        orders_per_userA[\n",
    "            np.logical_not(orders_per_userA['user_id'].isin(abnormal_users))\n",
    "        ]['orders'],\n",
    "        pd.Series(\n",
    "            0,\n",
    "            index=np.arange(\n",
    "                data['visitors_per_dateA'].sum() - len(orders_per_userA['orders'])\n",
    "            ),\n",
    "            name='orders',\n",
    "        ),\n",
    "    ],\n",
    "    axis=0,\n",
    ")"
   ]
  },
  {
   "cell_type": "code",
   "execution_count": 53,
   "metadata": {},
   "outputs": [],
   "source": [
    "sample_B_filtered = pd.concat(\n",
    "    [\n",
    "        orders_per_userB[\n",
    "            np.logical_not(orders_per_userB['user_id'].isin(abnormal_users))\n",
    "        ]['orders'],\n",
    "        pd.Series(\n",
    "            0,\n",
    "            index=np.arange(\n",
    "                data['visitors_per_dateB'].sum() - len(orders_per_userB['orders'])\n",
    "            ),\n",
    "            name='orders',\n",
    "        ),\n",
    "    ],\n",
    "    axis=0,\n",
    ") "
   ]
  },
  {
   "cell_type": "code",
   "execution_count": 54,
   "metadata": {
    "scrolled": false
   },
   "outputs": [
    {
     "name": "stdout",
     "output_type": "stream",
     "text": [
      "P-value: 0.01304\n",
      "Отвергаем нулевую гипотезу\n",
      "Относительный прирост средней конверсии группы B к группе A: 0.173\n"
     ]
    }
   ],
   "source": [
    "print(\"P-value: {0:.5f}\".format(stats.mannwhitneyu(sample_A_filtered, sample_B_filtered)[1]))\n",
    "if ((stats.mannwhitneyu(sample_A_filtered, sample_B_filtered)[1]) < 0.05):\n",
    "    print(\"Отвергаем нулевую гипотезу\")\n",
    "else:\n",
    "    print(\"Не получилось отвергнуть нулевую гипотезу\")\n",
    "print(\"Относительный прирост средней конверсии группы B к группе A: {0:.3f}\".format(sample_B_filtered.mean()/sample_A_filtered.mean()-1)) "
   ]
  },
  {
   "cell_type": "markdown",
   "metadata": {},
   "source": [
    "**ВЫВОД:**\n",
    "\n",
    "Как и в случае с сырыми данными, p-value не превысил 0,05, а значит, нулевую гипотезу отвергаем. Сегмент B оказался значительно лучше сегмента A."
   ]
  },
  {
   "cell_type": "markdown",
   "metadata": {},
   "source": [
    "### Расчет статистической значимости различий в среднем чеке заказа между группами по «очищенным» данным. "
   ]
  },
  {
   "cell_type": "markdown",
   "metadata": {},
   "source": [
    "Сформулируем гипотезы. \n",
    "- **Нулевая**: различий в среднем чеке заказа между группами нет\n",
    "- **Альтернативная**: различия в среднем чеке заказа между группами есть\n",
    "\n",
    "Порог `alpha` зададим на уровне 5%. Для проверки гипотез будем использовать непараметрический тест Уилкоксона-Манна-Уитни."
   ]
  },
  {
   "cell_type": "code",
   "execution_count": 55,
   "metadata": {
    "scrolled": true
   },
   "outputs": [
    {
     "name": "stdout",
     "output_type": "stream",
     "text": [
      "P-value: 0.738\n",
      "Относительное различие среднего чека между группами: -0.020\n"
     ]
    }
   ],
   "source": [
    "print(\n",
    "    'P-value: {0:.3f}'.format(\n",
    "        stats.mannwhitneyu(\n",
    "            orders[\n",
    "                np.logical_and(\n",
    "                    orders['group'] == 'A',\n",
    "                    np.logical_not(orders['visitor_id'].isin(abnormal_users)),\n",
    "                )\n",
    "            ]['revenue'],\n",
    "            orders[\n",
    "                np.logical_and(\n",
    "                    orders['group'] == 'B',\n",
    "                    np.logical_not(orders['visitor_id'].isin(abnormal_users)),\n",
    "                )\n",
    "            ]['revenue'],\n",
    "        )[1]\n",
    "    )\n",
    ")\n",
    "\n",
    "print(\n",
    "     \"Относительное различие среднего чека между группами: {0:.3f}\".format(\n",
    "        orders[\n",
    "            np.logical_and(\n",
    "                orders['group'] == 'B',\n",
    "                np.logical_not(orders['visitor_id'].isin(abnormal_users)),\n",
    "            )\n",
    "        ]['revenue'].mean()\n",
    "        / orders[\n",
    "            np.logical_and(\n",
    "                orders['group'] == 'A',\n",
    "                np.logical_not(orders['visitor_id'].isin(abnormal_users)),\n",
    "            )\n",
    "        ]['revenue'].mean()\n",
    "        - 1\n",
    "    )\n",
    ")"
   ]
  },
  {
   "cell_type": "markdown",
   "metadata": {},
   "source": [
    "**ВЫВОД:**\n",
    "\n",
    "Как и с сырыми данными, p-value оказалася больше 0,05, а значит нулевую гипотезу мы не можем отвергнуть. \n",
    "А вот средний чек группы B, после очистки данных, стал ниже среднего чека группы A на 2%."
   ]
  },
  {
   "cell_type": "markdown",
   "metadata": {},
   "source": [
    "### Решение и вывод по результатам теста"
   ]
  },
  {
   "cell_type": "markdown",
   "metadata": {},
   "source": [
    "Исходя из полученных результатов можно сделать следующие выводы:\n",
    "\n",
    "- Как по \"сырым\", так и по очищенным данным между группами имеются статистически значимые различия в среднем количестве заказов на посетителя. \n",
    "\n",
    "- Показатель конверсии в группе В больше показателя группы А: 14% до очистки и 17% после\n",
    "\n",
    "- Статистически значимых различий в среднем чеке между группами нет как в \"сырых данных\", так и в очищенных\n",
    "\n",
    "- Однако разница в среднем чеке между сегментами сократилась с 26% до 2% после удаления аномальных значений - различие среднего чека между группами практически пропало\n",
    "\n",
    "- Именно сильные колебания графика различия среднего чека позволили обнаружить аномалии\n",
    "\n",
    "- График различия конверсии между группами сообщает, что результаты группы B лучше группы A и имеют тенденцию к росту\n",
    "\n",
    "Исходя из всех полученных данных, тест можно остановить и признать его успешным: при имеющихся данных группа В оказалась лучше группы А"
   ]
  }
 ],
 "metadata": {
  "ExecuteTimeLog": [
   {
    "duration": 52,
    "start_time": "2023-04-01T20:02:54.980Z"
   },
   {
    "duration": 1265,
    "start_time": "2023-04-01T20:02:56.604Z"
   },
   {
    "duration": 233,
    "start_time": "2023-04-01T20:02:57.871Z"
   },
   {
    "duration": 3,
    "start_time": "2023-04-01T20:02:58.260Z"
   },
   {
    "duration": 29,
    "start_time": "2023-04-01T20:03:00.312Z"
   },
   {
    "duration": 24,
    "start_time": "2023-04-01T20:03:04.400Z"
   },
   {
    "duration": 21,
    "start_time": "2023-04-01T20:03:06.597Z"
   },
   {
    "duration": 6,
    "start_time": "2023-04-01T20:04:19.240Z"
   },
   {
    "duration": 8,
    "start_time": "2023-04-01T20:04:54.596Z"
   },
   {
    "duration": 4,
    "start_time": "2023-04-01T20:04:56.721Z"
   },
   {
    "duration": 4,
    "start_time": "2023-04-01T20:05:12.953Z"
   },
   {
    "duration": 5,
    "start_time": "2023-04-01T20:05:17.608Z"
   },
   {
    "duration": 60,
    "start_time": "2023-04-01T20:31:02.558Z"
   },
   {
    "duration": 3,
    "start_time": "2023-04-01T20:31:08.233Z"
   },
   {
    "duration": 7,
    "start_time": "2023-04-01T20:31:19.411Z"
   },
   {
    "duration": 11,
    "start_time": "2023-04-01T20:32:24.224Z"
   },
   {
    "duration": 12,
    "start_time": "2023-04-01T20:32:39.006Z"
   },
   {
    "duration": 11,
    "start_time": "2023-04-01T20:32:45.096Z"
   },
   {
    "duration": 11,
    "start_time": "2023-04-01T20:32:52.620Z"
   },
   {
    "duration": 11,
    "start_time": "2023-04-01T20:33:40.217Z"
   },
   {
    "duration": 11,
    "start_time": "2023-04-01T20:33:48.412Z"
   },
   {
    "duration": 3,
    "start_time": "2023-04-01T20:33:55.721Z"
   },
   {
    "duration": 13,
    "start_time": "2023-04-01T20:34:01.009Z"
   },
   {
    "duration": 47,
    "start_time": "2023-04-02T05:34:16.830Z"
   },
   {
    "duration": 11,
    "start_time": "2023-04-02T05:35:01.290Z"
   },
   {
    "duration": 1461,
    "start_time": "2023-04-02T05:36:27.761Z"
   },
   {
    "duration": 250,
    "start_time": "2023-04-02T05:36:30.719Z"
   },
   {
    "duration": 3,
    "start_time": "2023-04-02T05:36:32.612Z"
   },
   {
    "duration": 43,
    "start_time": "2023-04-02T05:36:34.326Z"
   },
   {
    "duration": 9,
    "start_time": "2023-04-02T05:36:36.755Z"
   },
   {
    "duration": 39,
    "start_time": "2023-04-02T05:36:38.662Z"
   },
   {
    "duration": 16,
    "start_time": "2023-04-02T05:36:40.891Z"
   },
   {
    "duration": 7,
    "start_time": "2023-04-02T05:36:42.728Z"
   },
   {
    "duration": 7,
    "start_time": "2023-04-02T05:36:44.744Z"
   },
   {
    "duration": 25,
    "start_time": "2023-04-02T05:36:47.064Z"
   },
   {
    "duration": 7,
    "start_time": "2023-04-02T05:36:49.573Z"
   },
   {
    "duration": 7,
    "start_time": "2023-04-02T05:36:50.954Z"
   },
   {
    "duration": 770,
    "start_time": "2023-04-02T05:36:53.953Z"
   },
   {
    "duration": 829,
    "start_time": "2023-04-02T05:37:13.127Z"
   },
   {
    "duration": 1160,
    "start_time": "2023-04-02T05:38:11.160Z"
   },
   {
    "duration": 14,
    "start_time": "2023-04-02T05:38:32.924Z"
   },
   {
    "duration": 15,
    "start_time": "2023-04-02T05:38:48.251Z"
   },
   {
    "duration": 14,
    "start_time": "2023-04-02T05:40:00.065Z"
   },
   {
    "duration": 14,
    "start_time": "2023-04-02T05:40:09.105Z"
   },
   {
    "duration": 11,
    "start_time": "2023-04-02T06:22:42.458Z"
   },
   {
    "duration": 6,
    "start_time": "2023-04-02T06:22:44.223Z"
   },
   {
    "duration": 43,
    "start_time": "2023-04-02T06:22:45.952Z"
   },
   {
    "duration": 25,
    "start_time": "2023-04-02T06:24:22.652Z"
   },
   {
    "duration": 180,
    "start_time": "2023-04-02T06:24:46.308Z"
   },
   {
    "duration": 144,
    "start_time": "2023-04-02T06:27:50.279Z"
   },
   {
    "duration": 6,
    "start_time": "2023-04-02T06:33:09.476Z"
   },
   {
    "duration": 176,
    "start_time": "2023-04-02T06:33:12.728Z"
   },
   {
    "duration": 207,
    "start_time": "2023-04-02T06:33:16.350Z"
   },
   {
    "duration": 10,
    "start_time": "2023-04-02T06:33:21.741Z"
   },
   {
    "duration": 9,
    "start_time": "2023-04-02T06:36:35.764Z"
   },
   {
    "duration": 10,
    "start_time": "2023-04-02T06:36:56.139Z"
   },
   {
    "duration": 279,
    "start_time": "2023-04-02T06:37:47.399Z"
   },
   {
    "duration": 401,
    "start_time": "2023-04-02T06:39:06.572Z"
   },
   {
    "duration": 284,
    "start_time": "2023-04-02T06:39:20.470Z"
   },
   {
    "duration": 290,
    "start_time": "2023-04-02T06:40:13.608Z"
   },
   {
    "duration": 315,
    "start_time": "2023-04-02T06:45:04.870Z"
   },
   {
    "duration": 231,
    "start_time": "2023-04-02T06:45:49.769Z"
   },
   {
    "duration": 372,
    "start_time": "2023-04-02T06:45:55.003Z"
   },
   {
    "duration": 8,
    "start_time": "2023-04-02T06:50:32.404Z"
   },
   {
    "duration": 11,
    "start_time": "2023-04-02T06:50:49.776Z"
   },
   {
    "duration": 392,
    "start_time": "2023-04-02T06:53:08.966Z"
   },
   {
    "duration": 5,
    "start_time": "2023-04-02T07:06:12.332Z"
   },
   {
    "duration": 29,
    "start_time": "2023-04-02T07:06:19.718Z"
   },
   {
    "duration": 7,
    "start_time": "2023-04-02T07:08:11.781Z"
   },
   {
    "duration": 15,
    "start_time": "2023-04-02T07:08:13.391Z"
   },
   {
    "duration": 159,
    "start_time": "2023-04-02T07:09:46.324Z"
   },
   {
    "duration": 317,
    "start_time": "2023-04-02T07:10:12.888Z"
   },
   {
    "duration": 399,
    "start_time": "2023-04-02T07:10:25.556Z"
   },
   {
    "duration": 321,
    "start_time": "2023-04-02T07:10:31.784Z"
   },
   {
    "duration": 273,
    "start_time": "2023-04-02T07:10:38.316Z"
   },
   {
    "duration": 448,
    "start_time": "2023-04-02T07:10:55.539Z"
   },
   {
    "duration": 394,
    "start_time": "2023-04-02T07:11:23.021Z"
   },
   {
    "duration": 363,
    "start_time": "2023-04-02T07:11:28.659Z"
   },
   {
    "duration": 338,
    "start_time": "2023-04-02T07:11:39.677Z"
   },
   {
    "duration": 236,
    "start_time": "2023-04-02T07:11:48.626Z"
   },
   {
    "duration": 259,
    "start_time": "2023-04-02T07:11:55.230Z"
   },
   {
    "duration": 8,
    "start_time": "2023-04-02T07:14:31.824Z"
   },
   {
    "duration": 11,
    "start_time": "2023-04-02T07:14:39.967Z"
   },
   {
    "duration": 412,
    "start_time": "2023-04-02T07:16:37.040Z"
   },
   {
    "duration": 254,
    "start_time": "2023-04-02T07:17:27.667Z"
   },
   {
    "duration": 8,
    "start_time": "2023-04-02T07:25:07.615Z"
   },
   {
    "duration": 9,
    "start_time": "2023-04-02T07:25:17.209Z"
   },
   {
    "duration": 8,
    "start_time": "2023-04-02T07:26:13.515Z"
   },
   {
    "duration": 9,
    "start_time": "2023-04-02T07:28:11.699Z"
   },
   {
    "duration": 188,
    "start_time": "2023-04-02T07:28:52.233Z"
   },
   {
    "duration": 180,
    "start_time": "2023-04-02T07:28:58.709Z"
   },
   {
    "duration": 184,
    "start_time": "2023-04-02T07:29:06.969Z"
   },
   {
    "duration": 147,
    "start_time": "2023-04-02T07:30:07.488Z"
   },
   {
    "duration": 231,
    "start_time": "2023-04-02T07:30:16.586Z"
   },
   {
    "duration": 177,
    "start_time": "2023-04-02T07:30:21.624Z"
   },
   {
    "duration": 176,
    "start_time": "2023-04-02T07:30:31.240Z"
   },
   {
    "duration": 153,
    "start_time": "2023-04-02T07:30:35.368Z"
   },
   {
    "duration": 327,
    "start_time": "2023-04-02T07:31:01.664Z"
   },
   {
    "duration": 6,
    "start_time": "2023-04-02T07:33:28.216Z"
   },
   {
    "duration": 6,
    "start_time": "2023-04-02T07:33:44.693Z"
   },
   {
    "duration": 159,
    "start_time": "2023-04-02T07:35:36.354Z"
   },
   {
    "duration": 214,
    "start_time": "2023-04-02T07:36:13.522Z"
   },
   {
    "duration": 7,
    "start_time": "2023-04-02T07:37:25.558Z"
   },
   {
    "duration": 7,
    "start_time": "2023-04-02T07:37:38.672Z"
   },
   {
    "duration": 6,
    "start_time": "2023-04-02T07:37:49.123Z"
   },
   {
    "duration": 6,
    "start_time": "2023-04-02T07:37:57.219Z"
   },
   {
    "duration": 5,
    "start_time": "2023-04-02T07:38:05.099Z"
   },
   {
    "duration": 1192,
    "start_time": "2023-04-02T15:02:26.140Z"
   },
   {
    "duration": 3,
    "start_time": "2023-04-02T15:02:29.218Z"
   },
   {
    "duration": 98,
    "start_time": "2023-04-02T15:06:31.160Z"
   },
   {
    "duration": 1071,
    "start_time": "2023-04-02T15:06:57.300Z"
   },
   {
    "duration": 183,
    "start_time": "2023-04-02T15:06:58.373Z"
   },
   {
    "duration": 3,
    "start_time": "2023-04-02T15:06:58.557Z"
   },
   {
    "duration": 38,
    "start_time": "2023-04-02T15:06:58.561Z"
   },
   {
    "duration": 8,
    "start_time": "2023-04-02T15:06:58.601Z"
   },
   {
    "duration": 30,
    "start_time": "2023-04-02T15:06:58.611Z"
   },
   {
    "duration": 39,
    "start_time": "2023-04-02T15:06:58.642Z"
   },
   {
    "duration": 6,
    "start_time": "2023-04-02T15:06:58.683Z"
   },
   {
    "duration": 13,
    "start_time": "2023-04-02T15:06:58.690Z"
   },
   {
    "duration": 23,
    "start_time": "2023-04-02T15:06:58.705Z"
   },
   {
    "duration": 5,
    "start_time": "2023-04-02T15:06:58.729Z"
   },
   {
    "duration": 33,
    "start_time": "2023-04-02T15:06:58.736Z"
   },
   {
    "duration": 13,
    "start_time": "2023-04-02T15:06:58.771Z"
   },
   {
    "duration": 13,
    "start_time": "2023-04-02T15:06:58.786Z"
   },
   {
    "duration": 7,
    "start_time": "2023-04-02T15:06:58.800Z"
   },
   {
    "duration": 197,
    "start_time": "2023-04-02T15:06:58.808Z"
   },
   {
    "duration": 140,
    "start_time": "2023-04-02T15:06:59.006Z"
   },
   {
    "duration": 21,
    "start_time": "2023-04-02T15:06:59.147Z"
   },
   {
    "duration": 8,
    "start_time": "2023-04-02T15:06:59.170Z"
   },
   {
    "duration": 7,
    "start_time": "2023-04-02T15:06:59.180Z"
   },
   {
    "duration": 314,
    "start_time": "2023-04-02T15:06:59.189Z"
   },
   {
    "duration": 230,
    "start_time": "2023-04-02T15:06:59.505Z"
   },
   {
    "duration": 7,
    "start_time": "2023-04-02T15:06:59.737Z"
   },
   {
    "duration": 360,
    "start_time": "2023-04-02T15:06:59.746Z"
   },
   {
    "duration": 4,
    "start_time": "2023-04-02T15:07:00.108Z"
   },
   {
    "duration": 45,
    "start_time": "2023-04-02T15:07:00.114Z"
   },
   {
    "duration": 270,
    "start_time": "2023-04-02T15:07:00.161Z"
   },
   {
    "duration": 9,
    "start_time": "2023-04-02T15:07:00.432Z"
   },
   {
    "duration": 237,
    "start_time": "2023-04-02T15:07:00.442Z"
   },
   {
    "duration": 7,
    "start_time": "2023-04-02T15:07:00.680Z"
   },
   {
    "duration": 54,
    "start_time": "2023-04-02T15:07:00.688Z"
   },
   {
    "duration": 163,
    "start_time": "2023-04-02T15:07:00.743Z"
   },
   {
    "duration": 4,
    "start_time": "2023-04-02T15:07:00.908Z"
   },
   {
    "duration": 279,
    "start_time": "2023-04-02T15:07:00.913Z"
   },
   {
    "duration": 5,
    "start_time": "2023-04-02T15:07:01.194Z"
   },
   {
    "duration": 276,
    "start_time": "2023-04-02T15:07:01.200Z"
   },
   {
    "duration": 43,
    "start_time": "2023-04-02T15:07:05.622Z"
   },
   {
    "duration": 8,
    "start_time": "2023-04-02T15:07:12.231Z"
   },
   {
    "duration": 121,
    "start_time": "2023-04-02T15:08:36.008Z"
   },
   {
    "duration": 42,
    "start_time": "2023-04-02T15:08:46.775Z"
   },
   {
    "duration": 58,
    "start_time": "2023-04-02T15:12:19.337Z"
   },
   {
    "duration": 55,
    "start_time": "2023-04-02T15:12:32.593Z"
   },
   {
    "duration": 20,
    "start_time": "2023-04-02T15:14:12.719Z"
   },
   {
    "duration": 58,
    "start_time": "2023-04-02T15:14:29.641Z"
   },
   {
    "duration": 22,
    "start_time": "2023-04-02T15:15:46.756Z"
   },
   {
    "duration": 124,
    "start_time": "2023-04-02T15:19:57.779Z"
   },
   {
    "duration": 8,
    "start_time": "2023-04-02T15:22:53.793Z"
   },
   {
    "duration": 10,
    "start_time": "2023-04-02T15:26:40.309Z"
   },
   {
    "duration": 3,
    "start_time": "2023-04-02T15:27:09.502Z"
   },
   {
    "duration": 18,
    "start_time": "2023-04-02T15:27:16.419Z"
   },
   {
    "duration": 20,
    "start_time": "2023-04-02T15:29:35.827Z"
   },
   {
    "duration": 26,
    "start_time": "2023-04-02T15:31:51.868Z"
   },
   {
    "duration": 33,
    "start_time": "2023-04-02T15:32:21.664Z"
   },
   {
    "duration": 35,
    "start_time": "2023-04-02T15:33:01.208Z"
   },
   {
    "duration": 18,
    "start_time": "2023-04-02T15:37:38.887Z"
   },
   {
    "duration": 9,
    "start_time": "2023-04-02T15:39:23.311Z"
   },
   {
    "duration": 15,
    "start_time": "2023-04-02T15:40:25.005Z"
   },
   {
    "duration": 15,
    "start_time": "2023-04-02T15:42:12.884Z"
   },
   {
    "duration": 12,
    "start_time": "2023-04-02T15:42:21.620Z"
   },
   {
    "duration": 1126,
    "start_time": "2023-04-02T15:48:46.514Z"
   },
   {
    "duration": 6,
    "start_time": "2023-04-02T15:48:56.636Z"
   },
   {
    "duration": 1215,
    "start_time": "2023-04-02T15:49:31.153Z"
   },
   {
    "duration": 1124,
    "start_time": "2023-04-02T15:49:41.454Z"
   },
   {
    "duration": 3,
    "start_time": "2023-04-02T15:49:45.030Z"
   },
   {
    "duration": 5,
    "start_time": "2023-04-02T15:50:22.124Z"
   },
   {
    "duration": 5,
    "start_time": "2023-04-02T15:50:31.049Z"
   },
   {
    "duration": 4,
    "start_time": "2023-04-02T15:52:07.065Z"
   },
   {
    "duration": 3,
    "start_time": "2023-04-02T15:52:47.587Z"
   },
   {
    "duration": 4,
    "start_time": "2023-04-02T15:52:59.732Z"
   },
   {
    "duration": 4,
    "start_time": "2023-04-02T15:54:22.040Z"
   },
   {
    "duration": 3,
    "start_time": "2023-04-02T15:54:24.478Z"
   },
   {
    "duration": 5,
    "start_time": "2023-04-02T15:54:29.416Z"
   },
   {
    "duration": 5,
    "start_time": "2023-04-02T15:54:31.301Z"
   },
   {
    "duration": 4,
    "start_time": "2023-04-02T15:54:33.277Z"
   },
   {
    "duration": 4,
    "start_time": "2023-04-02T15:55:58.844Z"
   },
   {
    "duration": 4,
    "start_time": "2023-04-02T15:56:01.198Z"
   },
   {
    "duration": 5,
    "start_time": "2023-04-02T15:58:40.805Z"
   },
   {
    "duration": 11,
    "start_time": "2023-04-02T16:00:22.911Z"
   },
   {
    "duration": 6,
    "start_time": "2023-04-02T16:00:30.812Z"
   },
   {
    "duration": 18,
    "start_time": "2023-04-02T16:01:32.251Z"
   },
   {
    "duration": 87,
    "start_time": "2023-04-02T16:03:34.400Z"
   },
   {
    "duration": 35,
    "start_time": "2023-04-02T16:03:56.427Z"
   },
   {
    "duration": 13,
    "start_time": "2023-04-02T16:06:08.711Z"
   },
   {
    "duration": 13,
    "start_time": "2023-04-02T16:06:46.516Z"
   },
   {
    "duration": 13,
    "start_time": "2023-04-02T16:07:57.745Z"
   },
   {
    "duration": 1782,
    "start_time": "2023-04-03T11:32:30.106Z"
   },
   {
    "duration": 407,
    "start_time": "2023-04-03T11:32:31.891Z"
   },
   {
    "duration": 3,
    "start_time": "2023-04-03T11:32:32.301Z"
   },
   {
    "duration": 60,
    "start_time": "2023-04-03T11:32:32.307Z"
   },
   {
    "duration": 34,
    "start_time": "2023-04-03T11:32:32.375Z"
   },
   {
    "duration": 68,
    "start_time": "2023-04-03T11:32:32.411Z"
   },
   {
    "duration": 46,
    "start_time": "2023-04-03T11:32:32.483Z"
   },
   {
    "duration": 81,
    "start_time": "2023-04-03T11:32:32.531Z"
   },
   {
    "duration": 83,
    "start_time": "2023-04-03T11:32:32.614Z"
   },
   {
    "duration": 42,
    "start_time": "2023-04-03T11:32:32.701Z"
   },
   {
    "duration": 89,
    "start_time": "2023-04-03T11:32:32.748Z"
   },
   {
    "duration": 78,
    "start_time": "2023-04-03T11:32:32.839Z"
   },
   {
    "duration": 69,
    "start_time": "2023-04-03T11:32:32.919Z"
   },
   {
    "duration": 20,
    "start_time": "2023-04-03T11:32:32.991Z"
   },
   {
    "duration": 33,
    "start_time": "2023-04-03T11:32:33.013Z"
   },
   {
    "duration": 266,
    "start_time": "2023-04-03T11:32:33.048Z"
   },
   {
    "duration": 154,
    "start_time": "2023-04-03T11:32:33.316Z"
   },
   {
    "duration": 9,
    "start_time": "2023-04-03T11:32:33.472Z"
   },
   {
    "duration": 28,
    "start_time": "2023-04-03T11:32:33.483Z"
   },
   {
    "duration": 23,
    "start_time": "2023-04-03T11:32:33.513Z"
   },
   {
    "duration": 472,
    "start_time": "2023-04-03T11:32:33.538Z"
   },
   {
    "duration": 312,
    "start_time": "2023-04-03T11:32:34.012Z"
   },
   {
    "duration": 17,
    "start_time": "2023-04-03T11:32:34.326Z"
   },
   {
    "duration": 453,
    "start_time": "2023-04-03T11:32:34.347Z"
   },
   {
    "duration": 5,
    "start_time": "2023-04-03T11:32:34.802Z"
   },
   {
    "duration": 16,
    "start_time": "2023-04-03T11:32:34.809Z"
   },
   {
    "duration": 362,
    "start_time": "2023-04-03T11:32:34.827Z"
   },
   {
    "duration": 9,
    "start_time": "2023-04-03T11:32:35.195Z"
   },
   {
    "duration": 338,
    "start_time": "2023-04-03T11:32:35.206Z"
   },
   {
    "duration": 12,
    "start_time": "2023-04-03T11:32:35.549Z"
   },
   {
    "duration": 31,
    "start_time": "2023-04-03T11:32:35.563Z"
   },
   {
    "duration": 190,
    "start_time": "2023-04-03T11:32:35.596Z"
   },
   {
    "duration": 4,
    "start_time": "2023-04-03T11:32:35.788Z"
   },
   {
    "duration": 214,
    "start_time": "2023-04-03T11:32:35.794Z"
   },
   {
    "duration": 4,
    "start_time": "2023-04-03T11:32:36.010Z"
   },
   {
    "duration": 172,
    "start_time": "2023-04-03T11:32:36.016Z"
   },
   {
    "duration": 53,
    "start_time": "2023-04-03T11:32:36.190Z"
   },
   {
    "duration": 80,
    "start_time": "2023-04-03T11:32:36.245Z"
   },
   {
    "duration": 112,
    "start_time": "2023-04-03T11:32:36.326Z"
   },
   {
    "duration": 34,
    "start_time": "2023-04-03T11:32:36.448Z"
   },
   {
    "duration": 179,
    "start_time": "2023-04-03T11:32:36.484Z"
   },
   {
    "duration": 13,
    "start_time": "2023-04-03T11:32:36.665Z"
   },
   {
    "duration": 58,
    "start_time": "2023-04-03T11:32:36.682Z"
   },
   {
    "duration": 23,
    "start_time": "2023-04-03T11:32:36.741Z"
   },
   {
    "duration": 25,
    "start_time": "2023-04-03T11:32:36.766Z"
   },
   {
    "duration": 25,
    "start_time": "2023-04-03T11:32:36.794Z"
   },
   {
    "duration": 45,
    "start_time": "2023-04-03T11:32:36.822Z"
   },
   {
    "duration": 17,
    "start_time": "2023-04-03T11:32:36.870Z"
   },
   {
    "duration": 14,
    "start_time": "2023-04-03T11:32:36.890Z"
   },
   {
    "duration": 35,
    "start_time": "2023-04-03T11:32:36.906Z"
   },
   {
    "duration": 97,
    "start_time": "2023-04-03T11:32:36.943Z"
   },
   {
    "duration": 30,
    "start_time": "2023-04-03T11:32:37.042Z"
   },
   {
    "duration": 269,
    "start_time": "2023-04-03T12:07:19.189Z"
   },
   {
    "duration": 309,
    "start_time": "2023-04-03T12:07:33.210Z"
   },
   {
    "duration": 274,
    "start_time": "2023-04-03T12:07:37.520Z"
   },
   {
    "duration": 271,
    "start_time": "2023-04-03T12:07:41.766Z"
   },
   {
    "duration": 293,
    "start_time": "2023-04-03T12:08:19.569Z"
   },
   {
    "duration": 323,
    "start_time": "2023-04-03T12:08:25.597Z"
   },
   {
    "duration": 323,
    "start_time": "2023-04-03T12:10:24.219Z"
   },
   {
    "duration": 300,
    "start_time": "2023-04-03T12:10:28.669Z"
   },
   {
    "duration": 305,
    "start_time": "2023-04-03T12:26:20.727Z"
   },
   {
    "duration": 444,
    "start_time": "2023-04-03T12:35:39.316Z"
   },
   {
    "duration": 415,
    "start_time": "2023-04-03T12:35:46.122Z"
   },
   {
    "duration": 396,
    "start_time": "2023-04-03T12:39:29.350Z"
   },
   {
    "duration": 181,
    "start_time": "2023-04-03T13:09:37.336Z"
   },
   {
    "duration": 180,
    "start_time": "2023-04-03T13:09:41.533Z"
   },
   {
    "duration": 223,
    "start_time": "2023-04-03T14:21:32.393Z"
   },
   {
    "duration": 56,
    "start_time": "2023-04-03T14:28:28.626Z"
   },
   {
    "duration": 35,
    "start_time": "2023-04-03T14:28:48.084Z"
   },
   {
    "duration": 1580,
    "start_time": "2023-04-03T14:35:25.612Z"
   },
   {
    "duration": 109,
    "start_time": "2023-04-03T14:35:27.195Z"
   },
   {
    "duration": 5,
    "start_time": "2023-04-03T14:35:27.306Z"
   },
   {
    "duration": 94,
    "start_time": "2023-04-03T14:35:27.314Z"
   },
   {
    "duration": 12,
    "start_time": "2023-04-03T14:35:27.411Z"
   },
   {
    "duration": 89,
    "start_time": "2023-04-03T14:35:27.425Z"
   },
   {
    "duration": 20,
    "start_time": "2023-04-03T14:35:27.516Z"
   },
   {
    "duration": 30,
    "start_time": "2023-04-03T14:35:27.545Z"
   },
   {
    "duration": 16,
    "start_time": "2023-04-03T14:35:27.577Z"
   },
   {
    "duration": 35,
    "start_time": "2023-04-03T14:35:27.597Z"
   },
   {
    "duration": 18,
    "start_time": "2023-04-03T14:35:27.643Z"
   },
   {
    "duration": 19,
    "start_time": "2023-04-03T14:35:27.662Z"
   },
   {
    "duration": 20,
    "start_time": "2023-04-03T14:35:27.684Z"
   },
   {
    "duration": 20,
    "start_time": "2023-04-03T14:35:27.706Z"
   },
   {
    "duration": 15,
    "start_time": "2023-04-03T14:35:27.729Z"
   },
   {
    "duration": 326,
    "start_time": "2023-04-03T14:35:27.746Z"
   },
   {
    "duration": 181,
    "start_time": "2023-04-03T14:35:28.074Z"
   },
   {
    "duration": 9,
    "start_time": "2023-04-03T14:35:28.257Z"
   },
   {
    "duration": 27,
    "start_time": "2023-04-03T14:35:28.268Z"
   },
   {
    "duration": 24,
    "start_time": "2023-04-03T14:35:28.297Z"
   },
   {
    "duration": 470,
    "start_time": "2023-04-03T14:35:28.323Z"
   },
   {
    "duration": 331,
    "start_time": "2023-04-03T14:35:28.795Z"
   },
   {
    "duration": 9,
    "start_time": "2023-04-03T14:35:29.127Z"
   },
   {
    "duration": 508,
    "start_time": "2023-04-03T14:35:29.138Z"
   },
   {
    "duration": 6,
    "start_time": "2023-04-03T14:35:29.650Z"
   },
   {
    "duration": 16,
    "start_time": "2023-04-03T14:35:29.658Z"
   },
   {
    "duration": 472,
    "start_time": "2023-04-03T14:35:29.677Z"
   },
   {
    "duration": 20,
    "start_time": "2023-04-03T14:35:30.160Z"
   },
   {
    "duration": 407,
    "start_time": "2023-04-03T14:35:30.182Z"
   },
   {
    "duration": 9,
    "start_time": "2023-04-03T14:35:30.592Z"
   },
   {
    "duration": 84,
    "start_time": "2023-04-03T14:35:30.604Z"
   },
   {
    "duration": 298,
    "start_time": "2023-04-03T14:35:30.690Z"
   },
   {
    "duration": 5,
    "start_time": "2023-04-03T14:35:30.991Z"
   },
   {
    "duration": 276,
    "start_time": "2023-04-03T14:35:30.998Z"
   },
   {
    "duration": 8,
    "start_time": "2023-04-03T14:35:31.277Z"
   },
   {
    "duration": 197,
    "start_time": "2023-04-03T14:35:31.288Z"
   },
   {
    "duration": 83,
    "start_time": "2023-04-03T14:35:31.488Z"
   },
   {
    "duration": 124,
    "start_time": "2023-04-03T14:35:31.574Z"
   },
   {
    "duration": 111,
    "start_time": "2023-04-03T14:35:31.701Z"
   },
   {
    "duration": 106,
    "start_time": "2023-04-03T14:35:31.815Z"
   },
   {
    "duration": 282,
    "start_time": "2023-04-03T14:35:31.924Z"
   },
   {
    "duration": 16,
    "start_time": "2023-04-03T14:35:32.209Z"
   },
   {
    "duration": 119,
    "start_time": "2023-04-03T14:35:32.228Z"
   },
   {
    "duration": 32,
    "start_time": "2023-04-03T14:35:32.349Z"
   },
   {
    "duration": 27,
    "start_time": "2023-04-03T14:35:32.384Z"
   },
   {
    "duration": 35,
    "start_time": "2023-04-03T14:35:32.414Z"
   },
   {
    "duration": 57,
    "start_time": "2023-04-03T14:35:32.455Z"
   },
   {
    "duration": 16,
    "start_time": "2023-04-03T14:35:32.514Z"
   },
   {
    "duration": 85,
    "start_time": "2023-04-03T14:35:32.532Z"
   },
   {
    "duration": 74,
    "start_time": "2023-04-03T14:35:32.619Z"
   },
   {
    "duration": 101,
    "start_time": "2023-04-03T14:35:32.696Z"
   },
   {
    "duration": 22,
    "start_time": "2023-04-03T14:35:32.799Z"
   },
   {
    "duration": 489,
    "start_time": "2023-04-03T14:36:03.991Z"
   },
   {
    "duration": 426,
    "start_time": "2023-04-03T14:36:27.018Z"
   },
   {
    "duration": 1548,
    "start_time": "2023-04-03T14:36:56.021Z"
   },
   {
    "duration": 135,
    "start_time": "2023-04-03T14:36:57.572Z"
   },
   {
    "duration": 3,
    "start_time": "2023-04-03T14:36:57.710Z"
   },
   {
    "duration": 63,
    "start_time": "2023-04-03T14:36:57.715Z"
   },
   {
    "duration": 18,
    "start_time": "2023-04-03T14:36:57.783Z"
   },
   {
    "duration": 68,
    "start_time": "2023-04-03T14:36:57.803Z"
   },
   {
    "duration": 25,
    "start_time": "2023-04-03T14:36:57.873Z"
   },
   {
    "duration": 10,
    "start_time": "2023-04-03T14:36:57.900Z"
   },
   {
    "duration": 42,
    "start_time": "2023-04-03T14:36:57.912Z"
   },
   {
    "duration": 31,
    "start_time": "2023-04-03T14:36:57.961Z"
   },
   {
    "duration": 11,
    "start_time": "2023-04-03T14:36:57.994Z"
   },
   {
    "duration": 27,
    "start_time": "2023-04-03T14:36:58.009Z"
   },
   {
    "duration": 66,
    "start_time": "2023-04-03T14:36:58.038Z"
   },
   {
    "duration": 19,
    "start_time": "2023-04-03T14:36:58.109Z"
   },
   {
    "duration": 12,
    "start_time": "2023-04-03T14:36:58.130Z"
   },
   {
    "duration": 282,
    "start_time": "2023-04-03T14:36:58.147Z"
   },
   {
    "duration": 180,
    "start_time": "2023-04-03T14:36:58.431Z"
   },
   {
    "duration": 10,
    "start_time": "2023-04-03T14:36:58.614Z"
   },
   {
    "duration": 17,
    "start_time": "2023-04-03T14:36:58.627Z"
   },
   {
    "duration": 30,
    "start_time": "2023-04-03T14:36:58.646Z"
   },
   {
    "duration": 540,
    "start_time": "2023-04-03T14:36:58.679Z"
   },
   {
    "duration": 320,
    "start_time": "2023-04-03T14:36:59.221Z"
   },
   {
    "duration": 16,
    "start_time": "2023-04-03T14:36:59.544Z"
   },
   {
    "duration": 447,
    "start_time": "2023-04-03T14:36:59.566Z"
   },
   {
    "duration": 24,
    "start_time": "2023-04-03T14:37:00.016Z"
   },
   {
    "duration": 57,
    "start_time": "2023-04-03T14:37:00.042Z"
   },
   {
    "duration": 488,
    "start_time": "2023-04-03T14:37:00.102Z"
   },
   {
    "duration": 13,
    "start_time": "2023-04-03T14:37:00.592Z"
   },
   {
    "duration": 473,
    "start_time": "2023-04-03T14:37:00.608Z"
   },
   {
    "duration": 12,
    "start_time": "2023-04-03T14:37:01.084Z"
   },
   {
    "duration": 51,
    "start_time": "2023-04-03T14:37:01.098Z"
   },
   {
    "duration": 267,
    "start_time": "2023-04-03T14:37:01.152Z"
   },
   {
    "duration": 6,
    "start_time": "2023-04-03T14:37:01.421Z"
   },
   {
    "duration": 238,
    "start_time": "2023-04-03T14:37:01.434Z"
   },
   {
    "duration": 6,
    "start_time": "2023-04-03T14:37:01.674Z"
   },
   {
    "duration": 190,
    "start_time": "2023-04-03T14:37:01.683Z"
   },
   {
    "duration": 93,
    "start_time": "2023-04-03T14:37:01.875Z"
   },
   {
    "duration": 98,
    "start_time": "2023-04-03T14:37:01.970Z"
   },
   {
    "duration": 87,
    "start_time": "2023-04-03T14:37:02.082Z"
   },
   {
    "duration": 32,
    "start_time": "2023-04-03T14:37:02.171Z"
   },
   {
    "duration": 190,
    "start_time": "2023-04-03T14:37:02.208Z"
   },
   {
    "duration": 10,
    "start_time": "2023-04-03T14:37:02.401Z"
   },
   {
    "duration": 97,
    "start_time": "2023-04-03T14:37:02.414Z"
   },
   {
    "duration": 35,
    "start_time": "2023-04-03T14:37:02.513Z"
   },
   {
    "duration": 62,
    "start_time": "2023-04-03T14:37:02.552Z"
   },
   {
    "duration": 66,
    "start_time": "2023-04-03T14:37:02.616Z"
   },
   {
    "duration": 43,
    "start_time": "2023-04-03T14:37:02.684Z"
   },
   {
    "duration": 61,
    "start_time": "2023-04-03T14:37:02.730Z"
   },
   {
    "duration": 28,
    "start_time": "2023-04-03T14:37:02.797Z"
   },
   {
    "duration": 60,
    "start_time": "2023-04-03T14:37:02.828Z"
   },
   {
    "duration": 79,
    "start_time": "2023-04-03T14:37:02.891Z"
   },
   {
    "duration": 18,
    "start_time": "2023-04-03T14:37:02.972Z"
   },
   {
    "duration": 1194,
    "start_time": "2023-04-03T16:22:16.160Z"
   },
   {
    "duration": 170,
    "start_time": "2023-04-03T16:22:17.356Z"
   },
   {
    "duration": 3,
    "start_time": "2023-04-03T16:22:17.528Z"
   },
   {
    "duration": 51,
    "start_time": "2023-04-03T16:22:17.534Z"
   },
   {
    "duration": 9,
    "start_time": "2023-04-03T16:22:17.588Z"
   },
   {
    "duration": 51,
    "start_time": "2023-04-03T16:22:17.599Z"
   },
   {
    "duration": 15,
    "start_time": "2023-04-03T16:22:17.652Z"
   },
   {
    "duration": 7,
    "start_time": "2023-04-03T16:22:17.669Z"
   },
   {
    "duration": 46,
    "start_time": "2023-04-03T16:22:17.678Z"
   },
   {
    "duration": 27,
    "start_time": "2023-04-03T16:22:17.727Z"
   },
   {
    "duration": 9,
    "start_time": "2023-04-03T16:22:17.756Z"
   },
   {
    "duration": 7,
    "start_time": "2023-04-03T16:22:17.767Z"
   },
   {
    "duration": 53,
    "start_time": "2023-04-03T16:22:17.776Z"
   },
   {
    "duration": 24,
    "start_time": "2023-04-03T16:22:17.831Z"
   },
   {
    "duration": 6,
    "start_time": "2023-04-03T16:22:17.858Z"
   },
   {
    "duration": 204,
    "start_time": "2023-04-03T16:22:17.866Z"
   },
   {
    "duration": 144,
    "start_time": "2023-04-03T16:22:18.072Z"
   },
   {
    "duration": 11,
    "start_time": "2023-04-03T16:22:18.217Z"
   },
   {
    "duration": 8,
    "start_time": "2023-04-03T16:22:18.230Z"
   },
   {
    "duration": 6,
    "start_time": "2023-04-03T16:22:18.240Z"
   },
   {
    "duration": 382,
    "start_time": "2023-04-03T16:22:18.248Z"
   },
   {
    "duration": 301,
    "start_time": "2023-04-03T16:22:18.632Z"
   },
   {
    "duration": 6,
    "start_time": "2023-04-03T16:22:18.936Z"
   },
   {
    "duration": 372,
    "start_time": "2023-04-03T16:22:18.944Z"
   },
   {
    "duration": 7,
    "start_time": "2023-04-03T16:22:19.318Z"
   },
   {
    "duration": 10,
    "start_time": "2023-04-03T16:22:19.328Z"
   },
   {
    "duration": 314,
    "start_time": "2023-04-03T16:22:19.340Z"
   },
   {
    "duration": 8,
    "start_time": "2023-04-03T16:22:19.658Z"
   },
   {
    "duration": 266,
    "start_time": "2023-04-03T16:22:19.668Z"
   },
   {
    "duration": 8,
    "start_time": "2023-04-03T16:22:19.936Z"
   },
   {
    "duration": 18,
    "start_time": "2023-04-03T16:22:19.946Z"
   },
   {
    "duration": 188,
    "start_time": "2023-04-03T16:22:19.967Z"
   },
   {
    "duration": 5,
    "start_time": "2023-04-03T16:22:20.156Z"
   },
   {
    "duration": 235,
    "start_time": "2023-04-03T16:22:20.163Z"
   },
   {
    "duration": 7,
    "start_time": "2023-04-03T16:22:20.400Z"
   },
   {
    "duration": 173,
    "start_time": "2023-04-03T16:22:20.413Z"
   },
   {
    "duration": 79,
    "start_time": "2023-04-03T16:22:20.589Z"
   },
   {
    "duration": 108,
    "start_time": "2023-04-03T16:22:20.671Z"
   },
   {
    "duration": 74,
    "start_time": "2023-04-03T16:22:20.782Z"
   },
   {
    "duration": 28,
    "start_time": "2023-04-03T16:22:20.858Z"
   },
   {
    "duration": 209,
    "start_time": "2023-04-03T16:22:20.888Z"
   },
   {
    "duration": 6,
    "start_time": "2023-04-03T16:22:21.099Z"
   },
   {
    "duration": 43,
    "start_time": "2023-04-03T16:22:21.124Z"
   },
   {
    "duration": 17,
    "start_time": "2023-04-03T16:22:21.169Z"
   },
   {
    "duration": 6,
    "start_time": "2023-04-03T16:22:21.187Z"
   },
   {
    "duration": 4,
    "start_time": "2023-04-03T16:22:21.224Z"
   },
   {
    "duration": 11,
    "start_time": "2023-04-03T16:22:21.230Z"
   },
   {
    "duration": 13,
    "start_time": "2023-04-03T16:22:21.243Z"
   },
   {
    "duration": 7,
    "start_time": "2023-04-03T16:22:21.257Z"
   },
   {
    "duration": 12,
    "start_time": "2023-04-03T16:22:21.266Z"
   },
   {
    "duration": 53,
    "start_time": "2023-04-03T16:22:21.280Z"
   },
   {
    "duration": 18,
    "start_time": "2023-04-03T16:22:21.334Z"
   },
   {
    "duration": 1255,
    "start_time": "2023-04-03T16:29:48.414Z"
   },
   {
    "duration": 65,
    "start_time": "2023-04-03T16:29:49.671Z"
   },
   {
    "duration": 4,
    "start_time": "2023-04-03T16:29:49.737Z"
   },
   {
    "duration": 41,
    "start_time": "2023-04-03T16:29:49.743Z"
   },
   {
    "duration": 9,
    "start_time": "2023-04-03T16:29:49.786Z"
   },
   {
    "duration": 52,
    "start_time": "2023-04-03T16:29:49.797Z"
   },
   {
    "duration": 14,
    "start_time": "2023-04-03T16:29:49.851Z"
   },
   {
    "duration": 10,
    "start_time": "2023-04-03T16:29:49.868Z"
   },
   {
    "duration": 19,
    "start_time": "2023-04-03T16:29:49.880Z"
   },
   {
    "duration": 44,
    "start_time": "2023-04-03T16:29:49.902Z"
   },
   {
    "duration": 6,
    "start_time": "2023-04-03T16:29:49.948Z"
   },
   {
    "duration": 13,
    "start_time": "2023-04-03T16:29:49.957Z"
   },
   {
    "duration": 27,
    "start_time": "2023-04-03T16:29:49.972Z"
   },
   {
    "duration": 33,
    "start_time": "2023-04-03T16:29:50.000Z"
   },
   {
    "duration": 33,
    "start_time": "2023-04-03T16:29:50.036Z"
   },
   {
    "duration": 213,
    "start_time": "2023-04-03T16:29:50.071Z"
   },
   {
    "duration": 177,
    "start_time": "2023-04-03T16:29:50.287Z"
   },
   {
    "duration": 10,
    "start_time": "2023-04-03T16:29:50.468Z"
   },
   {
    "duration": 18,
    "start_time": "2023-04-03T16:29:50.480Z"
   },
   {
    "duration": 6,
    "start_time": "2023-04-03T16:29:50.503Z"
   },
   {
    "duration": 393,
    "start_time": "2023-04-03T16:29:50.511Z"
   },
   {
    "duration": 274,
    "start_time": "2023-04-03T16:29:50.905Z"
   },
   {
    "duration": 7,
    "start_time": "2023-04-03T16:29:51.181Z"
   },
   {
    "duration": 400,
    "start_time": "2023-04-03T16:29:51.190Z"
   },
   {
    "duration": 5,
    "start_time": "2023-04-03T16:29:51.592Z"
   },
   {
    "duration": 16,
    "start_time": "2023-04-03T16:29:51.599Z"
   },
   {
    "duration": 305,
    "start_time": "2023-04-03T16:29:51.617Z"
   },
   {
    "duration": 9,
    "start_time": "2023-04-03T16:29:51.925Z"
   },
   {
    "duration": 266,
    "start_time": "2023-04-03T16:29:51.936Z"
   },
   {
    "duration": 19,
    "start_time": "2023-04-03T16:29:52.204Z"
   },
   {
    "duration": 12,
    "start_time": "2023-04-03T16:29:52.225Z"
   },
   {
    "duration": 169,
    "start_time": "2023-04-03T16:29:52.239Z"
   },
   {
    "duration": 6,
    "start_time": "2023-04-03T16:29:52.409Z"
   },
   {
    "duration": 185,
    "start_time": "2023-04-03T16:29:52.424Z"
   },
   {
    "duration": 12,
    "start_time": "2023-04-03T16:29:52.611Z"
   },
   {
    "duration": 150,
    "start_time": "2023-04-03T16:29:52.625Z"
   },
   {
    "duration": 69,
    "start_time": "2023-04-03T16:29:52.777Z"
   },
   {
    "duration": 127,
    "start_time": "2023-04-03T16:29:52.848Z"
   },
   {
    "duration": 69,
    "start_time": "2023-04-03T16:29:52.977Z"
   },
   {
    "duration": 27,
    "start_time": "2023-04-03T16:29:53.048Z"
   },
   {
    "duration": 177,
    "start_time": "2023-04-03T16:29:53.076Z"
   },
   {
    "duration": 8,
    "start_time": "2023-04-03T16:29:53.255Z"
   },
   {
    "duration": 60,
    "start_time": "2023-04-03T16:29:53.265Z"
   },
   {
    "duration": 15,
    "start_time": "2023-04-03T16:29:53.327Z"
   },
   {
    "duration": 11,
    "start_time": "2023-04-03T16:29:53.344Z"
   },
   {
    "duration": 33,
    "start_time": "2023-04-03T16:29:53.357Z"
   },
   {
    "duration": 11,
    "start_time": "2023-04-03T16:29:53.392Z"
   },
   {
    "duration": 14,
    "start_time": "2023-04-03T16:29:53.405Z"
   },
   {
    "duration": 25,
    "start_time": "2023-04-03T16:29:53.421Z"
   },
   {
    "duration": 8,
    "start_time": "2023-04-03T16:29:53.448Z"
   },
   {
    "duration": 49,
    "start_time": "2023-04-03T16:29:53.459Z"
   },
   {
    "duration": 16,
    "start_time": "2023-04-03T16:29:53.510Z"
   },
   {
    "duration": 40,
    "start_time": "2023-04-03T16:43:08.971Z"
   },
   {
    "duration": 1333,
    "start_time": "2023-04-03T18:34:54.546Z"
   },
   {
    "duration": 187,
    "start_time": "2023-04-03T18:34:56.947Z"
   },
   {
    "duration": 3,
    "start_time": "2023-04-03T18:34:58.400Z"
   },
   {
    "duration": 35,
    "start_time": "2023-04-03T18:34:59.708Z"
   },
   {
    "duration": 8,
    "start_time": "2023-04-03T18:35:04.010Z"
   },
   {
    "duration": 26,
    "start_time": "2023-04-03T18:35:05.897Z"
   },
   {
    "duration": 12,
    "start_time": "2023-04-03T18:35:08.086Z"
   },
   {
    "duration": 6,
    "start_time": "2023-04-03T18:35:09.651Z"
   },
   {
    "duration": 7,
    "start_time": "2023-04-03T18:35:10.901Z"
   },
   {
    "duration": 21,
    "start_time": "2023-04-03T18:35:12.522Z"
   },
   {
    "duration": 6,
    "start_time": "2023-04-03T18:35:14.581Z"
   },
   {
    "duration": 5,
    "start_time": "2023-04-03T18:35:15.731Z"
   },
   {
    "duration": 6,
    "start_time": "2023-04-03T18:36:18.657Z"
   },
   {
    "duration": 5,
    "start_time": "2023-04-03T18:41:34.020Z"
   },
   {
    "duration": 4,
    "start_time": "2023-04-03T18:41:58.439Z"
   },
   {
    "duration": 5,
    "start_time": "2023-04-03T18:42:21.858Z"
   },
   {
    "duration": 2,
    "start_time": "2023-04-03T18:50:27.541Z"
   },
   {
    "duration": 8,
    "start_time": "2023-04-03T18:51:02.113Z"
   },
   {
    "duration": 91,
    "start_time": "2023-04-03T18:52:28.498Z"
   },
   {
    "duration": 11,
    "start_time": "2023-04-03T18:52:33.183Z"
   },
   {
    "duration": 7,
    "start_time": "2023-04-03T18:52:37.884Z"
   },
   {
    "duration": 1231,
    "start_time": "2023-04-03T18:53:00.782Z"
   },
   {
    "duration": 10,
    "start_time": "2023-04-03T18:53:08.365Z"
   },
   {
    "duration": 1332,
    "start_time": "2023-04-03T18:53:44.994Z"
   },
   {
    "duration": 9,
    "start_time": "2023-04-03T18:54:41.283Z"
   },
   {
    "duration": 11,
    "start_time": "2023-04-03T18:54:50.041Z"
   },
   {
    "duration": 8,
    "start_time": "2023-04-03T18:55:09.712Z"
   },
   {
    "duration": 9,
    "start_time": "2023-04-03T18:55:27.264Z"
   },
   {
    "duration": 8,
    "start_time": "2023-04-03T19:14:47.163Z"
   },
   {
    "duration": 6,
    "start_time": "2023-04-03T19:15:28.452Z"
   },
   {
    "duration": 4,
    "start_time": "2023-04-03T19:15:36.399Z"
   },
   {
    "duration": 4,
    "start_time": "2023-04-03T19:16:00.431Z"
   },
   {
    "duration": 4,
    "start_time": "2023-04-03T19:16:38.152Z"
   },
   {
    "duration": 4,
    "start_time": "2023-04-03T19:16:44.805Z"
   },
   {
    "duration": 5,
    "start_time": "2023-04-03T19:16:57.081Z"
   },
   {
    "duration": 9,
    "start_time": "2023-04-03T19:17:01.824Z"
   },
   {
    "duration": 1017,
    "start_time": "2023-04-03T19:20:44.204Z"
   },
   {
    "duration": 66,
    "start_time": "2023-04-03T19:20:45.222Z"
   },
   {
    "duration": 3,
    "start_time": "2023-04-03T19:20:45.289Z"
   },
   {
    "duration": 38,
    "start_time": "2023-04-03T19:20:45.293Z"
   },
   {
    "duration": 6,
    "start_time": "2023-04-03T19:20:45.333Z"
   },
   {
    "duration": 30,
    "start_time": "2023-04-03T19:20:45.340Z"
   },
   {
    "duration": 10,
    "start_time": "2023-04-03T19:20:45.372Z"
   },
   {
    "duration": 6,
    "start_time": "2023-04-03T19:20:45.384Z"
   },
   {
    "duration": 11,
    "start_time": "2023-04-03T19:20:45.391Z"
   },
   {
    "duration": 8,
    "start_time": "2023-04-03T19:20:45.403Z"
   },
   {
    "duration": 5,
    "start_time": "2023-04-03T19:20:45.412Z"
   },
   {
    "duration": 18,
    "start_time": "2023-04-03T19:20:45.419Z"
   },
   {
    "duration": 3,
    "start_time": "2023-04-03T19:20:45.439Z"
   },
   {
    "duration": 5,
    "start_time": "2023-04-03T19:20:45.469Z"
   },
   {
    "duration": 9,
    "start_time": "2023-04-03T19:20:45.476Z"
   },
   {
    "duration": 27,
    "start_time": "2023-04-03T19:20:45.487Z"
   },
   {
    "duration": 11,
    "start_time": "2023-04-03T19:20:45.515Z"
   },
   {
    "duration": 4,
    "start_time": "2023-04-03T19:20:45.528Z"
   },
   {
    "duration": 150,
    "start_time": "2023-04-03T19:20:45.533Z"
   },
   {
    "duration": 117,
    "start_time": "2023-04-03T19:20:45.685Z"
   },
   {
    "duration": 7,
    "start_time": "2023-04-03T19:20:45.803Z"
   },
   {
    "duration": 4,
    "start_time": "2023-04-03T19:20:45.812Z"
   },
   {
    "duration": 5,
    "start_time": "2023-04-03T19:20:45.818Z"
   },
   {
    "duration": 277,
    "start_time": "2023-04-03T19:20:45.824Z"
   },
   {
    "duration": 204,
    "start_time": "2023-04-03T19:20:46.103Z"
   },
   {
    "duration": 5,
    "start_time": "2023-04-03T19:20:46.309Z"
   },
   {
    "duration": 288,
    "start_time": "2023-04-03T19:20:46.315Z"
   },
   {
    "duration": 4,
    "start_time": "2023-04-03T19:20:46.604Z"
   },
   {
    "duration": 5,
    "start_time": "2023-04-03T19:20:46.609Z"
   },
   {
    "duration": 244,
    "start_time": "2023-04-03T19:20:46.615Z"
   },
   {
    "duration": 7,
    "start_time": "2023-04-03T19:20:46.860Z"
   },
   {
    "duration": 192,
    "start_time": "2023-04-03T19:20:46.868Z"
   },
   {
    "duration": 10,
    "start_time": "2023-04-03T19:20:47.061Z"
   },
   {
    "duration": 8,
    "start_time": "2023-04-03T19:20:47.073Z"
   },
   {
    "duration": 137,
    "start_time": "2023-04-03T19:20:47.082Z"
   },
   {
    "duration": 3,
    "start_time": "2023-04-03T19:20:47.220Z"
   },
   {
    "duration": 158,
    "start_time": "2023-04-03T19:20:47.225Z"
   },
   {
    "duration": 4,
    "start_time": "2023-04-03T19:20:47.385Z"
   },
   {
    "duration": 116,
    "start_time": "2023-04-03T19:20:47.390Z"
   },
   {
    "duration": 40,
    "start_time": "2023-04-03T19:20:47.508Z"
   },
   {
    "duration": 61,
    "start_time": "2023-04-03T19:20:47.551Z"
   },
   {
    "duration": 55,
    "start_time": "2023-04-03T19:20:47.614Z"
   },
   {
    "duration": 21,
    "start_time": "2023-04-03T19:20:47.671Z"
   },
   {
    "duration": 156,
    "start_time": "2023-04-03T19:20:47.693Z"
   },
   {
    "duration": 5,
    "start_time": "2023-04-03T19:20:47.851Z"
   },
   {
    "duration": 43,
    "start_time": "2023-04-03T19:20:47.857Z"
   },
   {
    "duration": 11,
    "start_time": "2023-04-03T19:20:47.901Z"
   },
   {
    "duration": 6,
    "start_time": "2023-04-03T19:20:47.913Z"
   },
   {
    "duration": 7,
    "start_time": "2023-04-03T19:20:47.920Z"
   },
   {
    "duration": 13,
    "start_time": "2023-04-03T19:20:47.928Z"
   },
   {
    "duration": 29,
    "start_time": "2023-04-03T19:20:47.942Z"
   },
   {
    "duration": 12,
    "start_time": "2023-04-03T19:20:47.973Z"
   },
   {
    "duration": 6,
    "start_time": "2023-04-03T19:20:47.987Z"
   },
   {
    "duration": 33,
    "start_time": "2023-04-03T19:20:47.995Z"
   },
   {
    "duration": 14,
    "start_time": "2023-04-03T19:20:48.029Z"
   },
   {
    "duration": 1115,
    "start_time": "2023-04-04T12:38:24.658Z"
   },
   {
    "duration": 62,
    "start_time": "2023-04-04T12:38:25.775Z"
   },
   {
    "duration": 3,
    "start_time": "2023-04-04T12:38:25.839Z"
   },
   {
    "duration": 49,
    "start_time": "2023-04-04T12:38:25.843Z"
   },
   {
    "duration": 7,
    "start_time": "2023-04-04T12:38:25.893Z"
   },
   {
    "duration": 28,
    "start_time": "2023-04-04T12:38:25.901Z"
   },
   {
    "duration": 11,
    "start_time": "2023-04-04T12:38:25.930Z"
   },
   {
    "duration": 7,
    "start_time": "2023-04-04T12:38:25.943Z"
   },
   {
    "duration": 12,
    "start_time": "2023-04-04T12:38:25.951Z"
   },
   {
    "duration": 26,
    "start_time": "2023-04-04T12:38:25.965Z"
   },
   {
    "duration": 5,
    "start_time": "2023-04-04T12:38:25.993Z"
   },
   {
    "duration": 28,
    "start_time": "2023-04-04T12:38:25.999Z"
   },
   {
    "duration": 3,
    "start_time": "2023-04-04T12:38:26.029Z"
   },
   {
    "duration": 9,
    "start_time": "2023-04-04T12:38:26.033Z"
   },
   {
    "duration": 12,
    "start_time": "2023-04-04T12:38:26.044Z"
   },
   {
    "duration": 27,
    "start_time": "2023-04-04T12:38:26.057Z"
   },
   {
    "duration": 15,
    "start_time": "2023-04-04T12:38:26.086Z"
   },
   {
    "duration": 6,
    "start_time": "2023-04-04T12:38:26.103Z"
   },
   {
    "duration": 158,
    "start_time": "2023-04-04T12:38:26.110Z"
   },
   {
    "duration": 109,
    "start_time": "2023-04-04T12:38:26.270Z"
   },
   {
    "duration": 5,
    "start_time": "2023-04-04T12:38:26.388Z"
   },
   {
    "duration": 8,
    "start_time": "2023-04-04T12:38:26.395Z"
   },
   {
    "duration": 9,
    "start_time": "2023-04-04T12:38:26.404Z"
   },
   {
    "duration": 304,
    "start_time": "2023-04-04T12:38:26.414Z"
   },
   {
    "duration": 228,
    "start_time": "2023-04-04T12:38:26.720Z"
   },
   {
    "duration": 6,
    "start_time": "2023-04-04T12:38:26.949Z"
   },
   {
    "duration": 371,
    "start_time": "2023-04-04T12:38:26.956Z"
   },
   {
    "duration": 4,
    "start_time": "2023-04-04T12:38:27.330Z"
   },
   {
    "duration": 9,
    "start_time": "2023-04-04T12:38:27.335Z"
   },
   {
    "duration": 292,
    "start_time": "2023-04-04T12:38:27.346Z"
   },
   {
    "duration": 9,
    "start_time": "2023-04-04T12:38:27.640Z"
   },
   {
    "duration": 217,
    "start_time": "2023-04-04T12:38:27.651Z"
   },
   {
    "duration": 6,
    "start_time": "2023-04-04T12:38:27.870Z"
   },
   {
    "duration": 7,
    "start_time": "2023-04-04T12:38:27.887Z"
   },
   {
    "duration": 141,
    "start_time": "2023-04-04T12:38:27.895Z"
   },
   {
    "duration": 5,
    "start_time": "2023-04-04T12:38:28.037Z"
   },
   {
    "duration": 154,
    "start_time": "2023-04-04T12:38:28.043Z"
   },
   {
    "duration": 4,
    "start_time": "2023-04-04T12:38:28.198Z"
   },
   {
    "duration": 128,
    "start_time": "2023-04-04T12:38:28.203Z"
   },
   {
    "duration": 49,
    "start_time": "2023-04-04T12:38:28.333Z"
   },
   {
    "duration": 70,
    "start_time": "2023-04-04T12:38:28.383Z"
   },
   {
    "duration": 56,
    "start_time": "2023-04-04T12:38:28.455Z"
   },
   {
    "duration": 22,
    "start_time": "2023-04-04T12:38:28.513Z"
   },
   {
    "duration": 138,
    "start_time": "2023-04-04T12:38:28.537Z"
   },
   {
    "duration": 11,
    "start_time": "2023-04-04T12:38:28.677Z"
   },
   {
    "duration": 47,
    "start_time": "2023-04-04T12:38:28.690Z"
   },
   {
    "duration": 14,
    "start_time": "2023-04-04T12:38:28.739Z"
   },
   {
    "duration": 10,
    "start_time": "2023-04-04T12:38:28.754Z"
   },
   {
    "duration": 25,
    "start_time": "2023-04-04T12:38:28.766Z"
   },
   {
    "duration": 7,
    "start_time": "2023-04-04T12:38:28.793Z"
   },
   {
    "duration": 23,
    "start_time": "2023-04-04T12:38:28.801Z"
   },
   {
    "duration": 18,
    "start_time": "2023-04-04T12:38:28.825Z"
   },
   {
    "duration": 24,
    "start_time": "2023-04-04T12:38:28.844Z"
   },
   {
    "duration": 45,
    "start_time": "2023-04-04T12:38:28.869Z"
   },
   {
    "duration": 12,
    "start_time": "2023-04-04T12:38:28.916Z"
   }
  ],
  "kernelspec": {
   "display_name": "Python 3 (ipykernel)",
   "language": "python",
   "name": "python3"
  },
  "language_info": {
   "codemirror_mode": {
    "name": "ipython",
    "version": 3
   },
   "file_extension": ".py",
   "mimetype": "text/x-python",
   "name": "python",
   "nbconvert_exporter": "python",
   "pygments_lexer": "ipython3",
   "version": "3.9.12"
  },
  "toc": {
   "base_numbering": 1,
   "nav_menu": {},
   "number_sections": true,
   "sideBar": true,
   "skip_h1_title": true,
   "title_cell": "Table of Contents",
   "title_sidebar": "Contents",
   "toc_cell": false,
   "toc_position": {
    "height": "calc(100% - 180px)",
    "left": "10px",
    "top": "150px",
    "width": "340.688px"
   },
   "toc_section_display": true,
   "toc_window_display": true
  }
 },
 "nbformat": 4,
 "nbformat_minor": 2
}
