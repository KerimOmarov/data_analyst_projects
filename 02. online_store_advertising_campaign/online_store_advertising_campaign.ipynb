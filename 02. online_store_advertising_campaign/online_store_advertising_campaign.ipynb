{
 "cells": [
  {
   "cell_type": "markdown",
   "metadata": {},
   "source": [
    "# Сборный проект"
   ]
  },
  {
   "cell_type": "markdown",
   "metadata": {},
   "source": [
    "**Описание**\n",
    "\n",
    "Вы работаете в интернет-магазине «Стримчик», который продаёт по всему миру компьютерные игры. Из открытых источников доступны исторические данные о продажах игр, оценки пользователей и экспертов, жанры и платформы (например, Xbox или PlayStation). \n",
    "\n",
    "Перед вами данные до 2016 года. Представим, что сейчас декабрь 2016 г., и вы планируете кампанию на 2017-й. Нужно отработать принцип работы с данными."
   ]
  },
  {
   "cell_type": "markdown",
   "metadata": {},
   "source": [
    "**Цель исследования:** \n",
    "\n",
    "Выявить определяющие успешность игры закономерности и определить факторы для планирования рекламных кампаний\n",
    "\n",
    "**Исследование пройдёт в шесть этапов:**\n",
    "\n",
    "    1. Обзор данных\n",
    "    2. Предобработка данных\n",
    "    3. Исследовательский анализ данных\n",
    "    4. Составление портретов пользователей разных регионов\n",
    "    5. Проверка гипотез\n",
    "    6. Общий вывод"
   ]
  },
  {
   "cell_type": "markdown",
   "metadata": {},
   "source": [
    "## Обзор данных"
   ]
  },
  {
   "cell_type": "code",
   "execution_count": 2,
   "metadata": {},
   "outputs": [],
   "source": [
    "import pandas as pd\n",
    "from scipy import stats as st\n",
    "import numpy as np\n",
    "import matplotlib.pyplot as plt\n",
    "import seaborn as sns\n",
    "\n",
    "try:\n",
    "    data = pd.read_csv('/datasets/games.csv')\n",
    "except:\n",
    "    print('Что-то пошло не так')"
   ]
  },
  {
   "cell_type": "code",
   "execution_count": 3,
   "metadata": {},
   "outputs": [
    {
     "data": {
      "text/html": [
       "<div>\n",
       "<style scoped>\n",
       "    .dataframe tbody tr th:only-of-type {\n",
       "        vertical-align: middle;\n",
       "    }\n",
       "\n",
       "    .dataframe tbody tr th {\n",
       "        vertical-align: top;\n",
       "    }\n",
       "\n",
       "    .dataframe thead th {\n",
       "        text-align: right;\n",
       "    }\n",
       "</style>\n",
       "<table border=\"1\" class=\"dataframe\">\n",
       "  <thead>\n",
       "    <tr style=\"text-align: right;\">\n",
       "      <th></th>\n",
       "      <th>Name</th>\n",
       "      <th>Platform</th>\n",
       "      <th>Year_of_Release</th>\n",
       "      <th>Genre</th>\n",
       "      <th>NA_sales</th>\n",
       "      <th>EU_sales</th>\n",
       "      <th>JP_sales</th>\n",
       "      <th>Other_sales</th>\n",
       "      <th>Critic_Score</th>\n",
       "      <th>User_Score</th>\n",
       "      <th>Rating</th>\n",
       "    </tr>\n",
       "  </thead>\n",
       "  <tbody>\n",
       "    <tr>\n",
       "      <th>0</th>\n",
       "      <td>Wii Sports</td>\n",
       "      <td>Wii</td>\n",
       "      <td>2006.0</td>\n",
       "      <td>Sports</td>\n",
       "      <td>41.36</td>\n",
       "      <td>28.96</td>\n",
       "      <td>3.77</td>\n",
       "      <td>8.45</td>\n",
       "      <td>76.0</td>\n",
       "      <td>8</td>\n",
       "      <td>E</td>\n",
       "    </tr>\n",
       "    <tr>\n",
       "      <th>1</th>\n",
       "      <td>Super Mario Bros.</td>\n",
       "      <td>NES</td>\n",
       "      <td>1985.0</td>\n",
       "      <td>Platform</td>\n",
       "      <td>29.08</td>\n",
       "      <td>3.58</td>\n",
       "      <td>6.81</td>\n",
       "      <td>0.77</td>\n",
       "      <td>NaN</td>\n",
       "      <td>NaN</td>\n",
       "      <td>NaN</td>\n",
       "    </tr>\n",
       "    <tr>\n",
       "      <th>2</th>\n",
       "      <td>Mario Kart Wii</td>\n",
       "      <td>Wii</td>\n",
       "      <td>2008.0</td>\n",
       "      <td>Racing</td>\n",
       "      <td>15.68</td>\n",
       "      <td>12.76</td>\n",
       "      <td>3.79</td>\n",
       "      <td>3.29</td>\n",
       "      <td>82.0</td>\n",
       "      <td>8.3</td>\n",
       "      <td>E</td>\n",
       "    </tr>\n",
       "    <tr>\n",
       "      <th>3</th>\n",
       "      <td>Wii Sports Resort</td>\n",
       "      <td>Wii</td>\n",
       "      <td>2009.0</td>\n",
       "      <td>Sports</td>\n",
       "      <td>15.61</td>\n",
       "      <td>10.93</td>\n",
       "      <td>3.28</td>\n",
       "      <td>2.95</td>\n",
       "      <td>80.0</td>\n",
       "      <td>8</td>\n",
       "      <td>E</td>\n",
       "    </tr>\n",
       "    <tr>\n",
       "      <th>4</th>\n",
       "      <td>Pokemon Red/Pokemon Blue</td>\n",
       "      <td>GB</td>\n",
       "      <td>1996.0</td>\n",
       "      <td>Role-Playing</td>\n",
       "      <td>11.27</td>\n",
       "      <td>8.89</td>\n",
       "      <td>10.22</td>\n",
       "      <td>1.00</td>\n",
       "      <td>NaN</td>\n",
       "      <td>NaN</td>\n",
       "      <td>NaN</td>\n",
       "    </tr>\n",
       "    <tr>\n",
       "      <th>5</th>\n",
       "      <td>Tetris</td>\n",
       "      <td>GB</td>\n",
       "      <td>1989.0</td>\n",
       "      <td>Puzzle</td>\n",
       "      <td>23.20</td>\n",
       "      <td>2.26</td>\n",
       "      <td>4.22</td>\n",
       "      <td>0.58</td>\n",
       "      <td>NaN</td>\n",
       "      <td>NaN</td>\n",
       "      <td>NaN</td>\n",
       "    </tr>\n",
       "    <tr>\n",
       "      <th>6</th>\n",
       "      <td>New Super Mario Bros.</td>\n",
       "      <td>DS</td>\n",
       "      <td>2006.0</td>\n",
       "      <td>Platform</td>\n",
       "      <td>11.28</td>\n",
       "      <td>9.14</td>\n",
       "      <td>6.50</td>\n",
       "      <td>2.88</td>\n",
       "      <td>89.0</td>\n",
       "      <td>8.5</td>\n",
       "      <td>E</td>\n",
       "    </tr>\n",
       "    <tr>\n",
       "      <th>7</th>\n",
       "      <td>Wii Play</td>\n",
       "      <td>Wii</td>\n",
       "      <td>2006.0</td>\n",
       "      <td>Misc</td>\n",
       "      <td>13.96</td>\n",
       "      <td>9.18</td>\n",
       "      <td>2.93</td>\n",
       "      <td>2.84</td>\n",
       "      <td>58.0</td>\n",
       "      <td>6.6</td>\n",
       "      <td>E</td>\n",
       "    </tr>\n",
       "    <tr>\n",
       "      <th>8</th>\n",
       "      <td>New Super Mario Bros. Wii</td>\n",
       "      <td>Wii</td>\n",
       "      <td>2009.0</td>\n",
       "      <td>Platform</td>\n",
       "      <td>14.44</td>\n",
       "      <td>6.94</td>\n",
       "      <td>4.70</td>\n",
       "      <td>2.24</td>\n",
       "      <td>87.0</td>\n",
       "      <td>8.4</td>\n",
       "      <td>E</td>\n",
       "    </tr>\n",
       "    <tr>\n",
       "      <th>9</th>\n",
       "      <td>Duck Hunt</td>\n",
       "      <td>NES</td>\n",
       "      <td>1984.0</td>\n",
       "      <td>Shooter</td>\n",
       "      <td>26.93</td>\n",
       "      <td>0.63</td>\n",
       "      <td>0.28</td>\n",
       "      <td>0.47</td>\n",
       "      <td>NaN</td>\n",
       "      <td>NaN</td>\n",
       "      <td>NaN</td>\n",
       "    </tr>\n",
       "  </tbody>\n",
       "</table>\n",
       "</div>"
      ],
      "text/plain": [
       "                        Name Platform  Year_of_Release         Genre  \\\n",
       "0                 Wii Sports      Wii           2006.0        Sports   \n",
       "1          Super Mario Bros.      NES           1985.0      Platform   \n",
       "2             Mario Kart Wii      Wii           2008.0        Racing   \n",
       "3          Wii Sports Resort      Wii           2009.0        Sports   \n",
       "4   Pokemon Red/Pokemon Blue       GB           1996.0  Role-Playing   \n",
       "5                     Tetris       GB           1989.0        Puzzle   \n",
       "6      New Super Mario Bros.       DS           2006.0      Platform   \n",
       "7                   Wii Play      Wii           2006.0          Misc   \n",
       "8  New Super Mario Bros. Wii      Wii           2009.0      Platform   \n",
       "9                  Duck Hunt      NES           1984.0       Shooter   \n",
       "\n",
       "   NA_sales  EU_sales  JP_sales  Other_sales  Critic_Score User_Score Rating  \n",
       "0     41.36     28.96      3.77         8.45          76.0          8      E  \n",
       "1     29.08      3.58      6.81         0.77           NaN        NaN    NaN  \n",
       "2     15.68     12.76      3.79         3.29          82.0        8.3      E  \n",
       "3     15.61     10.93      3.28         2.95          80.0          8      E  \n",
       "4     11.27      8.89     10.22         1.00           NaN        NaN    NaN  \n",
       "5     23.20      2.26      4.22         0.58           NaN        NaN    NaN  \n",
       "6     11.28      9.14      6.50         2.88          89.0        8.5      E  \n",
       "7     13.96      9.18      2.93         2.84          58.0        6.6      E  \n",
       "8     14.44      6.94      4.70         2.24          87.0        8.4      E  \n",
       "9     26.93      0.63      0.28         0.47           NaN        NaN    NaN  "
      ]
     },
     "execution_count": 3,
     "metadata": {},
     "output_type": "execute_result"
    }
   ],
   "source": [
    "data.head(10)"
   ]
  },
  {
   "cell_type": "code",
   "execution_count": 4,
   "metadata": {
    "scrolled": false
   },
   "outputs": [
    {
     "name": "stdout",
     "output_type": "stream",
     "text": [
      "<class 'pandas.core.frame.DataFrame'>\n",
      "RangeIndex: 16715 entries, 0 to 16714\n",
      "Data columns (total 11 columns):\n",
      " #   Column           Non-Null Count  Dtype  \n",
      "---  ------           --------------  -----  \n",
      " 0   Name             16713 non-null  object \n",
      " 1   Platform         16715 non-null  object \n",
      " 2   Year_of_Release  16446 non-null  float64\n",
      " 3   Genre            16713 non-null  object \n",
      " 4   NA_sales         16715 non-null  float64\n",
      " 5   EU_sales         16715 non-null  float64\n",
      " 6   JP_sales         16715 non-null  float64\n",
      " 7   Other_sales      16715 non-null  float64\n",
      " 8   Critic_Score     8137 non-null   float64\n",
      " 9   User_Score       10014 non-null  object \n",
      " 10  Rating           9949 non-null   object \n",
      "dtypes: float64(6), object(5)\n",
      "memory usage: 1.4+ MB\n"
     ]
    }
   ],
   "source": [
    "data.info()"
   ]
  },
  {
   "cell_type": "markdown",
   "metadata": {},
   "source": [
    "У нас имеется таблица с данными, состояющая из 11 столбцов. \n",
    "Согласно документации:\n",
    "\n",
    "    Name — название игры\n",
    "    Platform — платформа\n",
    "    Year_of_Release — год выпуска\n",
    "    Genre — жанр игры\n",
    "    NA_sales — продажи в Северной Америке (миллионы проданных копий)\n",
    "    EU_sales — продажи в Европе (миллионы проданных копий)\n",
    "    JP_sales — продажи в Японии (миллионы проданных копий)\n",
    "    Other_sales — продажи в других странах (миллионы проданных копий)\n",
    "    Critic_Score — оценка критиков (максимум 100)\n",
    "    User_Score — оценка пользователей (максимум 10)\n",
    "    Rating — рейтинг от организации ESRB (англ. Entertainment Software Rating Board)"
   ]
  },
  {
   "cell_type": "markdown",
   "metadata": {},
   "source": [
    "Соответсвенно в каждой строке таблицы имеется информация о названии игры, данные о продажах, оценки пользователей и экспертов, жанр и платформа.\n",
    "\n",
    "Данных достаточно для проведения необходимого анализа и проверки гипотез. Однако в данных встречаются пропуски и типы данных в таблицах не везде соотвествуют необходимым."
   ]
  },
  {
   "cell_type": "markdown",
   "metadata": {},
   "source": [
    "## Предобработка данных"
   ]
  },
  {
   "cell_type": "markdown",
   "metadata": {},
   "source": [
    "### Исправление названий столбцов"
   ]
  },
  {
   "cell_type": "code",
   "execution_count": 4,
   "metadata": {},
   "outputs": [
    {
     "data": {
      "text/plain": [
       "Index(['Name', 'Platform', 'Year_of_Release', 'Genre', 'NA_sales', 'EU_sales',\n",
       "       'JP_sales', 'Other_sales', 'Critic_Score', 'User_Score', 'Rating'],\n",
       "      dtype='object')"
      ]
     },
     "execution_count": 4,
     "metadata": {},
     "output_type": "execute_result"
    }
   ],
   "source": [
    "data.columns"
   ]
  },
  {
   "cell_type": "markdown",
   "metadata": {},
   "source": [
    "Приведем названия столбцов к нижнему регистру для удобства работы"
   ]
  },
  {
   "cell_type": "code",
   "execution_count": 5,
   "metadata": {},
   "outputs": [],
   "source": [
    "data.columns = data.columns.str.lower()"
   ]
  },
  {
   "cell_type": "code",
   "execution_count": 6,
   "metadata": {
    "scrolled": true
   },
   "outputs": [
    {
     "data": {
      "text/html": [
       "<div>\n",
       "<style scoped>\n",
       "    .dataframe tbody tr th:only-of-type {\n",
       "        vertical-align: middle;\n",
       "    }\n",
       "\n",
       "    .dataframe tbody tr th {\n",
       "        vertical-align: top;\n",
       "    }\n",
       "\n",
       "    .dataframe thead th {\n",
       "        text-align: right;\n",
       "    }\n",
       "</style>\n",
       "<table border=\"1\" class=\"dataframe\">\n",
       "  <thead>\n",
       "    <tr style=\"text-align: right;\">\n",
       "      <th></th>\n",
       "      <th>name</th>\n",
       "      <th>platform</th>\n",
       "      <th>year_of_release</th>\n",
       "      <th>genre</th>\n",
       "      <th>na_sales</th>\n",
       "      <th>eu_sales</th>\n",
       "      <th>jp_sales</th>\n",
       "      <th>other_sales</th>\n",
       "      <th>critic_score</th>\n",
       "      <th>user_score</th>\n",
       "      <th>rating</th>\n",
       "    </tr>\n",
       "  </thead>\n",
       "  <tbody>\n",
       "    <tr>\n",
       "      <th>0</th>\n",
       "      <td>Wii Sports</td>\n",
       "      <td>Wii</td>\n",
       "      <td>2006.0</td>\n",
       "      <td>Sports</td>\n",
       "      <td>41.36</td>\n",
       "      <td>28.96</td>\n",
       "      <td>3.77</td>\n",
       "      <td>8.45</td>\n",
       "      <td>76.0</td>\n",
       "      <td>8</td>\n",
       "      <td>E</td>\n",
       "    </tr>\n",
       "    <tr>\n",
       "      <th>1</th>\n",
       "      <td>Super Mario Bros.</td>\n",
       "      <td>NES</td>\n",
       "      <td>1985.0</td>\n",
       "      <td>Platform</td>\n",
       "      <td>29.08</td>\n",
       "      <td>3.58</td>\n",
       "      <td>6.81</td>\n",
       "      <td>0.77</td>\n",
       "      <td>NaN</td>\n",
       "      <td>NaN</td>\n",
       "      <td>NaN</td>\n",
       "    </tr>\n",
       "    <tr>\n",
       "      <th>2</th>\n",
       "      <td>Mario Kart Wii</td>\n",
       "      <td>Wii</td>\n",
       "      <td>2008.0</td>\n",
       "      <td>Racing</td>\n",
       "      <td>15.68</td>\n",
       "      <td>12.76</td>\n",
       "      <td>3.79</td>\n",
       "      <td>3.29</td>\n",
       "      <td>82.0</td>\n",
       "      <td>8.3</td>\n",
       "      <td>E</td>\n",
       "    </tr>\n",
       "    <tr>\n",
       "      <th>3</th>\n",
       "      <td>Wii Sports Resort</td>\n",
       "      <td>Wii</td>\n",
       "      <td>2009.0</td>\n",
       "      <td>Sports</td>\n",
       "      <td>15.61</td>\n",
       "      <td>10.93</td>\n",
       "      <td>3.28</td>\n",
       "      <td>2.95</td>\n",
       "      <td>80.0</td>\n",
       "      <td>8</td>\n",
       "      <td>E</td>\n",
       "    </tr>\n",
       "    <tr>\n",
       "      <th>4</th>\n",
       "      <td>Pokemon Red/Pokemon Blue</td>\n",
       "      <td>GB</td>\n",
       "      <td>1996.0</td>\n",
       "      <td>Role-Playing</td>\n",
       "      <td>11.27</td>\n",
       "      <td>8.89</td>\n",
       "      <td>10.22</td>\n",
       "      <td>1.00</td>\n",
       "      <td>NaN</td>\n",
       "      <td>NaN</td>\n",
       "      <td>NaN</td>\n",
       "    </tr>\n",
       "  </tbody>\n",
       "</table>\n",
       "</div>"
      ],
      "text/plain": [
       "                       name platform  year_of_release         genre  na_sales  \\\n",
       "0                Wii Sports      Wii           2006.0        Sports     41.36   \n",
       "1         Super Mario Bros.      NES           1985.0      Platform     29.08   \n",
       "2            Mario Kart Wii      Wii           2008.0        Racing     15.68   \n",
       "3         Wii Sports Resort      Wii           2009.0        Sports     15.61   \n",
       "4  Pokemon Red/Pokemon Blue       GB           1996.0  Role-Playing     11.27   \n",
       "\n",
       "   eu_sales  jp_sales  other_sales  critic_score user_score rating  \n",
       "0     28.96      3.77         8.45          76.0          8      E  \n",
       "1      3.58      6.81         0.77           NaN        NaN    NaN  \n",
       "2     12.76      3.79         3.29          82.0        8.3      E  \n",
       "3     10.93      3.28         2.95          80.0          8      E  \n",
       "4      8.89     10.22         1.00           NaN        NaN    NaN  "
      ]
     },
     "execution_count": 6,
     "metadata": {},
     "output_type": "execute_result"
    }
   ],
   "source": [
    "data.head()"
   ]
  },
  {
   "cell_type": "markdown",
   "metadata": {},
   "source": [
    "### Заполнение пропусков"
   ]
  },
  {
   "cell_type": "code",
   "execution_count": 7,
   "metadata": {},
   "outputs": [
    {
     "data": {
      "text/plain": [
       "name                  2\n",
       "platform              0\n",
       "year_of_release     269\n",
       "genre                 2\n",
       "na_sales              0\n",
       "eu_sales              0\n",
       "jp_sales              0\n",
       "other_sales           0\n",
       "critic_score       8578\n",
       "user_score         6701\n",
       "rating             6766\n",
       "dtype: int64"
      ]
     },
     "execution_count": 7,
     "metadata": {},
     "output_type": "execute_result"
    }
   ],
   "source": [
    "data.isna().sum()"
   ]
  },
  {
   "cell_type": "markdown",
   "metadata": {},
   "source": [
    "Как мы видим, в датасете имеются пропуски в 6 столбцах.\n",
    "\n",
    "Что касается столбцов `year_of_release`, `name` и `genre`, пропуски могли появиться в результате ошибок ввода или технических ошибок. Но поскольку эти пропуски составляют всего 273 строки из 16715 (менее 2%) и нет надежного способа их восстановить, то для дальнейшего анализа их можно просто удалить"
   ]
  },
  {
   "cell_type": "code",
   "execution_count": 8,
   "metadata": {},
   "outputs": [],
   "source": [
    "data = data.dropna(subset=['year_of_release', 'name', 'genre'])"
   ]
  },
  {
   "cell_type": "code",
   "execution_count": 9,
   "metadata": {},
   "outputs": [
    {
     "data": {
      "text/plain": [
       "name                  0\n",
       "platform              0\n",
       "year_of_release       0\n",
       "genre                 0\n",
       "na_sales              0\n",
       "eu_sales              0\n",
       "jp_sales              0\n",
       "other_sales           0\n",
       "critic_score       8461\n",
       "user_score         6605\n",
       "rating             6676\n",
       "dtype: int64"
      ]
     },
     "execution_count": 9,
     "metadata": {},
     "output_type": "execute_result"
    }
   ],
   "source": [
    "data.isna().sum()"
   ]
  },
  {
   "cell_type": "markdown",
   "metadata": {},
   "source": [
    "Далее проверим пропущенные значения в столбце `user_score`. Посмотрим какие уникальные значения есть в данном столбце, прежде чем принять решение как их заменить."
   ]
  },
  {
   "cell_type": "code",
   "execution_count": 10,
   "metadata": {},
   "outputs": [
    {
     "data": {
      "text/plain": [
       "array(['8', nan, '8.3', '8.5', '6.6', '8.4', '8.6', '7.7', '6.3', '7.4',\n",
       "       '8.2', '9', '7.9', '8.1', '8.7', '7.1', '3.4', '5.3', '4.8', '3.2',\n",
       "       '8.9', '6.4', '7.8', '7.5', '2.6', '7.2', '9.2', '7', '7.3', '4.3',\n",
       "       '7.6', '5.7', '5', '9.1', '6.5', 'tbd', '8.8', '6.9', '9.4', '6.8',\n",
       "       '6.1', '6.7', '5.4', '4', '4.9', '4.5', '9.3', '6.2', '4.2', '6',\n",
       "       '3.7', '4.1', '5.8', '5.6', '5.5', '4.4', '4.6', '5.9', '3.9',\n",
       "       '3.1', '2.9', '5.2', '3.3', '4.7', '5.1', '3.5', '2.5', '1.9', '3',\n",
       "       '2.7', '2.2', '2', '9.5', '2.1', '3.6', '2.8', '1.8', '3.8', '0',\n",
       "       '1.6', '9.6', '2.4', '1.7', '1.1', '0.3', '1.5', '0.7', '1.2',\n",
       "       '2.3', '0.5', '1.3', '0.2', '0.6', '1.4', '0.9', '1', '9.7'],\n",
       "      dtype=object)"
      ]
     },
     "execution_count": 10,
     "metadata": {},
     "output_type": "execute_result"
    }
   ],
   "source": [
    "data['user_score'].unique()"
   ]
  },
  {
   "cell_type": "markdown",
   "metadata": {},
   "source": [
    "Можно заметить, что помимо числовых значений и пропусков (nan), в столбце также присутствуют ячейки с аббревиатурой tbd, что обычно означает To Be Determined (т.е. оценка будет определена позже). Посмотрим сколько таких строк имеется в датасете"
   ]
  },
  {
   "cell_type": "code",
   "execution_count": 11,
   "metadata": {
    "scrolled": false
   },
   "outputs": [
    {
     "data": {
      "text/html": [
       "<div>\n",
       "<style scoped>\n",
       "    .dataframe tbody tr th:only-of-type {\n",
       "        vertical-align: middle;\n",
       "    }\n",
       "\n",
       "    .dataframe tbody tr th {\n",
       "        vertical-align: top;\n",
       "    }\n",
       "\n",
       "    .dataframe thead th {\n",
       "        text-align: right;\n",
       "    }\n",
       "</style>\n",
       "<table border=\"1\" class=\"dataframe\">\n",
       "  <thead>\n",
       "    <tr style=\"text-align: right;\">\n",
       "      <th></th>\n",
       "      <th>name</th>\n",
       "      <th>platform</th>\n",
       "      <th>year_of_release</th>\n",
       "      <th>genre</th>\n",
       "      <th>na_sales</th>\n",
       "      <th>eu_sales</th>\n",
       "      <th>jp_sales</th>\n",
       "      <th>other_sales</th>\n",
       "      <th>critic_score</th>\n",
       "      <th>user_score</th>\n",
       "      <th>rating</th>\n",
       "    </tr>\n",
       "  </thead>\n",
       "  <tbody>\n",
       "    <tr>\n",
       "      <th>119</th>\n",
       "      <td>Zumba Fitness</td>\n",
       "      <td>Wii</td>\n",
       "      <td>2010.0</td>\n",
       "      <td>Sports</td>\n",
       "      <td>3.45</td>\n",
       "      <td>2.59</td>\n",
       "      <td>0.0</td>\n",
       "      <td>0.66</td>\n",
       "      <td>NaN</td>\n",
       "      <td>tbd</td>\n",
       "      <td>E</td>\n",
       "    </tr>\n",
       "    <tr>\n",
       "      <th>301</th>\n",
       "      <td>Namco Museum: 50th Anniversary</td>\n",
       "      <td>PS2</td>\n",
       "      <td>2005.0</td>\n",
       "      <td>Misc</td>\n",
       "      <td>2.08</td>\n",
       "      <td>1.35</td>\n",
       "      <td>0.0</td>\n",
       "      <td>0.54</td>\n",
       "      <td>61.0</td>\n",
       "      <td>tbd</td>\n",
       "      <td>E10+</td>\n",
       "    </tr>\n",
       "    <tr>\n",
       "      <th>520</th>\n",
       "      <td>Zumba Fitness 2</td>\n",
       "      <td>Wii</td>\n",
       "      <td>2011.0</td>\n",
       "      <td>Sports</td>\n",
       "      <td>1.51</td>\n",
       "      <td>1.03</td>\n",
       "      <td>0.0</td>\n",
       "      <td>0.27</td>\n",
       "      <td>NaN</td>\n",
       "      <td>tbd</td>\n",
       "      <td>T</td>\n",
       "    </tr>\n",
       "    <tr>\n",
       "      <th>645</th>\n",
       "      <td>uDraw Studio</td>\n",
       "      <td>Wii</td>\n",
       "      <td>2010.0</td>\n",
       "      <td>Misc</td>\n",
       "      <td>1.65</td>\n",
       "      <td>0.57</td>\n",
       "      <td>0.0</td>\n",
       "      <td>0.20</td>\n",
       "      <td>71.0</td>\n",
       "      <td>tbd</td>\n",
       "      <td>E</td>\n",
       "    </tr>\n",
       "    <tr>\n",
       "      <th>718</th>\n",
       "      <td>Just Dance Kids</td>\n",
       "      <td>Wii</td>\n",
       "      <td>2010.0</td>\n",
       "      <td>Misc</td>\n",
       "      <td>1.52</td>\n",
       "      <td>0.54</td>\n",
       "      <td>0.0</td>\n",
       "      <td>0.18</td>\n",
       "      <td>NaN</td>\n",
       "      <td>tbd</td>\n",
       "      <td>E</td>\n",
       "    </tr>\n",
       "    <tr>\n",
       "      <th>...</th>\n",
       "      <td>...</td>\n",
       "      <td>...</td>\n",
       "      <td>...</td>\n",
       "      <td>...</td>\n",
       "      <td>...</td>\n",
       "      <td>...</td>\n",
       "      <td>...</td>\n",
       "      <td>...</td>\n",
       "      <td>...</td>\n",
       "      <td>...</td>\n",
       "      <td>...</td>\n",
       "    </tr>\n",
       "    <tr>\n",
       "      <th>16695</th>\n",
       "      <td>Planet Monsters</td>\n",
       "      <td>GBA</td>\n",
       "      <td>2001.0</td>\n",
       "      <td>Action</td>\n",
       "      <td>0.01</td>\n",
       "      <td>0.00</td>\n",
       "      <td>0.0</td>\n",
       "      <td>0.00</td>\n",
       "      <td>67.0</td>\n",
       "      <td>tbd</td>\n",
       "      <td>E</td>\n",
       "    </tr>\n",
       "    <tr>\n",
       "      <th>16697</th>\n",
       "      <td>Bust-A-Move 3000</td>\n",
       "      <td>GC</td>\n",
       "      <td>2003.0</td>\n",
       "      <td>Puzzle</td>\n",
       "      <td>0.01</td>\n",
       "      <td>0.00</td>\n",
       "      <td>0.0</td>\n",
       "      <td>0.00</td>\n",
       "      <td>53.0</td>\n",
       "      <td>tbd</td>\n",
       "      <td>E</td>\n",
       "    </tr>\n",
       "    <tr>\n",
       "      <th>16698</th>\n",
       "      <td>Mega Brain Boost</td>\n",
       "      <td>DS</td>\n",
       "      <td>2008.0</td>\n",
       "      <td>Puzzle</td>\n",
       "      <td>0.01</td>\n",
       "      <td>0.00</td>\n",
       "      <td>0.0</td>\n",
       "      <td>0.00</td>\n",
       "      <td>48.0</td>\n",
       "      <td>tbd</td>\n",
       "      <td>E</td>\n",
       "    </tr>\n",
       "    <tr>\n",
       "      <th>16704</th>\n",
       "      <td>Plushees</td>\n",
       "      <td>DS</td>\n",
       "      <td>2008.0</td>\n",
       "      <td>Simulation</td>\n",
       "      <td>0.01</td>\n",
       "      <td>0.00</td>\n",
       "      <td>0.0</td>\n",
       "      <td>0.00</td>\n",
       "      <td>NaN</td>\n",
       "      <td>tbd</td>\n",
       "      <td>E</td>\n",
       "    </tr>\n",
       "    <tr>\n",
       "      <th>16706</th>\n",
       "      <td>Men in Black II: Alien Escape</td>\n",
       "      <td>GC</td>\n",
       "      <td>2003.0</td>\n",
       "      <td>Shooter</td>\n",
       "      <td>0.01</td>\n",
       "      <td>0.00</td>\n",
       "      <td>0.0</td>\n",
       "      <td>0.00</td>\n",
       "      <td>NaN</td>\n",
       "      <td>tbd</td>\n",
       "      <td>T</td>\n",
       "    </tr>\n",
       "  </tbody>\n",
       "</table>\n",
       "<p>2376 rows × 11 columns</p>\n",
       "</div>"
      ],
      "text/plain": [
       "                                 name platform  year_of_release       genre  \\\n",
       "119                     Zumba Fitness      Wii           2010.0      Sports   \n",
       "301    Namco Museum: 50th Anniversary      PS2           2005.0        Misc   \n",
       "520                   Zumba Fitness 2      Wii           2011.0      Sports   \n",
       "645                      uDraw Studio      Wii           2010.0        Misc   \n",
       "718                   Just Dance Kids      Wii           2010.0        Misc   \n",
       "...                               ...      ...              ...         ...   \n",
       "16695                 Planet Monsters      GBA           2001.0      Action   \n",
       "16697                Bust-A-Move 3000       GC           2003.0      Puzzle   \n",
       "16698                Mega Brain Boost       DS           2008.0      Puzzle   \n",
       "16704                        Plushees       DS           2008.0  Simulation   \n",
       "16706   Men in Black II: Alien Escape       GC           2003.0     Shooter   \n",
       "\n",
       "       na_sales  eu_sales  jp_sales  other_sales  critic_score user_score  \\\n",
       "119        3.45      2.59       0.0         0.66           NaN        tbd   \n",
       "301        2.08      1.35       0.0         0.54          61.0        tbd   \n",
       "520        1.51      1.03       0.0         0.27           NaN        tbd   \n",
       "645        1.65      0.57       0.0         0.20          71.0        tbd   \n",
       "718        1.52      0.54       0.0         0.18           NaN        tbd   \n",
       "...         ...       ...       ...          ...           ...        ...   \n",
       "16695      0.01      0.00       0.0         0.00          67.0        tbd   \n",
       "16697      0.01      0.00       0.0         0.00          53.0        tbd   \n",
       "16698      0.01      0.00       0.0         0.00          48.0        tbd   \n",
       "16704      0.01      0.00       0.0         0.00           NaN        tbd   \n",
       "16706      0.01      0.00       0.0         0.00           NaN        tbd   \n",
       "\n",
       "      rating  \n",
       "119        E  \n",
       "301     E10+  \n",
       "520        T  \n",
       "645        E  \n",
       "718        E  \n",
       "...      ...  \n",
       "16695      E  \n",
       "16697      E  \n",
       "16698      E  \n",
       "16704      E  \n",
       "16706      T  \n",
       "\n",
       "[2376 rows x 11 columns]"
      ]
     },
     "execution_count": 11,
     "metadata": {},
     "output_type": "execute_result"
    }
   ],
   "source": [
    "data.loc[data['user_score'] == 'tbd']"
   ]
  },
  {
   "cell_type": "markdown",
   "metadata": {},
   "source": [
    "В таблице имеется 2376 строк с аббревиатурой tbd, что достаточно много, просто так удалить такой объем данных нельзя. К тому же, в остальных столбцах имеется вся необходимая информация для анализа. Но поскольку tbd подразумевает, что на данный момент оценки нет, можно считать, что это то же самое, что и пропуск. Заменим значения с аббревиатурой на пустые."
   ]
  },
  {
   "cell_type": "code",
   "execution_count": 12,
   "metadata": {},
   "outputs": [],
   "source": [
    "data['user_score'] = data['user_score'].replace('tbd', np.nan)"
   ]
  },
  {
   "cell_type": "code",
   "execution_count": 13,
   "metadata": {},
   "outputs": [
    {
     "data": {
      "text/plain": [
       "name                  0\n",
       "platform              0\n",
       "year_of_release       0\n",
       "genre                 0\n",
       "na_sales              0\n",
       "eu_sales              0\n",
       "jp_sales              0\n",
       "other_sales           0\n",
       "critic_score       8461\n",
       "user_score         8981\n",
       "rating             6676\n",
       "dtype: int64"
      ]
     },
     "execution_count": 13,
     "metadata": {},
     "output_type": "execute_result"
    }
   ],
   "source": [
    "data.isna().sum()"
   ]
  },
  {
   "cell_type": "markdown",
   "metadata": {},
   "source": [
    "Количество пропусков в `user_score` увеличилось до 8981. Удалить данные не представляется возможным, это более 50% всего датасета. Заполнить их корректно также невозможно. В данном случае будет правильнее заменить их на -1 и учитывать это при дальнейшем анализе. "
   ]
  },
  {
   "cell_type": "code",
   "execution_count": 14,
   "metadata": {},
   "outputs": [],
   "source": [
    "data['user_score'] = data['user_score'].fillna(-1)"
   ]
  },
  {
   "cell_type": "code",
   "execution_count": 15,
   "metadata": {},
   "outputs": [
    {
     "data": {
      "text/plain": [
       "name                  0\n",
       "platform              0\n",
       "year_of_release       0\n",
       "genre                 0\n",
       "na_sales              0\n",
       "eu_sales              0\n",
       "jp_sales              0\n",
       "other_sales           0\n",
       "critic_score       8461\n",
       "user_score            0\n",
       "rating             6676\n",
       "dtype: int64"
      ]
     },
     "execution_count": 15,
     "metadata": {},
     "output_type": "execute_result"
    }
   ],
   "source": [
    "data.isna().sum()"
   ]
  },
  {
   "cell_type": "markdown",
   "metadata": {},
   "source": [
    "Теперь проверим пропуски в столбцах `critic_score` и `rating`"
   ]
  },
  {
   "cell_type": "code",
   "execution_count": 16,
   "metadata": {},
   "outputs": [
    {
     "data": {
      "text/plain": [
       "array([76., nan, 82., 80., 89., 58., 87., 91., 61., 97., 95., 77., 88.,\n",
       "       83., 94., 93., 85., 86., 98., 96., 90., 84., 73., 74., 78., 92.,\n",
       "       71., 72., 68., 62., 49., 67., 81., 66., 56., 79., 70., 59., 64.,\n",
       "       75., 60., 63., 69., 50., 25., 42., 44., 55., 48., 57., 29., 47.,\n",
       "       65., 54., 20., 53., 37., 38., 33., 52., 30., 32., 43., 45., 51.,\n",
       "       40., 46., 39., 34., 41., 36., 31., 27., 35., 26., 19., 28., 23.,\n",
       "       24., 21., 17., 13.])"
      ]
     },
     "execution_count": 16,
     "metadata": {},
     "output_type": "execute_result"
    }
   ],
   "source": [
    "data['critic_score'].unique()"
   ]
  },
  {
   "cell_type": "markdown",
   "metadata": {},
   "source": [
    "В данном столбце не имеется аббревиатур, а пропусков слишком много чтобы их удалить. Заменим их также на -1"
   ]
  },
  {
   "cell_type": "code",
   "execution_count": 17,
   "metadata": {},
   "outputs": [],
   "source": [
    "data['critic_score'] = data['critic_score'].fillna(-1)"
   ]
  },
  {
   "cell_type": "code",
   "execution_count": 18,
   "metadata": {},
   "outputs": [
    {
     "data": {
      "text/plain": [
       "array(['E', nan, 'M', 'T', 'E10+', 'K-A', 'AO', 'EC', 'RP'], dtype=object)"
      ]
     },
     "execution_count": 18,
     "metadata": {},
     "output_type": "execute_result"
    }
   ],
   "source": [
    "data['rating'].unique()"
   ]
  },
  {
   "cell_type": "markdown",
   "metadata": {},
   "source": [
    "Стоит обратить внимание, что в списке имеется рейтинг 'K-A'. Однако, такая категория была заменена на 'E' еще в 1998 году и более не используется. Стоит заменить значение 'K-A' на 'E'. Пропусков также слишком много, чтобы их удалить, но и заполнить их без дополнительной информации не представляется возможным. Поступим с ними также, как с предыдущими пропусками - заменим на -1"
   ]
  },
  {
   "cell_type": "code",
   "execution_count": 19,
   "metadata": {},
   "outputs": [],
   "source": [
    "data['rating'] = data['rating'].str.replace('K-A', 'E', regex=True)"
   ]
  },
  {
   "cell_type": "code",
   "execution_count": 20,
   "metadata": {},
   "outputs": [
    {
     "data": {
      "text/plain": [
       "array(['E', nan, 'M', 'T', 'E10+', 'AO', 'EC', 'RP'], dtype=object)"
      ]
     },
     "execution_count": 20,
     "metadata": {},
     "output_type": "execute_result"
    }
   ],
   "source": [
    "data['rating'].unique()"
   ]
  },
  {
   "cell_type": "code",
   "execution_count": 21,
   "metadata": {},
   "outputs": [],
   "source": [
    "data['rating'] = data['rating'].fillna(-1)"
   ]
  },
  {
   "cell_type": "code",
   "execution_count": 22,
   "metadata": {},
   "outputs": [
    {
     "name": "stdout",
     "output_type": "stream",
     "text": [
      "<class 'pandas.core.frame.DataFrame'>\n",
      "Int64Index: 16444 entries, 0 to 16714\n",
      "Data columns (total 11 columns):\n",
      " #   Column           Non-Null Count  Dtype  \n",
      "---  ------           --------------  -----  \n",
      " 0   name             16444 non-null  object \n",
      " 1   platform         16444 non-null  object \n",
      " 2   year_of_release  16444 non-null  float64\n",
      " 3   genre            16444 non-null  object \n",
      " 4   na_sales         16444 non-null  float64\n",
      " 5   eu_sales         16444 non-null  float64\n",
      " 6   jp_sales         16444 non-null  float64\n",
      " 7   other_sales      16444 non-null  float64\n",
      " 8   critic_score     16444 non-null  float64\n",
      " 9   user_score       16444 non-null  object \n",
      " 10  rating           16444 non-null  object \n",
      "dtypes: float64(6), object(5)\n",
      "memory usage: 1.5+ MB\n"
     ]
    }
   ],
   "source": [
    "data.info()"
   ]
  },
  {
   "cell_type": "code",
   "execution_count": 23,
   "metadata": {},
   "outputs": [
    {
     "data": {
      "text/plain": [
       "name               0\n",
       "platform           0\n",
       "year_of_release    0\n",
       "genre              0\n",
       "na_sales           0\n",
       "eu_sales           0\n",
       "jp_sales           0\n",
       "other_sales        0\n",
       "critic_score       0\n",
       "user_score         0\n",
       "rating             0\n",
       "dtype: int64"
      ]
     },
     "execution_count": 23,
     "metadata": {},
     "output_type": "execute_result"
    }
   ],
   "source": [
    "data.isna().sum()"
   ]
  },
  {
   "cell_type": "markdown",
   "metadata": {},
   "source": [
    "Все пропуски в данных обработаны, можно идти дальше"
   ]
  },
  {
   "cell_type": "markdown",
   "metadata": {},
   "source": [
    "### Изменение типов данных"
   ]
  },
  {
   "cell_type": "code",
   "execution_count": 24,
   "metadata": {},
   "outputs": [],
   "source": [
    "data['year_of_release'] = data['year_of_release'].astype('int')\n",
    "data['user_score'] = data['user_score'].astype('float')"
   ]
  },
  {
   "cell_type": "code",
   "execution_count": 25,
   "metadata": {},
   "outputs": [
    {
     "name": "stdout",
     "output_type": "stream",
     "text": [
      "<class 'pandas.core.frame.DataFrame'>\n",
      "Int64Index: 16444 entries, 0 to 16714\n",
      "Data columns (total 11 columns):\n",
      " #   Column           Non-Null Count  Dtype  \n",
      "---  ------           --------------  -----  \n",
      " 0   name             16444 non-null  object \n",
      " 1   platform         16444 non-null  object \n",
      " 2   year_of_release  16444 non-null  int64  \n",
      " 3   genre            16444 non-null  object \n",
      " 4   na_sales         16444 non-null  float64\n",
      " 5   eu_sales         16444 non-null  float64\n",
      " 6   jp_sales         16444 non-null  float64\n",
      " 7   other_sales      16444 non-null  float64\n",
      " 8   critic_score     16444 non-null  float64\n",
      " 9   user_score       16444 non-null  float64\n",
      " 10  rating           16444 non-null  object \n",
      "dtypes: float64(6), int64(1), object(4)\n",
      "memory usage: 1.5+ MB\n"
     ]
    }
   ],
   "source": [
    "data.info()"
   ]
  },
  {
   "cell_type": "code",
   "execution_count": 26,
   "metadata": {},
   "outputs": [
    {
     "data": {
      "text/html": [
       "<div>\n",
       "<style scoped>\n",
       "    .dataframe tbody tr th:only-of-type {\n",
       "        vertical-align: middle;\n",
       "    }\n",
       "\n",
       "    .dataframe tbody tr th {\n",
       "        vertical-align: top;\n",
       "    }\n",
       "\n",
       "    .dataframe thead th {\n",
       "        text-align: right;\n",
       "    }\n",
       "</style>\n",
       "<table border=\"1\" class=\"dataframe\">\n",
       "  <thead>\n",
       "    <tr style=\"text-align: right;\">\n",
       "      <th></th>\n",
       "      <th>name</th>\n",
       "      <th>platform</th>\n",
       "      <th>year_of_release</th>\n",
       "      <th>genre</th>\n",
       "      <th>na_sales</th>\n",
       "      <th>eu_sales</th>\n",
       "      <th>jp_sales</th>\n",
       "      <th>other_sales</th>\n",
       "      <th>critic_score</th>\n",
       "      <th>user_score</th>\n",
       "      <th>rating</th>\n",
       "    </tr>\n",
       "  </thead>\n",
       "  <tbody>\n",
       "    <tr>\n",
       "      <th>0</th>\n",
       "      <td>Wii Sports</td>\n",
       "      <td>Wii</td>\n",
       "      <td>2006</td>\n",
       "      <td>Sports</td>\n",
       "      <td>41.36</td>\n",
       "      <td>28.96</td>\n",
       "      <td>3.77</td>\n",
       "      <td>8.45</td>\n",
       "      <td>76.0</td>\n",
       "      <td>8.0</td>\n",
       "      <td>E</td>\n",
       "    </tr>\n",
       "    <tr>\n",
       "      <th>1</th>\n",
       "      <td>Super Mario Bros.</td>\n",
       "      <td>NES</td>\n",
       "      <td>1985</td>\n",
       "      <td>Platform</td>\n",
       "      <td>29.08</td>\n",
       "      <td>3.58</td>\n",
       "      <td>6.81</td>\n",
       "      <td>0.77</td>\n",
       "      <td>-1.0</td>\n",
       "      <td>-1.0</td>\n",
       "      <td>-1</td>\n",
       "    </tr>\n",
       "    <tr>\n",
       "      <th>2</th>\n",
       "      <td>Mario Kart Wii</td>\n",
       "      <td>Wii</td>\n",
       "      <td>2008</td>\n",
       "      <td>Racing</td>\n",
       "      <td>15.68</td>\n",
       "      <td>12.76</td>\n",
       "      <td>3.79</td>\n",
       "      <td>3.29</td>\n",
       "      <td>82.0</td>\n",
       "      <td>8.3</td>\n",
       "      <td>E</td>\n",
       "    </tr>\n",
       "    <tr>\n",
       "      <th>3</th>\n",
       "      <td>Wii Sports Resort</td>\n",
       "      <td>Wii</td>\n",
       "      <td>2009</td>\n",
       "      <td>Sports</td>\n",
       "      <td>15.61</td>\n",
       "      <td>10.93</td>\n",
       "      <td>3.28</td>\n",
       "      <td>2.95</td>\n",
       "      <td>80.0</td>\n",
       "      <td>8.0</td>\n",
       "      <td>E</td>\n",
       "    </tr>\n",
       "    <tr>\n",
       "      <th>4</th>\n",
       "      <td>Pokemon Red/Pokemon Blue</td>\n",
       "      <td>GB</td>\n",
       "      <td>1996</td>\n",
       "      <td>Role-Playing</td>\n",
       "      <td>11.27</td>\n",
       "      <td>8.89</td>\n",
       "      <td>10.22</td>\n",
       "      <td>1.00</td>\n",
       "      <td>-1.0</td>\n",
       "      <td>-1.0</td>\n",
       "      <td>-1</td>\n",
       "    </tr>\n",
       "  </tbody>\n",
       "</table>\n",
       "</div>"
      ],
      "text/plain": [
       "                       name platform  year_of_release         genre  na_sales  \\\n",
       "0                Wii Sports      Wii             2006        Sports     41.36   \n",
       "1         Super Mario Bros.      NES             1985      Platform     29.08   \n",
       "2            Mario Kart Wii      Wii             2008        Racing     15.68   \n",
       "3         Wii Sports Resort      Wii             2009        Sports     15.61   \n",
       "4  Pokemon Red/Pokemon Blue       GB             1996  Role-Playing     11.27   \n",
       "\n",
       "   eu_sales  jp_sales  other_sales  critic_score  user_score rating  \n",
       "0     28.96      3.77         8.45          76.0         8.0      E  \n",
       "1      3.58      6.81         0.77          -1.0        -1.0     -1  \n",
       "2     12.76      3.79         3.29          82.0         8.3      E  \n",
       "3     10.93      3.28         2.95          80.0         8.0      E  \n",
       "4      8.89     10.22         1.00          -1.0        -1.0     -1  "
      ]
     },
     "execution_count": 26,
     "metadata": {},
     "output_type": "execute_result"
    }
   ],
   "source": [
    "data.head()"
   ]
  },
  {
   "cell_type": "markdown",
   "metadata": {},
   "source": [
    "### Поиск дубликатов"
   ]
  },
  {
   "cell_type": "markdown",
   "metadata": {},
   "source": [
    "Проверим данные на наличие явных дубликатов"
   ]
  },
  {
   "cell_type": "code",
   "execution_count": 27,
   "metadata": {},
   "outputs": [
    {
     "data": {
      "text/plain": [
       "0"
      ]
     },
     "execution_count": 27,
     "metadata": {},
     "output_type": "execute_result"
    }
   ],
   "source": [
    "data.duplicated().sum()"
   ]
  },
  {
   "cell_type": "markdown",
   "metadata": {},
   "source": [
    "### Cоздание столбца"
   ]
  },
  {
   "cell_type": "markdown",
   "metadata": {},
   "source": [
    "Посчитаем суммарные продажи во всех регионах и запишем их в отдельный столбец `total_sales`"
   ]
  },
  {
   "cell_type": "code",
   "execution_count": 28,
   "metadata": {},
   "outputs": [],
   "source": [
    "data['total_sales'] = data[['na_sales','eu_sales','jp_sales', 'other_sales']].sum(axis = 1)"
   ]
  },
  {
   "cell_type": "code",
   "execution_count": 29,
   "metadata": {},
   "outputs": [
    {
     "data": {
      "text/html": [
       "<div>\n",
       "<style scoped>\n",
       "    .dataframe tbody tr th:only-of-type {\n",
       "        vertical-align: middle;\n",
       "    }\n",
       "\n",
       "    .dataframe tbody tr th {\n",
       "        vertical-align: top;\n",
       "    }\n",
       "\n",
       "    .dataframe thead th {\n",
       "        text-align: right;\n",
       "    }\n",
       "</style>\n",
       "<table border=\"1\" class=\"dataframe\">\n",
       "  <thead>\n",
       "    <tr style=\"text-align: right;\">\n",
       "      <th></th>\n",
       "      <th>name</th>\n",
       "      <th>platform</th>\n",
       "      <th>year_of_release</th>\n",
       "      <th>genre</th>\n",
       "      <th>na_sales</th>\n",
       "      <th>eu_sales</th>\n",
       "      <th>jp_sales</th>\n",
       "      <th>other_sales</th>\n",
       "      <th>critic_score</th>\n",
       "      <th>user_score</th>\n",
       "      <th>rating</th>\n",
       "      <th>total_sales</th>\n",
       "    </tr>\n",
       "  </thead>\n",
       "  <tbody>\n",
       "    <tr>\n",
       "      <th>0</th>\n",
       "      <td>Wii Sports</td>\n",
       "      <td>Wii</td>\n",
       "      <td>2006</td>\n",
       "      <td>Sports</td>\n",
       "      <td>41.36</td>\n",
       "      <td>28.96</td>\n",
       "      <td>3.77</td>\n",
       "      <td>8.45</td>\n",
       "      <td>76.0</td>\n",
       "      <td>8.0</td>\n",
       "      <td>E</td>\n",
       "      <td>82.54</td>\n",
       "    </tr>\n",
       "    <tr>\n",
       "      <th>1</th>\n",
       "      <td>Super Mario Bros.</td>\n",
       "      <td>NES</td>\n",
       "      <td>1985</td>\n",
       "      <td>Platform</td>\n",
       "      <td>29.08</td>\n",
       "      <td>3.58</td>\n",
       "      <td>6.81</td>\n",
       "      <td>0.77</td>\n",
       "      <td>-1.0</td>\n",
       "      <td>-1.0</td>\n",
       "      <td>-1</td>\n",
       "      <td>40.24</td>\n",
       "    </tr>\n",
       "    <tr>\n",
       "      <th>2</th>\n",
       "      <td>Mario Kart Wii</td>\n",
       "      <td>Wii</td>\n",
       "      <td>2008</td>\n",
       "      <td>Racing</td>\n",
       "      <td>15.68</td>\n",
       "      <td>12.76</td>\n",
       "      <td>3.79</td>\n",
       "      <td>3.29</td>\n",
       "      <td>82.0</td>\n",
       "      <td>8.3</td>\n",
       "      <td>E</td>\n",
       "      <td>35.52</td>\n",
       "    </tr>\n",
       "    <tr>\n",
       "      <th>3</th>\n",
       "      <td>Wii Sports Resort</td>\n",
       "      <td>Wii</td>\n",
       "      <td>2009</td>\n",
       "      <td>Sports</td>\n",
       "      <td>15.61</td>\n",
       "      <td>10.93</td>\n",
       "      <td>3.28</td>\n",
       "      <td>2.95</td>\n",
       "      <td>80.0</td>\n",
       "      <td>8.0</td>\n",
       "      <td>E</td>\n",
       "      <td>32.77</td>\n",
       "    </tr>\n",
       "    <tr>\n",
       "      <th>4</th>\n",
       "      <td>Pokemon Red/Pokemon Blue</td>\n",
       "      <td>GB</td>\n",
       "      <td>1996</td>\n",
       "      <td>Role-Playing</td>\n",
       "      <td>11.27</td>\n",
       "      <td>8.89</td>\n",
       "      <td>10.22</td>\n",
       "      <td>1.00</td>\n",
       "      <td>-1.0</td>\n",
       "      <td>-1.0</td>\n",
       "      <td>-1</td>\n",
       "      <td>31.38</td>\n",
       "    </tr>\n",
       "  </tbody>\n",
       "</table>\n",
       "</div>"
      ],
      "text/plain": [
       "                       name platform  year_of_release         genre  na_sales  \\\n",
       "0                Wii Sports      Wii             2006        Sports     41.36   \n",
       "1         Super Mario Bros.      NES             1985      Platform     29.08   \n",
       "2            Mario Kart Wii      Wii             2008        Racing     15.68   \n",
       "3         Wii Sports Resort      Wii             2009        Sports     15.61   \n",
       "4  Pokemon Red/Pokemon Blue       GB             1996  Role-Playing     11.27   \n",
       "\n",
       "   eu_sales  jp_sales  other_sales  critic_score  user_score rating  \\\n",
       "0     28.96      3.77         8.45          76.0         8.0      E   \n",
       "1      3.58      6.81         0.77          -1.0        -1.0     -1   \n",
       "2     12.76      3.79         3.29          82.0         8.3      E   \n",
       "3     10.93      3.28         2.95          80.0         8.0      E   \n",
       "4      8.89     10.22         1.00          -1.0        -1.0     -1   \n",
       "\n",
       "   total_sales  \n",
       "0        82.54  \n",
       "1        40.24  \n",
       "2        35.52  \n",
       "3        32.77  \n",
       "4        31.38  "
      ]
     },
     "execution_count": 29,
     "metadata": {},
     "output_type": "execute_result"
    }
   ],
   "source": [
    "data.head()"
   ]
  },
  {
   "cell_type": "markdown",
   "metadata": {},
   "source": [
    "**Вывод**"
   ]
  },
  {
   "cell_type": "markdown",
   "metadata": {},
   "source": [
    "- Заголовки приведены к нижнему регистру, чтобы упростить работу с таблицей \n",
    "- Удалены пропущенные значения (1.6%) в столбце `year_of_release`\n",
    "- Пропущенные значения в столбцах `critic_score`, `user_score` и `rating` заменены на '-1'\n",
    "- Изменен тип данных в столбцах `year_of_release` и `user_score`\n",
    "- Создан столбец `total_sales` с суммарными продажами во всех регионах\n",
    "\n",
    "Можно приступать к анализу"
   ]
  },
  {
   "cell_type": "markdown",
   "metadata": {},
   "source": [
    "## Исследовательский анализ данных"
   ]
  },
  {
   "cell_type": "markdown",
   "metadata": {},
   "source": [
    "### Анализ количества игр, выпущенных в разные годы"
   ]
  },
  {
   "cell_type": "markdown",
   "metadata": {},
   "source": [
    "Изучим сколько игр выпускалось в разные годы"
   ]
  },
  {
   "cell_type": "code",
   "execution_count": 30,
   "metadata": {},
   "outputs": [
    {
     "data": {
      "text/plain": [
       "year_of_release\n",
       "1980       9\n",
       "1981      46\n",
       "1982      36\n",
       "1983      17\n",
       "1984      14\n",
       "1985      14\n",
       "1986      21\n",
       "1987      16\n",
       "1988      15\n",
       "1989      17\n",
       "1990      16\n",
       "1991      41\n",
       "1992      43\n",
       "1993      60\n",
       "1994     121\n",
       "1995     219\n",
       "1996     263\n",
       "1997     289\n",
       "1998     379\n",
       "1999     338\n",
       "2000     350\n",
       "2001     482\n",
       "2002     829\n",
       "2003     775\n",
       "2004     762\n",
       "2005     939\n",
       "2006    1006\n",
       "2007    1197\n",
       "2008    1427\n",
       "2009    1426\n",
       "2010    1255\n",
       "2011    1136\n",
       "2012     653\n",
       "2013     544\n",
       "2014     581\n",
       "2015     606\n",
       "2016     502\n",
       "Name: name, dtype: int64"
      ]
     },
     "execution_count": 30,
     "metadata": {},
     "output_type": "execute_result"
    }
   ],
   "source": [
    "data.groupby(by='year_of_release')['name'].agg('count')"
   ]
  },
  {
   "cell_type": "code",
   "execution_count": 31,
   "metadata": {},
   "outputs": [
    {
     "data": {
      "image/png": "[encoded data removed]",
      "text/plain": [
       "<Figure size 1440x576 with 1 Axes>"
      ]
     },
     "metadata": {
      "needs_background": "light"
     },
     "output_type": "display_data"
    }
   ],
   "source": [
    "plt.figure(figsize=(20, 8))\n",
    "sns.barplot(\n",
    "    x='year_of_release', \n",
    "    y='name', \n",
    "    data=data.groupby(by='year_of_release')['name'].agg('count').reset_index()\n",
    ")\n",
    "plt.title('График выпущенных игр по годам')\n",
    "plt.xlabel('Год')\n",
    "plt.ylabel('Количество игр')\n",
    "plt.show()"
   ]
  },
  {
   "cell_type": "markdown",
   "metadata": {},
   "source": [
    "**Вывод:** \n",
    "\n",
    "Из данных видно, что рост в выпуске игр начался с 1994 года и продолжался до 2008 года, но с небольшими спадами в 1999 и 2003-2004 годах. \n",
    "\n",
    "Пиковых значений рынок достиг в 2008-2009 годах, возможно по причине того, что во время экономического кризиса одним из немногих бюджетных развлечений стали игры. \n",
    "\n",
    "После кризиса случился резкий спад в последующие четыре года. Можно предположить, что причиной такого спада стали выход IPhone и смартфонов на базе Android, которые заинтересовали разработчиков игр. \n",
    "\n",
    "Последующий рост в выпуске игр наблюдается уже после 2013 года и связан скорее всего с выходом нового поколения консолей. \n",
    "\n",
    "Так как индустрия игр очень динамично меняется, для дальнейшего анализа будет правильнее использовать данные начиная именно с 2013 года, когда были представлены новые поколения консолей."
   ]
  },
  {
   "cell_type": "markdown",
   "metadata": {},
   "source": [
    "### Анализ продаж по платформам"
   ]
  },
  {
   "cell_type": "code",
   "execution_count": 32,
   "metadata": {},
   "outputs": [
    {
     "data": {
      "text/plain": [
       "platform\n",
       "PS2     1233.56\n",
       "X360     961.24\n",
       "PS3      931.34\n",
       "Wii      891.18\n",
       "DS       802.78\n",
       "PS       727.58\n",
       "PS4      314.14\n",
       "GBA      312.88\n",
       "PSP      289.53\n",
       "3DS      257.81\n",
       "PC       255.76\n",
       "GB       254.43\n",
       "XB       251.57\n",
       "NES      251.05\n",
       "N64      218.01\n",
       "SNES     200.04\n",
       "GC       196.73\n",
       "XOne     159.32\n",
       "2600      86.48\n",
       "WiiU      82.19\n",
       "PSV       53.81\n",
       "SAT       33.59\n",
       "GEN       28.35\n",
       "DC        15.95\n",
       "SCD        1.86\n",
       "NG         1.44\n",
       "WS         1.42\n",
       "TG16       0.16\n",
       "3DO        0.10\n",
       "GG         0.04\n",
       "PCFX       0.03\n",
       "Name: total_sales, dtype: float64"
      ]
     },
     "execution_count": 32,
     "metadata": {},
     "output_type": "execute_result"
    }
   ],
   "source": [
    "data.groupby(by='platform')['total_sales'].agg('sum').sort_values(ascending=False)"
   ]
  },
  {
   "cell_type": "markdown",
   "metadata": {},
   "source": [
    "Для дальнейшего анализа возьмем первые 6 платформ, поскольку дальше между суммарными продажами можно заметить слишком большой разрыв (разница между продажами PS и PS4 более чем в 2 раза). Создадим переменную с топ-6 платформами и сгруппируем их по годам"
   ]
  },
  {
   "cell_type": "code",
   "execution_count": 33,
   "metadata": {},
   "outputs": [],
   "source": [
    "top_6_platforms = data.loc[data['platform'].isin(['PS2', 'X360', 'PS3', 'Wii', 'DS', 'PS'])]\n",
    "top_6_grouped = top_6_platforms.groupby(by=['year_of_release', 'platform'])['total_sales'].agg('sum').reset_index()"
   ]
  },
  {
   "cell_type": "code",
   "execution_count": 34,
   "metadata": {
    "scrolled": false
   },
   "outputs": [
    {
     "data": {
      "image/png": "[encoded data removed]",
      "text/plain": [
       "<Figure size 1440x864 with 6 Axes>"
      ]
     },
     "metadata": {
      "needs_background": "light"
     },
     "output_type": "display_data"
    }
   ],
   "source": [
    "f, axes = plt.subplots(2, 3, figsize=(20, 12))\n",
    "sns.barplot(ax=axes[0][0], x=\"year_of_release\", y=\"total_sales\", data=top_6_grouped.query('platform == \"PS2\"'))\n",
    "axes[0][0].set_title('PS2')\n",
    "\n",
    "sns.barplot(ax=axes[0][1], x=\"year_of_release\", y=\"total_sales\", data=top_6_grouped.query('platform == \"X360\"'))\n",
    "axes[0][1].set_title('X360')\n",
    "\n",
    "sns.barplot(ax=axes[0][2], x=\"year_of_release\", y=\"total_sales\", data=top_6_grouped.query('platform == \"PS3\"'))\n",
    "axes[0][2].set_title('PS3')\n",
    "\n",
    "sns.barplot(ax=axes[1][0], x=\"year_of_release\", y=\"total_sales\", data=top_6_grouped.query('platform == \"Wii\"'))\n",
    "axes[1][0].set_title('Wii')\n",
    "\n",
    "sns.barplot(ax=axes[1][1], x=\"year_of_release\", y=\"total_sales\", data=top_6_grouped.query('platform == \"DS\"'))\n",
    "axes[1][1].set_title('DS')\n",
    "\n",
    "sns.barplot(ax=axes[1][2], x=\"year_of_release\", y=\"total_sales\", data=top_6_grouped.query('platform == \"PS\"'))\n",
    "axes[1][2].set_title('PS')\n",
    "\n",
    "plt.show()"
   ]
  },
  {
   "cell_type": "markdown",
   "metadata": {},
   "source": [
    "Судя по графикам из топ-6 продаваемых платформ, можно заметить, что три места занимают разные поколения PS (наибольший пик продаж игр для PS наблюдался в конце 90ых, для PS2 - в начале 2000ых, PS3 - в 2011). Главным конкурентом PS3 в 2010-2011 годах можно назвать X360. Что касается игр для платформ Wii и DS - пик на их продажи приходится на 2008-2009 годы. Также стоит отметить, что у платформы DS имеется некий выброс в 1985 году, возможно это ошибочные данные, так как релиз платформы состоялся в 2004 году"
   ]
  },
  {
   "cell_type": "code",
   "execution_count": 35,
   "metadata": {},
   "outputs": [],
   "source": [
    "temp_data = data.groupby(by='platform')['year_of_release'].agg(['min', 'max']).reset_index()"
   ]
  },
  {
   "cell_type": "code",
   "execution_count": 36,
   "metadata": {
    "scrolled": true
   },
   "outputs": [
    {
     "name": "stdout",
     "output_type": "stream",
     "text": [
      "Средний срок жизни платформы: 8 лет.\n"
     ]
    }
   ],
   "source": [
    "temp_data['range'] = temp_data['max'] - temp_data['min']\n",
    "print(f'Средний срок жизни платформы: {round(temp_data[\"range\"].mean())} лет.')"
   ]
  },
  {
   "cell_type": "markdown",
   "metadata": {},
   "source": [
    "### Выделение актуального периода"
   ]
  },
  {
   "cell_type": "markdown",
   "metadata": {},
   "source": [
    "Выделим данные за 2013-2016 года в отдельный датасет, так как мы выяснили ранее, что данный период является наиболее актуальным для последующего анализа"
   ]
  },
  {
   "cell_type": "code",
   "execution_count": 37,
   "metadata": {},
   "outputs": [
    {
     "data": {
      "text/html": [
       "<div>\n",
       "<style scoped>\n",
       "    .dataframe tbody tr th:only-of-type {\n",
       "        vertical-align: middle;\n",
       "    }\n",
       "\n",
       "    .dataframe tbody tr th {\n",
       "        vertical-align: top;\n",
       "    }\n",
       "\n",
       "    .dataframe thead th {\n",
       "        text-align: right;\n",
       "    }\n",
       "</style>\n",
       "<table border=\"1\" class=\"dataframe\">\n",
       "  <thead>\n",
       "    <tr style=\"text-align: right;\">\n",
       "      <th></th>\n",
       "      <th>name</th>\n",
       "      <th>platform</th>\n",
       "      <th>year_of_release</th>\n",
       "      <th>genre</th>\n",
       "      <th>na_sales</th>\n",
       "      <th>eu_sales</th>\n",
       "      <th>jp_sales</th>\n",
       "      <th>other_sales</th>\n",
       "      <th>critic_score</th>\n",
       "      <th>user_score</th>\n",
       "      <th>rating</th>\n",
       "      <th>total_sales</th>\n",
       "    </tr>\n",
       "  </thead>\n",
       "  <tbody>\n",
       "    <tr>\n",
       "      <th>16</th>\n",
       "      <td>Grand Theft Auto V</td>\n",
       "      <td>PS3</td>\n",
       "      <td>2013</td>\n",
       "      <td>Action</td>\n",
       "      <td>7.02</td>\n",
       "      <td>9.09</td>\n",
       "      <td>0.98</td>\n",
       "      <td>3.96</td>\n",
       "      <td>97.0</td>\n",
       "      <td>8.2</td>\n",
       "      <td>M</td>\n",
       "      <td>21.05</td>\n",
       "    </tr>\n",
       "    <tr>\n",
       "      <th>23</th>\n",
       "      <td>Grand Theft Auto V</td>\n",
       "      <td>X360</td>\n",
       "      <td>2013</td>\n",
       "      <td>Action</td>\n",
       "      <td>9.66</td>\n",
       "      <td>5.14</td>\n",
       "      <td>0.06</td>\n",
       "      <td>1.41</td>\n",
       "      <td>97.0</td>\n",
       "      <td>8.1</td>\n",
       "      <td>M</td>\n",
       "      <td>16.27</td>\n",
       "    </tr>\n",
       "    <tr>\n",
       "      <th>31</th>\n",
       "      <td>Call of Duty: Black Ops 3</td>\n",
       "      <td>PS4</td>\n",
       "      <td>2015</td>\n",
       "      <td>Shooter</td>\n",
       "      <td>6.03</td>\n",
       "      <td>5.86</td>\n",
       "      <td>0.36</td>\n",
       "      <td>2.38</td>\n",
       "      <td>-1.0</td>\n",
       "      <td>-1.0</td>\n",
       "      <td>-1</td>\n",
       "      <td>14.63</td>\n",
       "    </tr>\n",
       "    <tr>\n",
       "      <th>33</th>\n",
       "      <td>Pokemon X/Pokemon Y</td>\n",
       "      <td>3DS</td>\n",
       "      <td>2013</td>\n",
       "      <td>Role-Playing</td>\n",
       "      <td>5.28</td>\n",
       "      <td>4.19</td>\n",
       "      <td>4.35</td>\n",
       "      <td>0.78</td>\n",
       "      <td>-1.0</td>\n",
       "      <td>-1.0</td>\n",
       "      <td>-1</td>\n",
       "      <td>14.60</td>\n",
       "    </tr>\n",
       "    <tr>\n",
       "      <th>42</th>\n",
       "      <td>Grand Theft Auto V</td>\n",
       "      <td>PS4</td>\n",
       "      <td>2014</td>\n",
       "      <td>Action</td>\n",
       "      <td>3.96</td>\n",
       "      <td>6.31</td>\n",
       "      <td>0.38</td>\n",
       "      <td>1.97</td>\n",
       "      <td>97.0</td>\n",
       "      <td>8.3</td>\n",
       "      <td>M</td>\n",
       "      <td>12.62</td>\n",
       "    </tr>\n",
       "    <tr>\n",
       "      <th>...</th>\n",
       "      <td>...</td>\n",
       "      <td>...</td>\n",
       "      <td>...</td>\n",
       "      <td>...</td>\n",
       "      <td>...</td>\n",
       "      <td>...</td>\n",
       "      <td>...</td>\n",
       "      <td>...</td>\n",
       "      <td>...</td>\n",
       "      <td>...</td>\n",
       "      <td>...</td>\n",
       "      <td>...</td>\n",
       "    </tr>\n",
       "    <tr>\n",
       "      <th>16703</th>\n",
       "      <td>Strawberry Nauts</td>\n",
       "      <td>PSV</td>\n",
       "      <td>2016</td>\n",
       "      <td>Adventure</td>\n",
       "      <td>0.00</td>\n",
       "      <td>0.00</td>\n",
       "      <td>0.01</td>\n",
       "      <td>0.00</td>\n",
       "      <td>-1.0</td>\n",
       "      <td>-1.0</td>\n",
       "      <td>-1</td>\n",
       "      <td>0.01</td>\n",
       "    </tr>\n",
       "    <tr>\n",
       "      <th>16707</th>\n",
       "      <td>Aiyoku no Eustia</td>\n",
       "      <td>PSV</td>\n",
       "      <td>2014</td>\n",
       "      <td>Misc</td>\n",
       "      <td>0.00</td>\n",
       "      <td>0.00</td>\n",
       "      <td>0.01</td>\n",
       "      <td>0.00</td>\n",
       "      <td>-1.0</td>\n",
       "      <td>-1.0</td>\n",
       "      <td>-1</td>\n",
       "      <td>0.01</td>\n",
       "    </tr>\n",
       "    <tr>\n",
       "      <th>16710</th>\n",
       "      <td>Samurai Warriors: Sanada Maru</td>\n",
       "      <td>PS3</td>\n",
       "      <td>2016</td>\n",
       "      <td>Action</td>\n",
       "      <td>0.00</td>\n",
       "      <td>0.00</td>\n",
       "      <td>0.01</td>\n",
       "      <td>0.00</td>\n",
       "      <td>-1.0</td>\n",
       "      <td>-1.0</td>\n",
       "      <td>-1</td>\n",
       "      <td>0.01</td>\n",
       "    </tr>\n",
       "    <tr>\n",
       "      <th>16712</th>\n",
       "      <td>Haitaka no Psychedelica</td>\n",
       "      <td>PSV</td>\n",
       "      <td>2016</td>\n",
       "      <td>Adventure</td>\n",
       "      <td>0.00</td>\n",
       "      <td>0.00</td>\n",
       "      <td>0.01</td>\n",
       "      <td>0.00</td>\n",
       "      <td>-1.0</td>\n",
       "      <td>-1.0</td>\n",
       "      <td>-1</td>\n",
       "      <td>0.01</td>\n",
       "    </tr>\n",
       "    <tr>\n",
       "      <th>16714</th>\n",
       "      <td>Winning Post 8 2016</td>\n",
       "      <td>PSV</td>\n",
       "      <td>2016</td>\n",
       "      <td>Simulation</td>\n",
       "      <td>0.00</td>\n",
       "      <td>0.00</td>\n",
       "      <td>0.01</td>\n",
       "      <td>0.00</td>\n",
       "      <td>-1.0</td>\n",
       "      <td>-1.0</td>\n",
       "      <td>-1</td>\n",
       "      <td>0.01</td>\n",
       "    </tr>\n",
       "  </tbody>\n",
       "</table>\n",
       "<p>2233 rows × 12 columns</p>\n",
       "</div>"
      ],
      "text/plain": [
       "                                name platform  year_of_release         genre  \\\n",
       "16                Grand Theft Auto V      PS3             2013        Action   \n",
       "23                Grand Theft Auto V     X360             2013        Action   \n",
       "31         Call of Duty: Black Ops 3      PS4             2015       Shooter   \n",
       "33               Pokemon X/Pokemon Y      3DS             2013  Role-Playing   \n",
       "42                Grand Theft Auto V      PS4             2014        Action   \n",
       "...                              ...      ...              ...           ...   \n",
       "16703               Strawberry Nauts      PSV             2016     Adventure   \n",
       "16707               Aiyoku no Eustia      PSV             2014          Misc   \n",
       "16710  Samurai Warriors: Sanada Maru      PS3             2016        Action   \n",
       "16712        Haitaka no Psychedelica      PSV             2016     Adventure   \n",
       "16714            Winning Post 8 2016      PSV             2016    Simulation   \n",
       "\n",
       "       na_sales  eu_sales  jp_sales  other_sales  critic_score  user_score  \\\n",
       "16         7.02      9.09      0.98         3.96          97.0         8.2   \n",
       "23         9.66      5.14      0.06         1.41          97.0         8.1   \n",
       "31         6.03      5.86      0.36         2.38          -1.0        -1.0   \n",
       "33         5.28      4.19      4.35         0.78          -1.0        -1.0   \n",
       "42         3.96      6.31      0.38         1.97          97.0         8.3   \n",
       "...         ...       ...       ...          ...           ...         ...   \n",
       "16703      0.00      0.00      0.01         0.00          -1.0        -1.0   \n",
       "16707      0.00      0.00      0.01         0.00          -1.0        -1.0   \n",
       "16710      0.00      0.00      0.01         0.00          -1.0        -1.0   \n",
       "16712      0.00      0.00      0.01         0.00          -1.0        -1.0   \n",
       "16714      0.00      0.00      0.01         0.00          -1.0        -1.0   \n",
       "\n",
       "      rating  total_sales  \n",
       "16         M        21.05  \n",
       "23         M        16.27  \n",
       "31        -1        14.63  \n",
       "33        -1        14.60  \n",
       "42         M        12.62  \n",
       "...      ...          ...  \n",
       "16703     -1         0.01  \n",
       "16707     -1         0.01  \n",
       "16710     -1         0.01  \n",
       "16712     -1         0.01  \n",
       "16714     -1         0.01  \n",
       "\n",
       "[2233 rows x 12 columns]"
      ]
     },
     "execution_count": 37,
     "metadata": {},
     "output_type": "execute_result"
    }
   ],
   "source": [
    "new_data = data.loc[data['year_of_release'] > 2012]\n",
    "new_data"
   ]
  },
  {
   "cell_type": "markdown",
   "metadata": {},
   "source": [
    "### Потенциально прибыльные платформы"
   ]
  },
  {
   "cell_type": "markdown",
   "metadata": {},
   "source": [
    "Сгруппируем данные и посмотрим какие платформы лидируют по продажам, чтобы выделить потенциально прибыльные"
   ]
  },
  {
   "cell_type": "code",
   "execution_count": 38,
   "metadata": {},
   "outputs": [
    {
     "data": {
      "text/plain": [
       "platform\n",
       "PS4     314.14\n",
       "PS3     181.43\n",
       "XOne    159.32\n",
       "3DS     143.25\n",
       "X360    136.80\n",
       "WiiU     64.63\n",
       "PC       39.43\n",
       "PSV      32.99\n",
       "Wii      13.66\n",
       "PSP       3.50\n",
       "DS        1.54\n",
       "Name: total_sales, dtype: float64"
      ]
     },
     "execution_count": 38,
     "metadata": {},
     "output_type": "execute_result"
    }
   ],
   "source": [
    "new_data.groupby(by='platform')['total_sales'].agg('sum').sort_values(ascending=False)"
   ]
  },
  {
   "cell_type": "code",
   "execution_count": 39,
   "metadata": {},
   "outputs": [
    {
     "data": {
      "image/png": "[encoded data removed]",
      "text/plain": [
       "<Figure size 1008x432 with 1 Axes>"
      ]
     },
     "metadata": {
      "needs_background": "light"
     },
     "output_type": "display_data"
    }
   ],
   "source": [
    "new_data.pivot_table(\n",
    "    index='year_of_release',\n",
    "    columns='platform', \n",
    "    values='total_sales', \n",
    "    aggfunc='sum').plot(grid=True, figsize=(14, 6), style=('o-')).set_xticks(range(2013,2018))\n",
    "plt.xlabel('Год')\n",
    "plt.ylabel('Продажи, млн.копий')\n",
    "plt.title('Продажи за период с 2013 по 2016')\n",
    "plt.show()"
   ]
  },
  {
   "cell_type": "markdown",
   "metadata": {},
   "source": [
    "**Вывод:** \n",
    "\n",
    "Из полученных данных можно выделить пять платформ с наибольшими продажами: PS4, PS3, XOne, 3DS и X360. \n",
    "\n",
    "В то же время по графику можно заметить, что начиная с 2013 года продажи игр для платформ PS4 и XOne (год их выпуска) резко пошли вверх, а вот продажи игр для их предшественников (PS3 и X360) соответственно резко пошли вниз.\n",
    "\n",
    "Что касается продаж игр для 3DS, то они плавно снижаются начиная уже с 2013 года. \n",
    "\n",
    "Также стоит отметить, что данные за 2016 год неполные и показатели за 2016 могли выровняться."
   ]
  },
  {
   "cell_type": "markdown",
   "metadata": {},
   "source": [
    "### Глобальные продажи игр по платформам"
   ]
  },
  {
   "cell_type": "markdown",
   "metadata": {},
   "source": [
    "Построим диаграмму размаха по глобальным продажам игр в разбивке по платформам"
   ]
  },
  {
   "cell_type": "code",
   "execution_count": 40,
   "metadata": {},
   "outputs": [
    {
     "data": {
      "image/png": "[encoded data removed]",
      "text/plain": [
       "<Figure size 864x576 with 1 Axes>"
      ]
     },
     "metadata": {
      "needs_background": "light"
     },
     "output_type": "display_data"
    }
   ],
   "source": [
    "plt.figure(figsize = (12,8))\n",
    "ax = sns.boxplot(x='platform', y='total_sales', data=new_data)\n",
    "plt.show()"
   ]
  },
  {
   "cell_type": "markdown",
   "metadata": {},
   "source": [
    "Для большей наглядности немного ограничим выбросы"
   ]
  },
  {
   "cell_type": "code",
   "execution_count": 41,
   "metadata": {},
   "outputs": [
    {
     "data": {
      "image/png": "[encoded data removed]",
      "text/plain": [
       "<Figure size 864x576 with 1 Axes>"
      ]
     },
     "metadata": {
      "needs_background": "light"
     },
     "output_type": "display_data"
    }
   ],
   "source": [
    "plt.figure(figsize = (12,8))\n",
    "plt.ylim(0,2)\n",
    "ax = sns.boxplot(x='platform', y='total_sales', data=new_data)\n",
    "plt.show()"
   ]
  },
  {
   "cell_type": "markdown",
   "metadata": {},
   "source": [
    "Посмотрим какие платформы лидируют по продажам"
   ]
  },
  {
   "cell_type": "code",
   "execution_count": 42,
   "metadata": {},
   "outputs": [
    {
     "data": {
      "text/html": [
       "<div>\n",
       "<style scoped>\n",
       "    .dataframe tbody tr th:only-of-type {\n",
       "        vertical-align: middle;\n",
       "    }\n",
       "\n",
       "    .dataframe tbody tr th {\n",
       "        vertical-align: top;\n",
       "    }\n",
       "\n",
       "    .dataframe thead th {\n",
       "        text-align: right;\n",
       "    }\n",
       "</style>\n",
       "<table border=\"1\" class=\"dataframe\">\n",
       "  <thead>\n",
       "    <tr style=\"text-align: right;\">\n",
       "      <th></th>\n",
       "      <th>platform</th>\n",
       "      <th>total_sales</th>\n",
       "    </tr>\n",
       "  </thead>\n",
       "  <tbody>\n",
       "    <tr>\n",
       "      <th>0</th>\n",
       "      <td>PS4</td>\n",
       "      <td>314.14</td>\n",
       "    </tr>\n",
       "    <tr>\n",
       "      <th>1</th>\n",
       "      <td>PS3</td>\n",
       "      <td>181.43</td>\n",
       "    </tr>\n",
       "    <tr>\n",
       "      <th>2</th>\n",
       "      <td>XOne</td>\n",
       "      <td>159.32</td>\n",
       "    </tr>\n",
       "    <tr>\n",
       "      <th>3</th>\n",
       "      <td>3DS</td>\n",
       "      <td>143.25</td>\n",
       "    </tr>\n",
       "    <tr>\n",
       "      <th>4</th>\n",
       "      <td>X360</td>\n",
       "      <td>136.80</td>\n",
       "    </tr>\n",
       "  </tbody>\n",
       "</table>\n",
       "</div>"
      ],
      "text/plain": [
       "  platform  total_sales\n",
       "0      PS4       314.14\n",
       "1      PS3       181.43\n",
       "2     XOne       159.32\n",
       "3      3DS       143.25\n",
       "4     X360       136.80"
      ]
     },
     "execution_count": 42,
     "metadata": {},
     "output_type": "execute_result"
    }
   ],
   "source": [
    "new_data.groupby(by='platform')['total_sales'].agg('sum').nlargest(5).reset_index()"
   ]
  },
  {
   "cell_type": "markdown",
   "metadata": {},
   "source": [
    "Теперь проверим какие платформы входят в топ-5 по медианам"
   ]
  },
  {
   "cell_type": "code",
   "execution_count": 43,
   "metadata": {},
   "outputs": [
    {
     "data": {
      "text/html": [
       "<div>\n",
       "<style scoped>\n",
       "    .dataframe tbody tr th:only-of-type {\n",
       "        vertical-align: middle;\n",
       "    }\n",
       "\n",
       "    .dataframe tbody tr th {\n",
       "        vertical-align: top;\n",
       "    }\n",
       "\n",
       "    .dataframe thead th {\n",
       "        text-align: right;\n",
       "    }\n",
       "</style>\n",
       "<table border=\"1\" class=\"dataframe\">\n",
       "  <thead>\n",
       "    <tr style=\"text-align: right;\">\n",
       "      <th></th>\n",
       "      <th>platform</th>\n",
       "      <th>total_sales</th>\n",
       "    </tr>\n",
       "  </thead>\n",
       "  <tbody>\n",
       "    <tr>\n",
       "      <th>0</th>\n",
       "      <td>X360</td>\n",
       "      <td>0.265</td>\n",
       "    </tr>\n",
       "    <tr>\n",
       "      <th>1</th>\n",
       "      <td>XOne</td>\n",
       "      <td>0.220</td>\n",
       "    </tr>\n",
       "    <tr>\n",
       "      <th>2</th>\n",
       "      <td>PS4</td>\n",
       "      <td>0.200</td>\n",
       "    </tr>\n",
       "    <tr>\n",
       "      <th>3</th>\n",
       "      <td>WiiU</td>\n",
       "      <td>0.200</td>\n",
       "    </tr>\n",
       "    <tr>\n",
       "      <th>4</th>\n",
       "      <td>Wii</td>\n",
       "      <td>0.180</td>\n",
       "    </tr>\n",
       "  </tbody>\n",
       "</table>\n",
       "</div>"
      ],
      "text/plain": [
       "  platform  total_sales\n",
       "0     X360        0.265\n",
       "1     XOne        0.220\n",
       "2      PS4        0.200\n",
       "3     WiiU        0.200\n",
       "4      Wii        0.180"
      ]
     },
     "execution_count": 43,
     "metadata": {},
     "output_type": "execute_result"
    }
   ],
   "source": [
    "new_data.groupby(by='platform')['total_sales'].agg('median').nlargest(5).reset_index()"
   ]
  },
  {
   "cell_type": "markdown",
   "metadata": {},
   "source": [
    "**Вывод:**\n",
    "\n",
    "Лидерами по общим продажам являются PS4, PS3 и XOne за счет того, что они имеют много хитов принесших нетипично большую прибыль. \n",
    "\n",
    "В то же время, если посмотреть список топ-5 по медианным продажам, картина будет иная: лидером является X360, за ним идет XOne,  и только потом PS4."
   ]
  },
  {
   "cell_type": "markdown",
   "metadata": {},
   "source": [
    "### Влияние отзывов пользователей и критиков на продажи"
   ]
  },
  {
   "cell_type": "markdown",
   "metadata": {},
   "source": [
    "#### PS4"
   ]
  },
  {
   "cell_type": "markdown",
   "metadata": {},
   "source": [
    "Посмотрим как влияют отзывы пользователей и критиков на продажи внутри одной из популярных платформ: PS4, а также построим матрицу корреляций."
   ]
  },
  {
   "cell_type": "markdown",
   "metadata": {},
   "source": [
    "Создадим переменную `ps_4` и исключим из нее строки со значениями -1 в столбцах `user_score` и `critic_scrore`"
   ]
  },
  {
   "cell_type": "code",
   "execution_count": 44,
   "metadata": {},
   "outputs": [
    {
     "data": {
      "text/html": [
       "<div>\n",
       "<style scoped>\n",
       "    .dataframe tbody tr th:only-of-type {\n",
       "        vertical-align: middle;\n",
       "    }\n",
       "\n",
       "    .dataframe tbody tr th {\n",
       "        vertical-align: top;\n",
       "    }\n",
       "\n",
       "    .dataframe thead th {\n",
       "        text-align: right;\n",
       "    }\n",
       "</style>\n",
       "<table border=\"1\" class=\"dataframe\">\n",
       "  <thead>\n",
       "    <tr style=\"text-align: right;\">\n",
       "      <th></th>\n",
       "      <th>name</th>\n",
       "      <th>platform</th>\n",
       "      <th>year_of_release</th>\n",
       "      <th>genre</th>\n",
       "      <th>na_sales</th>\n",
       "      <th>eu_sales</th>\n",
       "      <th>jp_sales</th>\n",
       "      <th>other_sales</th>\n",
       "      <th>critic_score</th>\n",
       "      <th>user_score</th>\n",
       "      <th>rating</th>\n",
       "      <th>total_sales</th>\n",
       "    </tr>\n",
       "  </thead>\n",
       "  <tbody>\n",
       "    <tr>\n",
       "      <th>42</th>\n",
       "      <td>Grand Theft Auto V</td>\n",
       "      <td>PS4</td>\n",
       "      <td>2014</td>\n",
       "      <td>Action</td>\n",
       "      <td>3.96</td>\n",
       "      <td>6.31</td>\n",
       "      <td>0.38</td>\n",
       "      <td>1.97</td>\n",
       "      <td>97.0</td>\n",
       "      <td>8.3</td>\n",
       "      <td>M</td>\n",
       "      <td>12.62</td>\n",
       "    </tr>\n",
       "    <tr>\n",
       "      <th>77</th>\n",
       "      <td>FIFA 16</td>\n",
       "      <td>PS4</td>\n",
       "      <td>2015</td>\n",
       "      <td>Sports</td>\n",
       "      <td>1.12</td>\n",
       "      <td>6.12</td>\n",
       "      <td>0.06</td>\n",
       "      <td>1.28</td>\n",
       "      <td>82.0</td>\n",
       "      <td>4.3</td>\n",
       "      <td>E</td>\n",
       "      <td>8.58</td>\n",
       "    </tr>\n",
       "    <tr>\n",
       "      <th>92</th>\n",
       "      <td>Call of Duty: Advanced Warfare</td>\n",
       "      <td>PS4</td>\n",
       "      <td>2014</td>\n",
       "      <td>Shooter</td>\n",
       "      <td>2.81</td>\n",
       "      <td>3.48</td>\n",
       "      <td>0.14</td>\n",
       "      <td>1.23</td>\n",
       "      <td>83.0</td>\n",
       "      <td>5.7</td>\n",
       "      <td>M</td>\n",
       "      <td>7.66</td>\n",
       "    </tr>\n",
       "    <tr>\n",
       "      <th>94</th>\n",
       "      <td>FIFA 17</td>\n",
       "      <td>PS4</td>\n",
       "      <td>2016</td>\n",
       "      <td>Sports</td>\n",
       "      <td>0.66</td>\n",
       "      <td>5.75</td>\n",
       "      <td>0.08</td>\n",
       "      <td>1.11</td>\n",
       "      <td>85.0</td>\n",
       "      <td>5.0</td>\n",
       "      <td>E</td>\n",
       "      <td>7.60</td>\n",
       "    </tr>\n",
       "    <tr>\n",
       "      <th>105</th>\n",
       "      <td>Fallout 4</td>\n",
       "      <td>PS4</td>\n",
       "      <td>2015</td>\n",
       "      <td>Role-Playing</td>\n",
       "      <td>2.53</td>\n",
       "      <td>3.27</td>\n",
       "      <td>0.24</td>\n",
       "      <td>1.13</td>\n",
       "      <td>87.0</td>\n",
       "      <td>6.5</td>\n",
       "      <td>M</td>\n",
       "      <td>7.17</td>\n",
       "    </tr>\n",
       "    <tr>\n",
       "      <th>...</th>\n",
       "      <td>...</td>\n",
       "      <td>...</td>\n",
       "      <td>...</td>\n",
       "      <td>...</td>\n",
       "      <td>...</td>\n",
       "      <td>...</td>\n",
       "      <td>...</td>\n",
       "      <td>...</td>\n",
       "      <td>...</td>\n",
       "      <td>...</td>\n",
       "      <td>...</td>\n",
       "      <td>...</td>\n",
       "    </tr>\n",
       "    <tr>\n",
       "      <th>16486</th>\n",
       "      <td>Super Dungeon Bros</td>\n",
       "      <td>PS4</td>\n",
       "      <td>2016</td>\n",
       "      <td>Action</td>\n",
       "      <td>0.01</td>\n",
       "      <td>0.00</td>\n",
       "      <td>0.00</td>\n",
       "      <td>0.00</td>\n",
       "      <td>42.0</td>\n",
       "      <td>2.3</td>\n",
       "      <td>E10+</td>\n",
       "      <td>0.01</td>\n",
       "    </tr>\n",
       "    <tr>\n",
       "      <th>16499</th>\n",
       "      <td>Sherlock Holmes: The Devil's Daughter</td>\n",
       "      <td>PS4</td>\n",
       "      <td>2016</td>\n",
       "      <td>Adventure</td>\n",
       "      <td>0.01</td>\n",
       "      <td>0.00</td>\n",
       "      <td>0.00</td>\n",
       "      <td>0.00</td>\n",
       "      <td>70.0</td>\n",
       "      <td>6.8</td>\n",
       "      <td>T</td>\n",
       "      <td>0.01</td>\n",
       "    </tr>\n",
       "    <tr>\n",
       "      <th>16500</th>\n",
       "      <td>Root Letter</td>\n",
       "      <td>PS4</td>\n",
       "      <td>2016</td>\n",
       "      <td>Adventure</td>\n",
       "      <td>0.00</td>\n",
       "      <td>0.00</td>\n",
       "      <td>0.01</td>\n",
       "      <td>0.00</td>\n",
       "      <td>69.0</td>\n",
       "      <td>7.5</td>\n",
       "      <td>-1</td>\n",
       "      <td>0.01</td>\n",
       "    </tr>\n",
       "    <tr>\n",
       "      <th>16526</th>\n",
       "      <td>Dungeons 2</td>\n",
       "      <td>PS4</td>\n",
       "      <td>2016</td>\n",
       "      <td>Role-Playing</td>\n",
       "      <td>0.01</td>\n",
       "      <td>0.00</td>\n",
       "      <td>0.00</td>\n",
       "      <td>0.00</td>\n",
       "      <td>61.0</td>\n",
       "      <td>7.9</td>\n",
       "      <td>T</td>\n",
       "      <td>0.01</td>\n",
       "    </tr>\n",
       "    <tr>\n",
       "      <th>16530</th>\n",
       "      <td>Carmageddon: Max Damage</td>\n",
       "      <td>PS4</td>\n",
       "      <td>2016</td>\n",
       "      <td>Action</td>\n",
       "      <td>0.01</td>\n",
       "      <td>0.00</td>\n",
       "      <td>0.00</td>\n",
       "      <td>0.00</td>\n",
       "      <td>51.0</td>\n",
       "      <td>5.5</td>\n",
       "      <td>M</td>\n",
       "      <td>0.01</td>\n",
       "    </tr>\n",
       "  </tbody>\n",
       "</table>\n",
       "<p>249 rows × 12 columns</p>\n",
       "</div>"
      ],
      "text/plain": [
       "                                        name platform  year_of_release  \\\n",
       "42                        Grand Theft Auto V      PS4             2014   \n",
       "77                                   FIFA 16      PS4             2015   \n",
       "92            Call of Duty: Advanced Warfare      PS4             2014   \n",
       "94                                   FIFA 17      PS4             2016   \n",
       "105                                Fallout 4      PS4             2015   \n",
       "...                                      ...      ...              ...   \n",
       "16486                     Super Dungeon Bros      PS4             2016   \n",
       "16499  Sherlock Holmes: The Devil's Daughter      PS4             2016   \n",
       "16500                            Root Letter      PS4             2016   \n",
       "16526                             Dungeons 2      PS4             2016   \n",
       "16530                Carmageddon: Max Damage      PS4             2016   \n",
       "\n",
       "              genre  na_sales  eu_sales  jp_sales  other_sales  critic_score  \\\n",
       "42           Action      3.96      6.31      0.38         1.97          97.0   \n",
       "77           Sports      1.12      6.12      0.06         1.28          82.0   \n",
       "92          Shooter      2.81      3.48      0.14         1.23          83.0   \n",
       "94           Sports      0.66      5.75      0.08         1.11          85.0   \n",
       "105    Role-Playing      2.53      3.27      0.24         1.13          87.0   \n",
       "...             ...       ...       ...       ...          ...           ...   \n",
       "16486        Action      0.01      0.00      0.00         0.00          42.0   \n",
       "16499     Adventure      0.01      0.00      0.00         0.00          70.0   \n",
       "16500     Adventure      0.00      0.00      0.01         0.00          69.0   \n",
       "16526  Role-Playing      0.01      0.00      0.00         0.00          61.0   \n",
       "16530        Action      0.01      0.00      0.00         0.00          51.0   \n",
       "\n",
       "       user_score rating  total_sales  \n",
       "42            8.3      M        12.62  \n",
       "77            4.3      E         8.58  \n",
       "92            5.7      M         7.66  \n",
       "94            5.0      E         7.60  \n",
       "105           6.5      M         7.17  \n",
       "...           ...    ...          ...  \n",
       "16486         2.3   E10+         0.01  \n",
       "16499         6.8      T         0.01  \n",
       "16500         7.5     -1         0.01  \n",
       "16526         7.9      T         0.01  \n",
       "16530         5.5      M         0.01  \n",
       "\n",
       "[249 rows x 12 columns]"
      ]
     },
     "execution_count": 44,
     "metadata": {},
     "output_type": "execute_result"
    }
   ],
   "source": [
    "ps_4 = new_data.loc[(new_data['platform'] == 'PS4') & (new_data['user_score'] != -1) & (new_data['critic_score'] != -1)]\n",
    "ps_4"
   ]
  },
  {
   "cell_type": "code",
   "execution_count": 45,
   "metadata": {},
   "outputs": [
    {
     "data": {
      "image/png": "[encoded data removed]",
      "text/plain": [
       "<Figure size 432x288 with 1 Axes>"
      ]
     },
     "metadata": {
      "needs_background": "light"
     },
     "output_type": "display_data"
    },
    {
     "data": {
      "image/png": "[encoded data removed]",
      "text/plain": [
       "<Figure size 432x288 with 1 Axes>"
      ]
     },
     "metadata": {
      "needs_background": "light"
     },
     "output_type": "display_data"
    }
   ],
   "source": [
    "x = ps_4['total_sales']\n",
    "y = ps_4['user_score']\n",
    "plt.scatter(x, y)\n",
    "plt.xlabel('Глобальные продажи')\n",
    "plt.ylabel('Оценка пользователей')\n",
    "plt.show()\n",
    "\n",
    "x = ps_4['total_sales']\n",
    "y = ps_4['critic_score']\n",
    "plt.scatter(x, y)\n",
    "plt.xlabel('Глобальные продажи')\n",
    "plt.ylabel('Оценка критиков')\n",
    "plt.show()"
   ]
  },
  {
   "cell_type": "code",
   "execution_count": 46,
   "metadata": {},
   "outputs": [
    {
     "data": {
      "image/png": "[encoded data removed]",
      "text/plain": [
       "<Figure size 432x288 with 2 Axes>"
      ]
     },
     "metadata": {
      "needs_background": "light"
     },
     "output_type": "display_data"
    }
   ],
   "source": [
    "sns.heatmap(ps_4[['critic_score', 'user_score', 'total_sales']].corr(), annot=True, vmin=0, vmax=1)\n",
    "plt.show()"
   ]
  },
  {
   "cell_type": "markdown",
   "metadata": {},
   "source": [
    "**Вывод:**\n",
    "\n",
    "По графикам можно отметить, что для PS4 не видно зависимости между продажами и оценкой пользователей. В то же время, можно также заметить, что продажи становятся выше при оценке критиков более 70.\n",
    "\n",
    "Коэффициент корреляции между продажами и оценкой критиков составляет 0.41, что говорит о слабой положительной корреляции между факторами. Корреляция же между оценками пользователей и продажами составляет -0.034, что говорит об отсутствии линейной связи между параметрами."
   ]
  },
  {
   "cell_type": "markdown",
   "metadata": {},
   "source": [
    "#### PS3, XOne, 3DS"
   ]
  },
  {
   "cell_type": "markdown",
   "metadata": {},
   "source": [
    "Посмотрим прослеживается ли такая же тенденция у других платформ. Возьмем для анализа PS3, XOne и 3DS"
   ]
  },
  {
   "cell_type": "code",
   "execution_count": 47,
   "metadata": {},
   "outputs": [],
   "source": [
    "ps_3 = new_data.loc[(new_data['platform'] == 'PS3') & (new_data['user_score'] != -1) & (new_data['critic_score'] != -1)]"
   ]
  },
  {
   "cell_type": "code",
   "execution_count": 48,
   "metadata": {},
   "outputs": [],
   "source": [
    "xone = new_data.loc[(new_data['platform'] == 'XOne') & (new_data['user_score'] != -1) & (new_data['critic_score'] != -1)]"
   ]
  },
  {
   "cell_type": "code",
   "execution_count": 49,
   "metadata": {},
   "outputs": [],
   "source": [
    "ds3 = new_data.loc[(new_data['platform'] == '3DS') & (new_data['user_score'] != -1) & (new_data['critic_score'] != -1)]"
   ]
  },
  {
   "cell_type": "code",
   "execution_count": 50,
   "metadata": {
    "scrolled": false
   },
   "outputs": [
    {
     "data": {
      "image/png": "[encoded data removed]",
      "text/plain": [
       "<Figure size 432x288 with 1 Axes>"
      ]
     },
     "metadata": {
      "needs_background": "light"
     },
     "output_type": "display_data"
    },
    {
     "data": {
      "image/png": "[encoded data removed]",
      "text/plain": [
       "<Figure size 432x288 with 1 Axes>"
      ]
     },
     "metadata": {
      "needs_background": "light"
     },
     "output_type": "display_data"
    }
   ],
   "source": [
    "x = ps_3['total_sales']\n",
    "y = ps_3['user_score']\n",
    "plt.scatter(x, y)\n",
    "plt.xlabel('Глобальные продажи')\n",
    "plt.ylabel('Оценка пользователей') \n",
    "plt.show()\n",
    "\n",
    "x = ps_3['total_sales']\n",
    "y = ps_3['critic_score']\n",
    "plt.scatter(x, y)\n",
    "plt.xlabel('Глобальные продажи')\n",
    "plt.ylabel('Оценка критиков') \n",
    "plt.show()"
   ]
  },
  {
   "cell_type": "code",
   "execution_count": 51,
   "metadata": {},
   "outputs": [
    {
     "data": {
      "image/png": "[encoded data removed]",
      "text/plain": [
       "<Figure size 432x288 with 2 Axes>"
      ]
     },
     "metadata": {
      "needs_background": "light"
     },
     "output_type": "display_data"
    }
   ],
   "source": [
    "sns.heatmap(ps_3[['critic_score', 'user_score', 'total_sales']].corr(), annot=True, vmin=0, vmax=1)\n",
    "plt.show()"
   ]
  },
  {
   "cell_type": "markdown",
   "metadata": {},
   "source": [
    "**Вывод:**\n",
    "\n",
    "По графикам можно отметить, что для PS3 не видно зависимости между продажами и оценкой пользователей.\n",
    "\n",
    "Коэффициент корреляции между продажами и оценкой критиков составляет 0.33, что говорит о слабой положительной корреляции между факторами. Корреляция же между оценками пользователей и продажами составляет 0.023, что говорит об отсутствии линейной связи между параметрами."
   ]
  },
  {
   "cell_type": "code",
   "execution_count": 52,
   "metadata": {},
   "outputs": [
    {
     "data": {
      "image/png": "[encoded data removed]",
      "text/plain": [
       "<Figure size 432x288 with 1 Axes>"
      ]
     },
     "metadata": {
      "needs_background": "light"
     },
     "output_type": "display_data"
    },
    {
     "data": {
      "image/png": "[encoded data removed]",
      "text/plain": [
       "<Figure size 432x288 with 1 Axes>"
      ]
     },
     "metadata": {
      "needs_background": "light"
     },
     "output_type": "display_data"
    }
   ],
   "source": [
    "x = xone['total_sales']\n",
    "y = xone['user_score']\n",
    "plt.scatter(x, y)\n",
    "plt.xlabel('Глобальные продажи')\n",
    "plt.ylabel('Оценка пользователей') \n",
    "plt.show()\n",
    "\n",
    "x = xone['total_sales']\n",
    "y = xone['critic_score']\n",
    "plt.scatter(x, y)\n",
    "plt.xlabel('Глобальные продажи')\n",
    "plt.ylabel('Оценка критиков') \n",
    "plt.show()"
   ]
  },
  {
   "cell_type": "code",
   "execution_count": 53,
   "metadata": {},
   "outputs": [
    {
     "data": {
      "image/png": "[encoded data removed]",
      "text/plain": [
       "<Figure size 432x288 with 2 Axes>"
      ]
     },
     "metadata": {
      "needs_background": "light"
     },
     "output_type": "display_data"
    }
   ],
   "source": [
    "sns.heatmap(xone[['critic_score', 'user_score', 'total_sales']].corr(), annot=True, vmin=0, vmax=1)\n",
    "plt.show()"
   ]
  },
  {
   "cell_type": "markdown",
   "metadata": {},
   "source": [
    "**Вывод:**\n",
    "\n",
    "По графикам можно отметить, что для XOne также как и у предыдущих платформ не видно зависимости между продажами и оценкой пользователей.\n",
    "\n",
    "Коэффициент корреляции между продажами и оценкой критиков составляет 0.41, что говорит о слабой положительной корреляции между факторами. Корреляция же между оценками пользователей и продажами составляет -0.094, что говорит об очень слабой отрицательной корреляции или отсутствии линейной связи между параметрами."
   ]
  },
  {
   "cell_type": "code",
   "execution_count": 54,
   "metadata": {},
   "outputs": [
    {
     "data": {
      "image/png": "[encoded data removed]",
      "text/plain": [
       "<Figure size 432x288 with 1 Axes>"
      ]
     },
     "metadata": {
      "needs_background": "light"
     },
     "output_type": "display_data"
    },
    {
     "data": {
      "image/png": "[encoded data removed]",
      "text/plain": [
       "<Figure size 432x288 with 1 Axes>"
      ]
     },
     "metadata": {
      "needs_background": "light"
     },
     "output_type": "display_data"
    }
   ],
   "source": [
    "x = ds3['total_sales']\n",
    "y = ds3['user_score']\n",
    "plt.scatter(x, y)\n",
    "plt.xlabel('Глобальные продажи')\n",
    "plt.ylabel('Оценка пользователей') \n",
    "plt.show()\n",
    "\n",
    "x = ds3['total_sales']\n",
    "y = ds3['critic_score']\n",
    "plt.scatter(x, y)\n",
    "plt.xlabel('Глобальные продажи')\n",
    "plt.ylabel('Оценка критиков') \n",
    "plt.show()"
   ]
  },
  {
   "cell_type": "code",
   "execution_count": 55,
   "metadata": {},
   "outputs": [
    {
     "data": {
      "image/png": "[encoded data removed]",
      "text/plain": [
       "<Figure size 432x288 with 2 Axes>"
      ]
     },
     "metadata": {
      "needs_background": "light"
     },
     "output_type": "display_data"
    }
   ],
   "source": [
    "sns.heatmap(ds3[['critic_score', 'user_score', 'total_sales']].corr(), annot=True, vmin=0, vmax=1)\n",
    "plt.show()"
   ]
  },
  {
   "cell_type": "markdown",
   "metadata": {},
   "source": [
    "**Вывод:**\n",
    "\n",
    "Для платформы 3DS можно заметить, что графики взаимосвязи оценок критиков и оценок пользователей с продажами очень похожи.\n",
    "\n",
    "Коэффициент корреляции между продажами и оценкой критиков составляет 0.34, что говорит о слабой положительной корреляции между факторами. Также есть очень слабая положительная корреляция между оценками пользователей и продажами 0.27.\n",
    "\n",
    "Можно отметить, что в отличие от предыдущих платформ для 3DS характерна более сильная линейная связь между оценками пользователей и продажами."
   ]
  },
  {
   "cell_type": "markdown",
   "metadata": {},
   "source": [
    "### Анализ распределения игр по жанрам"
   ]
  },
  {
   "cell_type": "code",
   "execution_count": 56,
   "metadata": {},
   "outputs": [
    {
     "data": {
      "text/plain": [
       "genre\n",
       "Action          766\n",
       "Role-Playing    292\n",
       "Adventure       245\n",
       "Sports          214\n",
       "Shooter         187\n",
       "Misc            155\n",
       "Racing           85\n",
       "Fighting         80\n",
       "Platform         74\n",
       "Simulation       62\n",
       "Strategy         56\n",
       "Puzzle           17\n",
       "Name: name, dtype: int64"
      ]
     },
     "execution_count": 56,
     "metadata": {},
     "output_type": "execute_result"
    }
   ],
   "source": [
    "new_data.groupby(by='genre')['name'].agg('count').sort_values(ascending=False)"
   ]
  },
  {
   "cell_type": "markdown",
   "metadata": {},
   "source": [
    "Больше всего было выпущено игр в жанре Action - 766, а меньше всего в жанре Puzzle - 17. В топ-5 жанров также входят Role-Playing(292), Adventure(245), Sports(214) и Shooter(187)."
   ]
  },
  {
   "cell_type": "markdown",
   "metadata": {},
   "source": [
    "Тепепь посмотрим на общие продажи игр по жанрам"
   ]
  },
  {
   "cell_type": "code",
   "execution_count": 57,
   "metadata": {},
   "outputs": [
    {
     "data": {
      "image/png": "[encoded data removed]",
      "text/plain": [
       "<Figure size 1080x576 with 1 Axes>"
      ]
     },
     "metadata": {
      "needs_background": "light"
     },
     "output_type": "display_data"
    }
   ],
   "source": [
    "plt.figure(figsize=(15,8))\n",
    "plt.grid(True)\n",
    "ax = sns.barplot(\n",
    "    x='genre',\n",
    "    y='total_sales',\n",
    "    data=new_data.groupby(by='genre')['total_sales'].agg('sum').sort_values(ascending=False).reset_index()\n",
    ")\n",
    "ax.set(xlabel='Жанр')\n",
    "ax.set(ylabel='Общие продажи')\n",
    "plt.show()"
   ]
  },
  {
   "cell_type": "markdown",
   "metadata": {},
   "source": [
    "Судя по графику самые высокие продажи у жанра Action. На втором месте по продажам стоит жанр Shooter, за ними следуют Role-Playing, Sports и Misc. \n",
    "Стоит заметить, что игр жанра Action было и выпущено больше всех.\n",
    "\n",
    "Однако, не стоит судить о прибыльности жанра по общим продажам: за высокими показателями общих продаж иногда может скрываться множество мелких игр с низкими продажами. Поэтому также посчитаем средние продажи по жанрам"
   ]
  },
  {
   "cell_type": "code",
   "execution_count": 58,
   "metadata": {},
   "outputs": [
    {
     "data": {
      "image/png": "[encoded data removed]",
      "text/plain": [
       "<Figure size 1080x576 with 1 Axes>"
      ]
     },
     "metadata": {
      "needs_background": "light"
     },
     "output_type": "display_data"
    }
   ],
   "source": [
    "plt.figure(figsize=(15,8))\n",
    "plt.grid(True)\n",
    "ax = sns.barplot(\n",
    "    x='genre',\n",
    "    y='total_sales',\n",
    "    data=new_data.groupby(by='genre')['total_sales'].agg('mean').sort_values(ascending=False).reset_index()\n",
    ")\n",
    "ax.set(xlabel='Жанр')\n",
    "ax.set(ylabel='Прибыль')\n",
    "plt.show()"
   ]
  },
  {
   "cell_type": "markdown",
   "metadata": {},
   "source": [
    "Теперь, если посмотреть на график средних продаж по жанрам, то на первом месте окажется жанр Shooter со средней прибылью 1.25. За ним следуют жанры Sports(0.7) и Platform(0.58). Таким образом, хотя Action игр и выпускается больше, средняя прибыль у него ниже, он находится лишь на 7 месте."
   ]
  },
  {
   "cell_type": "markdown",
   "metadata": {},
   "source": [
    "## Портрет пользователей по регионам"
   ]
  },
  {
   "cell_type": "markdown",
   "metadata": {},
   "source": [
    "### Северная Америка"
   ]
  },
  {
   "cell_type": "markdown",
   "metadata": {},
   "source": [
    "Найдем топ-5 самых популярных платформ в Северной Америке"
   ]
  },
  {
   "cell_type": "code",
   "execution_count": 59,
   "metadata": {},
   "outputs": [
    {
     "data": {
      "text/plain": [
       "platform\n",
       "PS4     108.74\n",
       "XOne     93.12\n",
       "X360     81.66\n",
       "PS3      63.50\n",
       "3DS      38.20\n",
       "Name: na_sales, dtype: float64"
      ]
     },
     "execution_count": 59,
     "metadata": {},
     "output_type": "execute_result"
    }
   ],
   "source": [
    "new_data.groupby('platform')['na_sales'].agg('sum').nlargest(5)"
   ]
  },
  {
   "cell_type": "markdown",
   "metadata": {},
   "source": [
    "Теперь определим топ-5 самых популярных жанров для этого региона"
   ]
  },
  {
   "cell_type": "code",
   "execution_count": 60,
   "metadata": {},
   "outputs": [
    {
     "data": {
      "text/plain": [
       "genre\n",
       "Action          126.05\n",
       "Shooter         109.74\n",
       "Sports           65.27\n",
       "Role-Playing     46.40\n",
       "Misc             27.49\n",
       "Name: na_sales, dtype: float64"
      ]
     },
     "execution_count": 60,
     "metadata": {},
     "output_type": "execute_result"
    }
   ],
   "source": [
    "new_data.groupby('genre')['na_sales'].agg('sum').nlargest(5)"
   ]
  },
  {
   "cell_type": "markdown",
   "metadata": {},
   "source": [
    "Стоит посмотреть влияет ли рейтинг ESRB на продажи в Северной Америке"
   ]
  },
  {
   "cell_type": "code",
   "execution_count": 61,
   "metadata": {},
   "outputs": [
    {
     "data": {
      "text/plain": [
       "rating\n",
       "M       165.21\n",
       "-1       89.42\n",
       "E        79.05\n",
       "E10+     54.24\n",
       "T        49.79\n",
       "Name: na_sales, dtype: float64"
      ]
     },
     "execution_count": 61,
     "metadata": {},
     "output_type": "execute_result"
    }
   ],
   "source": [
    "new_data.groupby(by='rating')['na_sales'].agg('sum').sort_values(ascending=False)"
   ]
  },
  {
   "cell_type": "markdown",
   "metadata": {},
   "source": [
    "**Вывод:** \n",
    "\n",
    "Исходя из полученных данных можно сделать вывод, что в Северной Америке лидирует по продажам PS4. За ней следуют XOne, X360, PS3 и 3DS. Что касается жанров: лидером является жанр Action, за ним следуют Shooter, Sports, Role-Playing, а также Misc. Также больше всего продается игр с рейтингом М, а далее идут игры без рейтинга, E, E10+ и T."
   ]
  },
  {
   "cell_type": "markdown",
   "metadata": {},
   "source": [
    "### Европа"
   ]
  },
  {
   "cell_type": "code",
   "execution_count": 62,
   "metadata": {
    "scrolled": true
   },
   "outputs": [
    {
     "data": {
      "text/plain": [
       "platform\n",
       "PS4     141.09\n",
       "PS3      67.81\n",
       "XOne     51.59\n",
       "X360     42.52\n",
       "3DS      30.96\n",
       "Name: eu_sales, dtype: float64"
      ]
     },
     "execution_count": 62,
     "metadata": {},
     "output_type": "execute_result"
    }
   ],
   "source": [
    "new_data.groupby('platform')['eu_sales'].agg('sum').nlargest(5)"
   ]
  },
  {
   "cell_type": "code",
   "execution_count": 63,
   "metadata": {},
   "outputs": [
    {
     "data": {
      "text/plain": [
       "genre\n",
       "Action          118.13\n",
       "Shooter          87.86\n",
       "Sports           60.52\n",
       "Role-Playing     36.97\n",
       "Racing           20.19\n",
       "Name: eu_sales, dtype: float64"
      ]
     },
     "execution_count": 63,
     "metadata": {},
     "output_type": "execute_result"
    }
   ],
   "source": [
    "new_data.groupby('genre')['eu_sales'].agg('sum').nlargest(5)"
   ]
  },
  {
   "cell_type": "code",
   "execution_count": 64,
   "metadata": {},
   "outputs": [
    {
     "data": {
      "text/plain": [
       "rating\n",
       "M       145.32\n",
       "E        83.36\n",
       "-1       78.91\n",
       "E10+     42.69\n",
       "T        41.95\n",
       "Name: eu_sales, dtype: float64"
      ]
     },
     "execution_count": 64,
     "metadata": {},
     "output_type": "execute_result"
    }
   ],
   "source": [
    "new_data.groupby(by='rating')['eu_sales'].agg('sum').sort_values(ascending=False)"
   ]
  },
  {
   "cell_type": "markdown",
   "metadata": {},
   "source": [
    "**Вывод:** \n",
    "\n",
    "Больше всего продаются в Европе платформы PS4, PS3, XOne, X360 и 3DS. Лидерами среди жанров являются Action, затем Shooter, Sports, Role-Playing и Racing. По рейтингам ESRB картина выглядит так: M, E, без рейтинга, E10+, T"
   ]
  },
  {
   "cell_type": "markdown",
   "metadata": {},
   "source": [
    "### Япония"
   ]
  },
  {
   "cell_type": "code",
   "execution_count": 65,
   "metadata": {},
   "outputs": [
    {
     "data": {
      "text/plain": [
       "platform\n",
       "3DS     67.81\n",
       "PS3     23.35\n",
       "PSV     18.59\n",
       "PS4     15.96\n",
       "WiiU    10.88\n",
       "Name: jp_sales, dtype: float64"
      ]
     },
     "execution_count": 65,
     "metadata": {},
     "output_type": "execute_result"
    }
   ],
   "source": [
    "new_data.groupby('platform')['jp_sales'].agg('sum').nlargest(5)"
   ]
  },
  {
   "cell_type": "code",
   "execution_count": 66,
   "metadata": {},
   "outputs": [
    {
     "data": {
      "text/plain": [
       "genre\n",
       "Role-Playing    51.04\n",
       "Action          40.49\n",
       "Misc             9.20\n",
       "Fighting         7.65\n",
       "Shooter          6.61\n",
       "Name: jp_sales, dtype: float64"
      ]
     },
     "execution_count": 66,
     "metadata": {},
     "output_type": "execute_result"
    }
   ],
   "source": [
    "new_data.groupby('genre')['jp_sales'].agg('sum').nlargest(5)"
   ]
  },
  {
   "cell_type": "code",
   "execution_count": 67,
   "metadata": {},
   "outputs": [
    {
     "data": {
      "text/plain": [
       "rating\n",
       "-1      85.05\n",
       "T       20.59\n",
       "E       15.14\n",
       "M       14.11\n",
       "E10+     5.89\n",
       "Name: jp_sales, dtype: float64"
      ]
     },
     "execution_count": 67,
     "metadata": {},
     "output_type": "execute_result"
    }
   ],
   "source": [
    "new_data.groupby(by='rating')['jp_sales'].agg('sum').sort_values(ascending=False)"
   ]
  },
  {
   "cell_type": "markdown",
   "metadata": {},
   "source": [
    "**Вывод:** \n",
    "\n",
    "В Японии на первом месте по продажам находится 3DS, а за ней следуют PS3, PSV, PS4 и WiiU. Топ-5 жанров выглядят следующим образом: на первом месте стоит Role-Playing, а за ним идут Action, Misc, Fighting и Shooter. Что касается рейтингов:  на первом месте игры без рейтинга, а за ними следуют T, E, M и E10+"
   ]
  },
  {
   "cell_type": "markdown",
   "metadata": {},
   "source": [
    "### Вывод"
   ]
  },
  {
   "cell_type": "code",
   "execution_count": 68,
   "metadata": {},
   "outputs": [
    {
     "data": {
      "image/png": "[encoded data removed]",
      "text/plain": [
       "<Figure size 1152x288 with 3 Axes>"
      ]
     },
     "metadata": {
      "needs_background": "light"
     },
     "output_type": "display_data"
    }
   ],
   "source": [
    "regions = ['na_sales', 'eu_sales', 'jp_sales']\n",
    "names = ['Северная Америка', 'Европа', 'Япония']\n",
    "\n",
    "fig, axes = plt.subplots(1, 3, figsize=(16, 4))\n",
    "\n",
    "for i, cur_ax in enumerate(axes.flat):\n",
    "    reg = regions[i]\n",
    "    name = names[i]\n",
    "    sns.barplot(\n",
    "        ax = cur_ax, \n",
    "        x='platform', \n",
    "        y=reg, \n",
    "        data=new_data.groupby(by='platform')[reg].agg('sum').nlargest(5).reset_index())\n",
    "\n",
    "    cur_ax.set(ylim=(0,200))\n",
    "    cur_ax.set(xlabel='Платформа')\n",
    "    cur_ax.set(ylabel='Доля продаж')\n",
    "    cur_ax.set_title(f'Популярные платформы в регионе {name}')\n",
    "\n",
    "    \n",
    "plt.show()"
   ]
  },
  {
   "cell_type": "markdown",
   "metadata": {},
   "source": [
    "Глядя на графики и полученные раннее данные можно сделать вывод, что в Северной Америке и в Европе более популярны консольные приставки, в то время, как в Японии предпочитают портативные платформы."
   ]
  },
  {
   "cell_type": "code",
   "execution_count": 69,
   "metadata": {},
   "outputs": [
    {
     "data": {
      "image/png": "[encoded data removed]",
      "text/plain": [
       "<Figure size 1152x288 with 3 Axes>"
      ]
     },
     "metadata": {
      "needs_background": "light"
     },
     "output_type": "display_data"
    }
   ],
   "source": [
    "fig, axes = plt.subplots(1, 3, figsize=(16, 4))\n",
    "\n",
    "for i, cur_ax in enumerate(axes.flat):\n",
    "    reg = regions[i]\n",
    "    name = names[i]\n",
    "    sns.barplot(\n",
    "        ax = cur_ax, \n",
    "        x='genre', \n",
    "        y=reg, \n",
    "        data=new_data.groupby(by='genre')[reg].agg('sum').nlargest(5).reset_index())\n",
    "    \n",
    "    cur_ax.set(ylim=(0,150))\n",
    "    cur_ax.set(xlabel='Жанр')\n",
    "    cur_ax.set(ylabel='Доля продаж')\n",
    "    cur_ax.set_title(f'Популярные жанры в регионе {name}')\n",
    "\n",
    "    \n",
    "plt.show()"
   ]
  },
  {
   "cell_type": "markdown",
   "metadata": {},
   "source": [
    "Можно заметить, что в Северной Америке и Европе топ-5 жанров распределились практически одинаково, с разницей лишь в жанре,занимающим последнюю 5 строчку: Misc в Северной Америке и Racing в Европе. Однако в Японии картина совершенно другая."
   ]
  },
  {
   "cell_type": "code",
   "execution_count": 70,
   "metadata": {},
   "outputs": [
    {
     "data": {
      "image/png": "[encoded data removed]",
      "text/plain": [
       "<Figure size 1152x288 with 3 Axes>"
      ]
     },
     "metadata": {
      "needs_background": "light"
     },
     "output_type": "display_data"
    }
   ],
   "source": [
    "fig, axes = plt.subplots(1, 3, figsize=(16, 4))\n",
    "\n",
    "for i, cur_ax in enumerate(axes.flat):\n",
    "    reg = regions[i]\n",
    "    name = names[i]\n",
    "    sns.barplot(\n",
    "        ax = cur_ax, \n",
    "        x='rating', \n",
    "        y=reg, \n",
    "        data=new_data.groupby(by='rating')[reg].agg('sum').nlargest(5).reset_index())\n",
    "    \n",
    "    cur_ax.set(ylim=(0,200))\n",
    "    cur_ax.set(xlabel='Рейтинг')\n",
    "    cur_ax.set(ylabel='Доля продаж')\n",
    "    cur_ax.set_title(f'Рейтинги в регионе {name}')\n",
    "\n",
    "    \n",
    "plt.show()"
   ]
  },
  {
   "cell_type": "markdown",
   "metadata": {},
   "source": [
    "Рейтинги ESRB:\n",
    "\n",
    "- «EC» («Early childhood») — «Для детей младшего возраста»\n",
    "- «E» («Everyone») — «Для всех»\n",
    "- «E10+» («Everyone 10 and older») — «Для всех от 10 лет и старше»\n",
    "- «T» («Teen») — «Подросткам» - от 13 лет\n",
    "- «M» («Mature») — «Для взрослых»\n",
    "- «AO» («Adults Only 18+») — «Только для взрослых»\n",
    "- «RP» («Rating Pending») — «Рейтинг ожидается»"
   ]
  },
  {
   "cell_type": "markdown",
   "metadata": {},
   "source": [
    "В Северной Америке и Европе доли продаж и рейтинги опять практически совпадают. В Японии же дело обстоит иначе: на первом месте находятся игры без рейтинга. Cтоит отметить, что ESRB - американская компания, а в других регионах могут быть свои рейтинги. Это и может быть причиной такого распределения топ-5 в Японии"
   ]
  },
  {
   "cell_type": "markdown",
   "metadata": {},
   "source": [
    "## Проверка гипотез"
   ]
  },
  {
   "cell_type": "markdown",
   "metadata": {},
   "source": [
    "### Гипотеза первая"
   ]
  },
  {
   "cell_type": "markdown",
   "metadata": {},
   "source": [
    "Проверим гипотезу о том, что средние пользовательские рейтинги платформ Xbox One и PC одинаковые. Для проверки гипотезы используем метод для проверки гипотезы о равенстве среднего двух генеральных совокупностей по взятым из них выборкам. "
   ]
  },
  {
   "cell_type": "markdown",
   "metadata": {},
   "source": [
    "H0: Средние пользовательские рейтинги платформ Xbox One и PC одинаковые  \n",
    "H1: Средние пользовательские рейтинги платформ Xbox One и PC отличаются\n",
    "\n",
    "Пороговое значение: 5%"
   ]
  },
  {
   "cell_type": "code",
   "execution_count": 71,
   "metadata": {},
   "outputs": [],
   "source": [
    "x_box_one = new_data.loc[(new_data['platform'] == 'XOne') & (new_data['user_score'] != -1)]\n",
    "pc = new_data.loc[(new_data['platform'] == 'PC') & (new_data['user_score'] != -1)]"
   ]
  },
  {
   "cell_type": "code",
   "execution_count": 72,
   "metadata": {},
   "outputs": [
    {
     "name": "stdout",
     "output_type": "stream",
     "text": [
      "p-значение: 0.14012658403611647\n",
      "Не получилось отвергнуть нулевую гипотезу\n"
     ]
    }
   ],
   "source": [
    "alpha = .05\n",
    "\n",
    "results = st.ttest_ind(\n",
    "    x_box_one['user_score'], \n",
    "    pc['user_score'])\n",
    "\n",
    "print('p-значение:', results.pvalue)\n",
    "\n",
    "if (results.pvalue < alpha):\n",
    "    print(\"Отвергаем нулевую гипотезу\")\n",
    "else:\n",
    "    print(\"Не получилось отвергнуть нулевую гипотезу\")"
   ]
  },
  {
   "cell_type": "code",
   "execution_count": 73,
   "metadata": {},
   "outputs": [
    {
     "name": "stdout",
     "output_type": "stream",
     "text": [
      "Средние пользовательские рейтинги платформы Xbox One - 6.52\n",
      "Средние пользовательские рейтинги платформы PC - 6.27\n"
     ]
    }
   ],
   "source": [
    "print('Средние пользовательские рейтинги платформы Xbox One -', x_box_one['user_score'].mean().round(2))\n",
    "print('Средние пользовательские рейтинги платформы PC -', pc['user_score'].mean().round(2))"
   ]
  },
  {
   "cell_type": "markdown",
   "metadata": {},
   "source": [
    "**Вывод:** \n",
    "\n",
    "Как видно из полученных данных, при уровне статистической значимости 0.05, p-value получился равен 0.14, что соответственно не дает нам оснований отвергнуть нулевую гипотезу. Также по средним значениям мы видим, что средние пользовательские рейтинги платформ Xbox One и PC очень близки."
   ]
  },
  {
   "cell_type": "markdown",
   "metadata": {},
   "source": [
    "### Гипотеза вторая"
   ]
  },
  {
   "cell_type": "markdown",
   "metadata": {},
   "source": [
    "Проверим гипотезу о том, что средние пользовательские рейтинги жанров Action и Sports разные. Для проверки гипотезы используем метод для проверки гипотезы о равенстве среднего двух генеральных совокупностей по взятым из них выборкам. "
   ]
  },
  {
   "cell_type": "markdown",
   "metadata": {},
   "source": [
    "H0: Средние пользовательские рейтинги жанров Action и Sports одинаковые  \n",
    "H1: Средние пользовательские рейтинги жанров Action и Sports отличаются\n",
    "\n",
    "Пороговое значение: 5%"
   ]
  },
  {
   "cell_type": "code",
   "execution_count": 74,
   "metadata": {},
   "outputs": [],
   "source": [
    "action = new_data.loc[(new_data['genre'] == 'Action') & (new_data['user_score'] != -1)]\n",
    "sports = new_data.loc[(new_data['genre'] == 'Sports') & (new_data['user_score'] != -1)]"
   ]
  },
  {
   "cell_type": "code",
   "execution_count": 75,
   "metadata": {},
   "outputs": [
    {
     "name": "stdout",
     "output_type": "stream",
     "text": [
      "p-значение: 1.0517832389140023e-27\n",
      "Отвергаем нулевую гипотезу\n"
     ]
    }
   ],
   "source": [
    "alpha = .05\n",
    "\n",
    "results = st.ttest_ind(\n",
    "    action['user_score'], \n",
    "    sports['user_score'])\n",
    "\n",
    "print('p-значение:', results.pvalue)\n",
    "\n",
    "if (results.pvalue < alpha):\n",
    "    print(\"Отвергаем нулевую гипотезу\")\n",
    "else:\n",
    "    print(\"Не получилось отвергнуть нулевую гипотезу\")"
   ]
  },
  {
   "cell_type": "code",
   "execution_count": 76,
   "metadata": {},
   "outputs": [
    {
     "name": "stdout",
     "output_type": "stream",
     "text": [
      "Средние пользовательские рейтинги жанра Action - 6.84\n",
      "Средние пользовательские рейтинги жанра Sports - 5.24\n"
     ]
    }
   ],
   "source": [
    "print('Средние пользовательские рейтинги жанра Action -', action['user_score'].mean().round(2))\n",
    "print('Средние пользовательские рейтинги жанра Sports -', sports['user_score'].mean().round(2))"
   ]
  },
  {
   "cell_type": "markdown",
   "metadata": {},
   "source": [
    "**Вывод:** \n",
    "\n",
    "Таким образом мы отвергаем нулевую гипотезу. Также по среднему значению мы видим, что средние пользовательские рейтинги жанра Action выше, чем жанра Sports."
   ]
  },
  {
   "cell_type": "markdown",
   "metadata": {},
   "source": [
    "## Общий вывод"
   ]
  },
  {
   "cell_type": "markdown",
   "metadata": {},
   "source": [
    "В ходе работы были проделаны **следующие шаги**:\n",
    "- названия столбцов были приведены к нижнему регистру\n",
    "- удалены пропущенные значения в столбцах: year_of_release, name и genre\n",
    "- в столбце user_score были заменены значения 'tbd' на пустые значения\n",
    "- пропущенные значения в столбцах user_score, critic_score и rating были заменены на -1\n",
    "- изменен тип данных в столбцах year_of_release и user_score\n",
    "- были посчитаны суммарные продажи во всех регионах и записаны в отдельный столбец total_sales\n",
    "- значения 'K-A' в столбце rating были заменены на 'E'"
   ]
  },
  {
   "cell_type": "markdown",
   "metadata": {},
   "source": [
    "В ходе проделанного анализа мы получили **следующие результаты**:\n",
    "\n",
    "- Больше всего игр выпускалось в 2008-2009 годах\n",
    "- Актуальный период для прогноза продаж на 2017 год: с 2013 по 2016\n",
    "- Средний срок жизни платформы - 8 лет\n",
    "- Лидерами по продажам являются PS4, PS3 и XOne \n",
    "- Самыми прибыльными платформами по медианным значениям являются X360, XOne и PS4\n",
    "- Отзывы критиков в большей степени влияют на продажи, чем отзывы пользователей\n",
    "- Самый популярный жанр игр: Action\n",
    "- Самый прибыльнй жанр игр: Shooter\n",
    "\n",
    "- В Северной Америке и Европе пользователи очень похожи:\n",
    "\n",
    "    * Лидирует платформа PS4 и в общем более популярны консольные приставки\n",
    "    * Cамые популярные жанры - Action, Shooter и Sports\n",
    "    * C большим отрывом по продажам лидирует рейтинг M(17+)\n",
    "    \n",
    "- В Японии портрет пользователя отличается:\n",
    "    * На первом месте по продажам находится 3DS, большей популярностью пользуются портативные платформы\n",
    "    * Самые популярные жанры - Role-Playing, а за ним идут Action, Misc, Fighting и Shooter\n",
    "    * Самые большие продажи у игр без рейтинга"
   ]
  },
  {
   "cell_type": "markdown",
   "metadata": {},
   "source": [
    "Также нами были выдвинуты **две гипотезы** и получены следующие результаты:\n",
    "\n",
    "* Средние пользовательские рейтинги платформ Xbox One и PC одинаковые. Нулевая гипотеза о равенстве рейтингов подтвердилась.\n",
    "    \n",
    "* Средние пользовательские рейтинги жанров Action и Sports отличаются. Нулевая гипотеза о равенстве рейтингов не подтвердилась. \n",
    "    "
   ]
  },
  {
   "cell_type": "markdown",
   "metadata": {},
   "source": [
    "Исходя из всех полученных данных, можно сделать следующие **рекомендации:**\n",
    "\n",
    "* Стоит обратить внимание на жизненный цикл платформы(8 лет), а также регион продаж. Для 2017 года речь идет о PS4 и Xbox One для Северной Америки и Европы и 3DS для рынка Японии\n",
    "* Рекомендованные жанры для Северной Америки и Европы - Action и Shooter, для Японии - Role-Playing\n",
    "* Рекомендованный рейтинг для всех регионов - E(для всех). Для Европы и Северной Америки - M(17+). Для Японии рейтинг ESRB не оказывает влияние на продажи, так как у них действует своя система рейтингов "
   ]
  }
 ],
 "metadata": {
  "ExecuteTimeLog": [
   {
    "duration": 1354,
    "start_time": "2023-01-13T07:36:27.783Z"
   },
   {
    "duration": 20,
    "start_time": "2023-01-13T07:36:56.692Z"
   },
   {
    "duration": 14,
    "start_time": "2023-01-13T07:37:02.228Z"
   },
   {
    "duration": 90,
    "start_time": "2023-01-13T07:44:45.390Z"
   },
   {
    "duration": 4,
    "start_time": "2023-01-13T07:44:52.386Z"
   },
   {
    "duration": 3,
    "start_time": "2023-01-13T07:45:54.305Z"
   },
   {
    "duration": 13,
    "start_time": "2023-01-13T07:45:59.950Z"
   },
   {
    "duration": 14,
    "start_time": "2023-01-13T07:48:13.512Z"
   },
   {
    "duration": 10,
    "start_time": "2023-01-13T07:49:30.003Z"
   },
   {
    "duration": 27,
    "start_time": "2023-01-13T08:00:55.077Z"
   },
   {
    "duration": 9,
    "start_time": "2023-01-13T08:01:01.633Z"
   },
   {
    "duration": 18,
    "start_time": "2023-01-13T08:01:12.913Z"
   },
   {
    "duration": 10,
    "start_time": "2023-01-13T08:01:16.519Z"
   },
   {
    "duration": 5,
    "start_time": "2023-01-13T08:02:35.851Z"
   },
   {
    "duration": 21,
    "start_time": "2023-01-13T08:08:15.059Z"
   },
   {
    "duration": 4,
    "start_time": "2023-01-13T08:14:02.168Z"
   },
   {
    "duration": 9,
    "start_time": "2023-01-13T08:16:45.047Z"
   },
   {
    "duration": 5,
    "start_time": "2023-01-13T08:23:25.534Z"
   },
   {
    "duration": 8,
    "start_time": "2023-01-13T08:23:30.671Z"
   },
   {
    "duration": 5,
    "start_time": "2023-01-13T08:28:26.295Z"
   },
   {
    "duration": 5,
    "start_time": "2023-01-13T08:28:35.580Z"
   },
   {
    "duration": 6,
    "start_time": "2023-01-13T08:29:09.259Z"
   },
   {
    "duration": 4,
    "start_time": "2023-01-13T08:31:27.985Z"
   },
   {
    "duration": 6,
    "start_time": "2023-01-13T08:31:35.547Z"
   },
   {
    "duration": 7,
    "start_time": "2023-01-13T08:32:05.575Z"
   },
   {
    "duration": 10,
    "start_time": "2023-01-13T08:36:26.768Z"
   },
   {
    "duration": 5,
    "start_time": "2023-01-13T08:36:30.404Z"
   },
   {
    "duration": 5,
    "start_time": "2023-01-13T08:36:54.764Z"
   },
   {
    "duration": 12,
    "start_time": "2023-01-13T08:37:13.142Z"
   },
   {
    "duration": 9,
    "start_time": "2023-01-13T08:37:22.331Z"
   },
   {
    "duration": 6,
    "start_time": "2023-01-13T08:39:11.390Z"
   },
   {
    "duration": 13,
    "start_time": "2023-01-13T08:39:21.972Z"
   },
   {
    "duration": 12,
    "start_time": "2023-01-13T08:39:33.422Z"
   },
   {
    "duration": 8,
    "start_time": "2023-01-13T08:42:16.728Z"
   },
   {
    "duration": 19,
    "start_time": "2023-01-13T08:42:20.594Z"
   },
   {
    "duration": 6,
    "start_time": "2023-01-13T08:44:49.008Z"
   },
   {
    "duration": 15,
    "start_time": "2023-01-13T08:44:59.319Z"
   },
   {
    "duration": 7,
    "start_time": "2023-01-13T08:54:54.325Z"
   },
   {
    "duration": 570,
    "start_time": "2023-01-13T08:59:02.651Z"
   },
   {
    "duration": 332,
    "start_time": "2023-01-13T09:00:08.605Z"
   },
   {
    "duration": 363,
    "start_time": "2023-01-13T09:00:19.198Z"
   },
   {
    "duration": 310,
    "start_time": "2023-01-13T09:02:47.442Z"
   },
   {
    "duration": 455,
    "start_time": "2023-01-13T09:02:58.621Z"
   },
   {
    "duration": 315,
    "start_time": "2023-01-13T09:03:39.389Z"
   },
   {
    "duration": 371,
    "start_time": "2023-01-13T09:04:19.130Z"
   },
   {
    "duration": 359,
    "start_time": "2023-01-13T09:04:31.351Z"
   },
   {
    "duration": 340,
    "start_time": "2023-01-13T09:04:57.361Z"
   },
   {
    "duration": 371,
    "start_time": "2023-01-13T09:05:09.860Z"
   },
   {
    "duration": 420,
    "start_time": "2023-01-13T09:05:20.570Z"
   },
   {
    "duration": 343,
    "start_time": "2023-01-13T09:05:53.190Z"
   },
   {
    "duration": 378,
    "start_time": "2023-01-13T09:06:05.742Z"
   },
   {
    "duration": 15,
    "start_time": "2023-01-13T09:13:57.954Z"
   },
   {
    "duration": 16,
    "start_time": "2023-01-13T09:14:06.315Z"
   },
   {
    "duration": 9,
    "start_time": "2023-01-13T09:14:23.335Z"
   },
   {
    "duration": 12,
    "start_time": "2023-01-13T09:17:02.695Z"
   },
   {
    "duration": 5,
    "start_time": "2023-01-13T09:20:21.428Z"
   },
   {
    "duration": 6,
    "start_time": "2023-01-13T09:20:25.061Z"
   },
   {
    "duration": 10,
    "start_time": "2023-01-13T09:20:29.980Z"
   },
   {
    "duration": 123,
    "start_time": "2023-01-13T09:20:33.797Z"
   },
   {
    "duration": 9,
    "start_time": "2023-01-13T09:20:50.117Z"
   },
   {
    "duration": 9,
    "start_time": "2023-01-13T09:26:13.727Z"
   },
   {
    "duration": 16,
    "start_time": "2023-01-13T09:26:23.831Z"
   },
   {
    "duration": 8,
    "start_time": "2023-01-13T09:28:07.643Z"
   },
   {
    "duration": 11,
    "start_time": "2023-01-13T09:29:05.927Z"
   },
   {
    "duration": 1097,
    "start_time": "2023-01-13T11:03:50.771Z"
   },
   {
    "duration": 826,
    "start_time": "2023-01-13T11:10:50.139Z"
   },
   {
    "duration": 16,
    "start_time": "2023-01-13T11:14:50.874Z"
   },
   {
    "duration": 10,
    "start_time": "2023-01-13T11:16:41.000Z"
   },
   {
    "duration": 12,
    "start_time": "2023-01-13T11:17:33.708Z"
   },
   {
    "duration": 13,
    "start_time": "2023-01-13T11:18:04.937Z"
   },
   {
    "duration": 836,
    "start_time": "2023-01-13T11:18:56.386Z"
   },
   {
    "duration": 457,
    "start_time": "2023-01-13T11:19:04.749Z"
   },
   {
    "duration": 10,
    "start_time": "2023-01-13T11:19:23.193Z"
   },
   {
    "duration": 12,
    "start_time": "2023-01-13T11:19:36.740Z"
   },
   {
    "duration": 18,
    "start_time": "2023-01-13T11:20:28.949Z"
   },
   {
    "duration": 14,
    "start_time": "2023-01-13T11:20:56.743Z"
   },
   {
    "duration": 8,
    "start_time": "2023-01-13T11:27:24.595Z"
   },
   {
    "duration": 5,
    "start_time": "2023-01-13T11:27:53.939Z"
   },
   {
    "duration": 4,
    "start_time": "2023-01-13T11:29:22.915Z"
   },
   {
    "duration": 1133,
    "start_time": "2023-01-13T11:29:32.911Z"
   },
   {
    "duration": 24,
    "start_time": "2023-01-13T11:29:34.046Z"
   },
   {
    "duration": 16,
    "start_time": "2023-01-13T11:29:34.072Z"
   },
   {
    "duration": 4,
    "start_time": "2023-01-13T11:29:34.090Z"
   },
   {
    "duration": 13,
    "start_time": "2023-01-13T11:29:34.097Z"
   },
   {
    "duration": 17,
    "start_time": "2023-01-13T11:29:34.112Z"
   },
   {
    "duration": 16,
    "start_time": "2023-01-13T11:29:34.131Z"
   },
   {
    "duration": 12,
    "start_time": "2023-01-13T11:29:34.149Z"
   },
   {
    "duration": 11,
    "start_time": "2023-01-13T11:29:34.163Z"
   },
   {
    "duration": 4,
    "start_time": "2023-01-13T11:29:34.176Z"
   },
   {
    "duration": 22,
    "start_time": "2023-01-13T11:29:34.198Z"
   },
   {
    "duration": 4,
    "start_time": "2023-01-13T11:29:34.222Z"
   },
   {
    "duration": 22,
    "start_time": "2023-01-13T11:29:34.227Z"
   },
   {
    "duration": 5,
    "start_time": "2023-01-13T11:29:34.252Z"
   },
   {
    "duration": 10,
    "start_time": "2023-01-13T11:29:34.259Z"
   },
   {
    "duration": 5,
    "start_time": "2023-01-13T11:29:34.271Z"
   },
   {
    "duration": 3,
    "start_time": "2023-01-13T11:29:34.298Z"
   },
   {
    "duration": 23,
    "start_time": "2023-01-13T11:29:34.303Z"
   },
   {
    "duration": 20,
    "start_time": "2023-01-13T11:29:34.328Z"
   },
   {
    "duration": 12,
    "start_time": "2023-01-13T11:29:34.350Z"
   },
   {
    "duration": 7,
    "start_time": "2023-01-13T11:29:34.363Z"
   },
   {
    "duration": 27,
    "start_time": "2023-01-13T11:29:34.371Z"
   },
   {
    "duration": 17,
    "start_time": "2023-01-13T11:29:34.400Z"
   },
   {
    "duration": 8,
    "start_time": "2023-01-13T11:29:34.419Z"
   },
   {
    "duration": 14,
    "start_time": "2023-01-13T11:29:34.429Z"
   },
   {
    "duration": 20,
    "start_time": "2023-01-13T11:29:34.445Z"
   },
   {
    "duration": 35,
    "start_time": "2023-01-13T11:29:34.467Z"
   },
   {
    "duration": 6,
    "start_time": "2023-01-13T11:29:34.503Z"
   },
   {
    "duration": 16,
    "start_time": "2023-01-13T11:29:34.510Z"
   },
   {
    "duration": 13,
    "start_time": "2023-01-13T11:29:34.528Z"
   },
   {
    "duration": 423,
    "start_time": "2023-01-13T11:29:34.543Z"
   },
   {
    "duration": 10,
    "start_time": "2023-01-13T11:29:34.968Z"
   },
   {
    "duration": 29,
    "start_time": "2023-01-13T11:29:34.980Z"
   },
   {
    "duration": 1108,
    "start_time": "2023-01-13T11:29:35.013Z"
   },
   {
    "duration": 7,
    "start_time": "2023-01-13T11:29:36.123Z"
   },
   {
    "duration": 7,
    "start_time": "2023-01-13T11:29:36.131Z"
   },
   {
    "duration": 8,
    "start_time": "2023-01-13T11:29:57.985Z"
   },
   {
    "duration": 92,
    "start_time": "2023-01-13T11:30:47.046Z"
   },
   {
    "duration": 8,
    "start_time": "2023-01-13T11:30:51.354Z"
   },
   {
    "duration": 8,
    "start_time": "2023-01-13T11:31:04.618Z"
   },
   {
    "duration": 11,
    "start_time": "2023-01-13T11:31:45.172Z"
   },
   {
    "duration": 8,
    "start_time": "2023-01-13T11:31:54.061Z"
   },
   {
    "duration": 270,
    "start_time": "2023-01-13T11:35:27.606Z"
   },
   {
    "duration": 20,
    "start_time": "2023-01-13T11:39:00.623Z"
   },
   {
    "duration": 18,
    "start_time": "2023-01-13T11:39:08.938Z"
   },
   {
    "duration": 22,
    "start_time": "2023-01-13T11:40:03.598Z"
   },
   {
    "duration": 7,
    "start_time": "2023-01-13T11:41:13.532Z"
   },
   {
    "duration": 147,
    "start_time": "2023-01-13T11:45:03.148Z"
   },
   {
    "duration": 327,
    "start_time": "2023-01-13T11:46:31.519Z"
   },
   {
    "duration": 238,
    "start_time": "2023-01-13T11:48:03.089Z"
   },
   {
    "duration": 254,
    "start_time": "2023-01-13T11:55:46.278Z"
   },
   {
    "duration": 10,
    "start_time": "2023-01-13T11:56:09.883Z"
   },
   {
    "duration": 11,
    "start_time": "2023-01-13T11:59:02.165Z"
   },
   {
    "duration": 58,
    "start_time": "2023-01-13T12:07:24.023Z"
   },
   {
    "duration": 1629,
    "start_time": "2023-01-13T12:07:34.632Z"
   },
   {
    "duration": 21,
    "start_time": "2023-01-13T12:07:36.264Z"
   },
   {
    "duration": 16,
    "start_time": "2023-01-13T12:07:36.287Z"
   },
   {
    "duration": 4,
    "start_time": "2023-01-13T12:07:36.305Z"
   },
   {
    "duration": 15,
    "start_time": "2023-01-13T12:07:36.310Z"
   },
   {
    "duration": 26,
    "start_time": "2023-01-13T12:07:36.327Z"
   },
   {
    "duration": 27,
    "start_time": "2023-01-13T12:07:36.354Z"
   },
   {
    "duration": 24,
    "start_time": "2023-01-13T12:07:36.383Z"
   },
   {
    "duration": 10,
    "start_time": "2023-01-13T12:07:36.409Z"
   },
   {
    "duration": 8,
    "start_time": "2023-01-13T12:07:36.421Z"
   },
   {
    "duration": 33,
    "start_time": "2023-01-13T12:07:36.431Z"
   },
   {
    "duration": 5,
    "start_time": "2023-01-13T12:07:36.466Z"
   },
   {
    "duration": 12,
    "start_time": "2023-01-13T12:07:36.473Z"
   },
   {
    "duration": 7,
    "start_time": "2023-01-13T12:07:36.487Z"
   },
   {
    "duration": 14,
    "start_time": "2023-01-13T12:07:36.495Z"
   },
   {
    "duration": 5,
    "start_time": "2023-01-13T12:07:36.511Z"
   },
   {
    "duration": 4,
    "start_time": "2023-01-13T12:07:36.518Z"
   },
   {
    "duration": 37,
    "start_time": "2023-01-13T12:07:36.524Z"
   },
   {
    "duration": 13,
    "start_time": "2023-01-13T12:07:36.563Z"
   },
   {
    "duration": 12,
    "start_time": "2023-01-13T12:07:36.578Z"
   },
   {
    "duration": 9,
    "start_time": "2023-01-13T12:07:36.592Z"
   },
   {
    "duration": 16,
    "start_time": "2023-01-13T12:07:36.603Z"
   },
   {
    "duration": 10,
    "start_time": "2023-01-13T12:07:36.621Z"
   },
   {
    "duration": 23,
    "start_time": "2023-01-13T12:07:36.632Z"
   },
   {
    "duration": 20,
    "start_time": "2023-01-13T12:07:36.656Z"
   },
   {
    "duration": 14,
    "start_time": "2023-01-13T12:07:36.678Z"
   },
   {
    "duration": 18,
    "start_time": "2023-01-13T12:07:36.693Z"
   },
   {
    "duration": 7,
    "start_time": "2023-01-13T12:07:36.714Z"
   },
   {
    "duration": 40,
    "start_time": "2023-01-13T12:07:36.723Z"
   },
   {
    "duration": 16,
    "start_time": "2023-01-13T12:07:36.765Z"
   },
   {
    "duration": 442,
    "start_time": "2023-01-13T12:07:36.782Z"
   },
   {
    "duration": 8,
    "start_time": "2023-01-13T12:07:37.226Z"
   },
   {
    "duration": 28,
    "start_time": "2023-01-13T12:07:37.236Z"
   },
   {
    "duration": 1253,
    "start_time": "2023-01-13T12:07:37.266Z"
   },
   {
    "duration": 9,
    "start_time": "2023-01-13T12:07:38.521Z"
   },
   {
    "duration": 5,
    "start_time": "2023-01-13T12:07:38.531Z"
   },
   {
    "duration": 37,
    "start_time": "2023-01-13T12:07:38.551Z"
   },
   {
    "duration": 9,
    "start_time": "2023-01-13T12:07:38.590Z"
   },
   {
    "duration": 340,
    "start_time": "2023-01-13T12:07:38.600Z"
   },
   {
    "duration": 386,
    "start_time": "2023-01-13T12:07:38.942Z"
   },
   {
    "duration": 340,
    "start_time": "2023-01-13T12:07:39.330Z"
   },
   {
    "duration": 14,
    "start_time": "2023-01-13T12:07:39.672Z"
   },
   {
    "duration": 23,
    "start_time": "2023-01-13T12:07:39.688Z"
   },
   {
    "duration": 9,
    "start_time": "2023-01-13T12:07:39.713Z"
   },
   {
    "duration": 112,
    "start_time": "2023-01-13T12:07:56.368Z"
   },
   {
    "duration": 25,
    "start_time": "2023-01-13T12:08:00.168Z"
   },
   {
    "duration": 16,
    "start_time": "2023-01-13T12:09:49.569Z"
   },
   {
    "duration": 18,
    "start_time": "2023-01-13T12:09:56.219Z"
   },
   {
    "duration": 25,
    "start_time": "2023-01-13T12:10:02.373Z"
   },
   {
    "duration": 26,
    "start_time": "2023-01-13T12:10:08.183Z"
   },
   {
    "duration": 1183,
    "start_time": "2023-01-13T12:11:10.677Z"
   },
   {
    "duration": 135,
    "start_time": "2023-01-13T12:14:50.985Z"
   },
   {
    "duration": 144,
    "start_time": "2023-01-13T12:15:14.416Z"
   },
   {
    "duration": 266,
    "start_time": "2023-01-13T12:15:29.761Z"
   },
   {
    "duration": 127,
    "start_time": "2023-01-13T12:15:33.912Z"
   },
   {
    "duration": 177,
    "start_time": "2023-01-13T12:15:40.466Z"
   },
   {
    "duration": 153,
    "start_time": "2023-01-13T12:15:47.570Z"
   },
   {
    "duration": 180,
    "start_time": "2023-01-13T12:17:37.743Z"
   },
   {
    "duration": 176,
    "start_time": "2023-01-13T12:18:07.903Z"
   },
   {
    "duration": 164,
    "start_time": "2023-01-13T12:18:15.253Z"
   },
   {
    "duration": 160,
    "start_time": "2023-01-13T12:18:48.372Z"
   },
   {
    "duration": 187,
    "start_time": "2023-01-13T12:22:52.126Z"
   },
   {
    "duration": 158,
    "start_time": "2023-01-13T12:22:58.422Z"
   },
   {
    "duration": 204,
    "start_time": "2023-01-13T12:23:06.280Z"
   },
   {
    "duration": 175,
    "start_time": "2023-01-13T12:23:11.183Z"
   },
   {
    "duration": 149,
    "start_time": "2023-01-13T12:23:18.237Z"
   },
   {
    "duration": 159,
    "start_time": "2023-01-13T12:23:21.164Z"
   },
   {
    "duration": 471,
    "start_time": "2023-01-13T12:23:46.440Z"
   },
   {
    "duration": 5,
    "start_time": "2023-01-13T12:29:46.295Z"
   },
   {
    "duration": 8,
    "start_time": "2023-01-13T12:30:10.146Z"
   },
   {
    "duration": 5,
    "start_time": "2023-01-13T12:30:35.797Z"
   },
   {
    "duration": 253,
    "start_time": "2023-01-13T12:31:26.267Z"
   },
   {
    "duration": 320,
    "start_time": "2023-01-13T12:31:55.918Z"
   },
   {
    "duration": 389,
    "start_time": "2023-01-13T12:32:26.296Z"
   },
   {
    "duration": 284,
    "start_time": "2023-01-13T12:32:47.377Z"
   },
   {
    "duration": 357,
    "start_time": "2023-01-13T12:33:07.319Z"
   },
   {
    "duration": 316,
    "start_time": "2023-01-13T12:33:24.928Z"
   },
   {
    "duration": 284,
    "start_time": "2023-01-13T12:33:33.089Z"
   },
   {
    "duration": 8,
    "start_time": "2023-01-13T12:39:20.816Z"
   },
   {
    "duration": 364,
    "start_time": "2023-01-13T12:42:11.137Z"
   },
   {
    "duration": 345,
    "start_time": "2023-01-13T12:42:33.284Z"
   },
   {
    "duration": 249,
    "start_time": "2023-01-13T12:50:49.305Z"
   },
   {
    "duration": 9,
    "start_time": "2023-01-13T12:56:42.765Z"
   },
   {
    "duration": 9,
    "start_time": "2023-01-13T12:58:15.765Z"
   },
   {
    "duration": 11,
    "start_time": "2023-01-13T12:58:29.626Z"
   },
   {
    "duration": 9,
    "start_time": "2023-01-13T12:58:57.184Z"
   },
   {
    "duration": 1472,
    "start_time": "2023-01-14T06:33:24.570Z"
   },
   {
    "duration": 21,
    "start_time": "2023-01-14T06:33:26.044Z"
   },
   {
    "duration": 15,
    "start_time": "2023-01-14T06:33:26.066Z"
   },
   {
    "duration": 4,
    "start_time": "2023-01-14T06:33:26.084Z"
   },
   {
    "duration": 5,
    "start_time": "2023-01-14T06:33:26.089Z"
   },
   {
    "duration": 18,
    "start_time": "2023-01-14T06:33:26.095Z"
   },
   {
    "duration": 11,
    "start_time": "2023-01-14T06:33:26.114Z"
   },
   {
    "duration": 10,
    "start_time": "2023-01-14T06:33:26.127Z"
   },
   {
    "duration": 13,
    "start_time": "2023-01-14T06:33:26.139Z"
   },
   {
    "duration": 25,
    "start_time": "2023-01-14T06:33:26.154Z"
   },
   {
    "duration": 23,
    "start_time": "2023-01-14T06:33:26.181Z"
   },
   {
    "duration": 5,
    "start_time": "2023-01-14T06:33:26.205Z"
   },
   {
    "duration": 12,
    "start_time": "2023-01-14T06:33:26.211Z"
   },
   {
    "duration": 4,
    "start_time": "2023-01-14T06:33:26.225Z"
   },
   {
    "duration": 13,
    "start_time": "2023-01-14T06:33:26.231Z"
   },
   {
    "duration": 33,
    "start_time": "2023-01-14T06:33:26.246Z"
   },
   {
    "duration": 5,
    "start_time": "2023-01-14T06:33:26.281Z"
   },
   {
    "duration": 7,
    "start_time": "2023-01-14T06:33:26.288Z"
   },
   {
    "duration": 16,
    "start_time": "2023-01-14T06:33:26.297Z"
   },
   {
    "duration": 8,
    "start_time": "2023-01-14T06:33:26.315Z"
   },
   {
    "duration": 6,
    "start_time": "2023-01-14T06:33:26.325Z"
   },
   {
    "duration": 46,
    "start_time": "2023-01-14T06:33:26.333Z"
   },
   {
    "duration": 11,
    "start_time": "2023-01-14T06:33:26.381Z"
   },
   {
    "duration": 10,
    "start_time": "2023-01-14T06:33:26.394Z"
   },
   {
    "duration": 17,
    "start_time": "2023-01-14T06:33:26.406Z"
   },
   {
    "duration": 24,
    "start_time": "2023-01-14T06:33:26.425Z"
   },
   {
    "duration": 45,
    "start_time": "2023-01-14T06:33:26.451Z"
   },
   {
    "duration": 18,
    "start_time": "2023-01-14T06:33:26.501Z"
   },
   {
    "duration": 19,
    "start_time": "2023-01-14T06:33:26.521Z"
   },
   {
    "duration": 11,
    "start_time": "2023-01-14T06:33:26.542Z"
   },
   {
    "duration": 414,
    "start_time": "2023-01-14T06:33:26.556Z"
   },
   {
    "duration": 11,
    "start_time": "2023-01-14T06:33:26.981Z"
   },
   {
    "duration": 10,
    "start_time": "2023-01-14T06:33:26.994Z"
   },
   {
    "duration": 1126,
    "start_time": "2023-01-14T06:33:27.006Z"
   },
   {
    "duration": 8,
    "start_time": "2023-01-14T06:33:28.133Z"
   },
   {
    "duration": 11,
    "start_time": "2023-01-14T06:33:28.142Z"
   },
   {
    "duration": 34,
    "start_time": "2023-01-14T06:33:28.154Z"
   },
   {
    "duration": 8,
    "start_time": "2023-01-14T06:33:28.189Z"
   },
   {
    "duration": 381,
    "start_time": "2023-01-14T06:33:28.199Z"
   },
   {
    "duration": 337,
    "start_time": "2023-01-14T06:33:28.582Z"
   },
   {
    "duration": 282,
    "start_time": "2023-01-14T06:33:28.922Z"
   },
   {
    "duration": 12,
    "start_time": "2023-01-14T06:33:29.207Z"
   },
   {
    "duration": 12,
    "start_time": "2023-01-14T06:33:29.222Z"
   },
   {
    "duration": 50,
    "start_time": "2023-01-14T06:33:29.236Z"
   },
   {
    "duration": 299,
    "start_time": "2023-01-14T06:33:29.288Z"
   },
   {
    "duration": 341,
    "start_time": "2023-01-14T06:33:29.589Z"
   },
   {
    "duration": 6,
    "start_time": "2023-01-14T06:33:29.932Z"
   },
   {
    "duration": 8,
    "start_time": "2023-01-14T06:33:29.940Z"
   },
   {
    "duration": 8,
    "start_time": "2023-01-14T06:33:29.949Z"
   },
   {
    "duration": 258,
    "start_time": "2023-01-14T06:33:29.958Z"
   },
   {
    "duration": 264,
    "start_time": "2023-01-14T06:33:30.217Z"
   },
   {
    "duration": 385,
    "start_time": "2023-01-14T06:33:30.482Z"
   },
   {
    "duration": 301,
    "start_time": "2023-01-14T06:33:30.869Z"
   },
   {
    "duration": 254,
    "start_time": "2023-01-14T06:33:31.177Z"
   },
   {
    "duration": 311,
    "start_time": "2023-01-14T06:33:31.433Z"
   },
   {
    "duration": 8,
    "start_time": "2023-01-14T06:33:31.745Z"
   },
   {
    "duration": 239,
    "start_time": "2023-01-14T06:33:31.754Z"
   },
   {
    "duration": 218,
    "start_time": "2023-01-14T06:33:31.994Z"
   },
   {
    "duration": 8,
    "start_time": "2023-01-14T06:33:32.214Z"
   },
   {
    "duration": 855,
    "start_time": "2023-01-14T06:33:32.223Z"
   },
   {
    "duration": 0,
    "start_time": "2023-01-14T06:33:33.079Z"
   },
   {
    "duration": 0,
    "start_time": "2023-01-14T06:33:33.080Z"
   },
   {
    "duration": 0,
    "start_time": "2023-01-14T06:33:33.082Z"
   },
   {
    "duration": 10,
    "start_time": "2023-01-14T06:34:06.768Z"
   },
   {
    "duration": 8,
    "start_time": "2023-01-14T07:10:41.533Z"
   },
   {
    "duration": 10,
    "start_time": "2023-01-14T07:10:58.289Z"
   },
   {
    "duration": 1343,
    "start_time": "2023-01-14T07:15:03.017Z"
   },
   {
    "duration": 22,
    "start_time": "2023-01-14T07:15:04.362Z"
   },
   {
    "duration": 16,
    "start_time": "2023-01-14T07:15:04.386Z"
   },
   {
    "duration": 6,
    "start_time": "2023-01-14T07:15:04.405Z"
   },
   {
    "duration": 9,
    "start_time": "2023-01-14T07:15:04.413Z"
   },
   {
    "duration": 29,
    "start_time": "2023-01-14T07:15:04.424Z"
   },
   {
    "duration": 31,
    "start_time": "2023-01-14T07:15:04.455Z"
   },
   {
    "duration": 13,
    "start_time": "2023-01-14T07:15:04.489Z"
   },
   {
    "duration": 13,
    "start_time": "2023-01-14T07:15:04.505Z"
   },
   {
    "duration": 8,
    "start_time": "2023-01-14T07:15:04.522Z"
   },
   {
    "duration": 55,
    "start_time": "2023-01-14T07:15:04.532Z"
   },
   {
    "duration": 7,
    "start_time": "2023-01-14T07:15:04.589Z"
   },
   {
    "duration": 22,
    "start_time": "2023-01-14T07:15:04.598Z"
   },
   {
    "duration": 8,
    "start_time": "2023-01-14T07:15:04.622Z"
   },
   {
    "duration": 13,
    "start_time": "2023-01-14T07:15:04.632Z"
   },
   {
    "duration": 9,
    "start_time": "2023-01-14T07:15:04.647Z"
   },
   {
    "duration": 22,
    "start_time": "2023-01-14T07:15:04.657Z"
   },
   {
    "duration": 13,
    "start_time": "2023-01-14T07:15:04.681Z"
   },
   {
    "duration": 17,
    "start_time": "2023-01-14T07:15:04.696Z"
   },
   {
    "duration": 9,
    "start_time": "2023-01-14T07:15:04.716Z"
   },
   {
    "duration": 13,
    "start_time": "2023-01-14T07:15:04.727Z"
   },
   {
    "duration": 24,
    "start_time": "2023-01-14T07:15:04.742Z"
   },
   {
    "duration": 12,
    "start_time": "2023-01-14T07:15:04.779Z"
   },
   {
    "duration": 8,
    "start_time": "2023-01-14T07:15:04.793Z"
   },
   {
    "duration": 21,
    "start_time": "2023-01-14T07:15:04.804Z"
   },
   {
    "duration": 16,
    "start_time": "2023-01-14T07:15:04.827Z"
   },
   {
    "duration": 46,
    "start_time": "2023-01-14T07:15:04.845Z"
   },
   {
    "duration": 7,
    "start_time": "2023-01-14T07:15:04.897Z"
   },
   {
    "duration": 21,
    "start_time": "2023-01-14T07:15:04.906Z"
   },
   {
    "duration": 9,
    "start_time": "2023-01-14T07:15:04.929Z"
   },
   {
    "duration": 505,
    "start_time": "2023-01-14T07:15:04.940Z"
   },
   {
    "duration": 9,
    "start_time": "2023-01-14T07:15:05.447Z"
   },
   {
    "duration": 28,
    "start_time": "2023-01-14T07:15:05.457Z"
   },
   {
    "duration": 1386,
    "start_time": "2023-01-14T07:15:05.487Z"
   },
   {
    "duration": 11,
    "start_time": "2023-01-14T07:15:06.875Z"
   },
   {
    "duration": 9,
    "start_time": "2023-01-14T07:15:06.889Z"
   },
   {
    "duration": 33,
    "start_time": "2023-01-14T07:15:06.900Z"
   },
   {
    "duration": 8,
    "start_time": "2023-01-14T07:15:06.935Z"
   },
   {
    "duration": 388,
    "start_time": "2023-01-14T07:15:06.945Z"
   },
   {
    "duration": 422,
    "start_time": "2023-01-14T07:15:07.335Z"
   },
   {
    "duration": 330,
    "start_time": "2023-01-14T07:15:07.759Z"
   },
   {
    "duration": 15,
    "start_time": "2023-01-14T07:15:08.091Z"
   },
   {
    "duration": 17,
    "start_time": "2023-01-14T07:15:08.108Z"
   },
   {
    "duration": 52,
    "start_time": "2023-01-14T07:15:08.127Z"
   },
   {
    "duration": 416,
    "start_time": "2023-01-14T07:15:08.181Z"
   },
   {
    "duration": 326,
    "start_time": "2023-01-14T07:15:08.600Z"
   },
   {
    "duration": 6,
    "start_time": "2023-01-14T07:15:08.928Z"
   },
   {
    "duration": 8,
    "start_time": "2023-01-14T07:15:08.936Z"
   },
   {
    "duration": 11,
    "start_time": "2023-01-14T07:15:08.945Z"
   },
   {
    "duration": 298,
    "start_time": "2023-01-14T07:15:08.957Z"
   },
   {
    "duration": 331,
    "start_time": "2023-01-14T07:15:09.257Z"
   },
   {
    "duration": 411,
    "start_time": "2023-01-14T07:15:09.590Z"
   },
   {
    "duration": 291,
    "start_time": "2023-01-14T07:15:10.002Z"
   },
   {
    "duration": 288,
    "start_time": "2023-01-14T07:15:10.295Z"
   },
   {
    "duration": 293,
    "start_time": "2023-01-14T07:15:10.585Z"
   },
   {
    "duration": 9,
    "start_time": "2023-01-14T07:15:10.880Z"
   },
   {
    "duration": 266,
    "start_time": "2023-01-14T07:15:10.890Z"
   },
   {
    "duration": 230,
    "start_time": "2023-01-14T07:15:11.158Z"
   },
   {
    "duration": 9,
    "start_time": "2023-01-14T07:15:11.391Z"
   },
   {
    "duration": 25,
    "start_time": "2023-01-14T07:15:11.402Z"
   },
   {
    "duration": 22,
    "start_time": "2023-01-14T07:15:11.429Z"
   },
   {
    "duration": 22,
    "start_time": "2023-01-14T07:15:11.453Z"
   },
   {
    "duration": 42,
    "start_time": "2023-01-14T07:15:11.476Z"
   },
   {
    "duration": 9,
    "start_time": "2023-01-14T07:15:38.950Z"
   },
   {
    "duration": 9,
    "start_time": "2023-01-14T07:16:13.250Z"
   },
   {
    "duration": 9,
    "start_time": "2023-01-14T07:20:45.946Z"
   },
   {
    "duration": 7,
    "start_time": "2023-01-14T07:20:54.166Z"
   },
   {
    "duration": 380,
    "start_time": "2023-01-14T07:23:14.075Z"
   },
   {
    "duration": 364,
    "start_time": "2023-01-14T07:25:50.650Z"
   },
   {
    "duration": 528,
    "start_time": "2023-01-14T07:28:48.073Z"
   },
   {
    "duration": 9,
    "start_time": "2023-01-14T07:36:17.473Z"
   },
   {
    "duration": 9,
    "start_time": "2023-01-14T07:36:33.982Z"
   },
   {
    "duration": 6,
    "start_time": "2023-01-14T07:36:51.800Z"
   },
   {
    "duration": 7,
    "start_time": "2023-01-14T07:36:53.552Z"
   },
   {
    "duration": 7,
    "start_time": "2023-01-14T07:39:05.006Z"
   },
   {
    "duration": 6,
    "start_time": "2023-01-14T07:39:31.242Z"
   },
   {
    "duration": 5,
    "start_time": "2023-01-14T07:39:33.512Z"
   },
   {
    "duration": 6,
    "start_time": "2023-01-14T07:45:15.775Z"
   },
   {
    "duration": 6,
    "start_time": "2023-01-14T07:45:37.705Z"
   },
   {
    "duration": 5,
    "start_time": "2023-01-14T07:45:46.446Z"
   },
   {
    "duration": 6,
    "start_time": "2023-01-14T07:51:42.858Z"
   },
   {
    "duration": 1336,
    "start_time": "2023-01-14T17:35:56.022Z"
   },
   {
    "duration": 20,
    "start_time": "2023-01-14T17:35:57.360Z"
   },
   {
    "duration": 14,
    "start_time": "2023-01-14T17:35:57.381Z"
   },
   {
    "duration": 3,
    "start_time": "2023-01-14T17:35:57.397Z"
   },
   {
    "duration": 6,
    "start_time": "2023-01-14T17:35:57.402Z"
   },
   {
    "duration": 15,
    "start_time": "2023-01-14T17:35:57.410Z"
   },
   {
    "duration": 9,
    "start_time": "2023-01-14T17:35:57.426Z"
   },
   {
    "duration": 8,
    "start_time": "2023-01-14T17:35:57.437Z"
   },
   {
    "duration": 8,
    "start_time": "2023-01-14T17:35:57.447Z"
   },
   {
    "duration": 5,
    "start_time": "2023-01-14T17:35:57.457Z"
   },
   {
    "duration": 51,
    "start_time": "2023-01-14T17:35:57.463Z"
   },
   {
    "duration": 6,
    "start_time": "2023-01-14T17:35:57.516Z"
   },
   {
    "duration": 12,
    "start_time": "2023-01-14T17:35:57.523Z"
   },
   {
    "duration": 4,
    "start_time": "2023-01-14T17:35:57.536Z"
   },
   {
    "duration": 11,
    "start_time": "2023-01-14T17:35:57.541Z"
   },
   {
    "duration": 5,
    "start_time": "2023-01-14T17:35:57.553Z"
   },
   {
    "duration": 3,
    "start_time": "2023-01-14T17:35:57.560Z"
   },
   {
    "duration": 5,
    "start_time": "2023-01-14T17:35:57.597Z"
   },
   {
    "duration": 10,
    "start_time": "2023-01-14T17:35:57.603Z"
   },
   {
    "duration": 5,
    "start_time": "2023-01-14T17:35:57.614Z"
   },
   {
    "duration": 5,
    "start_time": "2023-01-14T17:35:57.620Z"
   },
   {
    "duration": 15,
    "start_time": "2023-01-14T17:35:57.626Z"
   },
   {
    "duration": 7,
    "start_time": "2023-01-14T17:35:57.643Z"
   },
   {
    "duration": 6,
    "start_time": "2023-01-14T17:35:57.651Z"
   },
   {
    "duration": 43,
    "start_time": "2023-01-14T17:35:57.659Z"
   },
   {
    "duration": 13,
    "start_time": "2023-01-14T17:35:57.703Z"
   },
   {
    "duration": 17,
    "start_time": "2023-01-14T17:35:57.717Z"
   },
   {
    "duration": 4,
    "start_time": "2023-01-14T17:35:57.738Z"
   },
   {
    "duration": 22,
    "start_time": "2023-01-14T17:35:57.744Z"
   },
   {
    "duration": 7,
    "start_time": "2023-01-14T17:35:57.768Z"
   },
   {
    "duration": 391,
    "start_time": "2023-01-14T17:35:57.797Z"
   },
   {
    "duration": 12,
    "start_time": "2023-01-14T17:35:58.189Z"
   },
   {
    "duration": 10,
    "start_time": "2023-01-14T17:35:58.202Z"
   },
   {
    "duration": 1054,
    "start_time": "2023-01-14T17:35:58.213Z"
   },
   {
    "duration": 7,
    "start_time": "2023-01-14T17:35:59.268Z"
   },
   {
    "duration": 5,
    "start_time": "2023-01-14T17:35:59.277Z"
   },
   {
    "duration": 36,
    "start_time": "2023-01-14T17:35:59.283Z"
   },
   {
    "duration": 7,
    "start_time": "2023-01-14T17:35:59.320Z"
   },
   {
    "duration": 306,
    "start_time": "2023-01-14T17:35:59.328Z"
   },
   {
    "duration": 307,
    "start_time": "2023-01-14T17:35:59.635Z"
   },
   {
    "duration": 267,
    "start_time": "2023-01-14T17:35:59.944Z"
   },
   {
    "duration": 10,
    "start_time": "2023-01-14T17:36:00.213Z"
   },
   {
    "duration": 15,
    "start_time": "2023-01-14T17:36:00.225Z"
   },
   {
    "duration": 25,
    "start_time": "2023-01-14T17:36:00.241Z"
   },
   {
    "duration": 311,
    "start_time": "2023-01-14T17:36:00.267Z"
   },
   {
    "duration": 336,
    "start_time": "2023-01-14T17:36:00.579Z"
   },
   {
    "duration": 4,
    "start_time": "2023-01-14T17:36:00.917Z"
   },
   {
    "duration": 26,
    "start_time": "2023-01-14T17:36:00.923Z"
   },
   {
    "duration": 25,
    "start_time": "2023-01-14T17:36:00.951Z"
   },
   {
    "duration": 261,
    "start_time": "2023-01-14T17:36:00.978Z"
   },
   {
    "duration": 261,
    "start_time": "2023-01-14T17:36:01.241Z"
   },
   {
    "duration": 354,
    "start_time": "2023-01-14T17:36:01.503Z"
   },
   {
    "duration": 311,
    "start_time": "2023-01-14T17:36:01.859Z"
   },
   {
    "duration": 239,
    "start_time": "2023-01-14T17:36:02.171Z"
   },
   {
    "duration": 262,
    "start_time": "2023-01-14T17:36:02.412Z"
   },
   {
    "duration": 7,
    "start_time": "2023-01-14T17:36:02.675Z"
   },
   {
    "duration": 218,
    "start_time": "2023-01-14T17:36:02.683Z"
   },
   {
    "duration": 209,
    "start_time": "2023-01-14T17:36:02.902Z"
   },
   {
    "duration": 6,
    "start_time": "2023-01-14T17:36:03.113Z"
   },
   {
    "duration": 7,
    "start_time": "2023-01-14T17:36:03.121Z"
   },
   {
    "duration": 7,
    "start_time": "2023-01-14T17:36:03.129Z"
   },
   {
    "duration": 7,
    "start_time": "2023-01-14T17:36:03.138Z"
   },
   {
    "duration": 8,
    "start_time": "2023-01-14T17:36:03.147Z"
   },
   {
    "duration": 9,
    "start_time": "2023-01-14T17:36:03.157Z"
   },
   {
    "duration": 32,
    "start_time": "2023-01-14T17:36:03.168Z"
   },
   {
    "duration": 6,
    "start_time": "2023-01-14T17:36:03.202Z"
   },
   {
    "duration": 6,
    "start_time": "2023-01-14T17:36:03.210Z"
   },
   {
    "duration": 353,
    "start_time": "2023-01-14T17:36:03.218Z"
   },
   {
    "duration": 342,
    "start_time": "2023-01-14T17:36:03.573Z"
   },
   {
    "duration": 431,
    "start_time": "2023-01-14T17:36:03.918Z"
   },
   {
    "duration": 5,
    "start_time": "2023-01-14T17:36:04.351Z"
   },
   {
    "duration": 8,
    "start_time": "2023-01-14T17:36:04.358Z"
   },
   {
    "duration": 10,
    "start_time": "2023-01-14T17:36:04.368Z"
   },
   {
    "duration": 17,
    "start_time": "2023-01-14T17:36:04.380Z"
   },
   {
    "duration": 4,
    "start_time": "2023-01-14T17:36:04.399Z"
   },
   {
    "duration": 6,
    "start_time": "2023-01-14T17:36:04.405Z"
   },
   {
    "duration": 66,
    "start_time": "2023-01-15T13:18:10.372Z"
   },
   {
    "duration": 1507,
    "start_time": "2023-01-15T13:18:15.337Z"
   },
   {
    "duration": 25,
    "start_time": "2023-01-15T13:18:18.939Z"
   },
   {
    "duration": 16,
    "start_time": "2023-01-15T13:18:21.561Z"
   },
   {
    "duration": 31,
    "start_time": "2023-01-15T13:18:23.420Z"
   },
   {
    "duration": 83,
    "start_time": "2023-01-15T13:18:51.905Z"
   },
   {
    "duration": 29,
    "start_time": "2023-01-15T13:20:33.350Z"
   },
   {
    "duration": 28,
    "start_time": "2023-01-15T13:20:48.418Z"
   },
   {
    "duration": 28,
    "start_time": "2023-01-15T13:21:02.569Z"
   },
   {
    "duration": 532,
    "start_time": "2023-01-15T13:21:38.282Z"
   },
   {
    "duration": 754,
    "start_time": "2023-01-15T13:22:02.269Z"
   }
  ],
  "kernelspec": {
   "display_name": "Python 3 (ipykernel)",
   "language": "python",
   "name": "python3"
  },
  "language_info": {
   "codemirror_mode": {
    "name": "ipython",
    "version": 3
   },
   "file_extension": ".py",
   "mimetype": "text/x-python",
   "name": "python",
   "nbconvert_exporter": "python",
   "pygments_lexer": "ipython3",
   "version": "3.9.12"
  },
  "toc": {
   "base_numbering": 1,
   "nav_menu": {},
   "number_sections": true,
   "sideBar": true,
   "skip_h1_title": true,
   "title_cell": "Table of Contents",
   "title_sidebar": "Contents",
   "toc_cell": false,
   "toc_position": {
    "height": "calc(100% - 180px)",
    "left": "10px",
    "top": "150px",
    "width": "281px"
   },
   "toc_section_display": true,
   "toc_window_display": true
  }
 },
 "nbformat": 4,
 "nbformat_minor": 2
}
